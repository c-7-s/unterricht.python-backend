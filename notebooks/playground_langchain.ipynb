{
 "cells": [
  {
   "cell_type": "code",
   "execution_count": 12,
   "metadata": {},
   "outputs": [],
   "source": [
    "from supabase.client import Client\n",
    "from typing import Dict, Any, Tuple, List\n",
    "from langchain import hub\n",
    "from langchain_openai import OpenAIEmbeddings\n",
    "from langchain.vectorstores.supabase import SupabaseVectorStore\n",
    "from langchain.agents import AgentExecutor, create_openai_functions_agent\n",
    "from langchain.tools.retriever import create_retriever_tool\n",
    "from langchain_community.tools.tavily_search import TavilySearchResults\n",
    "from langchain_openai import ChatOpenAI\n",
    "from langchain.utilities.tavily_search import TavilySearchAPIWrapper\n",
    "from langchain.tools.tavily_search import TavilySearchResults"
   ]
  },
  {
   "cell_type": "code",
   "execution_count": 13,
   "metadata": {},
   "outputs": [],
   "source": [
    "from utils.utils import initialize_environment_variables, initialize_subabase_client, initialize_openai_client\n",
    "from utils.utils import initialize_tavily_client\n",
    "from api.config import interface_config\n",
    "\n",
    "initialize_environment_variables(\"../.env\")\n",
    "\n",
    "# Initialize Supabase Client\n",
    "supabase_client = initialize_subabase_client()\n",
    "\n",
    "# Initialize OpenAI Client\n",
    "openai_client = initialize_openai_client()\n",
    "\n",
    "# Initialize Tavily Client\n",
    "tavily_client = initialize_tavily_client()"
   ]
  },
  {
   "cell_type": "code",
   "execution_count": null,
   "metadata": {},
   "outputs": [],
   "source": []
  }
 ],
 "metadata": {
  "kernelspec": {
   "display_name": "unterricht-python-backend-9Hag_kgR-py3.10",
   "language": "python",
   "name": "python3"
  },
  "language_info": {
   "codemirror_mode": {
    "name": "ipython",
    "version": 3
   },
   "file_extension": ".py",
   "mimetype": "text/x-python",
   "name": "python",
   "nbconvert_exporter": "python",
   "pygments_lexer": "ipython3",
   "version": "3.10.13"
  }
 },
 "nbformat": 4,
 "nbformat_minor": 2
}
