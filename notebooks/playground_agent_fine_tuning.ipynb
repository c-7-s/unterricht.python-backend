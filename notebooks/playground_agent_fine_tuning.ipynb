{
 "cells": [
  {
   "cell_type": "code",
   "execution_count": 1,
   "metadata": {},
   "outputs": [],
   "source": [
    "from supabase.client import Client\n",
    "from typing import Dict, Any, Tuple, List\n",
    "from langchain import hub\n",
    "from langchain_openai import OpenAIEmbeddings\n",
    "from langchain.vectorstores.supabase import SupabaseVectorStore\n",
    "from langchain.agents import AgentExecutor, create_openai_functions_agent\n",
    "from langchain.tools.retriever import create_retriever_tool\n",
    "from langchain_community.tools.tavily_search import TavilySearchResults\n",
    "from langchain_openai import ChatOpenAI\n",
    "from langchain.utilities.tavily_search import TavilySearchAPIWrapper\n",
    "from langchain.tools.tavily_search import TavilySearchResults\n",
    "from langchain.tools import DuckDuckGoSearchResults\n",
    "from langchain_community.utilities import DuckDuckGoSearchAPIWrapper\n",
    "from langchain_community.tools import WikipediaQueryRun\n",
    "from langchain_community.utilities import WikipediaAPIWrapper\n",
    "import json\n",
    "\n",
    "from utils.utils import initialize_environment_variables, initialize_subabase_client, initialize_openai_client\n",
    "from utils.utils import initialize_tavily_client\n",
    "from api.config import interface_config\n",
    "\n",
    "def unpack_prompt_input(input: Dict[str, Any]) -> Tuple[str, str, str, str, List[str], List[str]]:\n",
    "    school_type = str(input.get(\"subject\"))\n",
    "    subject = str(input.get(\"subject\"))\n",
    "    topic = str(input.get(\"topic\"))\n",
    "    grade = str(input.get(\"grade\"))\n",
    "    state = str(input.get(\"state\"))\n",
    "    keywords = [str(i) for i in input.get(\"keywords\")]\n",
    "    context = [str(i) for i in input.get(\"context\")]\n",
    "    return school_type, subject, topic, grade, state, keywords, context\n",
    "\n",
    "def create_output_table_format():\n",
    "    return \"\"\"{{\n",
    "    \"learn_goals\": \"xyz\",\n",
    "    \"table_data\": [\n",
    "        {{\"title\": \"abc\", \"duration\": \"10min\", \"content\": \"blabla\"}},\n",
    "        {{...}},\n",
    "        {{...}}\n",
    "    ]\n",
    "}}\"\"\"\n",
    "\n",
    "json_output = create_output_table_format()\n",
    "\n",
    "def create_task_string(school_type: str, subject: str, topic: str, grade: str, state: str, json_output: str) -> str:\n",
    "    return f\"\"\"\n",
    "Schritt 1: Plane eine Unterrichtsstunde im Fach {subject} zum Thema {topic} für eine {grade} Klasse in {state} für den Schultyp {school_type}!\n",
    "Schritt 2: Formatiere deine Antwort in der folgenden json-Struktur:\n",
    "______________________________\n",
    "{json_output}\n",
    "______________________________\n",
    "\n",
    "\"\"\"\n",
    "\n",
    "\n",
    "def get_uploaded_ids(supabase_client, filepath, upload_table_name):\n",
    "    data, _cnt = supabase_client.table(upload_table_name).select('id').contains('metadata', {'source':filepath}).execute()\n",
    "    return [data[1][i].get(\"id\") for i in range(len(data[1]))]\n",
    "\n",
    "\n",
    "def create_filter_list(context):\n",
    "    uploaded_ids = []\n",
    "    for doc in context:\n",
    "        if len(doc) > 0:\n",
    "            doc_uploaded_ids = get_uploaded_ids(doc, interface_config.upload_table_name)\n",
    "            if len(doc_uploaded_ids) > 0:\n",
    "                uploaded_ids += doc_uploaded_ids\n",
    "    return uploaded_ids\n",
    "\n",
    "\n",
    "def initialize_vector_store(client: Client, embedding: OpenAIEmbeddings, table_name: str, query_name: str) -> SupabaseVectorStore:\n",
    "    vector_store = SupabaseVectorStore(\n",
    "        client=client,\n",
    "        embedding=embedding,\n",
    "        table_name=table_name,\n",
    "        query_name=query_name,\n",
    "    )\n",
    "    return vector_store\n",
    "\n",
    "\n",
    "def create_prompt_template(retrieved_context: List[Any], keywords, topic) -> str:\n",
    "    keywords = '\\n   -'.join(keywords)\n",
    "    return f\"\"\"\n",
    "Du bist ein Assistent für Lehrkräfte und deine Aufgabe ist Unterricht strukturiert, detailliert und fachlich korrekt vorzubereiten.\n",
    "\n",
    "Lernziele:\n",
    "------------------\n",
    "- Thema: {topic}\n",
    "- Schwerpunkte:\n",
    "    {keywords}\n",
    "------------------\n",
    "\n",
    "Die Lehrkraft stellt dir Kontext zur Lösung der Aufgabe in deiner Bibliothek zur Verfügung. \n",
    "Hier ist ein kurzer Ausschnitt aus dem Kontext in deiner Bibliothek:\n",
    "\n",
    "Ausschnitt aus dem Kontext:\n",
    "---------\n",
    "{retrieved_context}\n",
    "---------\n",
    "\n",
    "Die Gesamtlänge des Unterrichts soll insgesamt 45 Minuten betragen.\n",
    "Alle Schritte der Aufgabe müssen ausgeführt werden.\n",
    "Deine Antwort soll ausschließlich aus der beüllten JSON-Tabelle bestehen.\n",
    "\n",
    "Deine Aufgabe lautet:\n",
    "\"\"\"\n",
    "\n",
    "def get_answer(prompt_input):\n",
    "    initialize_environment_variables(\"../.env\")\n",
    "\n",
    "    # Initialize Supabase Client\n",
    "    supabase_client = initialize_subabase_client()\n",
    "\n",
    "    # Initialize OpenAI Client\n",
    "    _openai_client = initialize_openai_client()\n",
    "\n",
    "    # Initialize Tavily Client\n",
    "    _tavily_client = initialize_tavily_client()    \n",
    "    \n",
    "    school_type, subject, topic, grade, state, keywords, context = unpack_prompt_input(prompt_input)\n",
    "\n",
    "    task = create_task_string(school_type, subject, topic, grade, state)\n",
    "\n",
    "    embedding = OpenAIEmbeddings()\n",
    "    vector_store = initialize_vector_store(supabase_client, embedding, interface_config.upload_table_name, interface_config.supabase_match_function)\n",
    "\n",
    "    retrieved_context = vector_store.similarity_search(task, k=interface_config.context_k, filter=context)\n",
    "\n",
    "    prompt_template = create_prompt_template(retrieved_context, keywords, topic, task)\n",
    "\n",
    "    prompt = hub.pull(\"hwchase17/openai-functions-agent\")\n",
    "\n",
    "    search = TavilySearchAPIWrapper()\n",
    "    tavily_tool = TavilySearchResults(api_wrapper=search, max_results=interface_config.tavily_max_response)\n",
    "\n",
    "    wrapper = DuckDuckGoSearchAPIWrapper(region=\"de-de\", time=\"d\", max_results=5)\n",
    "    search = DuckDuckGoSearchResults(api_wrapper=wrapper)\n",
    "\n",
    "    retriever = vector_store.as_retriever(search_type=interface_config.retriever_search_type, \n",
    "                                          search_kwargs={\n",
    "                                              \"k\": interface_config.retriever_k,\n",
    "                                              'lambda_mult': interface_config.retriever_mult, \n",
    "                                              'filter': {'uuid': context}\n",
    "                                                }\n",
    "                                            )\n",
    "\n",
    "    retriever_tool = create_retriever_tool(\n",
    "    retriever,\n",
    "    \"get_more_context\",\n",
    "    \"A personal library optimized for user defined context information. Useful for when you need to know more about the given context. Input should be a search query.\",\n",
    "    )\n",
    "\n",
    "    tools = [retriever_tool, tavily_tool]\n",
    "\n",
    "    llm = ChatOpenAI(model_name=interface_config.gpt_model_version, temperature=interface_config.gpt_model_temperature)\n",
    "    agent = create_openai_functions_agent(llm, tools, prompt)\n",
    "\n",
    "    agent_executor = AgentExecutor(agent=agent, tools=tools, verbose=True)\n",
    "\n",
    "    response = agent_executor.invoke({\"input\": prompt_template})\n",
    "\n",
    "    output = {}\n",
    "    output[\"output\"] = response[\"output\"]\n",
    "\n",
    "    output = json.dumps(output)\n",
    "\n",
    "    return output\n",
    "\n"
   ]
  },
  {
   "cell_type": "code",
   "execution_count": 2,
   "metadata": {},
   "outputs": [],
   "source": [
    "input_dict_1 = {\n",
    "\"school_type\": \"Gymnasium\",\n",
    "\"subject\": \"English\",\n",
    "\"topic\": \"Shakespeare\",\n",
    "\"grade\": \"13.\",\n",
    "\"state\": \"Bayern\",\n",
    "\"keywords\": [\"shakespeare\", \"poetry\", \"analysis\"], \n",
    "\"context\": [\"2147550a-800f-4fd1-9021-e5f443c97ce5\", \"98e1f41e-5985-418b-a067-aad97091ac23\", \"26392f41-80ab-4c01-a408-4faf36f06291\"]\n",
    "}"
   ]
  },
  {
   "cell_type": "code",
   "execution_count": 3,
   "metadata": {},
   "outputs": [],
   "source": [
    "input_dict_2 = {\n",
    "  \"state\": \"Bayern\",\n",
    "  \"school_type\": \"Realschule\",\n",
    "  \"grade\": \"7\",\n",
    "  \"topic\": \"Napoleon\",\n",
    "  \"subject\": \"Geschichte\",\n",
    "  \"keywords\": [\n",
    "    \"französische Revolution\"\n",
    "  ],\n",
    "  \"context\": [\n",
    "    \"c5ee1bea-3dc3-44bd-8c10-369fe47744dc\",\n",
    "    \"6d97b369-25e4-478b-bc6a-3b931b1133fc\",\n",
    "    \"06a4701f-fff3-4f50-9d99-0f83945fca0e\",\n",
    "    \"b509bf63-d79f-435a-8315-9dd4164cb1e0\",\n",
    "    \"11412fb3-eac4-4282-afac-b2de102df6e2\",\n",
    "    \"9b51b0b5-d49a-489f-b5a9-04ac6f26185c\",\n",
    "    \"7597c3cf-6d4e-4d8a-8a42-759f563c7557\",\n",
    "    \"47b7dfd0-c66a-4fca-82af-091a90bfa40e\",\n",
    "    \"9e642aa5-6b41-4b49-b626-58fec025094a\",\n",
    "    \"5365cae4-25b4-4909-9a24-2f698e51a4cc\",\n",
    "    \"b5133c6d-9586-4b4f-a2ed-247babbd1ba8\",\n",
    "    \"2694f0ea-f451-4330-bdaf-18f1d5cb20de\",\n",
    "    \"5814231e-7ca8-434a-95d7-909ed7022ec0\",\n",
    "    \"2147550a-800f-4fd1-9021-e5f443c97ce5\",\n",
    "    \"98e1f41e-5985-418b-a067-aad97091ac23\",\n",
    "    \"26392f41-80ab-4c01-a408-4faf36f06291\",\n",
    "    \"5d026545-f195-4cb9-9394-784542dd9650\",\n",
    "    \"12e9cd2c-9c48-4724-9ba5-aaf41436852d\",\n",
    "    \"3aecdb10-7e57-46ee-80dc-2a2400d8be4d\",\n",
    "    \"4192f1d0-171a-45b1-b4da-db5e12953d70\",\n",
    "    \"10e3d8ca-aae4-409f-85cb-aa679c6cd004\",\n",
    "    \"1aef0ce7-b6aa-4585-9c75-d890d67832b1\",\n",
    "    \"238b2e27-22d6-4911-9962-02256139c1c4\",\n",
    "    \"79dba1a5-343a-4e75-8272-72cdd416b8ca\",\n",
    "    \"ba80b4e9-c615-4517-88e9-65adb6ad1323\"\n",
    "  ]\n",
    "}"
   ]
  },
  {
   "cell_type": "code",
   "execution_count": 4,
   "metadata": {},
   "outputs": [
    {
     "name": "stderr",
     "output_type": "stream",
     "text": [
      "2024-02-03 19:21:37,716:INFO - HTTP Request: POST https://api.openai.com/v1/embeddings \"HTTP/1.1 200 OK\"\n",
      "2024-02-03 19:21:37,950:INFO - HTTP Request: POST https://smxwnqdpxcvclxhbvhsf.supabase.co/rest/v1/rpc/match_documents_with_uuid_filter?limit=1 \"HTTP/1.1 200 OK\"\n"
     ]
    },
    {
     "name": "stdout",
     "output_type": "stream",
     "text": [
      "\n",
      "\n",
      "\u001b[1m> Entering new AgentExecutor chain...\u001b[0m\n"
     ]
    },
    {
     "name": "stderr",
     "output_type": "stream",
     "text": [
      "2024-02-03 19:21:40,071:INFO - HTTP Request: POST https://api.openai.com/v1/chat/completions \"HTTP/1.1 200 OK\"\n"
     ]
    },
    {
     "name": "stdout",
     "output_type": "stream",
     "text": [
      "\u001b[32;1m\u001b[1;3m\n",
      "Invoking: `get_more_context` with `{'query': 'Napoleon und franz\"}sische Revolution'}`\n",
      "\n",
      "\n",
      "\u001b[0m"
     ]
    },
    {
     "name": "stderr",
     "output_type": "stream",
     "text": [
      "2024-02-03 19:21:40,515:INFO - HTTP Request: POST https://api.openai.com/v1/embeddings \"HTTP/1.1 200 OK\"\n",
      "2024-02-03 19:21:40,653:INFO - HTTP Request: POST https://smxwnqdpxcvclxhbvhsf.supabase.co/rest/v1/rpc/match_documents_with_uuid_filter?limit=20 \"HTTP/1.1 200 OK\"\n"
     ]
    },
    {
     "name": "stdout",
     "output_type": "stream",
     "text": [
      "\u001b[36;1m\u001b[1;3m\u001b[0m"
     ]
    },
    {
     "name": "stderr",
     "output_type": "stream",
     "text": [
      "2024-02-03 19:21:41,114:INFO - HTTP Request: POST https://api.openai.com/v1/chat/completions \"HTTP/1.1 200 OK\"\n"
     ]
    },
    {
     "name": "stdout",
     "output_type": "stream",
     "text": [
      "\u001b[32;1m\u001b[1;3m\n",
      "Invoking: `tavily_search_results_json` with `{'query': 'Napoleon und die franz\\\\u00f6sische Revolution'}`\n",
      "responded: Ich habe zusätzliche Informationen zu Napoleon und der französischen Revolution in meiner Datenbank gefunden. Ich werde die relevanten Informationen für dich abrufen und sie in die Unterrichtsvorbereitung einbeziehen.\n",
      "\n",
      "\u001b[0m\u001b[33;1m\u001b[1;3m[{'url': 'https://studyflix.de/geschichte/napoleon-bonaparte-5053', 'content': 'Französische Revolution Napoleon Mit\\xa0der Französischen Revolution  Seinen Durchbruch erreichte Napoleon mit der Französischen Revolution  das Direktorium und erklärte die Französische Revolution für beendet. Dies war der Anfang der\\xa0Napoleonischen Zeit.  Napoleon Bonaparte HerrschaftNapoleon Bonaparte (1769 - 1821) war ein berühmter Kaiser von Frankreich und erfolgreicher Kriegsherr.Sein Ziel war die Eroberung ganz Europas — was ihm durch sein militärisches Geschick auch beinahe gelang.. Seinen Durchbruch erreichte Napoleon mit der Französischen Revolution. Dabei stürzte er die herrschende Regierungsform und besaß ab diesem Punkt die alleinige Macht über Frankreich.'}, {'url': 'https://www.mdr.de/geschichte/weitere-epochen/voelkerschlacht/napoleon-bonaparte-chronologie-leipzig-100.html', 'content': '1804: Napoleon wird zum Kaiser gekrönt  von Henning Ristau Inhalt des Artikels: Napoleon und sein Aufstieg zur Macht 1789: Beginn der Französischen Revolution  1799: Napoleon kommt an die Macht  1814: Napoleon wird abgesetztApril 2022, 13:39 Uhr Artikel hören Die Französische Revolution 1789 bereitete Napoleon Bonaparte den Weg. Bis zur Völkerschlacht bei Leipzig im Oktober 1813 beherrschte er fast ganz...'}, {'url': 'https://www.planet-wissen.de/geschichte/neuzeit/die_franzoesische_revolution/index.html', 'content': 'Sie befinden sich hier: Die Französische Revolution und Napoleon 01:39 Min.. UT. Verfügbar bis 29.03.2027.  Von Felicitas Graßl, Saba Bussmann. Neuzeit Die Französische Revolution  Bonaparte selbst zum Kaiser krönen und damit Frankreichs erste Republik nach wenigen 15 Jahren wieder beenden.  und abgesetzt und Frankreich zur Republik erklärt.Die Französische Revolution. Im Jahr 1789 bleibt in Frankreich nichts, wie es war. Aus einem Staat, in dem allein der König das Sagen hat, soll eine Demokratie werden. Das Volk nimmt sein Schicksal selbst in die Hand und kämpft für Freiheit, Gleichheit, Brüderlichkeit. Von Kerstin Hilt.'}, {'url': 'https://praxistipps.focus.de/franzoesische-revolution-diese-rolle-spielte-napoleon_143462', 'content': 'Französische Revolution: Diese Rolle spielte Napoleon  Napoleon und das Ende der Französischen Revolution Der militärische Erfolg ebnete Napoleon den Weg zur Macht.  Bonaparte barg die Französische Revolution ungeahnte Karrieremöglichkeiten.  Französische Revolution: Diese Rolle spielte Napoleon - Der AufstiegPraxistipps Freizeit & Hobby Französische Revolution: Diese Rolle spielte Napoleon 21.03.2022 09:13 | von Ann-Kathrin Kapteinat Die Französische Revolution verhalf Napoleon Bonaparte...'}, {'url': 'https://www.worldhistory.org/trans/de/1-19568/franzosische-revolution/', 'content': 'Französische Revolution Inhalt Definition  Die Französische Revolution hatte begonnen.  Regierung übernahm und die Republik schließlich in das Erste Französische Kaiserreich (1804–1814, 1815) überführte.  Ära. Die Französische Revolution gilt als eines der prägenden Ereignisse der westlichen Geschichte.Definition. Die Französische Revolution (1789-1799) war eine Zeit großer gesellschaftlicher und politischer Umwälzungen in Frankreich. Sie war Zeuge des Zusammenbruchs der Monarchie, der Gründung der Ersten Französischen Republik und gipfelte im Aufstieg Napoleon Bonapartes und dem Beginn der napoleonischen Ära.'}]\u001b[0m"
     ]
    },
    {
     "name": "stderr",
     "output_type": "stream",
     "text": [
      "2024-02-03 19:22:00,240:INFO - HTTP Request: POST https://api.openai.com/v1/chat/completions \"HTTP/1.1 200 OK\"\n"
     ]
    },
    {
     "name": "stdout",
     "output_type": "stream",
     "text": [
      "\u001b[32;1m\u001b[1;3mHier sind einige relevante Informationen zu Napoleon und der französischen Revolution, die ich gefunden habe:\n",
      "\n",
      "1. Napoleon erreichte seinen Durchbruch mit der französischen Revolution und erklärte die Revolution für beendet, was den Anfang der Napoleonischen Zeit markierte.\n",
      "\n",
      "2. Napoleon Bonaparte (1769 - 1821) war ein berühmter Kaiser von Frankreich und ein erfolgreicher Kriegsherr. Sein Ziel war die Eroberung ganz Europas, was ihm fast gelang.\n",
      "\n",
      "3. 1789 markierte den Beginn der Französischen Revolution, und 1814 wurde Napoleon abgesetzt.\n",
      "\n",
      "4. Die Französische Revolution war eine Zeit großer gesellschaftlicher und politischer Umwälzungen in Frankreich, die den Zusammenbruch der Monarchie, die Gründung der Ersten Französischen Republik und den Aufstieg Napoleon Bonapartes umfasste.\n",
      "\n",
      "Diese Informationen werden in die Unterrichtsvorbereitung aufgenommen, um die Schülerinnen und Schüler über Napoleon und die Bedeutung der französischen Revolution zu informieren.\u001b[0m\n",
      "\n",
      "\u001b[1m> Finished chain.\u001b[0m\n"
     ]
    }
   ],
   "source": [
    "test = get_answer(input_dict_2)"
   ]
  },
  {
   "cell_type": "code",
   "execution_count": 5,
   "metadata": {},
   "outputs": [],
   "source": [
    "instructions = \"something\""
   ]
  },
  {
   "cell_type": "code",
   "execution_count": 6,
   "metadata": {},
   "outputs": [],
   "source": [
    "base_prompt = hub.pull(\"hwchase17/openai-functions-agent\")\n",
    "prompt = base_prompt.partial(instructions=instructions)"
   ]
  },
  {
   "cell_type": "code",
   "execution_count": 7,
   "metadata": {},
   "outputs": [
    {
     "data": {
      "text/plain": [
       "ChatPromptTemplate(input_variables=['agent_scratchpad', 'input'], input_types={'chat_history': typing.List[typing.Union[langchain_core.messages.ai.AIMessage, langchain_core.messages.human.HumanMessage, langchain_core.messages.chat.ChatMessage, langchain_core.messages.system.SystemMessage, langchain_core.messages.function.FunctionMessage, langchain_core.messages.tool.ToolMessage]], 'agent_scratchpad': typing.List[typing.Union[langchain_core.messages.ai.AIMessage, langchain_core.messages.human.HumanMessage, langchain_core.messages.chat.ChatMessage, langchain_core.messages.system.SystemMessage, langchain_core.messages.function.FunctionMessage, langchain_core.messages.tool.ToolMessage]]}, partial_variables={'instructions': 'something'}, messages=[SystemMessagePromptTemplate(prompt=PromptTemplate(input_variables=[], template='You are a helpful assistant')), MessagesPlaceholder(variable_name='chat_history', optional=True), HumanMessagePromptTemplate(prompt=PromptTemplate(input_variables=['input'], template='{input}')), MessagesPlaceholder(variable_name='agent_scratchpad')])"
      ]
     },
     "execution_count": 7,
     "metadata": {},
     "output_type": "execute_result"
    }
   ],
   "source": [
    "prompt"
   ]
  },
  {
   "cell_type": "code",
   "execution_count": 8,
   "metadata": {},
   "outputs": [],
   "source": [
    "prompt = hub.pull(\"c-7-s/openai-functions-agent-education\")"
   ]
  },
  {
   "cell_type": "code",
   "execution_count": 9,
   "metadata": {},
   "outputs": [],
   "source": [
    "school_type, subject, topic, grade, state, keywords, context = unpack_prompt_input(input_dict_1)"
   ]
  },
  {
   "cell_type": "code",
   "execution_count": 10,
   "metadata": {},
   "outputs": [
    {
     "data": {
      "text/plain": [
       "ChatPromptTemplate(input_variables=['agent_scratchpad', 'chat_history', 'input', 'keywords', 'retrieved_context', 'topic'], input_types={'chat_history': typing.List[typing.Union[langchain_core.messages.ai.AIMessage, langchain_core.messages.human.HumanMessage, langchain_core.messages.chat.ChatMessage, langchain_core.messages.system.SystemMessage, langchain_core.messages.function.FunctionMessage, langchain_core.messages.tool.ToolMessage]], 'agent_scratchpad': typing.List[typing.Union[langchain_core.messages.ai.AIMessage, langchain_core.messages.human.HumanMessage, langchain_core.messages.chat.ChatMessage, langchain_core.messages.system.SystemMessage, langchain_core.messages.function.FunctionMessage, langchain_core.messages.tool.ToolMessage]]}, messages=[SystemMessagePromptTemplate(prompt=PromptTemplate(input_variables=['input', 'keywords', 'retrieved_context', 'topic'], template='Du bist ein Assistent für Lehrkräfte und deine Aufgabe ist Unterricht strukturiert, detailliert und fachlich korrekt vorzubereiten.\\nLernziele:\\n------------------\\n- Thema: {topic}\\n- Schwerpunkte:\\n\\xa0 \\xa0 {keywords}\\n------------------\\nDie Lehrkraft stellt dir Kontext zur Lösung der Aufgabe in deiner Bibliothek zur Verfügung.\\nHier ist ein kurzer Ausschnitt aus dem Kontext in deiner Bibliothek:\\nAusschnitt aus dem Kontext:\\n---------\\n{retrieved_context}\\n---------\\nDie Gesamtlänge des Unterrichts soll insgesamt 45 Minuten betragen.\\nAlle Schritte der Aufgabe müssen ausgeführt werden.\\nAufgabe:\\n{input}')), MessagesPlaceholder(variable_name='chat_history'), HumanMessagePromptTemplate(prompt=PromptTemplate(input_variables=['input'], template='{input}')), MessagesPlaceholder(variable_name='agent_scratchpad')])"
      ]
     },
     "execution_count": 10,
     "metadata": {},
     "output_type": "execute_result"
    }
   ],
   "source": [
    "prompt"
   ]
  },
  {
   "cell_type": "code",
   "execution_count": 6,
   "metadata": {},
   "outputs": [
    {
     "name": "stderr",
     "output_type": "stream",
     "text": [
      "2024-02-03 19:49:41,045:INFO - HTTP Request: POST https://api.openai.com/v1/embeddings \"HTTP/1.1 200 OK\"\n",
      "2024-02-03 19:49:41,289:INFO - HTTP Request: POST https://smxwnqdpxcvclxhbvhsf.supabase.co/rest/v1/rpc/match_documents_with_uuid_filter?limit=1 \"HTTP/1.1 200 OK\"\n"
     ]
    },
    {
     "name": "stdout",
     "output_type": "stream",
     "text": [
      "\n",
      "\n",
      "\u001b[1m> Entering new AgentExecutor chain...\u001b[0m\n"
     ]
    },
    {
     "name": "stderr",
     "output_type": "stream",
     "text": [
      "2024-02-03 19:49:42,237:INFO - HTTP Request: POST https://api.openai.com/v1/chat/completions \"HTTP/1.1 200 OK\"\n"
     ]
    },
    {
     "name": "stdout",
     "output_type": "stream",
     "text": [
      "\u001b[32;1m\u001b[1;3m{\n",
      "    \"learn_goals\": \"Die Schüler sollen die wichtigsten Stationen von Napoleons Leben und Wirken kennenlernen und verstehen.\",\n",
      "    \"table_data\": [\n",
      "        {\n",
      "            \"title\": \"Einführung und Vorbereitung\",\n",
      "            \"duration\": \"5min\",\n",
      "            \"content\": \"Kurze Einführung in das Thema Napoleon, Erklärung des historischen Kontexts und seiner Bedeutung für die französische Revolution.\"\n",
      "        },\n",
      "        {\n",
      "            \"title\": \"Napoleons Aufstieg zur Macht\",\n",
      "            \"duration\": \"10min\",\n",
      "            \"content\": \"Vorstellung und Erklärung von Napoleons Aufstieg zur Macht, Eroberungen und politischen Reformen.\"\n",
      "        },\n",
      "        {\n",
      "            \"title\": \"Napoleons Niederlage und Sturz\",\n",
      "            \"duration\": \"10min\",\n",
      "            \"content\": \"Behandlung von Napoleons Niederlage, Exil und Sturz, Diskussion über die Auswirkungen auf Europa und die Welt.\"\n",
      "        },\n",
      "        {\n",
      "            \"title\": \"Napoleons Vermächtnis\",\n",
      "            \"duration\": \"10min\",\n",
      "            \"content\": \"Analyse von Napoleons Vermächtnis und seiner langfristigen Bedeutung für die europäische Geschichte und Politik.\"\n",
      "        },\n",
      "        {\n",
      "            \"title\": \"Abschluss und Diskussion\",\n",
      "            \"duration\": \"10min\",\n",
      "            \"content\": \"Zusammenfassung des Themas, offene Diskussion und Klärung von offenen Fragen.\"\n",
      "        }\n",
      "    ]\n",
      "}\u001b[0m\n",
      "\n",
      "\u001b[1m> Finished chain.\u001b[0m\n"
     ]
    }
   ],
   "source": [
    "initialize_environment_variables(\"../.env\")\n",
    "\n",
    "# Initialize Supabase Client\n",
    "supabase_client = initialize_subabase_client()\n",
    "\n",
    "# Initialize OpenAI Client\n",
    "_openai_client = initialize_openai_client()\n",
    "\n",
    "# Initialize Tavily Client\n",
    "_tavily_client = initialize_tavily_client()  \n",
    "\n",
    "school_type, subject, topic, grade, state, keywords, context = unpack_prompt_input(input_dict_2)\n",
    "\n",
    "task = create_task_string(school_type, subject, topic, grade, state)\n",
    "\n",
    "embedding = OpenAIEmbeddings()\n",
    "vector_store = initialize_vector_store(supabase_client, embedding, interface_config.upload_table_name, interface_config.supabase_match_function)\n",
    "\n",
    "retrieved_context = vector_store.similarity_search(task, k=interface_config.context_k, filter=context)\n",
    "\n",
    "prompt = hub.pull(\"c-7-s/openai-functions-agent-education\")\n",
    "\n",
    "search = TavilySearchAPIWrapper()\n",
    "tavily_tool = TavilySearchResults(api_wrapper=search, max_results=interface_config.tavily_max_response)\n",
    "\n",
    "wrapper = DuckDuckGoSearchAPIWrapper(region=\"de-de\", time=\"d\", max_results=5)\n",
    "duckduck = DuckDuckGoSearchResults(api_wrapper=wrapper)\n",
    "\n",
    "api_wrapper = WikipediaAPIWrapper(top_k_results=1, doc_content_chars_max=100)\n",
    "wikipedia = WikipediaQueryRun(api_wrapper=api_wrapper)\n",
    "\n",
    "retriever = vector_store.as_retriever(search_type=interface_config.retriever_search_type, \n",
    "                                        search_kwargs={\n",
    "                                            \"k\": interface_config.retriever_k,\n",
    "                                            'lambda_mult': interface_config.retriever_mult, \n",
    "                                            'filter': {'uuid': context}\n",
    "                                            }\n",
    "                                        )\n",
    "\n",
    "retriever_tool = create_retriever_tool(\n",
    "retriever,\n",
    "\"get_more_context\",\n",
    "\"A personal library optimized for user defined context information. Useful for when you need to know more about the given context. Input should be a search query.\",\n",
    ")\n",
    "\n",
    "tools = [retriever_tool, tavily_tool, duckduck, wikipedia]\n",
    "\n",
    "llm = ChatOpenAI(model_name=interface_config.gpt_model_version, temperature=interface_config.gpt_model_temperature)\n",
    "agent = create_openai_functions_agent(llm, tools, prompt)\n",
    "\n",
    "agent_executor = AgentExecutor(agent=agent, tools=tools, verbose=True)\n",
    "\n",
    "response = agent_executor.invoke({\"input\": task, \"topic\": topic, \"retrieved_context\": retrieved_context, \"keywords\": keywords, \"chat_history\": []})"
   ]
  },
  {
   "cell_type": "code",
   "execution_count": null,
   "metadata": {},
   "outputs": [],
   "source": []
  }
 ],
 "metadata": {
  "kernelspec": {
   "display_name": "unterricht-python-backend-9Hag_kgR-py3.10",
   "language": "python",
   "name": "python3"
  },
  "language_info": {
   "codemirror_mode": {
    "name": "ipython",
    "version": 3
   },
   "file_extension": ".py",
   "mimetype": "text/x-python",
   "name": "python",
   "nbconvert_exporter": "python",
   "pygments_lexer": "ipython3",
   "version": "3.10.13"
  }
 },
 "nbformat": 4,
 "nbformat_minor": 2
}
