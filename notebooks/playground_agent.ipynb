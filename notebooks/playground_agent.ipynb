{
 "cells": [
  {
   "cell_type": "code",
   "execution_count": 1,
   "metadata": {},
   "outputs": [],
   "source": [
    "from supabase.client import Client\n",
    "from typing import Dict, Any, Tuple, List\n",
    "from langchain import hub\n",
    "from langchain_openai import OpenAIEmbeddings\n",
    "from langchain.vectorstores.supabase import SupabaseVectorStore\n",
    "from langchain.agents import AgentExecutor, create_openai_functions_agent\n",
    "from langchain.tools.retriever import create_retriever_tool\n",
    "from langchain_community.tools.tavily_search import TavilySearchResults\n",
    "from langchain_openai import ChatOpenAI\n",
    "from langchain_core.prompts import PromptTemplate\n",
    "from langchain.utilities.tavily_search import TavilySearchAPIWrapper\n",
    "from langchain.tools.tavily_search import TavilySearchResults\n"
   ]
  },
  {
   "cell_type": "code",
   "execution_count": 2,
   "metadata": {},
   "outputs": [],
   "source": [
    "from utils.utils import initialize_environment_variables, initialize_subabase_client, initialize_openai_client\n",
    "from utils.utils import initialize_tavily_client\n",
    "from api.config import interface_config\n",
    "\n",
    "initialize_environment_variables(\"../.env\")\n",
    "\n",
    "# Initialize Supabase Client\n",
    "supabase_client = initialize_subabase_client()\n",
    "\n",
    "# Initialize OpenAI Client\n",
    "openai_client = initialize_openai_client()\n",
    "\n",
    "# Initialize Tavily Client\n",
    "tavily_client = initialize_tavily_client()"
   ]
  },
  {
   "cell_type": "code",
   "execution_count": 3,
   "metadata": {},
   "outputs": [],
   "source": [
    "input_dict = {\n",
    "\"school_type\": \"Gymnasium\",\n",
    "\"subject\": \"English\",\n",
    "\"topic\": \"Shakespeare\",\n",
    "\"grade\": \"13.\",\n",
    "\"state\": \"Bayern\",\n",
    "\"keywords\": [\"shakespeare\", \"poetry\", \"analysis\"], \n",
    "\"context\": [\"2147550a-800f-4fd1-9021-e5f443c97ce5\", \"98e1f41e-5985-418b-a067-aad97091ac23\", \"26392f41-80ab-4c01-a408-4faf36f06291\"]\n",
    "}"
   ]
  },
  {
   "cell_type": "markdown",
   "metadata": {},
   "source": [
    "input_dict"
   ]
  },
  {
   "cell_type": "code",
   "execution_count": 4,
   "metadata": {},
   "outputs": [],
   "source": [
    "def unpack_prompt_input(input: Dict[str, Any]) -> Tuple[str, str, str, str, List[str], List[str]]:\n",
    "    school_type = str(input.get(\"subject\"))\n",
    "    subject = str(input.get(\"subject\"))\n",
    "    topic = str(input.get(\"topic\"))\n",
    "    grade = str(input.get(\"grade\"))\n",
    "    state = str(input.get(\"state\"))\n",
    "    keywords = [str(i) for i in input.get(\"keywords\")]\n",
    "    context = [str(i) for i in input.get(\"context\")]\n",
    "    return school_type, subject, topic, grade, state, keywords, context"
   ]
  },
  {
   "cell_type": "code",
   "execution_count": 14,
   "metadata": {},
   "outputs": [],
   "source": [
    "prompt = \"\"\"Plane eine Unterrichtsstunde im Fach {subject} zum Thema {topic} für eine {grade} Klasse in {state} für den Schultyp {school_type}.\n",
    "\n",
    "Schritt 1: Finde aktuelle Informationen zu den Schlüsselbegriffen!\n",
    "Schritt 2: (Optional) Suche mehr Kontext\n",
    "Schritt 3: Formatiere deine Antwort in der folgenden json-Struktur:\n",
    "______________________________\n",
    "\n",
    "{json_format}\n",
    "______________________________\n",
    "\n",
    "Los geht's!\n",
    "\"\"\"\n",
    "prompt = PromptTemplate.from_template(prompt)"
   ]
  },
  {
   "cell_type": "code",
   "execution_count": 15,
   "metadata": {},
   "outputs": [
    {
     "data": {
      "text/plain": [
       "PromptTemplate(input_variables=['grade', 'json_format', 'school_type', 'state', 'subject', 'topic'], template=\"Plane eine Unterrichtsstunde im Fach {subject} zum Thema {topic} für eine {grade} Klasse in {state} für den Schultyp {school_type}.\\n\\nSchritt 1: Finde aktuelle Informationen zu den Schlüsselbegriffen!\\nSchritt 2: (Optional) Suche mehr Kontext\\nSchritt 3: Formatiere deine Antwort in der folgenden json-Struktur:\\n______________________________\\n\\n{json_format}\\n______________________________\\n\\nLos geht's!\\n\")"
      ]
     },
     "execution_count": 15,
     "metadata": {},
     "output_type": "execute_result"
    }
   ],
   "source": [
    "prompt"
   ]
  },
  {
   "cell_type": "code",
   "execution_count": 8,
   "metadata": {},
   "outputs": [],
   "source": [
    "school_type, subject, topic, grade, state, keywords, context = unpack_prompt_input(input_dict)"
   ]
  },
  {
   "cell_type": "code",
   "execution_count": 18,
   "metadata": {},
   "outputs": [
    {
     "ename": "KeyError",
     "evalue": "'topic'",
     "output_type": "error",
     "traceback": [
      "\u001b[0;31m---------------------------------------------------------------------------\u001b[0m",
      "\u001b[0;31mKeyError\u001b[0m                                  Traceback (most recent call last)",
      "Cell \u001b[0;32mIn[18], line 18\u001b[0m\n\u001b[1;32m     15\u001b[0m     prompt\u001b[38;5;241m.\u001b[39mformat(school_type\u001b[38;5;241m=\u001b[39mschool_type)\n\u001b[1;32m     16\u001b[0m     prompt\u001b[38;5;241m.\u001b[39mformat(json_format)\n\u001b[0;32m---> 18\u001b[0m task \u001b[38;5;241m=\u001b[39m \u001b[43mcreate_task_template\u001b[49m\u001b[43m(\u001b[49m\u001b[43mprompt\u001b[49m\u001b[43m,\u001b[49m\u001b[43m \u001b[49m\u001b[43mschool_type\u001b[49m\u001b[43m,\u001b[49m\u001b[43m \u001b[49m\u001b[43msubject\u001b[49m\u001b[43m,\u001b[49m\u001b[43m \u001b[49m\u001b[43mtopic\u001b[49m\u001b[43m,\u001b[49m\u001b[43m \u001b[49m\u001b[43mgrade\u001b[49m\u001b[43m,\u001b[49m\u001b[43m \u001b[49m\u001b[43mstate\u001b[49m\u001b[43m,\u001b[49m\u001b[43m \u001b[49m\u001b[43mjson_format\u001b[49m\u001b[43m)\u001b[49m\n\u001b[1;32m     19\u001b[0m \u001b[38;5;28mprint\u001b[39m(task)\n",
      "Cell \u001b[0;32mIn[18], line 11\u001b[0m, in \u001b[0;36mcreate_task_template\u001b[0;34m(prompt, school_type, subject, topic, grade, state, json_format)\u001b[0m\n\u001b[1;32m     10\u001b[0m \u001b[38;5;28;01mdef\u001b[39;00m \u001b[38;5;21mcreate_task_template\u001b[39m(prompt: PromptTemplate, school_type, subject, topic, grade, state, json_format):\n\u001b[0;32m---> 11\u001b[0m     \u001b[43mprompt\u001b[49m\u001b[38;5;241;43m.\u001b[39;49m\u001b[43mformat\u001b[49m\u001b[43m(\u001b[49m\u001b[43msubject\u001b[49m\u001b[38;5;241;43m=\u001b[39;49m\u001b[43msubject\u001b[49m\u001b[43m)\u001b[49m\n\u001b[1;32m     12\u001b[0m     prompt\u001b[38;5;241m.\u001b[39mformat(topic\u001b[38;5;241m=\u001b[39mtopic)\n\u001b[1;32m     13\u001b[0m     prompt\u001b[38;5;241m.\u001b[39mformat(grade\u001b[38;5;241m=\u001b[39mgrade)\n",
      "File \u001b[0;32m~/.cache/pypoetry/virtualenvs/unterricht-python-backend-9Hag_kgR-py3.10/lib/python3.10/site-packages/langchain_core/prompts/prompt.py:132\u001b[0m, in \u001b[0;36mPromptTemplate.format\u001b[0;34m(self, **kwargs)\u001b[0m\n\u001b[1;32m    117\u001b[0m \u001b[38;5;250m\u001b[39m\u001b[38;5;124;03m\"\"\"Format the prompt with the inputs.\u001b[39;00m\n\u001b[1;32m    118\u001b[0m \n\u001b[1;32m    119\u001b[0m \u001b[38;5;124;03mArgs:\u001b[39;00m\n\u001b[0;32m   (...)\u001b[0m\n\u001b[1;32m    129\u001b[0m \u001b[38;5;124;03m        prompt.format(variable1=\"foo\")\u001b[39;00m\n\u001b[1;32m    130\u001b[0m \u001b[38;5;124;03m\"\"\"\u001b[39;00m\n\u001b[1;32m    131\u001b[0m kwargs \u001b[38;5;241m=\u001b[39m \u001b[38;5;28mself\u001b[39m\u001b[38;5;241m.\u001b[39m_merge_partial_and_user_variables(\u001b[38;5;241m*\u001b[39m\u001b[38;5;241m*\u001b[39mkwargs)\n\u001b[0;32m--> 132\u001b[0m \u001b[38;5;28;01mreturn\u001b[39;00m \u001b[43mDEFAULT_FORMATTER_MAPPING\u001b[49m\u001b[43m[\u001b[49m\u001b[38;5;28;43mself\u001b[39;49m\u001b[38;5;241;43m.\u001b[39;49m\u001b[43mtemplate_format\u001b[49m\u001b[43m]\u001b[49m\u001b[43m(\u001b[49m\u001b[38;5;28;43mself\u001b[39;49m\u001b[38;5;241;43m.\u001b[39;49m\u001b[43mtemplate\u001b[49m\u001b[43m,\u001b[49m\u001b[43m \u001b[49m\u001b[38;5;241;43m*\u001b[39;49m\u001b[38;5;241;43m*\u001b[39;49m\u001b[43mkwargs\u001b[49m\u001b[43m)\u001b[49m\n",
      "File \u001b[0;32m~/.pyenv/versions/3.10.13/lib/python3.10/string.py:161\u001b[0m, in \u001b[0;36mFormatter.format\u001b[0;34m(self, format_string, *args, **kwargs)\u001b[0m\n\u001b[1;32m    160\u001b[0m \u001b[38;5;28;01mdef\u001b[39;00m \u001b[38;5;21mformat\u001b[39m(\u001b[38;5;28mself\u001b[39m, format_string, \u001b[38;5;241m/\u001b[39m, \u001b[38;5;241m*\u001b[39margs, \u001b[38;5;241m*\u001b[39m\u001b[38;5;241m*\u001b[39mkwargs):\n\u001b[0;32m--> 161\u001b[0m     \u001b[38;5;28;01mreturn\u001b[39;00m \u001b[38;5;28;43mself\u001b[39;49m\u001b[38;5;241;43m.\u001b[39;49m\u001b[43mvformat\u001b[49m\u001b[43m(\u001b[49m\u001b[43mformat_string\u001b[49m\u001b[43m,\u001b[49m\u001b[43m \u001b[49m\u001b[43margs\u001b[49m\u001b[43m,\u001b[49m\u001b[43m \u001b[49m\u001b[43mkwargs\u001b[49m\u001b[43m)\u001b[49m\n",
      "File \u001b[0;32m~/.cache/pypoetry/virtualenvs/unterricht-python-backend-9Hag_kgR-py3.10/lib/python3.10/site-packages/langchain_core/utils/formatting.py:18\u001b[0m, in \u001b[0;36mStrictFormatter.vformat\u001b[0;34m(self, format_string, args, kwargs)\u001b[0m\n\u001b[1;32m     13\u001b[0m \u001b[38;5;28;01mif\u001b[39;00m \u001b[38;5;28mlen\u001b[39m(args) \u001b[38;5;241m>\u001b[39m \u001b[38;5;241m0\u001b[39m:\n\u001b[1;32m     14\u001b[0m     \u001b[38;5;28;01mraise\u001b[39;00m \u001b[38;5;167;01mValueError\u001b[39;00m(\n\u001b[1;32m     15\u001b[0m         \u001b[38;5;124m\"\u001b[39m\u001b[38;5;124mNo arguments should be provided, \u001b[39m\u001b[38;5;124m\"\u001b[39m\n\u001b[1;32m     16\u001b[0m         \u001b[38;5;124m\"\u001b[39m\u001b[38;5;124meverything should be passed as keyword arguments.\u001b[39m\u001b[38;5;124m\"\u001b[39m\n\u001b[1;32m     17\u001b[0m     )\n\u001b[0;32m---> 18\u001b[0m \u001b[38;5;28;01mreturn\u001b[39;00m \u001b[38;5;28;43msuper\u001b[39;49m\u001b[43m(\u001b[49m\u001b[43m)\u001b[49m\u001b[38;5;241;43m.\u001b[39;49m\u001b[43mvformat\u001b[49m\u001b[43m(\u001b[49m\u001b[43mformat_string\u001b[49m\u001b[43m,\u001b[49m\u001b[43m \u001b[49m\u001b[43margs\u001b[49m\u001b[43m,\u001b[49m\u001b[43m \u001b[49m\u001b[43mkwargs\u001b[49m\u001b[43m)\u001b[49m\n",
      "File \u001b[0;32m~/.pyenv/versions/3.10.13/lib/python3.10/string.py:165\u001b[0m, in \u001b[0;36mFormatter.vformat\u001b[0;34m(self, format_string, args, kwargs)\u001b[0m\n\u001b[1;32m    163\u001b[0m \u001b[38;5;28;01mdef\u001b[39;00m \u001b[38;5;21mvformat\u001b[39m(\u001b[38;5;28mself\u001b[39m, format_string, args, kwargs):\n\u001b[1;32m    164\u001b[0m     used_args \u001b[38;5;241m=\u001b[39m \u001b[38;5;28mset\u001b[39m()\n\u001b[0;32m--> 165\u001b[0m     result, _ \u001b[38;5;241m=\u001b[39m \u001b[38;5;28;43mself\u001b[39;49m\u001b[38;5;241;43m.\u001b[39;49m\u001b[43m_vformat\u001b[49m\u001b[43m(\u001b[49m\u001b[43mformat_string\u001b[49m\u001b[43m,\u001b[49m\u001b[43m \u001b[49m\u001b[43margs\u001b[49m\u001b[43m,\u001b[49m\u001b[43m \u001b[49m\u001b[43mkwargs\u001b[49m\u001b[43m,\u001b[49m\u001b[43m \u001b[49m\u001b[43mused_args\u001b[49m\u001b[43m,\u001b[49m\u001b[43m \u001b[49m\u001b[38;5;241;43m2\u001b[39;49m\u001b[43m)\u001b[49m\n\u001b[1;32m    166\u001b[0m     \u001b[38;5;28mself\u001b[39m\u001b[38;5;241m.\u001b[39mcheck_unused_args(used_args, args, kwargs)\n\u001b[1;32m    167\u001b[0m     \u001b[38;5;28;01mreturn\u001b[39;00m result\n",
      "File \u001b[0;32m~/.pyenv/versions/3.10.13/lib/python3.10/string.py:205\u001b[0m, in \u001b[0;36mFormatter._vformat\u001b[0;34m(self, format_string, args, kwargs, used_args, recursion_depth, auto_arg_index)\u001b[0m\n\u001b[1;32m    201\u001b[0m     auto_arg_index \u001b[38;5;241m=\u001b[39m \u001b[38;5;28;01mFalse\u001b[39;00m\n\u001b[1;32m    203\u001b[0m \u001b[38;5;66;03m# given the field_name, find the object it references\u001b[39;00m\n\u001b[1;32m    204\u001b[0m \u001b[38;5;66;03m#  and the argument it came from\u001b[39;00m\n\u001b[0;32m--> 205\u001b[0m obj, arg_used \u001b[38;5;241m=\u001b[39m \u001b[38;5;28;43mself\u001b[39;49m\u001b[38;5;241;43m.\u001b[39;49m\u001b[43mget_field\u001b[49m\u001b[43m(\u001b[49m\u001b[43mfield_name\u001b[49m\u001b[43m,\u001b[49m\u001b[43m \u001b[49m\u001b[43margs\u001b[49m\u001b[43m,\u001b[49m\u001b[43m \u001b[49m\u001b[43mkwargs\u001b[49m\u001b[43m)\u001b[49m\n\u001b[1;32m    206\u001b[0m used_args\u001b[38;5;241m.\u001b[39madd(arg_used)\n\u001b[1;32m    208\u001b[0m \u001b[38;5;66;03m# do any conversion on the resulting object\u001b[39;00m\n",
      "File \u001b[0;32m~/.pyenv/versions/3.10.13/lib/python3.10/string.py:270\u001b[0m, in \u001b[0;36mFormatter.get_field\u001b[0;34m(self, field_name, args, kwargs)\u001b[0m\n\u001b[1;32m    267\u001b[0m \u001b[38;5;28;01mdef\u001b[39;00m \u001b[38;5;21mget_field\u001b[39m(\u001b[38;5;28mself\u001b[39m, field_name, args, kwargs):\n\u001b[1;32m    268\u001b[0m     first, rest \u001b[38;5;241m=\u001b[39m _string\u001b[38;5;241m.\u001b[39mformatter_field_name_split(field_name)\n\u001b[0;32m--> 270\u001b[0m     obj \u001b[38;5;241m=\u001b[39m \u001b[38;5;28;43mself\u001b[39;49m\u001b[38;5;241;43m.\u001b[39;49m\u001b[43mget_value\u001b[49m\u001b[43m(\u001b[49m\u001b[43mfirst\u001b[49m\u001b[43m,\u001b[49m\u001b[43m \u001b[49m\u001b[43margs\u001b[49m\u001b[43m,\u001b[49m\u001b[43m \u001b[49m\u001b[43mkwargs\u001b[49m\u001b[43m)\u001b[49m\n\u001b[1;32m    272\u001b[0m     \u001b[38;5;66;03m# loop through the rest of the field_name, doing\u001b[39;00m\n\u001b[1;32m    273\u001b[0m     \u001b[38;5;66;03m#  getattr or getitem as needed\u001b[39;00m\n\u001b[1;32m    274\u001b[0m     \u001b[38;5;28;01mfor\u001b[39;00m is_attr, i \u001b[38;5;129;01min\u001b[39;00m rest:\n",
      "File \u001b[0;32m~/.pyenv/versions/3.10.13/lib/python3.10/string.py:227\u001b[0m, in \u001b[0;36mFormatter.get_value\u001b[0;34m(self, key, args, kwargs)\u001b[0m\n\u001b[1;32m    225\u001b[0m     \u001b[38;5;28;01mreturn\u001b[39;00m args[key]\n\u001b[1;32m    226\u001b[0m \u001b[38;5;28;01melse\u001b[39;00m:\n\u001b[0;32m--> 227\u001b[0m     \u001b[38;5;28;01mreturn\u001b[39;00m \u001b[43mkwargs\u001b[49m\u001b[43m[\u001b[49m\u001b[43mkey\u001b[49m\u001b[43m]\u001b[49m\n",
      "\u001b[0;31mKeyError\u001b[0m: 'topic'"
     ]
    }
   ],
   "source": [
    "json_format = \"\"\"{{\n",
    "    \"learn_goals\": \"xyz\",\n",
    "    \"table_data\": [\n",
    "        {{\"title\": \"abc\", \"duration\": \"10min\", \"content\": \"blabla\"}},\n",
    "        {{...}},\n",
    "        {{...}}\n",
    "    ]\n",
    "}}\"\"\"\n",
    "\n",
    "def create_task_template(prompt: PromptTemplate, school_type, subject, topic, grade, state, json_format):\n",
    "    prompt.format({\"subject\": subject, \"topic\": topic})\n",
    "    prompt.format(topic=topic)\n",
    "    prompt.format(grade=grade)\n",
    "    prompt.format(state=state)\n",
    "    prompt.format(school_type=school_type)\n",
    "    prompt.format(json_format)\n",
    "\n",
    "task = create_task_template(prompt, school_type, subject, topic, grade, state, json_format)\n",
    "print(task)"
   ]
  },
  {
   "cell_type": "markdown",
   "metadata": {},
   "source": [
    "def get_uploaded_ids(filepath, upload_table_name):\n",
    "    data, _cnt = supabase_client.table(upload_table_name).select('id').contains('metadata', {'source':filepath}).execute()\n",
    "    return [data[1][i].get(\"id\") for i in range(len(data[1]))]"
   ]
  },
  {
   "cell_type": "markdown",
   "metadata": {},
   "source": [
    "def create_filter_list(context):\n",
    "    uploaded_ids = []\n",
    "    for doc in context:\n",
    "        if len(doc) > 0:\n",
    "            doc_uploaded_ids = get_uploaded_ids(doc, interface_config.upload_table_name)\n",
    "            if len(doc_uploaded_ids) > 0:\n",
    "                uploaded_ids += doc_uploaded_ids\n",
    "    return uploaded_ids"
   ]
  },
  {
   "cell_type": "code",
   "execution_count": null,
   "metadata": {},
   "outputs": [],
   "source": [
    "filter_list = context"
   ]
  },
  {
   "cell_type": "code",
   "execution_count": null,
   "metadata": {},
   "outputs": [],
   "source": [
    "def initialize_vector_store(client: Client, embedding: OpenAIEmbeddings, table_name: str, query_name: str):\n",
    "    vector_store = SupabaseVectorStore(\n",
    "        client=client,\n",
    "        embedding=embedding,\n",
    "        table_name=table_name,\n",
    "        query_name=query_name,\n",
    "    )\n",
    "    return vector_store"
   ]
  },
  {
   "cell_type": "code",
   "execution_count": null,
   "metadata": {},
   "outputs": [],
   "source": [
    "embedding = OpenAIEmbeddings()"
   ]
  },
  {
   "cell_type": "code",
   "execution_count": null,
   "metadata": {},
   "outputs": [],
   "source": [
    "vector_store = initialize_vector_store(supabase_client, embedding, interface_config.upload_table_name, interface_config.supabase_match_function) "
   ]
  },
  {
   "cell_type": "code",
   "execution_count": null,
   "metadata": {},
   "outputs": [
    {
     "name": "stderr",
     "output_type": "stream",
     "text": [
      "2024-02-03 03:22:59,364:INFO - HTTP Request: POST https://api.openai.com/v1/embeddings \"HTTP/1.1 200 OK\"\n",
      "2024-02-03 03:22:59,533:INFO - HTTP Request: POST https://smxwnqdpxcvclxhbvhsf.supabase.co/rest/v1/rpc/match_documents_with_uuid_filter?limit=1 \"HTTP/1.1 200 OK\"\n"
     ]
    }
   ],
   "source": [
    "retrieved_context = vector_store.similarity_search(task,k=interface_config.context_k,filter=filter_list)"
   ]
  },
  {
   "cell_type": "code",
   "execution_count": null,
   "metadata": {},
   "outputs": [
    {
     "name": "stdout",
     "output_type": "stream",
     "text": [
      "<class 'langchain_core.documents.base.Document'>\n"
     ]
    }
   ],
   "source": [
    "print(type(retrieved_context[0]))"
   ]
  },
  {
   "cell_type": "code",
   "execution_count": null,
   "metadata": {},
   "outputs": [
    {
     "data": {
      "text/plain": [
       "Document(page_content='ENTWURF RICHTLINIEN 02.08.2023    \\n 15 , Erfahrungs- und Lebensraum. Eine kind- und jugendgerechte Ganztagsbildung er-\\nmöglicht die Einbindung zusätzlicher Lernangebote und orientiert sich an den Bedürf-\\nnissen der Kinder und Jugendlichen. Ganztagsangebote werden mit vielfältigen Part-\\nnern umgesetzt. Zentrale Merkmale des Ganztags sind u.a. Konzepte zur Förderung \\nbesonderer Interessen und Bedarfe der Schülerinnen und Schüler, zusätzliche Zu-\\ngänge zum Lernen, Angebote z.B. aus den Bereichen Sport, Kultur, Berufsorientierung \\nund Gesundheit sowie Freiräume für Selbstbildungsprozesse und selbstbestimmte Ak-\\ntivitäten.  \\nZu den Zielen ganztägiger Bildung trägt ebenso die Organisationsform fakultativer Ar-\\nbeitsgemeinschaften bei. Diese sind in Ausrichtung und Zielsetzung nicht gebunden \\nan curriculare Vorgaben und konstituieren sich aus den Neigungen, Interessen und \\nBedarfen von Schülerinnen und Schülern sowie aus Impulsen der Lehrkräfte und wei-\\nteren pädagogischen Personals.  \\nGanztagsschulen halten ganzheitliche Angebote vor, auch für Schülerinnen und Schü-\\nler mit sonderpädagogischem Unterstützungsbedarf. Ganztägige Bildung nutzt vielfäl-\\ntige und alternative Zugänge und Formate, die auch klassen- beziehungsweise jahr-\\ngangstufenübergreifend organisiert werden können.  \\n \\nMit Fokus auf die Gestaltung des Übergangs Schule-Beruf und die Berufliche Orien-\\ntierung, stellen Praxisphasen einen verpflichtenden Baustein schulischer Bildung dar, \\nder Schülerinnen und Schülern eine adäquate Möglichkeit bietet, um Berufe und Ar-\\nbeitswelt kennenzulernen sowie individuelle Interessen und Zukunftsvorstellungen zu \\nsondieren. Praxisphasen als Teil schulischer Ausbildung ist schulprogrammatisch ver-\\nankert, es wird in der Vor- und Nachbereitung sowie in der Durchführung von Lehrkräf-\\nten angemessen begleitet.  \\n \\n3.3 Leistung erfassen und bewerten  \\nDie Grundlagen der Leistungsbewertung sind im Schulgesetz und in den Ausbildungs- \\nund Prüfungsordnungen der jeweiligen Schulformen beziehungsweise -stufen veran-\\nkert. Weiterhin folgt die Leistungsbewertung den Maßgaben dieser Richtlinie sowie der \\nLehr- und Kernlehrpläne und dem erteilten Unterricht. \\nKompetenzorientierter Unterricht gliedert sich in Lehr-, Lern- und Überprüfungspha-\\nsen. Neben Unterrichtsphasen des Lernens, Übens und Vertiefens stehen Phasen der \\nmündlichen, schriftlichen und praktischen Leistungserfassung. Damit ist die Überprü-\\nfung des Grades des Kompetenzerwerbs und des Wissensstands gemeint. Hierüber \\nlassen sich Rückschlüsse ziehen auf den fachcurricular zu erzielenden Lernerfolg der \\nSchülerinnen und Schüler einerseits und über die Lernwirksamkeit des Unterrichts an-\\ndererseits. Lehrkräften dienen die Ergebnisse von Leistungsüberprüfungen als Grund-\\nlage für weitere Förderangebote und Schullaufbahnberatungen. \\nSchule nimmt nicht nur messbares Wissen und Können in den Blick, sondern auch die \\nSelbst-, Personal- und Sozialkompetenzen. Durch die Einordnung und Bewertung der', metadata={'page': 14, 'source': 'user_2e4ace06-270b-429b-9726-f937261ed293_Entwurf_RiLi_VerbBtlg_2023_08_18.pdf'})"
      ]
     },
     "execution_count": 14,
     "metadata": {},
     "output_type": "execute_result"
    }
   ],
   "source": [
    "retrieved_context[0]"
   ]
  },
  {
   "cell_type": "code",
   "execution_count": null,
   "metadata": {},
   "outputs": [],
   "source": [
    "def create_prompt_template(retrieved_context, keywords) -> str:\n",
    "    '\\n'.join(keywords)\n",
    "    return f\"\"\"Du bist ein Assistent für Lehrkräfte und deine Aufgabe ist Unterricht strukturiert, fachlich korrekt, und detailliert vorzubereiten. \n",
    "Schlüsselbegriffe helfen dir bei der Lösung der Aufgabe die richtigen Themen zu wählen.\n",
    "\n",
    "Schlüsselbegriffe:\n",
    "------------------\n",
    "{keywords}\n",
    "------------------\n",
    "\n",
    "Die Lehrkraft stellt dir Kontext zur Lösung der Aufgabe in deiner Bibliothek zur Verfügung. \n",
    "Hier ist ein kurzer Ausschnitt aus dem Kontext in deiner Bibliothek:\n",
    "\n",
    "Ausschnitt aus dem Kontext:\n",
    "---------\n",
    "{retrieved_context}\n",
    "---------\n",
    "\n",
    "Die Antwort soll in jedem Fall eine inhaltliche und zeitliche Struktur für den Unterricht beinhalten.\n",
    "Die Gesamtlänge des Unterrichts soll insgesamt 45 Minuten betragen.\n",
    "Die Antwort darf keine Wiederholungen enthalten!\n",
    "\"\"\"\n",
    "prompt_template = create_prompt_template(retrieved_context, keywords)"
   ]
  },
  {
   "cell_type": "code",
   "execution_count": null,
   "metadata": {},
   "outputs": [
    {
     "name": "stdout",
     "output_type": "stream",
     "text": [
      "Du bist ein Assistent für Lehrkräfte und deine Aufgabe ist Unterricht strukturiert, fachlich korrekt, und detailliert vorzubereiten. \n",
      "Schlüsselbegriffe helfen dir bei der Lösung der Aufgabe die richtigen Themen zu wählen.\n",
      "\n",
      "Schlüsselbegriffe:\n",
      "------------------\n",
      "['shakespeare', 'poetry', 'analysis']\n",
      "------------------\n",
      "\n",
      "Die Lehrkraft stellt dir Kontext zur Lösung der Aufgabe in deiner Bibliothek zur Verfügung. \n",
      "Hier ist ein kurzer Ausschnitt aus dem Kontext in deiner Bibliothek:\n",
      "\n",
      "Ausschnitt aus dem Kontext:\n",
      "---------\n",
      "[Document(page_content='ENTWURF RICHTLINIEN 02.08.2023    \\n 15 , Erfahrungs- und Lebensraum. Eine kind- und jugendgerechte Ganztagsbildung er-\\nmöglicht die Einbindung zusätzlicher Lernangebote und orientiert sich an den Bedürf-\\nnissen der Kinder und Jugendlichen. Ganztagsangebote werden mit vielfältigen Part-\\nnern umgesetzt. Zentrale Merkmale des Ganztags sind u.a. Konzepte zur Förderung \\nbesonderer Interessen und Bedarfe der Schülerinnen und Schüler, zusätzliche Zu-\\ngänge zum Lernen, Angebote z.B. aus den Bereichen Sport, Kultur, Berufsorientierung \\nund Gesundheit sowie Freiräume für Selbstbildungsprozesse und selbstbestimmte Ak-\\ntivitäten.  \\nZu den Zielen ganztägiger Bildung trägt ebenso die Organisationsform fakultativer Ar-\\nbeitsgemeinschaften bei. Diese sind in Ausrichtung und Zielsetzung nicht gebunden \\nan curriculare Vorgaben und konstituieren sich aus den Neigungen, Interessen und \\nBedarfen von Schülerinnen und Schülern sowie aus Impulsen der Lehrkräfte und wei-\\nteren pädagogischen Personals.  \\nGanztagsschulen halten ganzheitliche Angebote vor, auch für Schülerinnen und Schü-\\nler mit sonderpädagogischem Unterstützungsbedarf. Ganztägige Bildung nutzt vielfäl-\\ntige und alternative Zugänge und Formate, die auch klassen- beziehungsweise jahr-\\ngangstufenübergreifend organisiert werden können.  \\n \\nMit Fokus auf die Gestaltung des Übergangs Schule-Beruf und die Berufliche Orien-\\ntierung, stellen Praxisphasen einen verpflichtenden Baustein schulischer Bildung dar, \\nder Schülerinnen und Schülern eine adäquate Möglichkeit bietet, um Berufe und Ar-\\nbeitswelt kennenzulernen sowie individuelle Interessen und Zukunftsvorstellungen zu \\nsondieren. Praxisphasen als Teil schulischer Ausbildung ist schulprogrammatisch ver-\\nankert, es wird in der Vor- und Nachbereitung sowie in der Durchführung von Lehrkräf-\\nten angemessen begleitet.  \\n \\n3.3 Leistung erfassen und bewerten  \\nDie Grundlagen der Leistungsbewertung sind im Schulgesetz und in den Ausbildungs- \\nund Prüfungsordnungen der jeweiligen Schulformen beziehungsweise -stufen veran-\\nkert. Weiterhin folgt die Leistungsbewertung den Maßgaben dieser Richtlinie sowie der \\nLehr- und Kernlehrpläne und dem erteilten Unterricht. \\nKompetenzorientierter Unterricht gliedert sich in Lehr-, Lern- und Überprüfungspha-\\nsen. Neben Unterrichtsphasen des Lernens, Übens und Vertiefens stehen Phasen der \\nmündlichen, schriftlichen und praktischen Leistungserfassung. Damit ist die Überprü-\\nfung des Grades des Kompetenzerwerbs und des Wissensstands gemeint. Hierüber \\nlassen sich Rückschlüsse ziehen auf den fachcurricular zu erzielenden Lernerfolg der \\nSchülerinnen und Schüler einerseits und über die Lernwirksamkeit des Unterrichts an-\\ndererseits. Lehrkräften dienen die Ergebnisse von Leistungsüberprüfungen als Grund-\\nlage für weitere Förderangebote und Schullaufbahnberatungen. \\nSchule nimmt nicht nur messbares Wissen und Können in den Blick, sondern auch die \\nSelbst-, Personal- und Sozialkompetenzen. Durch die Einordnung und Bewertung der', metadata={'page': 14, 'source': 'user_2e4ace06-270b-429b-9726-f937261ed293_Entwurf_RiLi_VerbBtlg_2023_08_18.pdf'})]\n",
      "---------\n",
      "\n",
      "Die Antwort soll in jedem Fall eine inhaltliche und zeitliche Struktur für den Unterricht beinhalten.\n",
      "Die Gesamtlänge des Unterrichts soll insgesamt 45 Minuten betragen.\n",
      "Die Antwort darf keine Wiederholungen enthalten!\n",
      "\n"
     ]
    }
   ],
   "source": [
    "print(prompt_template)"
   ]
  },
  {
   "cell_type": "code",
   "execution_count": null,
   "metadata": {},
   "outputs": [],
   "source": [
    "prompt = hub.pull(\"hwchase17/openai-functions-agent\")"
   ]
  },
  {
   "cell_type": "code",
   "execution_count": null,
   "metadata": {},
   "outputs": [],
   "source": [
    "prompt.messages[0].prompt.template = prompt_template"
   ]
  },
  {
   "cell_type": "code",
   "execution_count": null,
   "metadata": {},
   "outputs": [
    {
     "data": {
      "text/plain": [
       "\"Du bist ein Assistent für Lehrkräfte und deine Aufgabe ist Unterricht strukturiert, fachlich korrekt, und detailliert vorzubereiten. \\nSchlüsselbegriffe helfen dir bei der Lösung der Aufgabe die richtigen Themen zu wählen.\\n\\nSchlüsselbegriffe:\\n------------------\\n['shakespeare', 'poetry', 'analysis']\\n------------------\\n\\nDie Lehrkraft stellt dir Kontext zur Lösung der Aufgabe in deiner Bibliothek zur Verfügung. \\nHier ist ein kurzer Ausschnitt aus dem Kontext in deiner Bibliothek:\\n\\nAusschnitt aus dem Kontext:\\n---------\\n[Document(page_content='ENTWURF RICHTLINIEN 02.08.2023    \\\\n 15 , Erfahrungs- und Lebensraum. Eine kind- und jugendgerechte Ganztagsbildung er-\\\\nmöglicht die Einbindung zusätzlicher Lernangebote und orientiert sich an den Bedürf-\\\\nnissen der Kinder und Jugendlichen. Ganztagsangebote werden mit vielfältigen Part-\\\\nnern umgesetzt. Zentrale Merkmale des Ganztags sind u.a. Konzepte zur Förderung \\\\nbesonderer Interessen und Bedarfe der Schülerinnen und Schüler, zusätzliche Zu-\\\\ngänge zum Lernen, Angebote z.B. aus den Bereichen Sport, Kultur, Berufsorientierung \\\\nund Gesundheit sowie Freiräume für Selbstbildungsprozesse und selbstbestimmte Ak-\\\\ntivitäten.  \\\\nZu den Zielen ganztägiger Bildung trägt ebenso die Organisationsform fakultativer Ar-\\\\nbeitsgemeinschaften bei. Diese sind in Ausrichtung und Zielsetzung nicht gebunden \\\\nan curriculare Vorgaben und konstituieren sich aus den Neigungen, Interessen und \\\\nBedarfen von Schülerinnen und Schülern sowie aus Impulsen der Lehrkräfte und wei-\\\\nteren pädagogischen Personals.  \\\\nGanztagsschulen halten ganzheitliche Angebote vor, auch für Schülerinnen und Schü-\\\\nler mit sonderpädagogischem Unterstützungsbedarf. Ganztägige Bildung nutzt vielfäl-\\\\ntige und alternative Zugänge und Formate, die auch klassen- beziehungsweise jahr-\\\\ngangstufenübergreifend organisiert werden können.  \\\\n \\\\nMit Fokus auf die Gestaltung des Übergangs Schule-Beruf und die Berufliche Orien-\\\\ntierung, stellen Praxisphasen einen verpflichtenden Baustein schulischer Bildung dar, \\\\nder Schülerinnen und Schülern eine adäquate Möglichkeit bietet, um Berufe und Ar-\\\\nbeitswelt kennenzulernen sowie individuelle Interessen und Zukunftsvorstellungen zu \\\\nsondieren. Praxisphasen als Teil schulischer Ausbildung ist schulprogrammatisch ver-\\\\nankert, es wird in der Vor- und Nachbereitung sowie in der Durchführung von Lehrkräf-\\\\nten angemessen begleitet.  \\\\n \\\\n3.3 Leistung erfassen und bewerten  \\\\nDie Grundlagen der Leistungsbewertung sind im Schulgesetz und in den Ausbildungs- \\\\nund Prüfungsordnungen der jeweiligen Schulformen beziehungsweise -stufen veran-\\\\nkert. Weiterhin folgt die Leistungsbewertung den Maßgaben dieser Richtlinie sowie der \\\\nLehr- und Kernlehrpläne und dem erteilten Unterricht. \\\\nKompetenzorientierter Unterricht gliedert sich in Lehr-, Lern- und Überprüfungspha-\\\\nsen. Neben Unterrichtsphasen des Lernens, Übens und Vertiefens stehen Phasen der \\\\nmündlichen, schriftlichen und praktischen Leistungserfassung. Damit ist die Überprü-\\\\nfung des Grades des Kompetenzerwerbs und des Wissensstands gemeint. Hierüber \\\\nlassen sich Rückschlüsse ziehen auf den fachcurricular zu erzielenden Lernerfolg der \\\\nSchülerinnen und Schüler einerseits und über die Lernwirksamkeit des Unterrichts an-\\\\ndererseits. Lehrkräften dienen die Ergebnisse von Leistungsüberprüfungen als Grund-\\\\nlage für weitere Förderangebote und Schullaufbahnberatungen. \\\\nSchule nimmt nicht nur messbares Wissen und Können in den Blick, sondern auch die \\\\nSelbst-, Personal- und Sozialkompetenzen. Durch die Einordnung und Bewertung der', metadata={'page': 14, 'source': 'user_2e4ace06-270b-429b-9726-f937261ed293_Entwurf_RiLi_VerbBtlg_2023_08_18.pdf'})]\\n---------\\n\\nDie Antwort soll in jedem Fall eine inhaltliche und zeitliche Struktur für den Unterricht beinhalten.\\nDie Gesamtlänge des Unterrichts soll insgesamt 45 Minuten betragen.\\nDie Antwort darf keine Wiederholungen enthalten!\\n\""
      ]
     },
     "execution_count": 19,
     "metadata": {},
     "output_type": "execute_result"
    }
   ],
   "source": [
    "prompt.messages[0].dict()['prompt']['template']"
   ]
  },
  {
   "cell_type": "code",
   "execution_count": null,
   "metadata": {},
   "outputs": [],
   "source": [
    "search = TavilySearchAPIWrapper()\n",
    "tavily_tool = TavilySearchResults(api_wrapper=search, max_results=interface_config.tavily_max_response)"
   ]
  },
  {
   "cell_type": "code",
   "execution_count": null,
   "metadata": {},
   "outputs": [],
   "source": [
    "embeddings = OpenAIEmbeddings()\n",
    "vector_store = SupabaseVectorStore(\n",
    "        client=supabase_client,\n",
    "        embedding=embeddings,\n",
    "        table_name=\"vector_store\",\n",
    "        query_name=\"match_documents_with_uuid_filter\",\n",
    "    )\n",
    "retriever = vector_store.as_retriever(search_type=interface_config.retriever_search_type, search_kwargs={\"k\": interface_config.retriever_k, 'lambda_mult': interface_config.retriever_mult, 'filter': filter_list})\n",
    "retriever_tool = tool = create_retriever_tool(\n",
    "    retriever,\n",
    "    \"get_more_context\",\n",
    "    \"A personal library optimized for user defined context information. Useful for when you need to know more about the given context. Input should be a search query.\",\n",
    ")"
   ]
  },
  {
   "cell_type": "code",
   "execution_count": null,
   "metadata": {},
   "outputs": [],
   "source": [
    "tools = [retriever_tool, tavily_tool]"
   ]
  },
  {
   "cell_type": "code",
   "execution_count": null,
   "metadata": {},
   "outputs": [
    {
     "name": "stderr",
     "output_type": "stream",
     "text": [
      "/home/cts/.cache/pypoetry/virtualenvs/unterricht-python-backend-9Hag_kgR-py3.10/lib/python3.10/site-packages/langchain_openai/chat_models/base.py:299: UserWarning: WARNING! response_format is not default parameter.\n",
      "                    response_format was transferred to model_kwargs.\n",
      "                    Please confirm that response_format is what you intended.\n",
      "  warnings.warn(\n"
     ]
    }
   ],
   "source": [
    "llm = ChatOpenAI(model_name=interface_config.gpt_model_version, temperature=interface_config.gpt_model_temperature, response_format={ \"type\": \"json_object\" })\n",
    "agent = create_openai_functions_agent(llm, tools, prompt)"
   ]
  },
  {
   "cell_type": "code",
   "execution_count": null,
   "metadata": {},
   "outputs": [],
   "source": [
    "agent_executor = AgentExecutor(agent=agent, tools=tools, verbose=True)"
   ]
  },
  {
   "cell_type": "code",
   "execution_count": null,
   "metadata": {},
   "outputs": [
    {
     "name": "stdout",
     "output_type": "stream",
     "text": [
      "\n",
      "\n",
      "\u001b[1m> Entering new AgentExecutor chain...\u001b[0m\n"
     ]
    },
    {
     "ename": "KeyError",
     "evalue": "\"'page'\"",
     "output_type": "error",
     "traceback": [
      "\u001b[0;31m---------------------------------------------------------------------------\u001b[0m",
      "\u001b[0;31mKeyError\u001b[0m                                  Traceback (most recent call last)",
      "Cell \u001b[0;32mIn[25], line 1\u001b[0m\n\u001b[0;32m----> 1\u001b[0m response \u001b[38;5;241m=\u001b[39m \u001b[43magent_executor\u001b[49m\u001b[38;5;241;43m.\u001b[39;49m\u001b[43minvoke\u001b[49m\u001b[43m(\u001b[49m\u001b[43m{\u001b[49m\u001b[38;5;124;43m\"\u001b[39;49m\u001b[38;5;124;43minput\u001b[39;49m\u001b[38;5;124;43m\"\u001b[39;49m\u001b[43m:\u001b[49m\u001b[43m \u001b[49m\u001b[43mtask\u001b[49m\u001b[43m}\u001b[49m\u001b[43m)\u001b[49m\n",
      "File \u001b[0;32m~/.cache/pypoetry/virtualenvs/unterricht-python-backend-9Hag_kgR-py3.10/lib/python3.10/site-packages/langchain/chains/base.py:162\u001b[0m, in \u001b[0;36mChain.invoke\u001b[0;34m(self, input, config, **kwargs)\u001b[0m\n\u001b[1;32m    160\u001b[0m \u001b[38;5;28;01mexcept\u001b[39;00m \u001b[38;5;167;01mBaseException\u001b[39;00m \u001b[38;5;28;01mas\u001b[39;00m e:\n\u001b[1;32m    161\u001b[0m     run_manager\u001b[38;5;241m.\u001b[39mon_chain_error(e)\n\u001b[0;32m--> 162\u001b[0m     \u001b[38;5;28;01mraise\u001b[39;00m e\n\u001b[1;32m    163\u001b[0m run_manager\u001b[38;5;241m.\u001b[39mon_chain_end(outputs)\n\u001b[1;32m    164\u001b[0m final_outputs: Dict[\u001b[38;5;28mstr\u001b[39m, Any] \u001b[38;5;241m=\u001b[39m \u001b[38;5;28mself\u001b[39m\u001b[38;5;241m.\u001b[39mprep_outputs(\n\u001b[1;32m    165\u001b[0m     inputs, outputs, return_only_outputs\n\u001b[1;32m    166\u001b[0m )\n",
      "File \u001b[0;32m~/.cache/pypoetry/virtualenvs/unterricht-python-backend-9Hag_kgR-py3.10/lib/python3.10/site-packages/langchain/chains/base.py:156\u001b[0m, in \u001b[0;36mChain.invoke\u001b[0;34m(self, input, config, **kwargs)\u001b[0m\n\u001b[1;32m    149\u001b[0m run_manager \u001b[38;5;241m=\u001b[39m callback_manager\u001b[38;5;241m.\u001b[39mon_chain_start(\n\u001b[1;32m    150\u001b[0m     dumpd(\u001b[38;5;28mself\u001b[39m),\n\u001b[1;32m    151\u001b[0m     inputs,\n\u001b[1;32m    152\u001b[0m     name\u001b[38;5;241m=\u001b[39mrun_name,\n\u001b[1;32m    153\u001b[0m )\n\u001b[1;32m    154\u001b[0m \u001b[38;5;28;01mtry\u001b[39;00m:\n\u001b[1;32m    155\u001b[0m     outputs \u001b[38;5;241m=\u001b[39m (\n\u001b[0;32m--> 156\u001b[0m         \u001b[38;5;28;43mself\u001b[39;49m\u001b[38;5;241;43m.\u001b[39;49m\u001b[43m_call\u001b[49m\u001b[43m(\u001b[49m\u001b[43minputs\u001b[49m\u001b[43m,\u001b[49m\u001b[43m \u001b[49m\u001b[43mrun_manager\u001b[49m\u001b[38;5;241;43m=\u001b[39;49m\u001b[43mrun_manager\u001b[49m\u001b[43m)\u001b[49m\n\u001b[1;32m    157\u001b[0m         \u001b[38;5;28;01mif\u001b[39;00m new_arg_supported\n\u001b[1;32m    158\u001b[0m         \u001b[38;5;28;01melse\u001b[39;00m \u001b[38;5;28mself\u001b[39m\u001b[38;5;241m.\u001b[39m_call(inputs)\n\u001b[1;32m    159\u001b[0m     )\n\u001b[1;32m    160\u001b[0m \u001b[38;5;28;01mexcept\u001b[39;00m \u001b[38;5;167;01mBaseException\u001b[39;00m \u001b[38;5;28;01mas\u001b[39;00m e:\n\u001b[1;32m    161\u001b[0m     run_manager\u001b[38;5;241m.\u001b[39mon_chain_error(e)\n",
      "File \u001b[0;32m~/.cache/pypoetry/virtualenvs/unterricht-python-backend-9Hag_kgR-py3.10/lib/python3.10/site-packages/langchain/agents/agent.py:1391\u001b[0m, in \u001b[0;36mAgentExecutor._call\u001b[0;34m(self, inputs, run_manager)\u001b[0m\n\u001b[1;32m   1389\u001b[0m \u001b[38;5;66;03m# We now enter the agent loop (until it returns something).\u001b[39;00m\n\u001b[1;32m   1390\u001b[0m \u001b[38;5;28;01mwhile\u001b[39;00m \u001b[38;5;28mself\u001b[39m\u001b[38;5;241m.\u001b[39m_should_continue(iterations, time_elapsed):\n\u001b[0;32m-> 1391\u001b[0m     next_step_output \u001b[38;5;241m=\u001b[39m \u001b[38;5;28;43mself\u001b[39;49m\u001b[38;5;241;43m.\u001b[39;49m\u001b[43m_take_next_step\u001b[49m\u001b[43m(\u001b[49m\n\u001b[1;32m   1392\u001b[0m \u001b[43m        \u001b[49m\u001b[43mname_to_tool_map\u001b[49m\u001b[43m,\u001b[49m\n\u001b[1;32m   1393\u001b[0m \u001b[43m        \u001b[49m\u001b[43mcolor_mapping\u001b[49m\u001b[43m,\u001b[49m\n\u001b[1;32m   1394\u001b[0m \u001b[43m        \u001b[49m\u001b[43minputs\u001b[49m\u001b[43m,\u001b[49m\n\u001b[1;32m   1395\u001b[0m \u001b[43m        \u001b[49m\u001b[43mintermediate_steps\u001b[49m\u001b[43m,\u001b[49m\n\u001b[1;32m   1396\u001b[0m \u001b[43m        \u001b[49m\u001b[43mrun_manager\u001b[49m\u001b[38;5;241;43m=\u001b[39;49m\u001b[43mrun_manager\u001b[49m\u001b[43m,\u001b[49m\n\u001b[1;32m   1397\u001b[0m \u001b[43m    \u001b[49m\u001b[43m)\u001b[49m\n\u001b[1;32m   1398\u001b[0m     \u001b[38;5;28;01mif\u001b[39;00m \u001b[38;5;28misinstance\u001b[39m(next_step_output, AgentFinish):\n\u001b[1;32m   1399\u001b[0m         \u001b[38;5;28;01mreturn\u001b[39;00m \u001b[38;5;28mself\u001b[39m\u001b[38;5;241m.\u001b[39m_return(\n\u001b[1;32m   1400\u001b[0m             next_step_output, intermediate_steps, run_manager\u001b[38;5;241m=\u001b[39mrun_manager\n\u001b[1;32m   1401\u001b[0m         )\n",
      "File \u001b[0;32m~/.cache/pypoetry/virtualenvs/unterricht-python-backend-9Hag_kgR-py3.10/lib/python3.10/site-packages/langchain/agents/agent.py:1097\u001b[0m, in \u001b[0;36mAgentExecutor._take_next_step\u001b[0;34m(self, name_to_tool_map, color_mapping, inputs, intermediate_steps, run_manager)\u001b[0m\n\u001b[1;32m   1088\u001b[0m \u001b[38;5;28;01mdef\u001b[39;00m \u001b[38;5;21m_take_next_step\u001b[39m(\n\u001b[1;32m   1089\u001b[0m     \u001b[38;5;28mself\u001b[39m,\n\u001b[1;32m   1090\u001b[0m     name_to_tool_map: Dict[\u001b[38;5;28mstr\u001b[39m, BaseTool],\n\u001b[0;32m   (...)\u001b[0m\n\u001b[1;32m   1094\u001b[0m     run_manager: Optional[CallbackManagerForChainRun] \u001b[38;5;241m=\u001b[39m \u001b[38;5;28;01mNone\u001b[39;00m,\n\u001b[1;32m   1095\u001b[0m ) \u001b[38;5;241m-\u001b[39m\u001b[38;5;241m>\u001b[39m Union[AgentFinish, List[Tuple[AgentAction, \u001b[38;5;28mstr\u001b[39m]]]:\n\u001b[1;32m   1096\u001b[0m     \u001b[38;5;28;01mreturn\u001b[39;00m \u001b[38;5;28mself\u001b[39m\u001b[38;5;241m.\u001b[39m_consume_next_step(\n\u001b[0;32m-> 1097\u001b[0m         [\n\u001b[1;32m   1098\u001b[0m             a\n\u001b[1;32m   1099\u001b[0m             \u001b[38;5;28;01mfor\u001b[39;00m a \u001b[38;5;129;01min\u001b[39;00m \u001b[38;5;28mself\u001b[39m\u001b[38;5;241m.\u001b[39m_iter_next_step(\n\u001b[1;32m   1100\u001b[0m                 name_to_tool_map,\n\u001b[1;32m   1101\u001b[0m                 color_mapping,\n\u001b[1;32m   1102\u001b[0m                 inputs,\n\u001b[1;32m   1103\u001b[0m                 intermediate_steps,\n\u001b[1;32m   1104\u001b[0m                 run_manager,\n\u001b[1;32m   1105\u001b[0m             )\n\u001b[1;32m   1106\u001b[0m         ]\n\u001b[1;32m   1107\u001b[0m     )\n",
      "File \u001b[0;32m~/.cache/pypoetry/virtualenvs/unterricht-python-backend-9Hag_kgR-py3.10/lib/python3.10/site-packages/langchain/agents/agent.py:1097\u001b[0m, in \u001b[0;36m<listcomp>\u001b[0;34m(.0)\u001b[0m\n\u001b[1;32m   1088\u001b[0m \u001b[38;5;28;01mdef\u001b[39;00m \u001b[38;5;21m_take_next_step\u001b[39m(\n\u001b[1;32m   1089\u001b[0m     \u001b[38;5;28mself\u001b[39m,\n\u001b[1;32m   1090\u001b[0m     name_to_tool_map: Dict[\u001b[38;5;28mstr\u001b[39m, BaseTool],\n\u001b[0;32m   (...)\u001b[0m\n\u001b[1;32m   1094\u001b[0m     run_manager: Optional[CallbackManagerForChainRun] \u001b[38;5;241m=\u001b[39m \u001b[38;5;28;01mNone\u001b[39;00m,\n\u001b[1;32m   1095\u001b[0m ) \u001b[38;5;241m-\u001b[39m\u001b[38;5;241m>\u001b[39m Union[AgentFinish, List[Tuple[AgentAction, \u001b[38;5;28mstr\u001b[39m]]]:\n\u001b[1;32m   1096\u001b[0m     \u001b[38;5;28;01mreturn\u001b[39;00m \u001b[38;5;28mself\u001b[39m\u001b[38;5;241m.\u001b[39m_consume_next_step(\n\u001b[0;32m-> 1097\u001b[0m         [\n\u001b[1;32m   1098\u001b[0m             a\n\u001b[1;32m   1099\u001b[0m             \u001b[38;5;28;01mfor\u001b[39;00m a \u001b[38;5;129;01min\u001b[39;00m \u001b[38;5;28mself\u001b[39m\u001b[38;5;241m.\u001b[39m_iter_next_step(\n\u001b[1;32m   1100\u001b[0m                 name_to_tool_map,\n\u001b[1;32m   1101\u001b[0m                 color_mapping,\n\u001b[1;32m   1102\u001b[0m                 inputs,\n\u001b[1;32m   1103\u001b[0m                 intermediate_steps,\n\u001b[1;32m   1104\u001b[0m                 run_manager,\n\u001b[1;32m   1105\u001b[0m             )\n\u001b[1;32m   1106\u001b[0m         ]\n\u001b[1;32m   1107\u001b[0m     )\n",
      "File \u001b[0;32m~/.cache/pypoetry/virtualenvs/unterricht-python-backend-9Hag_kgR-py3.10/lib/python3.10/site-packages/langchain/agents/agent.py:1125\u001b[0m, in \u001b[0;36mAgentExecutor._iter_next_step\u001b[0;34m(self, name_to_tool_map, color_mapping, inputs, intermediate_steps, run_manager)\u001b[0m\n\u001b[1;32m   1122\u001b[0m     intermediate_steps \u001b[38;5;241m=\u001b[39m \u001b[38;5;28mself\u001b[39m\u001b[38;5;241m.\u001b[39m_prepare_intermediate_steps(intermediate_steps)\n\u001b[1;32m   1124\u001b[0m     \u001b[38;5;66;03m# Call the LLM to see what to do.\u001b[39;00m\n\u001b[0;32m-> 1125\u001b[0m     output \u001b[38;5;241m=\u001b[39m \u001b[38;5;28;43mself\u001b[39;49m\u001b[38;5;241;43m.\u001b[39;49m\u001b[43magent\u001b[49m\u001b[38;5;241;43m.\u001b[39;49m\u001b[43mplan\u001b[49m\u001b[43m(\u001b[49m\n\u001b[1;32m   1126\u001b[0m \u001b[43m        \u001b[49m\u001b[43mintermediate_steps\u001b[49m\u001b[43m,\u001b[49m\n\u001b[1;32m   1127\u001b[0m \u001b[43m        \u001b[49m\u001b[43mcallbacks\u001b[49m\u001b[38;5;241;43m=\u001b[39;49m\u001b[43mrun_manager\u001b[49m\u001b[38;5;241;43m.\u001b[39;49m\u001b[43mget_child\u001b[49m\u001b[43m(\u001b[49m\u001b[43m)\u001b[49m\u001b[43m \u001b[49m\u001b[38;5;28;43;01mif\u001b[39;49;00m\u001b[43m \u001b[49m\u001b[43mrun_manager\u001b[49m\u001b[43m \u001b[49m\u001b[38;5;28;43;01melse\u001b[39;49;00m\u001b[43m \u001b[49m\u001b[38;5;28;43;01mNone\u001b[39;49;00m\u001b[43m,\u001b[49m\n\u001b[1;32m   1128\u001b[0m \u001b[43m        \u001b[49m\u001b[38;5;241;43m*\u001b[39;49m\u001b[38;5;241;43m*\u001b[39;49m\u001b[43minputs\u001b[49m\u001b[43m,\u001b[49m\n\u001b[1;32m   1129\u001b[0m \u001b[43m    \u001b[49m\u001b[43m)\u001b[49m\n\u001b[1;32m   1130\u001b[0m \u001b[38;5;28;01mexcept\u001b[39;00m OutputParserException \u001b[38;5;28;01mas\u001b[39;00m e:\n\u001b[1;32m   1131\u001b[0m     \u001b[38;5;28;01mif\u001b[39;00m \u001b[38;5;28misinstance\u001b[39m(\u001b[38;5;28mself\u001b[39m\u001b[38;5;241m.\u001b[39mhandle_parsing_errors, \u001b[38;5;28mbool\u001b[39m):\n",
      "File \u001b[0;32m~/.cache/pypoetry/virtualenvs/unterricht-python-backend-9Hag_kgR-py3.10/lib/python3.10/site-packages/langchain/agents/agent.py:387\u001b[0m, in \u001b[0;36mRunnableAgent.plan\u001b[0;34m(self, intermediate_steps, callbacks, **kwargs)\u001b[0m\n\u001b[1;32m    381\u001b[0m \u001b[38;5;66;03m# Use streaming to make sure that the underlying LLM is invoked in a streaming\u001b[39;00m\n\u001b[1;32m    382\u001b[0m \u001b[38;5;66;03m# fashion to make it possible to get access to the individual LLM tokens\u001b[39;00m\n\u001b[1;32m    383\u001b[0m \u001b[38;5;66;03m# when using stream_log with the Agent Executor.\u001b[39;00m\n\u001b[1;32m    384\u001b[0m \u001b[38;5;66;03m# Because the response from the plan is not a generator, we need to\u001b[39;00m\n\u001b[1;32m    385\u001b[0m \u001b[38;5;66;03m# accumulate the output into final output and return that.\u001b[39;00m\n\u001b[1;32m    386\u001b[0m final_output: Any \u001b[38;5;241m=\u001b[39m \u001b[38;5;28;01mNone\u001b[39;00m\n\u001b[0;32m--> 387\u001b[0m \u001b[38;5;28;01mfor\u001b[39;00m chunk \u001b[38;5;129;01min\u001b[39;00m \u001b[38;5;28mself\u001b[39m\u001b[38;5;241m.\u001b[39mrunnable\u001b[38;5;241m.\u001b[39mstream(inputs, config\u001b[38;5;241m=\u001b[39m{\u001b[38;5;124m\"\u001b[39m\u001b[38;5;124mcallbacks\u001b[39m\u001b[38;5;124m\"\u001b[39m: callbacks}):\n\u001b[1;32m    388\u001b[0m     \u001b[38;5;28;01mif\u001b[39;00m final_output \u001b[38;5;129;01mis\u001b[39;00m \u001b[38;5;28;01mNone\u001b[39;00m:\n\u001b[1;32m    389\u001b[0m         final_output \u001b[38;5;241m=\u001b[39m chunk\n",
      "File \u001b[0;32m~/.cache/pypoetry/virtualenvs/unterricht-python-backend-9Hag_kgR-py3.10/lib/python3.10/site-packages/langchain_core/runnables/base.py:2424\u001b[0m, in \u001b[0;36mRunnableSequence.stream\u001b[0;34m(self, input, config, **kwargs)\u001b[0m\n\u001b[1;32m   2418\u001b[0m \u001b[38;5;28;01mdef\u001b[39;00m \u001b[38;5;21mstream\u001b[39m(\n\u001b[1;32m   2419\u001b[0m     \u001b[38;5;28mself\u001b[39m,\n\u001b[1;32m   2420\u001b[0m     \u001b[38;5;28minput\u001b[39m: Input,\n\u001b[1;32m   2421\u001b[0m     config: Optional[RunnableConfig] \u001b[38;5;241m=\u001b[39m \u001b[38;5;28;01mNone\u001b[39;00m,\n\u001b[1;32m   2422\u001b[0m     \u001b[38;5;241m*\u001b[39m\u001b[38;5;241m*\u001b[39mkwargs: Optional[Any],\n\u001b[1;32m   2423\u001b[0m ) \u001b[38;5;241m-\u001b[39m\u001b[38;5;241m>\u001b[39m Iterator[Output]:\n\u001b[0;32m-> 2424\u001b[0m     \u001b[38;5;28;01myield from\u001b[39;00m \u001b[38;5;28mself\u001b[39m\u001b[38;5;241m.\u001b[39mtransform(\u001b[38;5;28miter\u001b[39m([\u001b[38;5;28minput\u001b[39m]), config, \u001b[38;5;241m*\u001b[39m\u001b[38;5;241m*\u001b[39mkwargs)\n",
      "File \u001b[0;32m~/.cache/pypoetry/virtualenvs/unterricht-python-backend-9Hag_kgR-py3.10/lib/python3.10/site-packages/langchain_core/runnables/base.py:2411\u001b[0m, in \u001b[0;36mRunnableSequence.transform\u001b[0;34m(self, input, config, **kwargs)\u001b[0m\n\u001b[1;32m   2405\u001b[0m \u001b[38;5;28;01mdef\u001b[39;00m \u001b[38;5;21mtransform\u001b[39m(\n\u001b[1;32m   2406\u001b[0m     \u001b[38;5;28mself\u001b[39m,\n\u001b[1;32m   2407\u001b[0m     \u001b[38;5;28minput\u001b[39m: Iterator[Input],\n\u001b[1;32m   2408\u001b[0m     config: Optional[RunnableConfig] \u001b[38;5;241m=\u001b[39m \u001b[38;5;28;01mNone\u001b[39;00m,\n\u001b[1;32m   2409\u001b[0m     \u001b[38;5;241m*\u001b[39m\u001b[38;5;241m*\u001b[39mkwargs: Optional[Any],\n\u001b[1;32m   2410\u001b[0m ) \u001b[38;5;241m-\u001b[39m\u001b[38;5;241m>\u001b[39m Iterator[Output]:\n\u001b[0;32m-> 2411\u001b[0m     \u001b[38;5;28;01myield from\u001b[39;00m \u001b[38;5;28mself\u001b[39m\u001b[38;5;241m.\u001b[39m_transform_stream_with_config(\n\u001b[1;32m   2412\u001b[0m         \u001b[38;5;28minput\u001b[39m,\n\u001b[1;32m   2413\u001b[0m         \u001b[38;5;28mself\u001b[39m\u001b[38;5;241m.\u001b[39m_transform,\n\u001b[1;32m   2414\u001b[0m         patch_config(config, run_name\u001b[38;5;241m=\u001b[39m(config \u001b[38;5;129;01mor\u001b[39;00m {})\u001b[38;5;241m.\u001b[39mget(\u001b[38;5;124m\"\u001b[39m\u001b[38;5;124mrun_name\u001b[39m\u001b[38;5;124m\"\u001b[39m) \u001b[38;5;129;01mor\u001b[39;00m \u001b[38;5;28mself\u001b[39m\u001b[38;5;241m.\u001b[39mname),\n\u001b[1;32m   2415\u001b[0m         \u001b[38;5;241m*\u001b[39m\u001b[38;5;241m*\u001b[39mkwargs,\n\u001b[1;32m   2416\u001b[0m     )\n",
      "File \u001b[0;32m~/.cache/pypoetry/virtualenvs/unterricht-python-backend-9Hag_kgR-py3.10/lib/python3.10/site-packages/langchain_core/runnables/base.py:1497\u001b[0m, in \u001b[0;36mRunnable._transform_stream_with_config\u001b[0;34m(self, input, transformer, config, run_type, **kwargs)\u001b[0m\n\u001b[1;32m   1495\u001b[0m \u001b[38;5;28;01mtry\u001b[39;00m:\n\u001b[1;32m   1496\u001b[0m     \u001b[38;5;28;01mwhile\u001b[39;00m \u001b[38;5;28;01mTrue\u001b[39;00m:\n\u001b[0;32m-> 1497\u001b[0m         chunk: Output \u001b[38;5;241m=\u001b[39m \u001b[43mcontext\u001b[49m\u001b[38;5;241;43m.\u001b[39;49m\u001b[43mrun\u001b[49m\u001b[43m(\u001b[49m\u001b[38;5;28;43mnext\u001b[39;49m\u001b[43m,\u001b[49m\u001b[43m \u001b[49m\u001b[43miterator\u001b[49m\u001b[43m)\u001b[49m  \u001b[38;5;66;03m# type: ignore\u001b[39;00m\n\u001b[1;32m   1498\u001b[0m         \u001b[38;5;28;01myield\u001b[39;00m chunk\n\u001b[1;32m   1499\u001b[0m         \u001b[38;5;28;01mif\u001b[39;00m final_output_supported:\n",
      "File \u001b[0;32m~/.cache/pypoetry/virtualenvs/unterricht-python-backend-9Hag_kgR-py3.10/lib/python3.10/site-packages/langchain_core/runnables/base.py:2375\u001b[0m, in \u001b[0;36mRunnableSequence._transform\u001b[0;34m(self, input, run_manager, config)\u001b[0m\n\u001b[1;32m   2366\u001b[0m \u001b[38;5;28;01mfor\u001b[39;00m step \u001b[38;5;129;01min\u001b[39;00m steps:\n\u001b[1;32m   2367\u001b[0m     final_pipeline \u001b[38;5;241m=\u001b[39m step\u001b[38;5;241m.\u001b[39mtransform(\n\u001b[1;32m   2368\u001b[0m         final_pipeline,\n\u001b[1;32m   2369\u001b[0m         patch_config(\n\u001b[0;32m   (...)\u001b[0m\n\u001b[1;32m   2372\u001b[0m         ),\n\u001b[1;32m   2373\u001b[0m     )\n\u001b[0;32m-> 2375\u001b[0m \u001b[38;5;28;01mfor\u001b[39;00m output \u001b[38;5;129;01min\u001b[39;00m final_pipeline:\n\u001b[1;32m   2376\u001b[0m     \u001b[38;5;28;01myield\u001b[39;00m output\n",
      "File \u001b[0;32m~/.cache/pypoetry/virtualenvs/unterricht-python-backend-9Hag_kgR-py3.10/lib/python3.10/site-packages/langchain_core/runnables/base.py:1035\u001b[0m, in \u001b[0;36mRunnable.transform\u001b[0;34m(self, input, config, **kwargs)\u001b[0m\n\u001b[1;32m   1032\u001b[0m final: Input\n\u001b[1;32m   1033\u001b[0m got_first_val \u001b[38;5;241m=\u001b[39m \u001b[38;5;28;01mFalse\u001b[39;00m\n\u001b[0;32m-> 1035\u001b[0m \u001b[38;5;28;01mfor\u001b[39;00m chunk \u001b[38;5;129;01min\u001b[39;00m \u001b[38;5;28minput\u001b[39m:\n\u001b[1;32m   1036\u001b[0m     \u001b[38;5;28;01mif\u001b[39;00m \u001b[38;5;129;01mnot\u001b[39;00m got_first_val:\n\u001b[1;32m   1037\u001b[0m         final \u001b[38;5;241m=\u001b[39m chunk\n",
      "File \u001b[0;32m~/.cache/pypoetry/virtualenvs/unterricht-python-backend-9Hag_kgR-py3.10/lib/python3.10/site-packages/langchain_core/runnables/base.py:4145\u001b[0m, in \u001b[0;36mRunnableBindingBase.transform\u001b[0;34m(self, input, config, **kwargs)\u001b[0m\n\u001b[1;32m   4139\u001b[0m \u001b[38;5;28;01mdef\u001b[39;00m \u001b[38;5;21mtransform\u001b[39m(\n\u001b[1;32m   4140\u001b[0m     \u001b[38;5;28mself\u001b[39m,\n\u001b[1;32m   4141\u001b[0m     \u001b[38;5;28minput\u001b[39m: Iterator[Input],\n\u001b[1;32m   4142\u001b[0m     config: Optional[RunnableConfig] \u001b[38;5;241m=\u001b[39m \u001b[38;5;28;01mNone\u001b[39;00m,\n\u001b[1;32m   4143\u001b[0m     \u001b[38;5;241m*\u001b[39m\u001b[38;5;241m*\u001b[39mkwargs: Any,\n\u001b[1;32m   4144\u001b[0m ) \u001b[38;5;241m-\u001b[39m\u001b[38;5;241m>\u001b[39m Iterator[Output]:\n\u001b[0;32m-> 4145\u001b[0m     \u001b[38;5;28;01myield from\u001b[39;00m \u001b[38;5;28mself\u001b[39m\u001b[38;5;241m.\u001b[39mbound\u001b[38;5;241m.\u001b[39mtransform(\n\u001b[1;32m   4146\u001b[0m         \u001b[38;5;28minput\u001b[39m,\n\u001b[1;32m   4147\u001b[0m         \u001b[38;5;28mself\u001b[39m\u001b[38;5;241m.\u001b[39m_merge_configs(config),\n\u001b[1;32m   4148\u001b[0m         \u001b[38;5;241m*\u001b[39m\u001b[38;5;241m*\u001b[39m{\u001b[38;5;241m*\u001b[39m\u001b[38;5;241m*\u001b[39m\u001b[38;5;28mself\u001b[39m\u001b[38;5;241m.\u001b[39mkwargs, \u001b[38;5;241m*\u001b[39m\u001b[38;5;241m*\u001b[39mkwargs},\n\u001b[1;32m   4149\u001b[0m     )\n",
      "File \u001b[0;32m~/.cache/pypoetry/virtualenvs/unterricht-python-backend-9Hag_kgR-py3.10/lib/python3.10/site-packages/langchain_core/runnables/base.py:1035\u001b[0m, in \u001b[0;36mRunnable.transform\u001b[0;34m(self, input, config, **kwargs)\u001b[0m\n\u001b[1;32m   1032\u001b[0m final: Input\n\u001b[1;32m   1033\u001b[0m got_first_val \u001b[38;5;241m=\u001b[39m \u001b[38;5;28;01mFalse\u001b[39;00m\n\u001b[0;32m-> 1035\u001b[0m \u001b[38;5;28;01mfor\u001b[39;00m chunk \u001b[38;5;129;01min\u001b[39;00m \u001b[38;5;28minput\u001b[39m:\n\u001b[1;32m   1036\u001b[0m     \u001b[38;5;28;01mif\u001b[39;00m \u001b[38;5;129;01mnot\u001b[39;00m got_first_val:\n\u001b[1;32m   1037\u001b[0m         final \u001b[38;5;241m=\u001b[39m chunk\n",
      "File \u001b[0;32m~/.cache/pypoetry/virtualenvs/unterricht-python-backend-9Hag_kgR-py3.10/lib/python3.10/site-packages/langchain_core/runnables/base.py:1045\u001b[0m, in \u001b[0;36mRunnable.transform\u001b[0;34m(self, input, config, **kwargs)\u001b[0m\n\u001b[1;32m   1042\u001b[0m         final \u001b[38;5;241m=\u001b[39m final \u001b[38;5;241m+\u001b[39m chunk  \u001b[38;5;66;03m# type: ignore[operator]\u001b[39;00m\n\u001b[1;32m   1044\u001b[0m \u001b[38;5;28;01mif\u001b[39;00m got_first_val:\n\u001b[0;32m-> 1045\u001b[0m     \u001b[38;5;28;01myield from\u001b[39;00m \u001b[38;5;28mself\u001b[39m\u001b[38;5;241m.\u001b[39mstream(final, config, \u001b[38;5;241m*\u001b[39m\u001b[38;5;241m*\u001b[39mkwargs)\n",
      "File \u001b[0;32m~/.cache/pypoetry/virtualenvs/unterricht-python-backend-9Hag_kgR-py3.10/lib/python3.10/site-packages/langchain_core/runnables/base.py:580\u001b[0m, in \u001b[0;36mRunnable.stream\u001b[0;34m(self, input, config, **kwargs)\u001b[0m\n\u001b[1;32m    570\u001b[0m \u001b[38;5;28;01mdef\u001b[39;00m \u001b[38;5;21mstream\u001b[39m(\n\u001b[1;32m    571\u001b[0m     \u001b[38;5;28mself\u001b[39m,\n\u001b[1;32m    572\u001b[0m     \u001b[38;5;28minput\u001b[39m: Input,\n\u001b[1;32m    573\u001b[0m     config: Optional[RunnableConfig] \u001b[38;5;241m=\u001b[39m \u001b[38;5;28;01mNone\u001b[39;00m,\n\u001b[1;32m    574\u001b[0m     \u001b[38;5;241m*\u001b[39m\u001b[38;5;241m*\u001b[39mkwargs: Optional[Any],\n\u001b[1;32m    575\u001b[0m ) \u001b[38;5;241m-\u001b[39m\u001b[38;5;241m>\u001b[39m Iterator[Output]:\n\u001b[1;32m    576\u001b[0m \u001b[38;5;250m    \u001b[39m\u001b[38;5;124;03m\"\"\"\u001b[39;00m\n\u001b[1;32m    577\u001b[0m \u001b[38;5;124;03m    Default implementation of stream, which calls invoke.\u001b[39;00m\n\u001b[1;32m    578\u001b[0m \u001b[38;5;124;03m    Subclasses should override this method if they support streaming output.\u001b[39;00m\n\u001b[1;32m    579\u001b[0m \u001b[38;5;124;03m    \"\"\"\u001b[39;00m\n\u001b[0;32m--> 580\u001b[0m     \u001b[38;5;28;01myield\u001b[39;00m \u001b[38;5;28;43mself\u001b[39;49m\u001b[38;5;241;43m.\u001b[39;49m\u001b[43minvoke\u001b[49m\u001b[43m(\u001b[49m\u001b[38;5;28;43minput\u001b[39;49m\u001b[43m,\u001b[49m\u001b[43m \u001b[49m\u001b[43mconfig\u001b[49m\u001b[43m,\u001b[49m\u001b[43m \u001b[49m\u001b[38;5;241;43m*\u001b[39;49m\u001b[38;5;241;43m*\u001b[39;49m\u001b[43mkwargs\u001b[49m\u001b[43m)\u001b[49m\n",
      "File \u001b[0;32m~/.cache/pypoetry/virtualenvs/unterricht-python-backend-9Hag_kgR-py3.10/lib/python3.10/site-packages/langchain_core/prompts/base.py:100\u001b[0m, in \u001b[0;36mBasePromptTemplate.invoke\u001b[0;34m(self, input, config)\u001b[0m\n\u001b[1;32m     97\u001b[0m \u001b[38;5;28;01mdef\u001b[39;00m \u001b[38;5;21minvoke\u001b[39m(\n\u001b[1;32m     98\u001b[0m     \u001b[38;5;28mself\u001b[39m, \u001b[38;5;28minput\u001b[39m: Dict, config: Optional[RunnableConfig] \u001b[38;5;241m=\u001b[39m \u001b[38;5;28;01mNone\u001b[39;00m\n\u001b[1;32m     99\u001b[0m ) \u001b[38;5;241m-\u001b[39m\u001b[38;5;241m>\u001b[39m PromptValue:\n\u001b[0;32m--> 100\u001b[0m     \u001b[38;5;28;01mreturn\u001b[39;00m \u001b[38;5;28;43mself\u001b[39;49m\u001b[38;5;241;43m.\u001b[39;49m\u001b[43m_call_with_config\u001b[49m\u001b[43m(\u001b[49m\n\u001b[1;32m    101\u001b[0m \u001b[43m        \u001b[49m\u001b[38;5;28;43mself\u001b[39;49m\u001b[38;5;241;43m.\u001b[39;49m\u001b[43m_format_prompt_with_error_handling\u001b[49m\u001b[43m,\u001b[49m\n\u001b[1;32m    102\u001b[0m \u001b[43m        \u001b[49m\u001b[38;5;28;43minput\u001b[39;49m\u001b[43m,\u001b[49m\n\u001b[1;32m    103\u001b[0m \u001b[43m        \u001b[49m\u001b[43mconfig\u001b[49m\u001b[43m,\u001b[49m\n\u001b[1;32m    104\u001b[0m \u001b[43m        \u001b[49m\u001b[43mrun_type\u001b[49m\u001b[38;5;241;43m=\u001b[39;49m\u001b[38;5;124;43m\"\u001b[39;49m\u001b[38;5;124;43mprompt\u001b[39;49m\u001b[38;5;124;43m\"\u001b[39;49m\u001b[43m,\u001b[49m\n\u001b[1;32m    105\u001b[0m \u001b[43m    \u001b[49m\u001b[43m)\u001b[49m\n",
      "File \u001b[0;32m~/.cache/pypoetry/virtualenvs/unterricht-python-backend-9Hag_kgR-py3.10/lib/python3.10/site-packages/langchain_core/runnables/base.py:1246\u001b[0m, in \u001b[0;36mRunnable._call_with_config\u001b[0;34m(self, func, input, config, run_type, **kwargs)\u001b[0m\n\u001b[1;32m   1242\u001b[0m     context \u001b[38;5;241m=\u001b[39m copy_context()\n\u001b[1;32m   1243\u001b[0m     context\u001b[38;5;241m.\u001b[39mrun(var_child_runnable_config\u001b[38;5;241m.\u001b[39mset, child_config)\n\u001b[1;32m   1244\u001b[0m     output \u001b[38;5;241m=\u001b[39m cast(\n\u001b[1;32m   1245\u001b[0m         Output,\n\u001b[0;32m-> 1246\u001b[0m         \u001b[43mcontext\u001b[49m\u001b[38;5;241;43m.\u001b[39;49m\u001b[43mrun\u001b[49m\u001b[43m(\u001b[49m\n\u001b[1;32m   1247\u001b[0m \u001b[43m            \u001b[49m\u001b[43mcall_func_with_variable_args\u001b[49m\u001b[43m,\u001b[49m\n\u001b[1;32m   1248\u001b[0m \u001b[43m            \u001b[49m\u001b[43mfunc\u001b[49m\u001b[43m,\u001b[49m\u001b[43m  \u001b[49m\u001b[38;5;66;43;03m# type: ignore[arg-type]\u001b[39;49;00m\n\u001b[1;32m   1249\u001b[0m \u001b[43m            \u001b[49m\u001b[38;5;28;43minput\u001b[39;49m\u001b[43m,\u001b[49m\u001b[43m  \u001b[49m\u001b[38;5;66;43;03m# type: ignore[arg-type]\u001b[39;49;00m\n\u001b[1;32m   1250\u001b[0m \u001b[43m            \u001b[49m\u001b[43mconfig\u001b[49m\u001b[43m,\u001b[49m\n\u001b[1;32m   1251\u001b[0m \u001b[43m            \u001b[49m\u001b[43mrun_manager\u001b[49m\u001b[43m,\u001b[49m\n\u001b[1;32m   1252\u001b[0m \u001b[43m            \u001b[49m\u001b[38;5;241;43m*\u001b[39;49m\u001b[38;5;241;43m*\u001b[39;49m\u001b[43mkwargs\u001b[49m\u001b[43m,\u001b[49m\n\u001b[1;32m   1253\u001b[0m \u001b[43m        \u001b[49m\u001b[43m)\u001b[49m,\n\u001b[1;32m   1254\u001b[0m     )\n\u001b[1;32m   1255\u001b[0m \u001b[38;5;28;01mexcept\u001b[39;00m \u001b[38;5;167;01mBaseException\u001b[39;00m \u001b[38;5;28;01mas\u001b[39;00m e:\n\u001b[1;32m   1256\u001b[0m     run_manager\u001b[38;5;241m.\u001b[39mon_chain_error(e)\n",
      "File \u001b[0;32m~/.cache/pypoetry/virtualenvs/unterricht-python-backend-9Hag_kgR-py3.10/lib/python3.10/site-packages/langchain_core/runnables/config.py:326\u001b[0m, in \u001b[0;36mcall_func_with_variable_args\u001b[0;34m(func, input, config, run_manager, **kwargs)\u001b[0m\n\u001b[1;32m    324\u001b[0m \u001b[38;5;28;01mif\u001b[39;00m run_manager \u001b[38;5;129;01mis\u001b[39;00m \u001b[38;5;129;01mnot\u001b[39;00m \u001b[38;5;28;01mNone\u001b[39;00m \u001b[38;5;129;01mand\u001b[39;00m accepts_run_manager(func):\n\u001b[1;32m    325\u001b[0m     kwargs[\u001b[38;5;124m\"\u001b[39m\u001b[38;5;124mrun_manager\u001b[39m\u001b[38;5;124m\"\u001b[39m] \u001b[38;5;241m=\u001b[39m run_manager\n\u001b[0;32m--> 326\u001b[0m \u001b[38;5;28;01mreturn\u001b[39;00m \u001b[43mfunc\u001b[49m\u001b[43m(\u001b[49m\u001b[38;5;28;43minput\u001b[39;49m\u001b[43m,\u001b[49m\u001b[43m \u001b[49m\u001b[38;5;241;43m*\u001b[39;49m\u001b[38;5;241;43m*\u001b[39;49m\u001b[43mkwargs\u001b[49m\u001b[43m)\u001b[49m\n",
      "File \u001b[0;32m~/.cache/pypoetry/virtualenvs/unterricht-python-backend-9Hag_kgR-py3.10/lib/python3.10/site-packages/langchain_core/prompts/base.py:95\u001b[0m, in \u001b[0;36mBasePromptTemplate._format_prompt_with_error_handling\u001b[0;34m(self, inner_input)\u001b[0m\n\u001b[1;32m     89\u001b[0m \u001b[38;5;28;01mif\u001b[39;00m missing:\n\u001b[1;32m     90\u001b[0m     \u001b[38;5;28;01mraise\u001b[39;00m \u001b[38;5;167;01mKeyError\u001b[39;00m(\n\u001b[1;32m     91\u001b[0m         \u001b[38;5;124mf\u001b[39m\u001b[38;5;124m\"\u001b[39m\u001b[38;5;124mInput to \u001b[39m\u001b[38;5;132;01m{\u001b[39;00m\u001b[38;5;28mself\u001b[39m\u001b[38;5;241m.\u001b[39m\u001b[38;5;18m__class__\u001b[39m\u001b[38;5;241m.\u001b[39m\u001b[38;5;18m__name__\u001b[39m\u001b[38;5;132;01m}\u001b[39;00m\u001b[38;5;124m is missing variables \u001b[39m\u001b[38;5;132;01m{\u001b[39;00mmissing\u001b[38;5;132;01m}\u001b[39;00m\u001b[38;5;124m. \u001b[39m\u001b[38;5;124m\"\u001b[39m\n\u001b[1;32m     92\u001b[0m         \u001b[38;5;124mf\u001b[39m\u001b[38;5;124m\"\u001b[39m\u001b[38;5;124m Expected: \u001b[39m\u001b[38;5;132;01m{\u001b[39;00m\u001b[38;5;28mself\u001b[39m\u001b[38;5;241m.\u001b[39minput_variables\u001b[38;5;132;01m}\u001b[39;00m\u001b[38;5;124m\"\u001b[39m\n\u001b[1;32m     93\u001b[0m         \u001b[38;5;124mf\u001b[39m\u001b[38;5;124m\"\u001b[39m\u001b[38;5;124m Received: \u001b[39m\u001b[38;5;132;01m{\u001b[39;00m\u001b[38;5;28mlist\u001b[39m(inner_input\u001b[38;5;241m.\u001b[39mkeys())\u001b[38;5;132;01m}\u001b[39;00m\u001b[38;5;124m\"\u001b[39m\n\u001b[1;32m     94\u001b[0m     )\n\u001b[0;32m---> 95\u001b[0m \u001b[38;5;28;01mreturn\u001b[39;00m \u001b[38;5;28;43mself\u001b[39;49m\u001b[38;5;241;43m.\u001b[39;49m\u001b[43mformat_prompt\u001b[49m\u001b[43m(\u001b[49m\u001b[38;5;241;43m*\u001b[39;49m\u001b[38;5;241;43m*\u001b[39;49m\u001b[43minner_input\u001b[49m\u001b[43m)\u001b[49m\n",
      "File \u001b[0;32m~/.cache/pypoetry/virtualenvs/unterricht-python-backend-9Hag_kgR-py3.10/lib/python3.10/site-packages/langchain_core/prompts/chat.py:533\u001b[0m, in \u001b[0;36mBaseChatPromptTemplate.format_prompt\u001b[0;34m(self, **kwargs)\u001b[0m\n\u001b[1;32m    524\u001b[0m \u001b[38;5;28;01mdef\u001b[39;00m \u001b[38;5;21mformat_prompt\u001b[39m(\u001b[38;5;28mself\u001b[39m, \u001b[38;5;241m*\u001b[39m\u001b[38;5;241m*\u001b[39mkwargs: Any) \u001b[38;5;241m-\u001b[39m\u001b[38;5;241m>\u001b[39m PromptValue:\n\u001b[1;32m    525\u001b[0m \u001b[38;5;250m    \u001b[39m\u001b[38;5;124;03m\"\"\"\u001b[39;00m\n\u001b[1;32m    526\u001b[0m \u001b[38;5;124;03m    Format prompt. Should return a PromptValue.\u001b[39;00m\n\u001b[1;32m    527\u001b[0m \u001b[38;5;124;03m    Args:\u001b[39;00m\n\u001b[0;32m   (...)\u001b[0m\n\u001b[1;32m    531\u001b[0m \u001b[38;5;124;03m        PromptValue.\u001b[39;00m\n\u001b[1;32m    532\u001b[0m \u001b[38;5;124;03m    \"\"\"\u001b[39;00m\n\u001b[0;32m--> 533\u001b[0m     messages \u001b[38;5;241m=\u001b[39m \u001b[38;5;28;43mself\u001b[39;49m\u001b[38;5;241;43m.\u001b[39;49m\u001b[43mformat_messages\u001b[49m\u001b[43m(\u001b[49m\u001b[38;5;241;43m*\u001b[39;49m\u001b[38;5;241;43m*\u001b[39;49m\u001b[43mkwargs\u001b[49m\u001b[43m)\u001b[49m\n\u001b[1;32m    534\u001b[0m     \u001b[38;5;28;01mreturn\u001b[39;00m ChatPromptValue(messages\u001b[38;5;241m=\u001b[39mmessages)\n",
      "File \u001b[0;32m~/.cache/pypoetry/virtualenvs/unterricht-python-backend-9Hag_kgR-py3.10/lib/python3.10/site-packages/langchain_core/prompts/chat.py:788\u001b[0m, in \u001b[0;36mChatPromptTemplate.format_messages\u001b[0;34m(self, **kwargs)\u001b[0m\n\u001b[1;32m    784\u001b[0m     result\u001b[38;5;241m.\u001b[39mextend([message_template])\n\u001b[1;32m    785\u001b[0m \u001b[38;5;28;01melif\u001b[39;00m \u001b[38;5;28misinstance\u001b[39m(\n\u001b[1;32m    786\u001b[0m     message_template, (BaseMessagePromptTemplate, BaseChatPromptTemplate)\n\u001b[1;32m    787\u001b[0m ):\n\u001b[0;32m--> 788\u001b[0m     message \u001b[38;5;241m=\u001b[39m \u001b[43mmessage_template\u001b[49m\u001b[38;5;241;43m.\u001b[39;49m\u001b[43mformat_messages\u001b[49m\u001b[43m(\u001b[49m\u001b[38;5;241;43m*\u001b[39;49m\u001b[38;5;241;43m*\u001b[39;49m\u001b[43mkwargs\u001b[49m\u001b[43m)\u001b[49m\n\u001b[1;32m    789\u001b[0m     result\u001b[38;5;241m.\u001b[39mextend(message)\n\u001b[1;32m    790\u001b[0m \u001b[38;5;28;01melse\u001b[39;00m:\n",
      "File \u001b[0;32m~/.cache/pypoetry/virtualenvs/unterricht-python-backend-9Hag_kgR-py3.10/lib/python3.10/site-packages/langchain_core/prompts/chat.py:427\u001b[0m, in \u001b[0;36m_StringImageMessagePromptTemplate.format_messages\u001b[0;34m(self, **kwargs)\u001b[0m\n\u001b[1;32m    418\u001b[0m \u001b[38;5;28;01mdef\u001b[39;00m \u001b[38;5;21mformat_messages\u001b[39m(\u001b[38;5;28mself\u001b[39m, \u001b[38;5;241m*\u001b[39m\u001b[38;5;241m*\u001b[39mkwargs: Any) \u001b[38;5;241m-\u001b[39m\u001b[38;5;241m>\u001b[39m List[BaseMessage]:\n\u001b[1;32m    419\u001b[0m \u001b[38;5;250m    \u001b[39m\u001b[38;5;124;03m\"\"\"Format messages from kwargs.\u001b[39;00m\n\u001b[1;32m    420\u001b[0m \n\u001b[1;32m    421\u001b[0m \u001b[38;5;124;03m    Args:\u001b[39;00m\n\u001b[0;32m   (...)\u001b[0m\n\u001b[1;32m    425\u001b[0m \u001b[38;5;124;03m        List of BaseMessages.\u001b[39;00m\n\u001b[1;32m    426\u001b[0m \u001b[38;5;124;03m    \"\"\"\u001b[39;00m\n\u001b[0;32m--> 427\u001b[0m     \u001b[38;5;28;01mreturn\u001b[39;00m [\u001b[38;5;28;43mself\u001b[39;49m\u001b[38;5;241;43m.\u001b[39;49m\u001b[43mformat\u001b[49m\u001b[43m(\u001b[49m\u001b[38;5;241;43m*\u001b[39;49m\u001b[38;5;241;43m*\u001b[39;49m\u001b[43mkwargs\u001b[49m\u001b[43m)\u001b[49m]\n",
      "File \u001b[0;32m~/.cache/pypoetry/virtualenvs/unterricht-python-backend-9Hag_kgR-py3.10/lib/python3.10/site-packages/langchain_core/prompts/chat.py:451\u001b[0m, in \u001b[0;36m_StringImageMessagePromptTemplate.format\u001b[0;34m(self, **kwargs)\u001b[0m\n\u001b[1;32m    442\u001b[0m \u001b[38;5;250m\u001b[39m\u001b[38;5;124;03m\"\"\"Format the prompt template.\u001b[39;00m\n\u001b[1;32m    443\u001b[0m \n\u001b[1;32m    444\u001b[0m \u001b[38;5;124;03mArgs:\u001b[39;00m\n\u001b[0;32m   (...)\u001b[0m\n\u001b[1;32m    448\u001b[0m \u001b[38;5;124;03m    Formatted message.\u001b[39;00m\n\u001b[1;32m    449\u001b[0m \u001b[38;5;124;03m\"\"\"\u001b[39;00m\n\u001b[1;32m    450\u001b[0m \u001b[38;5;28;01mif\u001b[39;00m \u001b[38;5;28misinstance\u001b[39m(\u001b[38;5;28mself\u001b[39m\u001b[38;5;241m.\u001b[39mprompt, StringPromptTemplate):\n\u001b[0;32m--> 451\u001b[0m     text \u001b[38;5;241m=\u001b[39m \u001b[38;5;28;43mself\u001b[39;49m\u001b[38;5;241;43m.\u001b[39;49m\u001b[43mprompt\u001b[49m\u001b[38;5;241;43m.\u001b[39;49m\u001b[43mformat\u001b[49m\u001b[43m(\u001b[49m\u001b[38;5;241;43m*\u001b[39;49m\u001b[38;5;241;43m*\u001b[39;49m\u001b[43mkwargs\u001b[49m\u001b[43m)\u001b[49m\n\u001b[1;32m    452\u001b[0m     \u001b[38;5;28;01mreturn\u001b[39;00m \u001b[38;5;28mself\u001b[39m\u001b[38;5;241m.\u001b[39m_msg_class(\n\u001b[1;32m    453\u001b[0m         content\u001b[38;5;241m=\u001b[39mtext, additional_kwargs\u001b[38;5;241m=\u001b[39m\u001b[38;5;28mself\u001b[39m\u001b[38;5;241m.\u001b[39madditional_kwargs\n\u001b[1;32m    454\u001b[0m     )\n\u001b[1;32m    455\u001b[0m \u001b[38;5;28;01melse\u001b[39;00m:\n",
      "File \u001b[0;32m~/.cache/pypoetry/virtualenvs/unterricht-python-backend-9Hag_kgR-py3.10/lib/python3.10/site-packages/langchain_core/prompts/prompt.py:132\u001b[0m, in \u001b[0;36mPromptTemplate.format\u001b[0;34m(self, **kwargs)\u001b[0m\n\u001b[1;32m    117\u001b[0m \u001b[38;5;250m\u001b[39m\u001b[38;5;124;03m\"\"\"Format the prompt with the inputs.\u001b[39;00m\n\u001b[1;32m    118\u001b[0m \n\u001b[1;32m    119\u001b[0m \u001b[38;5;124;03mArgs:\u001b[39;00m\n\u001b[0;32m   (...)\u001b[0m\n\u001b[1;32m    129\u001b[0m \u001b[38;5;124;03m        prompt.format(variable1=\"foo\")\u001b[39;00m\n\u001b[1;32m    130\u001b[0m \u001b[38;5;124;03m\"\"\"\u001b[39;00m\n\u001b[1;32m    131\u001b[0m kwargs \u001b[38;5;241m=\u001b[39m \u001b[38;5;28mself\u001b[39m\u001b[38;5;241m.\u001b[39m_merge_partial_and_user_variables(\u001b[38;5;241m*\u001b[39m\u001b[38;5;241m*\u001b[39mkwargs)\n\u001b[0;32m--> 132\u001b[0m \u001b[38;5;28;01mreturn\u001b[39;00m \u001b[43mDEFAULT_FORMATTER_MAPPING\u001b[49m\u001b[43m[\u001b[49m\u001b[38;5;28;43mself\u001b[39;49m\u001b[38;5;241;43m.\u001b[39;49m\u001b[43mtemplate_format\u001b[49m\u001b[43m]\u001b[49m\u001b[43m(\u001b[49m\u001b[38;5;28;43mself\u001b[39;49m\u001b[38;5;241;43m.\u001b[39;49m\u001b[43mtemplate\u001b[49m\u001b[43m,\u001b[49m\u001b[43m \u001b[49m\u001b[38;5;241;43m*\u001b[39;49m\u001b[38;5;241;43m*\u001b[39;49m\u001b[43mkwargs\u001b[49m\u001b[43m)\u001b[49m\n",
      "File \u001b[0;32m~/.pyenv/versions/3.10.13/lib/python3.10/string.py:161\u001b[0m, in \u001b[0;36mFormatter.format\u001b[0;34m(self, format_string, *args, **kwargs)\u001b[0m\n\u001b[1;32m    160\u001b[0m \u001b[38;5;28;01mdef\u001b[39;00m \u001b[38;5;21mformat\u001b[39m(\u001b[38;5;28mself\u001b[39m, format_string, \u001b[38;5;241m/\u001b[39m, \u001b[38;5;241m*\u001b[39margs, \u001b[38;5;241m*\u001b[39m\u001b[38;5;241m*\u001b[39mkwargs):\n\u001b[0;32m--> 161\u001b[0m     \u001b[38;5;28;01mreturn\u001b[39;00m \u001b[38;5;28;43mself\u001b[39;49m\u001b[38;5;241;43m.\u001b[39;49m\u001b[43mvformat\u001b[49m\u001b[43m(\u001b[49m\u001b[43mformat_string\u001b[49m\u001b[43m,\u001b[49m\u001b[43m \u001b[49m\u001b[43margs\u001b[49m\u001b[43m,\u001b[49m\u001b[43m \u001b[49m\u001b[43mkwargs\u001b[49m\u001b[43m)\u001b[49m\n",
      "File \u001b[0;32m~/.cache/pypoetry/virtualenvs/unterricht-python-backend-9Hag_kgR-py3.10/lib/python3.10/site-packages/langchain_core/utils/formatting.py:18\u001b[0m, in \u001b[0;36mStrictFormatter.vformat\u001b[0;34m(self, format_string, args, kwargs)\u001b[0m\n\u001b[1;32m     13\u001b[0m \u001b[38;5;28;01mif\u001b[39;00m \u001b[38;5;28mlen\u001b[39m(args) \u001b[38;5;241m>\u001b[39m \u001b[38;5;241m0\u001b[39m:\n\u001b[1;32m     14\u001b[0m     \u001b[38;5;28;01mraise\u001b[39;00m \u001b[38;5;167;01mValueError\u001b[39;00m(\n\u001b[1;32m     15\u001b[0m         \u001b[38;5;124m\"\u001b[39m\u001b[38;5;124mNo arguments should be provided, \u001b[39m\u001b[38;5;124m\"\u001b[39m\n\u001b[1;32m     16\u001b[0m         \u001b[38;5;124m\"\u001b[39m\u001b[38;5;124meverything should be passed as keyword arguments.\u001b[39m\u001b[38;5;124m\"\u001b[39m\n\u001b[1;32m     17\u001b[0m     )\n\u001b[0;32m---> 18\u001b[0m \u001b[38;5;28;01mreturn\u001b[39;00m \u001b[38;5;28;43msuper\u001b[39;49m\u001b[43m(\u001b[49m\u001b[43m)\u001b[49m\u001b[38;5;241;43m.\u001b[39;49m\u001b[43mvformat\u001b[49m\u001b[43m(\u001b[49m\u001b[43mformat_string\u001b[49m\u001b[43m,\u001b[49m\u001b[43m \u001b[49m\u001b[43margs\u001b[49m\u001b[43m,\u001b[49m\u001b[43m \u001b[49m\u001b[43mkwargs\u001b[49m\u001b[43m)\u001b[49m\n",
      "File \u001b[0;32m~/.pyenv/versions/3.10.13/lib/python3.10/string.py:165\u001b[0m, in \u001b[0;36mFormatter.vformat\u001b[0;34m(self, format_string, args, kwargs)\u001b[0m\n\u001b[1;32m    163\u001b[0m \u001b[38;5;28;01mdef\u001b[39;00m \u001b[38;5;21mvformat\u001b[39m(\u001b[38;5;28mself\u001b[39m, format_string, args, kwargs):\n\u001b[1;32m    164\u001b[0m     used_args \u001b[38;5;241m=\u001b[39m \u001b[38;5;28mset\u001b[39m()\n\u001b[0;32m--> 165\u001b[0m     result, _ \u001b[38;5;241m=\u001b[39m \u001b[38;5;28;43mself\u001b[39;49m\u001b[38;5;241;43m.\u001b[39;49m\u001b[43m_vformat\u001b[49m\u001b[43m(\u001b[49m\u001b[43mformat_string\u001b[49m\u001b[43m,\u001b[49m\u001b[43m \u001b[49m\u001b[43margs\u001b[49m\u001b[43m,\u001b[49m\u001b[43m \u001b[49m\u001b[43mkwargs\u001b[49m\u001b[43m,\u001b[49m\u001b[43m \u001b[49m\u001b[43mused_args\u001b[49m\u001b[43m,\u001b[49m\u001b[43m \u001b[49m\u001b[38;5;241;43m2\u001b[39;49m\u001b[43m)\u001b[49m\n\u001b[1;32m    166\u001b[0m     \u001b[38;5;28mself\u001b[39m\u001b[38;5;241m.\u001b[39mcheck_unused_args(used_args, args, kwargs)\n\u001b[1;32m    167\u001b[0m     \u001b[38;5;28;01mreturn\u001b[39;00m result\n",
      "File \u001b[0;32m~/.pyenv/versions/3.10.13/lib/python3.10/string.py:205\u001b[0m, in \u001b[0;36mFormatter._vformat\u001b[0;34m(self, format_string, args, kwargs, used_args, recursion_depth, auto_arg_index)\u001b[0m\n\u001b[1;32m    201\u001b[0m     auto_arg_index \u001b[38;5;241m=\u001b[39m \u001b[38;5;28;01mFalse\u001b[39;00m\n\u001b[1;32m    203\u001b[0m \u001b[38;5;66;03m# given the field_name, find the object it references\u001b[39;00m\n\u001b[1;32m    204\u001b[0m \u001b[38;5;66;03m#  and the argument it came from\u001b[39;00m\n\u001b[0;32m--> 205\u001b[0m obj, arg_used \u001b[38;5;241m=\u001b[39m \u001b[38;5;28;43mself\u001b[39;49m\u001b[38;5;241;43m.\u001b[39;49m\u001b[43mget_field\u001b[49m\u001b[43m(\u001b[49m\u001b[43mfield_name\u001b[49m\u001b[43m,\u001b[49m\u001b[43m \u001b[49m\u001b[43margs\u001b[49m\u001b[43m,\u001b[49m\u001b[43m \u001b[49m\u001b[43mkwargs\u001b[49m\u001b[43m)\u001b[49m\n\u001b[1;32m    206\u001b[0m used_args\u001b[38;5;241m.\u001b[39madd(arg_used)\n\u001b[1;32m    208\u001b[0m \u001b[38;5;66;03m# do any conversion on the resulting object\u001b[39;00m\n",
      "File \u001b[0;32m~/.pyenv/versions/3.10.13/lib/python3.10/string.py:270\u001b[0m, in \u001b[0;36mFormatter.get_field\u001b[0;34m(self, field_name, args, kwargs)\u001b[0m\n\u001b[1;32m    267\u001b[0m \u001b[38;5;28;01mdef\u001b[39;00m \u001b[38;5;21mget_field\u001b[39m(\u001b[38;5;28mself\u001b[39m, field_name, args, kwargs):\n\u001b[1;32m    268\u001b[0m     first, rest \u001b[38;5;241m=\u001b[39m _string\u001b[38;5;241m.\u001b[39mformatter_field_name_split(field_name)\n\u001b[0;32m--> 270\u001b[0m     obj \u001b[38;5;241m=\u001b[39m \u001b[38;5;28;43mself\u001b[39;49m\u001b[38;5;241;43m.\u001b[39;49m\u001b[43mget_value\u001b[49m\u001b[43m(\u001b[49m\u001b[43mfirst\u001b[49m\u001b[43m,\u001b[49m\u001b[43m \u001b[49m\u001b[43margs\u001b[49m\u001b[43m,\u001b[49m\u001b[43m \u001b[49m\u001b[43mkwargs\u001b[49m\u001b[43m)\u001b[49m\n\u001b[1;32m    272\u001b[0m     \u001b[38;5;66;03m# loop through the rest of the field_name, doing\u001b[39;00m\n\u001b[1;32m    273\u001b[0m     \u001b[38;5;66;03m#  getattr or getitem as needed\u001b[39;00m\n\u001b[1;32m    274\u001b[0m     \u001b[38;5;28;01mfor\u001b[39;00m is_attr, i \u001b[38;5;129;01min\u001b[39;00m rest:\n",
      "File \u001b[0;32m~/.pyenv/versions/3.10.13/lib/python3.10/string.py:227\u001b[0m, in \u001b[0;36mFormatter.get_value\u001b[0;34m(self, key, args, kwargs)\u001b[0m\n\u001b[1;32m    225\u001b[0m     \u001b[38;5;28;01mreturn\u001b[39;00m args[key]\n\u001b[1;32m    226\u001b[0m \u001b[38;5;28;01melse\u001b[39;00m:\n\u001b[0;32m--> 227\u001b[0m     \u001b[38;5;28;01mreturn\u001b[39;00m \u001b[43mkwargs\u001b[49m\u001b[43m[\u001b[49m\u001b[43mkey\u001b[49m\u001b[43m]\u001b[49m\n",
      "\u001b[0;31mKeyError\u001b[0m: \"'page'\""
     ]
    }
   ],
   "source": [
    "response = agent_executor.invoke({\"input\": task})"
   ]
  },
  {
   "cell_type": "code",
   "execution_count": null,
   "metadata": {},
   "outputs": [
    {
     "name": "stdout",
     "output_type": "stream",
     "text": [
      "<class 'langchain_core.documents.base.Document'>\n"
     ]
    }
   ],
   "source": [
    "print(type(retrieved_context[0]))"
   ]
  },
  {
   "cell_type": "code",
   "execution_count": null,
   "metadata": {},
   "outputs": [],
   "source": [
    "context_dict = [doc.dict() for doc in retrieved_context]"
   ]
  },
  {
   "cell_type": "code",
   "execution_count": null,
   "metadata": {},
   "outputs": [
    {
     "data": {
      "text/plain": [
       "1"
      ]
     },
     "execution_count": 28,
     "metadata": {},
     "output_type": "execute_result"
    }
   ],
   "source": [
    "len(context_dict)"
   ]
  },
  {
   "cell_type": "code",
   "execution_count": null,
   "metadata": {},
   "outputs": [],
   "source": [
    "response[\"context\"] = context_dict"
   ]
  },
  {
   "cell_type": "code",
   "execution_count": null,
   "metadata": {},
   "outputs": [
    {
     "data": {
      "text/plain": [
       "dict"
      ]
     },
     "execution_count": 30,
     "metadata": {},
     "output_type": "execute_result"
    }
   ],
   "source": [
    "type(response)"
   ]
  },
  {
   "cell_type": "code",
   "execution_count": null,
   "metadata": {},
   "outputs": [
    {
     "data": {
      "text/plain": [
       "{'input': 'Du bist ein Assistent für Lehrkräfte und deine Aufgabe ist Unterricht strukturiert, fachlich korrekt, und detailliert vorzubereiten. \\nSchlüsselbegriffe helfen dir bei der Lösung der Aufgabe die richtigen Themen zu wählen.\\n\\nSchlüsselbegriffe:\\n------------------\\n[\\'shakespeare\\', \\'poetry\\', \\'analysis\\']\\n------------------\\n\\nDie Lehrkraft stellt dir Kontext zur Lösung der Aufgabe in deiner Bibliothek zur Verfügung. \\nHier ist ein kurzer Ausschnitt aus dem Kontext in deiner Bibliothek:\\n\\nAusschnitt aus dem Kontext:\\n---------\\n[Document(page_content=\\'ENTWURF RICHTLINIEN 02.08.2023    \\\\n 15 , Erfahrungs- und Lebensraum. Eine kind- und jugendgerechte Ganztagsbildung er-\\\\nmöglicht die Einbindung zusätzlicher Lernangebote und orientiert sich an den Bedürf-\\\\nnissen der Kinder und Jugendlichen. Ganztagsangebote werden mit vielfältigen Part-\\\\nnern umgesetzt. Zentrale Merkmale des Ganztags sind u.a. Konzepte zur Förderung \\\\nbesonderer Interessen und Bedarfe der Schülerinnen und Schüler, zusätzliche Zu-\\\\ngänge zum Lernen, Angebote z.B. aus den Bereichen Sport, Kultur, Berufsorientierung \\\\nund Gesundheit sowie Freiräume für Selbstbildungsprozesse und selbstbestimmte Ak-\\\\ntivitäten.  \\\\nZu den Zielen ganztägiger Bildung trägt ebenso die Organisationsform fakultativer Ar-\\\\nbeitsgemeinschaften bei. Diese sind in Ausrichtung und Zielsetzung nicht gebunden \\\\nan curriculare Vorgaben und konstituieren sich aus den Neigungen, Interessen und \\\\nBedarfen von Schülerinnen und Schülern sowie aus Impulsen der Lehrkräfte und wei-\\\\nteren pädagogischen Personals.  \\\\nGanztagsschulen halten ganzheitliche Angebote vor, auch für Schülerinnen und Schü-\\\\nler mit sonderpädagogischem Unterstützungsbedarf. Ganztägige Bildung nutzt vielfäl-\\\\ntige und alternative Zugänge und Formate, die auch klassen- beziehungsweise jahr-\\\\ngangstufenübergreifend organisiert werden können.  \\\\n \\\\nMit Fokus auf die Gestaltung des Übergangs Schule-Beruf und die Berufliche Orien-\\\\ntierung, stellen Praxisphasen einen verpflichtenden Baustein schulischer Bildung dar, \\\\nder Schülerinnen und Schülern eine adäquate Möglichkeit bietet, um Berufe und Ar-\\\\nbeitswelt kennenzulernen sowie individuelle Interessen und Zukunftsvorstellungen zu \\\\nsondieren. Praxisphasen als Teil schulischer Ausbildung ist schulprogrammatisch ver-\\\\nankert, es wird in der Vor- und Nachbereitung sowie in der Durchführung von Lehrkräf-\\\\nten angemessen begleitet.  \\\\n \\\\n3.3 Leistung erfassen und bewerten  \\\\nDie Grundlagen der Leistungsbewertung sind im Schulgesetz und in den Ausbildungs- \\\\nund Prüfungsordnungen der jeweiligen Schulformen beziehungsweise -stufen veran-\\\\nkert. Weiterhin folgt die Leistungsbewertung den Maßgaben dieser Richtlinie sowie der \\\\nLehr- und Kernlehrpläne und dem erteilten Unterricht. \\\\nKompetenzorientierter Unterricht gliedert sich in Lehr-, Lern- und Überprüfungspha-\\\\nsen. Neben Unterrichtsphasen des Lernens, Übens und Vertiefens stehen Phasen der \\\\nmündlichen, schriftlichen und praktischen Leistungserfassung. Damit ist die Überprü-\\\\nfung des Grades des Kompetenzerwerbs und des Wissensstands gemeint. Hierüber \\\\nlassen sich Rückschlüsse ziehen auf den fachcurricular zu erzielenden Lernerfolg der \\\\nSchülerinnen und Schüler einerseits und über die Lernwirksamkeit des Unterrichts an-\\\\ndererseits. Lehrkräften dienen die Ergebnisse von Leistungsüberprüfungen als Grund-\\\\nlage für weitere Förderangebote und Schullaufbahnberatungen. \\\\nSchule nimmt nicht nur messbares Wissen und Können in den Blick, sondern auch die \\\\nSelbst-, Personal- und Sozialkompetenzen. Durch die Einordnung und Bewertung der\\', metadata={\\'page\\': 14, \\'source\\': \\'user_2e4ace06-270b-429b-9726-f937261ed293_Entwurf_RiLi_VerbBtlg_2023_08_18.pdf\\'})]\\n---------\\n\\nDie Antwort soll in jedem Fall eine inhaltliche und zeitliche Struktur für den Unterricht beinhalten.\\nDie Gesamtlänge des Unterrichts soll insgesamt 45 Minuten betragen.\\nDie Antwort darf keine Wiederholungen enthalten!\\n\\nAufgabe: \\nPlane eine Unterrichtsstunde im Fach English zum Thema Shakespeare für eine 13. Klasse in Bayern für den Schultyp English.\\n\\nSchritt 1: Finde aktuelle Informationen zu den Schlüsselbegriffen!\\nSchritt 2: (Optional) Suche mehr Kontext\\nSchritt 3: Formatiere deine Antwort in der folgenden json-Struktur:\\n______________________________\\n\\n{\\n    \"learn_goals\": \"xyz\",\\n    \"table_data\": [\\n        {\"title\": \"abc\", \"duration\": \"10min\", \"content\": \"blabla\"},\\n        {...},\\n        {...}\\n    ]\\n}\\n______________________________\\n\\nLos geht\\'s!\\n\\n',\n",
       " 'output': '\\n{\\n    \"learn_goals\": \"Die Schüler sollen verstehen, wie William Shakespeare die Natur der menschlichen Liebe in seinen Gedichten untersucht und analysiert.\",\\n    \"table_data\": [\\n        {\\n            \"title\": \"Einführung in William Shakespeare\",\\n            \"duration\": \"10min\",\\n            \"content\": \"Vorstellung von William Shakespeare und seiner Bedeutung als Dichter und Dramatiker. Kurzer Überblick über sein Leben und seine Werke.\"\\n        },\\n        {\\n            \"title\": \"Analyse von Sonett 18\",\\n            \"duration\": \"10min\",\\n            \"content\": \"Gemeinsame Analyse des Gedichts \\'Sonett 18\\' von William Shakespeare. Betonung der poetischen Schönheit, philosophischen Tiefe und emotionalen Resonanz.\"\\n        },\\n        {\\n            \"title\": \"Analyse von Sonett 24\",\\n            \"duration\": \"10min\",\\n            \"content\": \"Gemeinsame Analyse des Gedichts \\'Sonett 24\\' von William Shakespeare. Fokus auf die Untersuchung der Natur der menschlichen Liebe und der Ausdruckskraft von Poesie.\"\\n        },\\n        {\\n            \"title\": \"Diskussion über Shakespeares Gedichte\",\\n            \"duration\": \"10min\",\\n            \"content\": \"Offene Diskussion über die Themen, die in Shakespeares Gedichten behandelt werden, und deren Relevanz für die heutige Zeit. Betonung der kreativen Ausdrucksformen in der Poesie.\"\\n        },\\n        {\\n            \"title\": \"Abschluss und Feedback\",\\n            \"duration\": \"5min\",\\n            \"content\": \"Zusammenfassung der wichtigsten Erkenntnisse und Feedbackrunde, um das Verständnis der Schüler zu überprüfen und offene Fragen zu klären.\"\\n        }\\n    ]\\n}',\n",
       " 'context': [{'page_content': 'ENTWURF RICHTLINIEN 02.08.2023    \\n 15 , Erfahrungs- und Lebensraum. Eine kind- und jugendgerechte Ganztagsbildung er-\\nmöglicht die Einbindung zusätzlicher Lernangebote und orientiert sich an den Bedürf-\\nnissen der Kinder und Jugendlichen. Ganztagsangebote werden mit vielfältigen Part-\\nnern umgesetzt. Zentrale Merkmale des Ganztags sind u.a. Konzepte zur Förderung \\nbesonderer Interessen und Bedarfe der Schülerinnen und Schüler, zusätzliche Zu-\\ngänge zum Lernen, Angebote z.B. aus den Bereichen Sport, Kultur, Berufsorientierung \\nund Gesundheit sowie Freiräume für Selbstbildungsprozesse und selbstbestimmte Ak-\\ntivitäten.  \\nZu den Zielen ganztägiger Bildung trägt ebenso die Organisationsform fakultativer Ar-\\nbeitsgemeinschaften bei. Diese sind in Ausrichtung und Zielsetzung nicht gebunden \\nan curriculare Vorgaben und konstituieren sich aus den Neigungen, Interessen und \\nBedarfen von Schülerinnen und Schülern sowie aus Impulsen der Lehrkräfte und wei-\\nteren pädagogischen Personals.  \\nGanztagsschulen halten ganzheitliche Angebote vor, auch für Schülerinnen und Schü-\\nler mit sonderpädagogischem Unterstützungsbedarf. Ganztägige Bildung nutzt vielfäl-\\ntige und alternative Zugänge und Formate, die auch klassen- beziehungsweise jahr-\\ngangstufenübergreifend organisiert werden können.  \\n \\nMit Fokus auf die Gestaltung des Übergangs Schule-Beruf und die Berufliche Orien-\\ntierung, stellen Praxisphasen einen verpflichtenden Baustein schulischer Bildung dar, \\nder Schülerinnen und Schülern eine adäquate Möglichkeit bietet, um Berufe und Ar-\\nbeitswelt kennenzulernen sowie individuelle Interessen und Zukunftsvorstellungen zu \\nsondieren. Praxisphasen als Teil schulischer Ausbildung ist schulprogrammatisch ver-\\nankert, es wird in der Vor- und Nachbereitung sowie in der Durchführung von Lehrkräf-\\nten angemessen begleitet.  \\n \\n3.3 Leistung erfassen und bewerten  \\nDie Grundlagen der Leistungsbewertung sind im Schulgesetz und in den Ausbildungs- \\nund Prüfungsordnungen der jeweiligen Schulformen beziehungsweise -stufen veran-\\nkert. Weiterhin folgt die Leistungsbewertung den Maßgaben dieser Richtlinie sowie der \\nLehr- und Kernlehrpläne und dem erteilten Unterricht. \\nKompetenzorientierter Unterricht gliedert sich in Lehr-, Lern- und Überprüfungspha-\\nsen. Neben Unterrichtsphasen des Lernens, Übens und Vertiefens stehen Phasen der \\nmündlichen, schriftlichen und praktischen Leistungserfassung. Damit ist die Überprü-\\nfung des Grades des Kompetenzerwerbs und des Wissensstands gemeint. Hierüber \\nlassen sich Rückschlüsse ziehen auf den fachcurricular zu erzielenden Lernerfolg der \\nSchülerinnen und Schüler einerseits und über die Lernwirksamkeit des Unterrichts an-\\ndererseits. Lehrkräften dienen die Ergebnisse von Leistungsüberprüfungen als Grund-\\nlage für weitere Förderangebote und Schullaufbahnberatungen. \\nSchule nimmt nicht nur messbares Wissen und Können in den Blick, sondern auch die \\nSelbst-, Personal- und Sozialkompetenzen. Durch die Einordnung und Bewertung der',\n",
       "   'metadata': {'page': 14,\n",
       "    'source': 'user_2e4ace06-270b-429b-9726-f937261ed293_Entwurf_RiLi_VerbBtlg_2023_08_18.pdf'},\n",
       "   'type': 'Document'}]}"
      ]
     },
     "execution_count": 31,
     "metadata": {},
     "output_type": "execute_result"
    }
   ],
   "source": [
    "response"
   ]
  },
  {
   "cell_type": "code",
   "execution_count": null,
   "metadata": {},
   "outputs": [],
   "source": [
    "from langchain.output_parsers.openai_tools import JsonOutputToolsParser\n"
   ]
  },
  {
   "cell_type": "code",
   "execution_count": null,
   "metadata": {},
   "outputs": [
    {
     "name": "stdout",
     "output_type": "stream",
     "text": [
      "key: <class 'str'>\n",
      "value: <class 'str'>\n",
      "key: <class 'str'>\n",
      "value: <class 'str'>\n",
      "key: <class 'str'>\n",
      "value: <class 'list'>\n"
     ]
    }
   ],
   "source": [
    "for (key, value) in response.items():\n",
    "    print(f\"key: {type(key)}\")\n",
    "    print(f\"value: {type(value)}\")"
   ]
  },
  {
   "cell_type": "code",
   "execution_count": null,
   "metadata": {},
   "outputs": [
    {
     "name": "stdout",
     "output_type": "stream",
     "text": [
      "<class 'dict'>\n"
     ]
    }
   ],
   "source": [
    "print(type(response))"
   ]
  },
  {
   "cell_type": "code",
   "execution_count": null,
   "metadata": {},
   "outputs": [],
   "source": [
    "import json\n",
    "output = json.dumps(response)"
   ]
  },
  {
   "cell_type": "code",
   "execution_count": null,
   "metadata": {},
   "outputs": [
    {
     "data": {
      "text/plain": [
       "'{\"input\": \"Du bist ein Assistent f\\\\u00fcr Lehrkr\\\\u00e4fte und deine Aufgabe ist Unterricht strukturiert, fachlich korrekt, und detailliert vorzubereiten. \\\\nSchl\\\\u00fcsselbegriffe helfen dir bei der L\\\\u00f6sung der Aufgabe die richtigen Themen zu w\\\\u00e4hlen.\\\\n\\\\nSchl\\\\u00fcsselbegriffe:\\\\n------------------\\\\n[\\'shakespeare\\', \\'poetry\\', \\'analysis\\']\\\\n------------------\\\\n\\\\nDie Lehrkraft stellt dir Kontext zur L\\\\u00f6sung der Aufgabe in deiner Bibliothek zur Verf\\\\u00fcgung. \\\\nHier ist ein kurzer Ausschnitt aus dem Kontext in deiner Bibliothek:\\\\n\\\\nAusschnitt aus dem Kontext:\\\\n---------\\\\n[Document(page_content=\\'ENTWURF RICHTLINIEN 02.08.2023    \\\\\\\\n 15 , Erfahrungs- und Lebensraum. Eine kind- und jugendgerechte Ganztagsbildung er-\\\\\\\\nm\\\\u00f6glicht die Einbindung zus\\\\u00e4tzlicher Lernangebote und orientiert sich an den Bed\\\\u00fcrf-\\\\\\\\nnissen der Kinder und Jugendlichen. Ganztagsangebote werden mit vielf\\\\u00e4ltigen Part-\\\\\\\\nnern umgesetzt. Zentrale Merkmale des Ganztags sind u.a. Konzepte zur F\\\\u00f6rderung \\\\\\\\nbesonderer Interessen und Bedarfe der Sch\\\\u00fclerinnen und Sch\\\\u00fcler, zus\\\\u00e4tzliche Zu-\\\\\\\\ng\\\\u00e4nge zum Lernen, Angebote z.B. aus den Bereichen Sport, Kultur, Berufsorientierung \\\\\\\\nund Gesundheit sowie Freir\\\\u00e4ume f\\\\u00fcr Selbstbildungsprozesse und selbstbestimmte Ak-\\\\\\\\ntivit\\\\u00e4ten.  \\\\\\\\nZu den Zielen ganzt\\\\u00e4giger Bildung tr\\\\u00e4gt ebenso die Organisationsform fakultativer Ar-\\\\\\\\nbeitsgemeinschaften bei. Diese sind in Ausrichtung und Zielsetzung nicht gebunden \\\\\\\\nan curriculare Vorgaben und konstituieren sich aus den Neigungen, Interessen und \\\\\\\\nBedarfen von Sch\\\\u00fclerinnen und Sch\\\\u00fclern sowie aus Impulsen der Lehrkr\\\\u00e4fte und wei-\\\\\\\\nteren p\\\\u00e4dagogischen Personals.  \\\\\\\\nGanztagsschulen halten ganzheitliche Angebote vor, auch f\\\\u00fcr Sch\\\\u00fclerinnen und Sch\\\\u00fc-\\\\\\\\nler mit sonderp\\\\u00e4dagogischem Unterst\\\\u00fctzungsbedarf. Ganzt\\\\u00e4gige Bildung nutzt vielf\\\\u00e4l-\\\\\\\\ntige und alternative Zug\\\\u00e4nge und Formate, die auch klassen- beziehungsweise jahr-\\\\\\\\ngangstufen\\\\u00fcbergreifend organisiert werden k\\\\u00f6nnen.  \\\\\\\\n \\\\\\\\nMit Fokus auf die Gestaltung des \\\\u00dcbergangs Schule-Beruf und die Berufliche Orien-\\\\\\\\ntierung, stellen Praxisphasen einen verpflichtenden Baustein schulischer Bildung dar, \\\\\\\\nder Sch\\\\u00fclerinnen und Sch\\\\u00fclern eine ad\\\\u00e4quate M\\\\u00f6glichkeit bietet, um Berufe und Ar-\\\\\\\\nbeitswelt kennenzulernen sowie individuelle Interessen und Zukunftsvorstellungen zu \\\\\\\\nsondieren. Praxisphasen als Teil schulischer Ausbildung ist schulprogrammatisch ver-\\\\\\\\nankert, es wird in der Vor- und Nachbereitung sowie in der Durchf\\\\u00fchrung von Lehrkr\\\\u00e4f-\\\\\\\\nten angemessen begleitet.  \\\\\\\\n \\\\\\\\n3.3 Leistung erfassen und bewerten  \\\\\\\\nDie Grundlagen der Leistungsbewertung sind im Schulgesetz und in den Ausbildungs- \\\\\\\\nund Pr\\\\u00fcfungsordnungen der jeweiligen Schulformen beziehungsweise -stufen veran-\\\\\\\\nkert. Weiterhin folgt die Leistungsbewertung den Ma\\\\u00dfgaben dieser Richtlinie sowie der \\\\\\\\nLehr- und Kernlehrpl\\\\u00e4ne und dem erteilten Unterricht. \\\\\\\\nKompetenzorientierter Unterricht gliedert sich in Lehr-, Lern- und \\\\u00dcberpr\\\\u00fcfungspha-\\\\\\\\nsen. Neben Unterrichtsphasen des Lernens, \\\\u00dcbens und Vertiefens stehen Phasen der \\\\\\\\nm\\\\u00fcndlichen, schriftlichen und praktischen Leistungserfassung. Damit ist die \\\\u00dcberpr\\\\u00fc-\\\\\\\\nfung des Grades des Kompetenzerwerbs und des Wissensstands gemeint. Hier\\\\u00fcber \\\\\\\\nlassen sich R\\\\u00fcckschl\\\\u00fcsse ziehen auf den fachcurricular zu erzielenden Lernerfolg der \\\\\\\\nSch\\\\u00fclerinnen und Sch\\\\u00fcler einerseits und \\\\u00fcber die Lernwirksamkeit des Unterrichts an-\\\\\\\\ndererseits. Lehrkr\\\\u00e4ften dienen die Ergebnisse von Leistungs\\\\u00fcberpr\\\\u00fcfungen als Grund-\\\\\\\\nlage f\\\\u00fcr weitere F\\\\u00f6rderangebote und Schullaufbahnberatungen. \\\\\\\\nSchule nimmt nicht nur messbares Wissen und K\\\\u00f6nnen in den Blick, sondern auch die \\\\\\\\nSelbst-, Personal- und Sozialkompetenzen. Durch die Einordnung und Bewertung der\\', metadata={\\'page\\': 14, \\'source\\': \\'user_2e4ace06-270b-429b-9726-f937261ed293_Entwurf_RiLi_VerbBtlg_2023_08_18.pdf\\'})]\\\\n---------\\\\n\\\\nDie Antwort soll in jedem Fall eine inhaltliche und zeitliche Struktur f\\\\u00fcr den Unterricht beinhalten.\\\\nDie Gesamtl\\\\u00e4nge des Unterrichts soll insgesamt 45 Minuten betragen.\\\\nDie Antwort darf keine Wiederholungen enthalten!\\\\n\\\\nAufgabe: \\\\nPlane eine Unterrichtsstunde im Fach English zum Thema Shakespeare f\\\\u00fcr eine 13. Klasse in Bayern f\\\\u00fcr den Schultyp English.\\\\n\\\\nSchritt 1: Finde aktuelle Informationen zu den Schl\\\\u00fcsselbegriffen!\\\\nSchritt 2: (Optional) Suche mehr Kontext\\\\nSchritt 3: Formatiere deine Antwort in der folgenden json-Struktur:\\\\n______________________________\\\\n\\\\n{\\\\n    \\\\\"learn_goals\\\\\": \\\\\"xyz\\\\\",\\\\n    \\\\\"table_data\\\\\": [\\\\n        {\\\\\"title\\\\\": \\\\\"abc\\\\\", \\\\\"duration\\\\\": \\\\\"10min\\\\\", \\\\\"content\\\\\": \\\\\"blabla\\\\\"},\\\\n        {...},\\\\n        {...}\\\\n    ]\\\\n}\\\\n______________________________\\\\n\\\\nLos geht\\'s!\\\\n\\\\n\", \"output\": \"\\\\n{\\\\n    \\\\\"learn_goals\\\\\": \\\\\"Die Sch\\\\u00fcler sollen verstehen, wie William Shakespeare die Natur der menschlichen Liebe in seinen Gedichten untersucht und analysiert.\\\\\",\\\\n    \\\\\"table_data\\\\\": [\\\\n        {\\\\n            \\\\\"title\\\\\": \\\\\"Einf\\\\u00fchrung in William Shakespeare\\\\\",\\\\n            \\\\\"duration\\\\\": \\\\\"10min\\\\\",\\\\n            \\\\\"content\\\\\": \\\\\"Vorstellung von William Shakespeare und seiner Bedeutung als Dichter und Dramatiker. Kurzer \\\\u00dcberblick \\\\u00fcber sein Leben und seine Werke.\\\\\"\\\\n        },\\\\n        {\\\\n            \\\\\"title\\\\\": \\\\\"Analyse von Sonett 18\\\\\",\\\\n            \\\\\"duration\\\\\": \\\\\"10min\\\\\",\\\\n            \\\\\"content\\\\\": \\\\\"Gemeinsame Analyse des Gedichts \\'Sonett 18\\' von William Shakespeare. Betonung der poetischen Sch\\\\u00f6nheit, philosophischen Tiefe und emotionalen Resonanz.\\\\\"\\\\n        },\\\\n        {\\\\n            \\\\\"title\\\\\": \\\\\"Analyse von Sonett 24\\\\\",\\\\n            \\\\\"duration\\\\\": \\\\\"10min\\\\\",\\\\n            \\\\\"content\\\\\": \\\\\"Gemeinsame Analyse des Gedichts \\'Sonett 24\\' von William Shakespeare. Fokus auf die Untersuchung der Natur der menschlichen Liebe und der Ausdruckskraft von Poesie.\\\\\"\\\\n        },\\\\n        {\\\\n            \\\\\"title\\\\\": \\\\\"Diskussion \\\\u00fcber Shakespeares Gedichte\\\\\",\\\\n            \\\\\"duration\\\\\": \\\\\"10min\\\\\",\\\\n            \\\\\"content\\\\\": \\\\\"Offene Diskussion \\\\u00fcber die Themen, die in Shakespeares Gedichten behandelt werden, und deren Relevanz f\\\\u00fcr die heutige Zeit. Betonung der kreativen Ausdrucksformen in der Poesie.\\\\\"\\\\n        },\\\\n        {\\\\n            \\\\\"title\\\\\": \\\\\"Abschluss und Feedback\\\\\",\\\\n            \\\\\"duration\\\\\": \\\\\"5min\\\\\",\\\\n            \\\\\"content\\\\\": \\\\\"Zusammenfassung der wichtigsten Erkenntnisse und Feedbackrunde, um das Verst\\\\u00e4ndnis der Sch\\\\u00fcler zu \\\\u00fcberpr\\\\u00fcfen und offene Fragen zu kl\\\\u00e4ren.\\\\\"\\\\n        }\\\\n    ]\\\\n}\", \"context\": [{\"page_content\": \"ENTWURF RICHTLINIEN 02.08.2023    \\\\n 15 , Erfahrungs- und Lebensraum. Eine kind- und jugendgerechte Ganztagsbildung er-\\\\nm\\\\u00f6glicht die Einbindung zus\\\\u00e4tzlicher Lernangebote und orientiert sich an den Bed\\\\u00fcrf-\\\\nnissen der Kinder und Jugendlichen. Ganztagsangebote werden mit vielf\\\\u00e4ltigen Part-\\\\nnern umgesetzt. Zentrale Merkmale des Ganztags sind u.a. Konzepte zur F\\\\u00f6rderung \\\\nbesonderer Interessen und Bedarfe der Sch\\\\u00fclerinnen und Sch\\\\u00fcler, zus\\\\u00e4tzliche Zu-\\\\ng\\\\u00e4nge zum Lernen, Angebote z.B. aus den Bereichen Sport, Kultur, Berufsorientierung \\\\nund Gesundheit sowie Freir\\\\u00e4ume f\\\\u00fcr Selbstbildungsprozesse und selbstbestimmte Ak-\\\\ntivit\\\\u00e4ten.  \\\\nZu den Zielen ganzt\\\\u00e4giger Bildung tr\\\\u00e4gt ebenso die Organisationsform fakultativer Ar-\\\\nbeitsgemeinschaften bei. Diese sind in Ausrichtung und Zielsetzung nicht gebunden \\\\nan curriculare Vorgaben und konstituieren sich aus den Neigungen, Interessen und \\\\nBedarfen von Sch\\\\u00fclerinnen und Sch\\\\u00fclern sowie aus Impulsen der Lehrkr\\\\u00e4fte und wei-\\\\nteren p\\\\u00e4dagogischen Personals.  \\\\nGanztagsschulen halten ganzheitliche Angebote vor, auch f\\\\u00fcr Sch\\\\u00fclerinnen und Sch\\\\u00fc-\\\\nler mit sonderp\\\\u00e4dagogischem Unterst\\\\u00fctzungsbedarf. Ganzt\\\\u00e4gige Bildung nutzt vielf\\\\u00e4l-\\\\ntige und alternative Zug\\\\u00e4nge und Formate, die auch klassen- beziehungsweise jahr-\\\\ngangstufen\\\\u00fcbergreifend organisiert werden k\\\\u00f6nnen.  \\\\n \\\\nMit Fokus auf die Gestaltung des \\\\u00dcbergangs Schule-Beruf und die Berufliche Orien-\\\\ntierung, stellen Praxisphasen einen verpflichtenden Baustein schulischer Bildung dar, \\\\nder Sch\\\\u00fclerinnen und Sch\\\\u00fclern eine ad\\\\u00e4quate M\\\\u00f6glichkeit bietet, um Berufe und Ar-\\\\nbeitswelt kennenzulernen sowie individuelle Interessen und Zukunftsvorstellungen zu \\\\nsondieren. Praxisphasen als Teil schulischer Ausbildung ist schulprogrammatisch ver-\\\\nankert, es wird in der Vor- und Nachbereitung sowie in der Durchf\\\\u00fchrung von Lehrkr\\\\u00e4f-\\\\nten angemessen begleitet.  \\\\n \\\\n3.3 Leistung erfassen und bewerten  \\\\nDie Grundlagen der Leistungsbewertung sind im Schulgesetz und in den Ausbildungs- \\\\nund Pr\\\\u00fcfungsordnungen der jeweiligen Schulformen beziehungsweise -stufen veran-\\\\nkert. Weiterhin folgt die Leistungsbewertung den Ma\\\\u00dfgaben dieser Richtlinie sowie der \\\\nLehr- und Kernlehrpl\\\\u00e4ne und dem erteilten Unterricht. \\\\nKompetenzorientierter Unterricht gliedert sich in Lehr-, Lern- und \\\\u00dcberpr\\\\u00fcfungspha-\\\\nsen. Neben Unterrichtsphasen des Lernens, \\\\u00dcbens und Vertiefens stehen Phasen der \\\\nm\\\\u00fcndlichen, schriftlichen und praktischen Leistungserfassung. Damit ist die \\\\u00dcberpr\\\\u00fc-\\\\nfung des Grades des Kompetenzerwerbs und des Wissensstands gemeint. Hier\\\\u00fcber \\\\nlassen sich R\\\\u00fcckschl\\\\u00fcsse ziehen auf den fachcurricular zu erzielenden Lernerfolg der \\\\nSch\\\\u00fclerinnen und Sch\\\\u00fcler einerseits und \\\\u00fcber die Lernwirksamkeit des Unterrichts an-\\\\ndererseits. Lehrkr\\\\u00e4ften dienen die Ergebnisse von Leistungs\\\\u00fcberpr\\\\u00fcfungen als Grund-\\\\nlage f\\\\u00fcr weitere F\\\\u00f6rderangebote und Schullaufbahnberatungen. \\\\nSchule nimmt nicht nur messbares Wissen und K\\\\u00f6nnen in den Blick, sondern auch die \\\\nSelbst-, Personal- und Sozialkompetenzen. Durch die Einordnung und Bewertung der\", \"metadata\": {\"page\": 14, \"source\": \"user_2e4ace06-270b-429b-9726-f937261ed293_Entwurf_RiLi_VerbBtlg_2023_08_18.pdf\"}, \"type\": \"Document\"}]}'"
      ]
     },
     "execution_count": 36,
     "metadata": {},
     "output_type": "execute_result"
    }
   ],
   "source": [
    "output"
   ]
  },
  {
   "cell_type": "code",
   "execution_count": null,
   "metadata": {},
   "outputs": [],
   "source": [
    "def download_file_from_bucket(destination: str, full_path: str, path: str):\n",
    "    full_path_list = full_path.split(\"/\")\n",
    "    bucket_name = full_path_list[0]\n",
    "    with open(destination, 'wb+') as f:\n",
    "        storage_file = supabase_client.storage.from_(bucket_name).download(path)\n",
    "        f.write(storage_file)"
   ]
  },
  {
   "cell_type": "code",
   "execution_count": null,
   "metadata": {},
   "outputs": [
    {
     "name": "stderr",
     "output_type": "stream",
     "text": [
      "2024-02-03 03:09:16,354:INFO - HTTP Request: GET https://smxwnqdpxcvclxhbvhsf.supabase.co/storage/v1/object/context_uploads/user_2e4ace06-270b-429b-9726-f937261ed293/RMH-Rechnung_12_23.pdf \"HTTP/1.1 200 OK\"\n"
     ]
    }
   ],
   "source": [
    "download_file_from_bucket(\"RMH-Rechnung_12_23.pdf\", \"context_uploads/user_2e4ace06-270b-429b-9726-f937261ed293/RMH-Rechnung_12_23.pdf\", \"user_2e4ace06-270b-429b-9726-f937261ed293/RMH-Rechnung_12_23.pdf\")"
   ]
  },
  {
   "cell_type": "code",
   "execution_count": null,
   "metadata": {},
   "outputs": [],
   "source": [
    "upload_dict = {\"path\":\"user_2e4ace06-270b-429b-9726-f937261ed293/RMH-Rechnung_12_23.pdf\",\"id\":\"c2f81078-039d-435a-b0c6-84534ac9048f\",\"fullPath\":\"context_uploads/user_2e4ace06-270b-429b-9726-f937261ed293/RMH-Rechnung_12_23.pdf\"}"
   ]
  },
  {
   "cell_type": "code",
   "execution_count": null,
   "metadata": {},
   "outputs": [],
   "source": [
    "full_path = upload_dict['fullPath']"
   ]
  },
  {
   "cell_type": "code",
   "execution_count": null,
   "metadata": {},
   "outputs": [
    {
     "data": {
      "text/plain": [
       "'context_uploads/user_2e4ace06-270b-429b-9726-f937261ed293/RMH-Rechnung_12_23.pdf'"
      ]
     },
     "execution_count": 41,
     "metadata": {},
     "output_type": "execute_result"
    }
   ],
   "source": [
    "full_path"
   ]
  },
  {
   "cell_type": "code",
   "execution_count": null,
   "metadata": {},
   "outputs": [
    {
     "data": {
      "text/plain": [
       "['context_uploads',\n",
       " 'user_2e4ace06-270b-429b-9726-f937261ed293',\n",
       " 'RMH-Rechnung_12_23.pdf']"
      ]
     },
     "execution_count": 42,
     "metadata": {},
     "output_type": "execute_result"
    }
   ],
   "source": [
    "full_path.split(\"/\")"
   ]
  },
  {
   "cell_type": "code",
   "execution_count": null,
   "metadata": {},
   "outputs": [
    {
     "name": "stderr",
     "output_type": "stream",
     "text": [
      "2024-02-03 03:09:16,777:INFO - HTTP Request: GET https://smxwnqdpxcvclxhbvhsf.supabase.co/storage/v1/object/context_uploads/user_2e4ace06-270b-429b-9726-f937261ed293/RMH-Rechnung_12_23.pdf \"HTTP/1.1 200 OK\"\n"
     ]
    },
    {
     "name": "stdout",
     "output_type": "stream",
     "text": [
      "user_2e4ace06-270b-429b-9726-f937261ed293_RMH-Rechnung_12_23.pdf\n",
      "('application/pdf', None)\n",
      "user_2e4ace06-270b-429b-9726-f937261ed293_RMH-Rechnung_12_23.pdf\n"
     ]
    },
    {
     "name": "stderr",
     "output_type": "stream",
     "text": [
      "2024-02-03 03:09:17,506:INFO - HTTP Request: POST https://api.openai.com/v1/embeddings \"HTTP/1.1 200 OK\"\n",
      "2024-02-03 03:09:17,738:INFO - HTTP Request: POST https://smxwnqdpxcvclxhbvhsf.supabase.co/rest/v1/vector_store \"HTTP/1.1 201 Created\"\n",
      "2024-02-03 03:09:17,801:INFO - HTTP Request: GET https://smxwnqdpxcvclxhbvhsf.supabase.co/rest/v1/vector_store?select=id&metadata=cs.%7B%22source%22%3A%20%22user_2e4ace06-270b-429b-9726-f937261ed293_RMH-Rechnung_12_23.pdf%22%7D \"HTTP/1.1 200 OK\"\n"
     ]
    }
   ],
   "source": [
    "import os\n",
    "import tempfile\n",
    "import mimetypes\n",
    "from flask import Flask, request, jsonify\n",
    "from werkzeug.utils import secure_filename\n",
    "\n",
    "from api.files_service import allowed_file, download_file_from_bucket, upload_text, upload_pdf, get_uploaded_ids\n",
    "from api.ai_service import getanswer\n",
    "\n",
    "\n",
    "file_path = secure_filename(\"user_2e4ace06-270b-429b-9726-f937261ed293/RMH-Rechnung_12_23.pdf\")  \n",
    "print(file_path)  \n",
    "download_file_from_bucket(file_path, \"context_uploads/user_2e4ace06-270b-429b-9726-f937261ed293/RMH-Rechnung_12_23.pdf\", \"user_2e4ace06-270b-429b-9726-f937261ed293/RMH-Rechnung_12_23.pdf\")\n",
    "print(mimetypes.guess_type(file_path))\n",
    "if mimetypes.guess_type(file_path)[0] == 'text/plain':\n",
    "    upload_text(file_path)\n",
    "elif mimetypes.guess_type(file_path)[0] == 'application/pdf':\n",
    "    print(file_path)\n",
    "    upload_pdf(file_path)\n",
    "vector_store_ids = get_uploaded_ids(file_path, interface_config.upload_table_name)\n"
   ]
  },
  {
   "cell_type": "code",
   "execution_count": null,
   "metadata": {},
   "outputs": [
    {
     "ename": "NameError",
     "evalue": "name 'null' is not defined",
     "output_type": "error",
     "traceback": [
      "\u001b[0;31m---------------------------------------------------------------------------\u001b[0m",
      "\u001b[0;31mNameError\u001b[0m                                 Traceback (most recent call last)",
      "Cell \u001b[0;32mIn[44], line 13\u001b[0m\n\u001b[1;32m      1\u001b[0m {\n\u001b[1;32m      2\u001b[0m   \u001b[38;5;124m\"\u001b[39m\u001b[38;5;124mid\u001b[39m\u001b[38;5;124m\"\u001b[39m: \u001b[38;5;124m\"\u001b[39m\u001b[38;5;124mchatcmpl-123\u001b[39m\u001b[38;5;124m\"\u001b[39m,\n\u001b[1;32m      3\u001b[0m   \u001b[38;5;124m\"\u001b[39m\u001b[38;5;124mobject\u001b[39m\u001b[38;5;124m\"\u001b[39m: \u001b[38;5;124m\"\u001b[39m\u001b[38;5;124mchat.completion\u001b[39m\u001b[38;5;124m\"\u001b[39m,\n\u001b[1;32m      4\u001b[0m   \u001b[38;5;124m\"\u001b[39m\u001b[38;5;124mcreated\u001b[39m\u001b[38;5;124m\"\u001b[39m: \u001b[38;5;241m1677652288\u001b[39m,\n\u001b[1;32m      5\u001b[0m   \u001b[38;5;124m\"\u001b[39m\u001b[38;5;124mmodel\u001b[39m\u001b[38;5;124m\"\u001b[39m: \u001b[38;5;124m\"\u001b[39m\u001b[38;5;124mgpt-3.5-turbo-0613\u001b[39m\u001b[38;5;124m\"\u001b[39m,\n\u001b[1;32m      6\u001b[0m   \u001b[38;5;124m\"\u001b[39m\u001b[38;5;124msystem_fingerprint\u001b[39m\u001b[38;5;124m\"\u001b[39m: \u001b[38;5;124m\"\u001b[39m\u001b[38;5;124mfp_44709d6fcb\u001b[39m\u001b[38;5;124m\"\u001b[39m,\n\u001b[1;32m      7\u001b[0m   \u001b[38;5;124m\"\u001b[39m\u001b[38;5;124mchoices\u001b[39m\u001b[38;5;124m\"\u001b[39m: [{\n\u001b[1;32m      8\u001b[0m     \u001b[38;5;124m\"\u001b[39m\u001b[38;5;124mindex\u001b[39m\u001b[38;5;124m\"\u001b[39m: \u001b[38;5;241m0\u001b[39m,\n\u001b[1;32m      9\u001b[0m     \u001b[38;5;124m\"\u001b[39m\u001b[38;5;124mmessage\u001b[39m\u001b[38;5;124m\"\u001b[39m: {\n\u001b[1;32m     10\u001b[0m       \u001b[38;5;124m\"\u001b[39m\u001b[38;5;124mrole\u001b[39m\u001b[38;5;124m\"\u001b[39m: \u001b[38;5;124m\"\u001b[39m\u001b[38;5;124massistant\u001b[39m\u001b[38;5;124m\"\u001b[39m,\n\u001b[1;32m     11\u001b[0m       \u001b[38;5;124m\"\u001b[39m\u001b[38;5;124mcontent\u001b[39m\u001b[38;5;124m\"\u001b[39m: \u001b[38;5;124m\"\u001b[39m\u001b[38;5;130;01m\\n\u001b[39;00m\u001b[38;5;130;01m\\n\u001b[39;00m\u001b[38;5;124mHello there, how may I assist you today?\u001b[39m\u001b[38;5;124m\"\u001b[39m,\n\u001b[1;32m     12\u001b[0m     },\n\u001b[0;32m---> 13\u001b[0m     \u001b[38;5;124m\"\u001b[39m\u001b[38;5;124mlogprobs\u001b[39m\u001b[38;5;124m\"\u001b[39m: \u001b[43mnull\u001b[49m,\n\u001b[1;32m     14\u001b[0m     \u001b[38;5;124m\"\u001b[39m\u001b[38;5;124mfinish_reason\u001b[39m\u001b[38;5;124m\"\u001b[39m: \u001b[38;5;124m\"\u001b[39m\u001b[38;5;124mstop\u001b[39m\u001b[38;5;124m\"\u001b[39m\n\u001b[1;32m     15\u001b[0m   }],\n\u001b[1;32m     16\u001b[0m   \u001b[38;5;124m\"\u001b[39m\u001b[38;5;124musage\u001b[39m\u001b[38;5;124m\"\u001b[39m: {\n\u001b[1;32m     17\u001b[0m     \u001b[38;5;124m\"\u001b[39m\u001b[38;5;124mprompt_tokens\u001b[39m\u001b[38;5;124m\"\u001b[39m: \u001b[38;5;241m9\u001b[39m,\n\u001b[1;32m     18\u001b[0m     \u001b[38;5;124m\"\u001b[39m\u001b[38;5;124mcompletion_tokens\u001b[39m\u001b[38;5;124m\"\u001b[39m: \u001b[38;5;241m12\u001b[39m,\n\u001b[1;32m     19\u001b[0m     \u001b[38;5;124m\"\u001b[39m\u001b[38;5;124mtotal_tokens\u001b[39m\u001b[38;5;124m\"\u001b[39m: \u001b[38;5;241m21\u001b[39m\n\u001b[1;32m     20\u001b[0m   }\n\u001b[1;32m     21\u001b[0m }\n",
      "\u001b[0;31mNameError\u001b[0m: name 'null' is not defined"
     ]
    }
   ],
   "source": [
    "{\n",
    "  \"id\": \"chatcmpl-123\",\n",
    "  \"object\": \"chat.completion\",\n",
    "  \"created\": 1677652288,\n",
    "  \"model\": \"gpt-3.5-turbo-0613\",\n",
    "  \"system_fingerprint\": \"fp_44709d6fcb\",\n",
    "  \"choices\": [{\n",
    "    \"index\": 0,\n",
    "    \"message\": {\n",
    "      \"role\": \"assistant\",\n",
    "      \"content\": \"\\n\\nHello there, how may I assist you today?\",\n",
    "    },\n",
    "    \"logprobs\": null,\n",
    "    \"finish_reason\": \"stop\"\n",
    "  }],\n",
    "  \"usage\": {\n",
    "    \"prompt_tokens\": 9,\n",
    "    \"completion_tokens\": 12,\n",
    "    \"total_tokens\": 21\n",
    "  }\n",
    "}\n"
   ]
  }
 ],
 "metadata": {
  "kernelspec": {
   "display_name": "unterricht-python-backend-9Hag_kgR-py3.10",
   "language": "python",
   "name": "python3"
  },
  "language_info": {
   "codemirror_mode": {
    "name": "ipython",
    "version": 3
   },
   "file_extension": ".py",
   "mimetype": "text/x-python",
   "name": "python",
   "nbconvert_exporter": "python",
   "pygments_lexer": "ipython3",
   "version": "3.10.13"
  }
 },
 "nbformat": 4,
 "nbformat_minor": 2
}
