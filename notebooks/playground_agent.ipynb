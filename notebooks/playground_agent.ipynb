{
 "cells": [
  {
   "cell_type": "code",
   "execution_count": 1,
   "metadata": {},
   "outputs": [],
   "source": [
    "from supabase.client import Client\n",
    "from typing import Dict, Any, Tuple, List\n",
    "from langchain import hub\n",
    "from langchain_openai import OpenAIEmbeddings\n",
    "from langchain.vectorstores.supabase import SupabaseVectorStore\n",
    "from langchain.agents import AgentExecutor, create_openai_functions_agent\n",
    "from langchain.tools.retriever import create_retriever_tool\n",
    "from langchain_community.tools.tavily_search import TavilySearchResults\n",
    "from langchain_openai import ChatOpenAI\n",
    "from langchain.utilities.tavily_search import TavilySearchAPIWrapper\n",
    "from langchain.tools.tavily_search import TavilySearchResults\n"
   ]
  },
  {
   "cell_type": "code",
   "execution_count": 2,
   "metadata": {},
   "outputs": [],
   "source": [
    "from utils.utils import initialize_environment_variables, initialize_subabase_client, initialize_openai_client\n",
    "from utils.utils import initialize_tavily_client\n",
    "from api.config import interface_config\n",
    "\n",
    "initialize_environment_variables(\"../.env\")\n",
    "\n",
    "# Initialize Supabase Client\n",
    "supabase_client = initialize_subabase_client()\n",
    "\n",
    "# Initialize OpenAI Client\n",
    "openai_client = initialize_openai_client()\n",
    "\n",
    "# Initialize Tavily Client\n",
    "tavily_client = initialize_tavily_client()"
   ]
  },
  {
   "cell_type": "code",
   "execution_count": 3,
   "metadata": {},
   "outputs": [],
   "source": [
    "input_dict = {\n",
    "\"school_type\": \"Gymnasium\",\n",
    "\"subject\": \"English\",\n",
    "\"topic\": \"Shakespeare\",\n",
    "\"grade\": \"13.\",\n",
    "\"state\": \"Bayern\",\n",
    "\"keywords\": [\"shakespeare\", \"poetry\", \"analysis\"], \n",
    "\"context\": [\"2147550a-800f-4fd1-9021-e5f443c97ce5\", \"98e1f41e-5985-418b-a067-aad97091ac23\", \"26392f41-80ab-4c01-a408-4faf36f06291\"]\n",
    "}"
   ]
  },
  {
   "cell_type": "markdown",
   "metadata": {},
   "source": [
    "input_dict"
   ]
  },
  {
   "cell_type": "code",
   "execution_count": 4,
   "metadata": {},
   "outputs": [],
   "source": [
    "def unpack_prompt_input(input: Dict[str, Any]) -> Tuple[str, str, str, str, List[str], List[str]]:\n",
    "    school_type = str(input.get(\"subject\"))\n",
    "    subject = str(input.get(\"subject\"))\n",
    "    topic = str(input.get(\"topic\"))\n",
    "    grade = str(input.get(\"grade\"))\n",
    "    state = str(input.get(\"state\"))\n",
    "    keywords = [str(i) for i in input.get(\"keywords\")]\n",
    "    context = [str(i) for i in input.get(\"context\")]\n",
    "    return school_type, subject, topic, grade, state, keywords, context"
   ]
  },
  {
   "cell_type": "code",
   "execution_count": 5,
   "metadata": {},
   "outputs": [],
   "source": [
    "school_type, subject, topic, grade, state, keywords, context = unpack_prompt_input(input_dict)"
   ]
  },
  {
   "cell_type": "code",
   "execution_count": 6,
   "metadata": {},
   "outputs": [],
   "source": [
    "def create_task_string(school_type, subject, topic, grade, state, keywords, context) -> str:\n",
    "    keywords = '\\n'.join(keywords)\n",
    "    return f\"\"\"Plane eine Unterrichtsstunde im Fach {subject} zum Thema {topic} für eine {grade} Klasse in {state} für den Schultyp {school_type}.\n",
    "Lege bei dieser Aufgabe einen besonderen Fokus auf die folgenden Schlüsselbegriffe:\n",
    "    \n",
    "Schlüsselbegriffe:\n",
    "------------------\n",
    "{keywords}\n",
    "------------------\"\"\""
   ]
  },
  {
   "cell_type": "code",
   "execution_count": 7,
   "metadata": {},
   "outputs": [
    {
     "name": "stdout",
     "output_type": "stream",
     "text": [
      "Plane eine Unterrichtsstunde im Fach English zum Thema Shakespeare für eine 13. Klasse in Bayern für den Schultyp English.\n",
      "Lege bei dieser Aufgabe einen besonderen Fokus auf die folgenden Schlüsselbegriffe:\n",
      "    \n",
      "Schlüsselbegriffe:\n",
      "------------------\n",
      "shakespeare\n",
      "poetry\n",
      "analysis\n",
      "------------------\n"
     ]
    }
   ],
   "source": [
    "task = create_task_string(school_type, subject, topic, grade, state, keywords, context)\n",
    "print(task)"
   ]
  },
  {
   "cell_type": "markdown",
   "metadata": {},
   "source": [
    "def get_uploaded_ids(filepath, upload_table_name):\n",
    "    data, _cnt = supabase_client.table(upload_table_name).select('id').contains('metadata', {'source':filepath}).execute()\n",
    "    return [data[1][i].get(\"id\") for i in range(len(data[1]))]"
   ]
  },
  {
   "cell_type": "markdown",
   "metadata": {},
   "source": [
    "def create_filter_list(context):\n",
    "    uploaded_ids = []\n",
    "    for doc in context:\n",
    "        if len(doc) > 0:\n",
    "            doc_uploaded_ids = get_uploaded_ids(doc, interface_config.upload_table_name)\n",
    "            if len(doc_uploaded_ids) > 0:\n",
    "                uploaded_ids += doc_uploaded_ids\n",
    "    return uploaded_ids"
   ]
  },
  {
   "cell_type": "code",
   "execution_count": 8,
   "metadata": {},
   "outputs": [],
   "source": [
    "filter_list = context"
   ]
  },
  {
   "cell_type": "code",
   "execution_count": 9,
   "metadata": {},
   "outputs": [],
   "source": [
    "def initialize_vector_store(client: Client, embedding: OpenAIEmbeddings, table_name: str, query_name: str):\n",
    "    vector_store = SupabaseVectorStore(\n",
    "        client=client,\n",
    "        embedding=embedding,\n",
    "        table_name=table_name,\n",
    "        query_name=query_name,\n",
    "    )\n",
    "    return vector_store"
   ]
  },
  {
   "cell_type": "code",
   "execution_count": 10,
   "metadata": {},
   "outputs": [],
   "source": [
    "embedding = OpenAIEmbeddings()"
   ]
  },
  {
   "cell_type": "code",
   "execution_count": 11,
   "metadata": {},
   "outputs": [],
   "source": [
    "vector_store = initialize_vector_store(supabase_client, embedding, interface_config.upload_table_name, interface_config.supabase_match_function) "
   ]
  },
  {
   "cell_type": "code",
   "execution_count": 12,
   "metadata": {},
   "outputs": [
    {
     "name": "stderr",
     "output_type": "stream",
     "text": [
      "2024-02-03 00:13:36,846:INFO - HTTP Request: POST https://api.openai.com/v1/embeddings \"HTTP/1.1 200 OK\"\n",
      "2024-02-03 00:13:36,991:INFO - HTTP Request: POST https://smxwnqdpxcvclxhbvhsf.supabase.co/rest/v1/rpc/match_documents_with_uuid_filter?limit=2 \"HTTP/1.1 200 OK\"\n"
     ]
    }
   ],
   "source": [
    "retrieved_context = vector_store.similarity_search(task,k=2,filter=filter_list)"
   ]
  },
  {
   "cell_type": "code",
   "execution_count": 13,
   "metadata": {},
   "outputs": [
    {
     "name": "stdout",
     "output_type": "stream",
     "text": [
      "<class 'langchain_core.documents.base.Document'>\n"
     ]
    }
   ],
   "source": [
    "print(type(retrieved_context[0]))"
   ]
  },
  {
   "cell_type": "code",
   "execution_count": 14,
   "metadata": {},
   "outputs": [
    {
     "data": {
      "text/plain": [
       "Document(page_content='ENTWURF RICHTLINIEN 02.08.2023    \\n 14 Neben diesen Maßnahmen zur individuellen Förderung im kompetenzorientierten Un-\\nterricht sind sonderpädagogische Förderpläne ein zentrales Element der Bildungspla-\\nnung für Schülerinnen und Schüler mit Bedarf an sonderpädagogischer Unterstützung. \\nDer Förderplan als Lern- und Entwicklungsplan konkretisiert den sonderpädagogi-\\nschen Unterstützungsbedarf zum Unterricht und macht die daraus abzuleitenden För-\\ndermaßnahmen und die Lernfortschritte für alle Beteiligten nachvollziehbar und trans-\\nparent. Hierzu kooperieren die Lehrkräfte mit allen anderen an der Förderung beteilig-\\nten Personen. Förderpläne im Kontext sonderpädagogischer Förderung sind als In-\\nstrument kontinuierlich weiterzuentwickeln und zu aktualisieren. Unabhängig von der \\nförmlichen Feststellung eines sonderpädagogischen Unterstützungsbedarfs ist ein in-\\ndividueller Förderplan immer dann zu erstellen, wenn die Bedarfe der Schülerin oder \\ndes Schülers dies erfordern. \\nSchülerinnen und Schüler erwerben im kompetenzorientierten Unterricht neben fach-\\nlichen unter anderem auch bildungssprachliche Kompetenzen. Sprachliches und fach-\\nliches Lernen sind im Unterricht untrennbar miteinander verbunden. Bildungssprache \\nunterscheidet sich von der Alltagssprache durch ein hohes Maß an konzeptioneller \\nSchriftlichkeit. Sie findet Ausdruck im mündlichen und schriftlichen Sprachgebrauch. \\nBildungssprachliche Kompetenzen werden durch eigenes sprachliches Handeln er-\\nworben und erweitert. Im Unterricht erhalten alle Schülerinnen und Schüler daher Ge-\\nlegenheiten, selbst sprachlich aktiv zu werden, längere mündliche Beiträge zu formu-\\nlieren und eigene Texte zu verfassen. Aufgabe der Lehrkraft ist es, als sprachliches \\nVorbild zu agieren und das Register Bildungssprache explizit im Unterricht zum Thema \\nzu machen.  \\nNeben vielfältigen individuellen Begabungen treffen Schülerinnen und Schüler unter-\\nschiedlicher Herkunft, verschiedener Orientierungen und Überzeugungen sowie mit \\nund ohne festgestellten Bedarf an sonderpädagogischer Unterstützung in Schule und \\nUnterricht zusammen. Aufgabe der Schule ist es, diese Vielfalt in den Lern- und Bil-\\ndungsprozessen zu berücksichtigen und sie durch eine umfassende und differenzierte \\nBildungs- und Erziehungsarbeit aller Schülerinnen und Schüler mit dem Ziel zu nutzen, \\nihnen bestmögliche Bildung und Chancengerechtigkeit zu ermöglichen. \\n  \\n3.2 Organisationsformen des Lehrens und Lernens \\nKompetenzorientierter Unterricht findet hauptsächlich in einem nach Fächern und \\nLernbereichen organisierten Unterricht statt, der zeitgemäßen Ansprüchen an Didaktik \\nund Methodik folgt. Lernmotivation stellt im kompetenzorientierten Unterricht eine we-\\nsentliche Komponente dar. Sie fördert die Bereitschaft und Fähigkeit der Schülerinnen \\nund Schüler zum Lernen.  \\n \\nGanztägige Bildungsangebote bieten mehr Zeit und Raum für Bildung, Erziehung und \\nBetreuung. Der Ganztag trägt maßgeblich zur ganzheitlichen Bildung, zur Persönlich-\\nkeitsentwicklung, zum Aufbau von Selbst- und Sozialkompetenzen sowie zur Stärkung \\nvon Fähigkeiten und Talenten bei.  \\nGanztagsschulen entwickeln sich unter Einbeziehung des schulischen Umfelds und \\naußerschulischer Partner, insbesondere der Jugendhilfe, zu einem ganztägigen Lern-', metadata={'page': 13, 'source': 'user_2e4ace06-270b-429b-9726-f937261ed293_Entwurf_RiLi_VerbBtlg_2023_08_18.pdf'})"
      ]
     },
     "execution_count": 14,
     "metadata": {},
     "output_type": "execute_result"
    }
   ],
   "source": [
    "retrieved_context[0]"
   ]
  },
  {
   "cell_type": "code",
   "execution_count": 15,
   "metadata": {},
   "outputs": [],
   "source": [
    "def create_prompt_template(retrieved_context, task) -> str:\n",
    "    return f\"\"\"Du bist ein Assistent für Lehrende und deine Aufgabe ist Unterricht nach den höchsten Standards vorzubereiten. \n",
    "Schlüsselwöter helfen dir bei der Lösung der Aufgabe den Fokus richtig zu wählen.\n",
    "Die Lehrkraft stellt dir wichtigen Kontext zur Lösung der Aufgabe in deiner Bibliothek zur Verfügung. \n",
    "Die Lösung der Aufgabe soll in jedem Fall eine inhaltliche und zeitliche Struktur - insgesamt 45 min - für den Unterricht beinhalten.\n",
    "Wenn du keine Lösung findest, sage einfach, dass du die Aufgabe nicht lösen kannst, und versuche keine Antwort zu erfinden.\n",
    "Die Lösung darf keine Wiederholungen enthalten!\n",
    "\n",
    "Hier ist ein relevanter Ausschnitt aus dem Kontext aus deiner Bibliothek:\n",
    "\n",
    "Kontext:\n",
    "---------\n",
    "{retrieved_context}\n",
    "---------\n",
    "\n",
    "Los geht's!\n",
    "\n",
    "Die Antwort soll die unten in JSON definierte Tabelle genau ein Mal befüllen. Die Anzahl der table_data Objekte soll an den Inhalt angepasst werden:\n",
    "______________________________\n",
    "\n",
    "{{\n",
    "    \"learn_goals\": \"xyz\",\n",
    "    \"table_data\": [\n",
    "        {{\"title\": \"abc\", \"duration\": \"10min\", \"content\": \"blabla\"}},\n",
    "        {{...}},\n",
    "        {{...}},\n",
    "        ...,\n",
    "    ]\n",
    "}}\n",
    "______________________________\n",
    "\n",
    "Aufgabe: {task}\"\"\"\n",
    "prompt_template = create_prompt_template(retrieved_context, task)"
   ]
  },
  {
   "cell_type": "code",
   "execution_count": 16,
   "metadata": {},
   "outputs": [
    {
     "name": "stdout",
     "output_type": "stream",
     "text": [
      "Du bist ein Assistent für Lehrende und deine Aufgabe ist Unterricht nach den höchsten Standards vorzubereiten. \n",
      "Schlüsselwöter helfen dir bei der Lösung der Aufgabe den Fokus richtig zu wählen.\n",
      "Die Lehrkraft stellt dir wichtigen Kontext zur Lösung der Aufgabe in deiner Bibliothek zur Verfügung. \n",
      "Die Lösung der Aufgabe soll in jedem Fall eine inhaltliche und zeitliche Struktur - insgesamt 45 min - für den Unterricht beinhalten.\n",
      "Wenn du keine Lösung findest, sage einfach, dass du die Aufgabe nicht lösen kannst, und versuche keine Antwort zu erfinden.\n",
      "Die Lösung darf keine Wiederholungen enthalten!\n",
      "\n",
      "Hier ist ein relevanter Ausschnitt aus dem Kontext aus deiner Bibliothek:\n",
      "\n",
      "Kontext:\n",
      "---------\n",
      "[Document(page_content='ENTWURF RICHTLINIEN 02.08.2023    \\n 14 Neben diesen Maßnahmen zur individuellen Förderung im kompetenzorientierten Un-\\nterricht sind sonderpädagogische Förderpläne ein zentrales Element der Bildungspla-\\nnung für Schülerinnen und Schüler mit Bedarf an sonderpädagogischer Unterstützung. \\nDer Förderplan als Lern- und Entwicklungsplan konkretisiert den sonderpädagogi-\\nschen Unterstützungsbedarf zum Unterricht und macht die daraus abzuleitenden För-\\ndermaßnahmen und die Lernfortschritte für alle Beteiligten nachvollziehbar und trans-\\nparent. Hierzu kooperieren die Lehrkräfte mit allen anderen an der Förderung beteilig-\\nten Personen. Förderpläne im Kontext sonderpädagogischer Förderung sind als In-\\nstrument kontinuierlich weiterzuentwickeln und zu aktualisieren. Unabhängig von der \\nförmlichen Feststellung eines sonderpädagogischen Unterstützungsbedarfs ist ein in-\\ndividueller Förderplan immer dann zu erstellen, wenn die Bedarfe der Schülerin oder \\ndes Schülers dies erfordern. \\nSchülerinnen und Schüler erwerben im kompetenzorientierten Unterricht neben fach-\\nlichen unter anderem auch bildungssprachliche Kompetenzen. Sprachliches und fach-\\nliches Lernen sind im Unterricht untrennbar miteinander verbunden. Bildungssprache \\nunterscheidet sich von der Alltagssprache durch ein hohes Maß an konzeptioneller \\nSchriftlichkeit. Sie findet Ausdruck im mündlichen und schriftlichen Sprachgebrauch. \\nBildungssprachliche Kompetenzen werden durch eigenes sprachliches Handeln er-\\nworben und erweitert. Im Unterricht erhalten alle Schülerinnen und Schüler daher Ge-\\nlegenheiten, selbst sprachlich aktiv zu werden, längere mündliche Beiträge zu formu-\\nlieren und eigene Texte zu verfassen. Aufgabe der Lehrkraft ist es, als sprachliches \\nVorbild zu agieren und das Register Bildungssprache explizit im Unterricht zum Thema \\nzu machen.  \\nNeben vielfältigen individuellen Begabungen treffen Schülerinnen und Schüler unter-\\nschiedlicher Herkunft, verschiedener Orientierungen und Überzeugungen sowie mit \\nund ohne festgestellten Bedarf an sonderpädagogischer Unterstützung in Schule und \\nUnterricht zusammen. Aufgabe der Schule ist es, diese Vielfalt in den Lern- und Bil-\\ndungsprozessen zu berücksichtigen und sie durch eine umfassende und differenzierte \\nBildungs- und Erziehungsarbeit aller Schülerinnen und Schüler mit dem Ziel zu nutzen, \\nihnen bestmögliche Bildung und Chancengerechtigkeit zu ermöglichen. \\n  \\n3.2 Organisationsformen des Lehrens und Lernens \\nKompetenzorientierter Unterricht findet hauptsächlich in einem nach Fächern und \\nLernbereichen organisierten Unterricht statt, der zeitgemäßen Ansprüchen an Didaktik \\nund Methodik folgt. Lernmotivation stellt im kompetenzorientierten Unterricht eine we-\\nsentliche Komponente dar. Sie fördert die Bereitschaft und Fähigkeit der Schülerinnen \\nund Schüler zum Lernen.  \\n \\nGanztägige Bildungsangebote bieten mehr Zeit und Raum für Bildung, Erziehung und \\nBetreuung. Der Ganztag trägt maßgeblich zur ganzheitlichen Bildung, zur Persönlich-\\nkeitsentwicklung, zum Aufbau von Selbst- und Sozialkompetenzen sowie zur Stärkung \\nvon Fähigkeiten und Talenten bei.  \\nGanztagsschulen entwickeln sich unter Einbeziehung des schulischen Umfelds und \\naußerschulischer Partner, insbesondere der Jugendhilfe, zu einem ganztägigen Lern-', metadata={'page': 13, 'source': 'user_2e4ace06-270b-429b-9726-f937261ed293_Entwurf_RiLi_VerbBtlg_2023_08_18.pdf'}), Document(page_content='ENTWURF RICHTLINIEN 02.08.2023    \\n 15 , Erfahrungs- und Lebensraum. Eine kind- und jugendgerechte Ganztagsbildung er-\\nmöglicht die Einbindung zusätzlicher Lernangebote und orientiert sich an den Bedürf-\\nnissen der Kinder und Jugendlichen. Ganztagsangebote werden mit vielfältigen Part-\\nnern umgesetzt. Zentrale Merkmale des Ganztags sind u.a. Konzepte zur Förderung \\nbesonderer Interessen und Bedarfe der Schülerinnen und Schüler, zusätzliche Zu-\\ngänge zum Lernen, Angebote z.B. aus den Bereichen Sport, Kultur, Berufsorientierung \\nund Gesundheit sowie Freiräume für Selbstbildungsprozesse und selbstbestimmte Ak-\\ntivitäten.  \\nZu den Zielen ganztägiger Bildung trägt ebenso die Organisationsform fakultativer Ar-\\nbeitsgemeinschaften bei. Diese sind in Ausrichtung und Zielsetzung nicht gebunden \\nan curriculare Vorgaben und konstituieren sich aus den Neigungen, Interessen und \\nBedarfen von Schülerinnen und Schülern sowie aus Impulsen der Lehrkräfte und wei-\\nteren pädagogischen Personals.  \\nGanztagsschulen halten ganzheitliche Angebote vor, auch für Schülerinnen und Schü-\\nler mit sonderpädagogischem Unterstützungsbedarf. Ganztägige Bildung nutzt vielfäl-\\ntige und alternative Zugänge und Formate, die auch klassen- beziehungsweise jahr-\\ngangstufenübergreifend organisiert werden können.  \\n \\nMit Fokus auf die Gestaltung des Übergangs Schule-Beruf und die Berufliche Orien-\\ntierung, stellen Praxisphasen einen verpflichtenden Baustein schulischer Bildung dar, \\nder Schülerinnen und Schülern eine adäquate Möglichkeit bietet, um Berufe und Ar-\\nbeitswelt kennenzulernen sowie individuelle Interessen und Zukunftsvorstellungen zu \\nsondieren. Praxisphasen als Teil schulischer Ausbildung ist schulprogrammatisch ver-\\nankert, es wird in der Vor- und Nachbereitung sowie in der Durchführung von Lehrkräf-\\nten angemessen begleitet.  \\n \\n3.3 Leistung erfassen und bewerten  \\nDie Grundlagen der Leistungsbewertung sind im Schulgesetz und in den Ausbildungs- \\nund Prüfungsordnungen der jeweiligen Schulformen beziehungsweise -stufen veran-\\nkert. Weiterhin folgt die Leistungsbewertung den Maßgaben dieser Richtlinie sowie der \\nLehr- und Kernlehrpläne und dem erteilten Unterricht. \\nKompetenzorientierter Unterricht gliedert sich in Lehr-, Lern- und Überprüfungspha-\\nsen. Neben Unterrichtsphasen des Lernens, Übens und Vertiefens stehen Phasen der \\nmündlichen, schriftlichen und praktischen Leistungserfassung. Damit ist die Überprü-\\nfung des Grades des Kompetenzerwerbs und des Wissensstands gemeint. Hierüber \\nlassen sich Rückschlüsse ziehen auf den fachcurricular zu erzielenden Lernerfolg der \\nSchülerinnen und Schüler einerseits und über die Lernwirksamkeit des Unterrichts an-\\ndererseits. Lehrkräften dienen die Ergebnisse von Leistungsüberprüfungen als Grund-\\nlage für weitere Förderangebote und Schullaufbahnberatungen. \\nSchule nimmt nicht nur messbares Wissen und Können in den Blick, sondern auch die \\nSelbst-, Personal- und Sozialkompetenzen. Durch die Einordnung und Bewertung der', metadata={'page': 14, 'source': 'user_2e4ace06-270b-429b-9726-f937261ed293_Entwurf_RiLi_VerbBtlg_2023_08_18.pdf'})]\n",
      "---------\n",
      "\n",
      "Los geht's!\n",
      "\n",
      "Die Antwort soll die unten in JSON definierte Tabelle genau ein Mal befüllen. Die Anzahl der table_data Objekte soll an den Inhalt angepasst werden:\n",
      "______________________________\n",
      "\n",
      "{\n",
      "    \"learn_goals\": \"xyz\",\n",
      "    \"table_data\": [\n",
      "        {\"title\": \"abc\", \"duration\": \"10min\", \"content\": \"blabla\"},\n",
      "        {...},\n",
      "        {...},\n",
      "        ...,\n",
      "    ]\n",
      "}\n",
      "______________________________\n",
      "\n",
      "Aufgabe: Plane eine Unterrichtsstunde im Fach English zum Thema Shakespeare für eine 13. Klasse in Bayern für den Schultyp English.\n",
      "Lege bei dieser Aufgabe einen besonderen Fokus auf die folgenden Schlüsselbegriffe:\n",
      "    \n",
      "Schlüsselbegriffe:\n",
      "------------------\n",
      "shakespeare\n",
      "poetry\n",
      "analysis\n",
      "------------------\n"
     ]
    }
   ],
   "source": [
    "print(prompt_template)"
   ]
  },
  {
   "cell_type": "code",
   "execution_count": 17,
   "metadata": {},
   "outputs": [],
   "source": [
    "prompt = hub.pull(\"hwchase17/openai-functions-agent\")"
   ]
  },
  {
   "cell_type": "code",
   "execution_count": 18,
   "metadata": {},
   "outputs": [],
   "source": [
    "search = TavilySearchAPIWrapper()\n",
    "tavily_tool = TavilySearchResults(api_wrapper=search, max_results=5)"
   ]
  },
  {
   "cell_type": "code",
   "execution_count": 19,
   "metadata": {},
   "outputs": [],
   "source": [
    "embeddings = OpenAIEmbeddings()\n",
    "vector_store = SupabaseVectorStore(\n",
    "        client=supabase_client,\n",
    "        embedding=embeddings,\n",
    "        table_name=\"vector_store\",\n",
    "        query_name=\"match_documents_with_uuid_filter\",\n",
    "    )\n",
    "retriever = vector_store.as_retriever(search_type=\"mmr\", search_kwargs={\"k\": 4, 'lambda_mult': 0.25, 'filter': filter_list})\n",
    "retriever_tool = tool = create_retriever_tool(\n",
    "    retriever,\n",
    "    \"get_more_context\",\n",
    "    \"Retrieve more relevant context information.\",\n",
    ")"
   ]
  },
  {
   "cell_type": "code",
   "execution_count": 20,
   "metadata": {},
   "outputs": [],
   "source": [
    "tools = [retriever_tool, tavily_tool]"
   ]
  },
  {
   "cell_type": "code",
   "execution_count": 21,
   "metadata": {},
   "outputs": [
    {
     "name": "stderr",
     "output_type": "stream",
     "text": [
      "/home/cts/.cache/pypoetry/virtualenvs/unterricht-python-backend-9Hag_kgR-py3.10/lib/python3.10/site-packages/langchain_openai/chat_models/base.py:299: UserWarning: WARNING! response_format is not default parameter.\n",
      "                    response_format was transferred to model_kwargs.\n",
      "                    Please confirm that response_format is what you intended.\n",
      "  warnings.warn(\n"
     ]
    }
   ],
   "source": [
    "llm = ChatOpenAI(model_name=interface_config.gpt_model_version, temperature=interface_config.gpt_model_temperature, response_format={ \"type\": \"json_object\" })\n",
    "agent = create_openai_functions_agent(llm, tools, prompt)"
   ]
  },
  {
   "cell_type": "code",
   "execution_count": 22,
   "metadata": {},
   "outputs": [],
   "source": [
    "agent_executor = AgentExecutor(agent=agent, tools=tools, verbose=True, return_intermediate_steps=True)"
   ]
  },
  {
   "cell_type": "code",
   "execution_count": 23,
   "metadata": {},
   "outputs": [
    {
     "name": "stdout",
     "output_type": "stream",
     "text": [
      "\n",
      "\n",
      "\u001b[1m> Entering new AgentExecutor chain...\u001b[0m\n"
     ]
    },
    {
     "name": "stderr",
     "output_type": "stream",
     "text": [
      "2024-02-03 00:13:38,969:INFO - HTTP Request: POST https://api.openai.com/v1/chat/completions \"HTTP/1.1 200 OK\"\n"
     ]
    },
    {
     "name": "stdout",
     "output_type": "stream",
     "text": [
      "\u001b[32;1m\u001b[1;3m\n",
      "Invoking: `get_more_context` with `{'query': 'shakespeare poetry analysis'}`\n",
      "\n",
      "\n",
      "\u001b[0m"
     ]
    },
    {
     "name": "stderr",
     "output_type": "stream",
     "text": [
      "2024-02-03 00:13:39,294:INFO - HTTP Request: POST https://api.openai.com/v1/embeddings \"HTTP/1.1 200 OK\"\n",
      "2024-02-03 00:13:39,357:INFO - HTTP Request: POST https://smxwnqdpxcvclxhbvhsf.supabase.co/rest/v1/rpc/match_documents_with_uuid_filter?limit=20 \"HTTP/1.1 200 OK\"\n"
     ]
    },
    {
     "name": "stdout",
     "output_type": "stream",
     "text": [
      "\u001b[36;1m\u001b[1;3m\u001b[0m"
     ]
    },
    {
     "name": "stderr",
     "output_type": "stream",
     "text": [
      "2024-02-03 00:13:39,906:INFO - HTTP Request: POST https://api.openai.com/v1/chat/completions \"HTTP/1.1 200 OK\"\n"
     ]
    },
    {
     "name": "stdout",
     "output_type": "stream",
     "text": [
      "\u001b[32;1m\u001b[1;3m\n",
      "{\n",
      "    \"learn_goals\": \"Die Schülerinnen und Schüler sollen eine Einführung in das Leben und Werk von William Shakespeare erhalten, seine Bedeutung für die englische Literatur verstehen und Gedichte von Shakespeare analysieren.\",\n",
      "    \"table_data\": [\n",
      "        {\n",
      "            \"title\": \"Einführung in das Leben und Werk von Shakespeare\",\n",
      "            \"duration\": \"15min\",\n",
      "            \"content\": \"Kurze Präsentation über das Leben von Shakespeare und Bedeutung seiner Werke für die englische Literatur.\"\n",
      "        },\n",
      "        {\n",
      "            \"title\": \"Gedichtanalyse\",\n",
      "            \"duration\": \"15min\",\n",
      "            \"content\": \"Gemeinsame Analyse eines Gedichts von Shakespeare, Diskussion über die Themen, Sprache und Stilistik.\"\n",
      "        },\n",
      "        {\n",
      "            \"title\": \"Kreatives Schreiben\",\n",
      "            \"duration\": \"10min\",\n",
      "            \"content\": \"Kurze Schreibaufgabe, in der die Schülerinnen und Schüler selbst ein Gedicht im Stil von Shakespeare verfassen.\"\n",
      "        },\n",
      "        {\n",
      "            \"title\": \"Reflexion und Diskussion\",\n",
      "            \"duration\": \"5min\",\n",
      "            \"content\": \"Reflexion über die Bedeutung von Shakespeare und seine Relevanz für die moderne Literatur, offene Diskussion.\"\n",
      "        }\n",
      "    ]\n",
      "}\n",
      "\n",
      "{\n",
      "    \"learn_goals\": \"Die Schülerinnen und Schüler sollen eine Einführung in das Leben und Werk von William Shakespeare erhalten, seine Bedeutung für die englische Literatur verstehen und Gedichte von Shakespeare analysieren.\",\n",
      "    \"table_data\": [\n",
      "        {\n",
      "            \"title\": \"Einführung in das Leben und Werk von Shakespeare\",\n",
      "            \"duration\": \"15min\",\n",
      "            \"content\": \"Kurze Präsentation über das Leben von Shakespeare und Bedeutung seiner Werke für die englische Literatur.\"\n",
      "        },\n",
      "        {\n",
      "            \"title\": \"Gedichtanalyse\",\n",
      "            \"duration\": \"15min\",\n",
      "            \"content\": \"Gemeinsame Analyse eines Gedichts von Shakespeare, Diskussion über die Themen, Sprache und Stilistik.\"\n",
      "        },\n",
      "        {\n",
      "            \"title\": \"Kreatives Schreiben\",\n",
      "            \"duration\": \"10min\",\n",
      "            \"content\": \"Kurze Schreibaufgabe, in der die Schülerinnen und Schüler selbst ein Gedicht im Stil von Shakespeare verfassen.\"\n",
      "        },\n",
      "        {\n",
      "            \"title\": \"Reflexion und Diskussion\",\n",
      "            \"duration\": \"5min\",\n",
      "            \"content\": \"Reflexion über die Bedeutung von Shakespeare und seine Relevanz für die moderne Literatur, offene Diskussion.\"\n",
      "        }\n",
      "    ]\n",
      "}\u001b[0m\n",
      "\n",
      "\u001b[1m> Finished chain.\u001b[0m\n"
     ]
    }
   ],
   "source": [
    "response = agent_executor.invoke({\"input\": prompt_template})"
   ]
  },
  {
   "cell_type": "code",
   "execution_count": 24,
   "metadata": {},
   "outputs": [
    {
     "name": "stdout",
     "output_type": "stream",
     "text": [
      "<class 'langchain_core.documents.base.Document'>\n"
     ]
    }
   ],
   "source": [
    "print(type(retrieved_context[0]))"
   ]
  },
  {
   "cell_type": "code",
   "execution_count": 25,
   "metadata": {},
   "outputs": [],
   "source": [
    "context_dict = [doc.dict() for doc in retrieved_context]"
   ]
  },
  {
   "cell_type": "code",
   "execution_count": 26,
   "metadata": {},
   "outputs": [
    {
     "data": {
      "text/plain": [
       "2"
      ]
     },
     "execution_count": 26,
     "metadata": {},
     "output_type": "execute_result"
    }
   ],
   "source": [
    "len(context_dict)"
   ]
  },
  {
   "cell_type": "code",
   "execution_count": 27,
   "metadata": {},
   "outputs": [],
   "source": [
    "response[\"context\"] = context_dict"
   ]
  },
  {
   "cell_type": "code",
   "execution_count": 28,
   "metadata": {},
   "outputs": [
    {
     "data": {
      "text/plain": [
       "dict"
      ]
     },
     "execution_count": 28,
     "metadata": {},
     "output_type": "execute_result"
    }
   ],
   "source": [
    "type(response)"
   ]
  },
  {
   "cell_type": "code",
   "execution_count": 29,
   "metadata": {},
   "outputs": [
    {
     "data": {
      "text/plain": [
       "{'input': 'Du bist ein Assistent für Lehrende und deine Aufgabe ist Unterricht nach den höchsten Standards vorzubereiten. \\nSchlüsselwöter helfen dir bei der Lösung der Aufgabe den Fokus richtig zu wählen.\\nDie Lehrkraft stellt dir wichtigen Kontext zur Lösung der Aufgabe in deiner Bibliothek zur Verfügung. \\nDie Lösung der Aufgabe soll in jedem Fall eine inhaltliche und zeitliche Struktur - insgesamt 45 min - für den Unterricht beinhalten.\\nWenn du keine Lösung findest, sage einfach, dass du die Aufgabe nicht lösen kannst, und versuche keine Antwort zu erfinden.\\nDie Lösung darf keine Wiederholungen enthalten!\\n\\nHier ist ein relevanter Ausschnitt aus dem Kontext aus deiner Bibliothek:\\n\\nKontext:\\n---------\\n[Document(page_content=\\'ENTWURF RICHTLINIEN 02.08.2023    \\\\n 14 Neben diesen Maßnahmen zur individuellen Förderung im kompetenzorientierten Un-\\\\nterricht sind sonderpädagogische Förderpläne ein zentrales Element der Bildungspla-\\\\nnung für Schülerinnen und Schüler mit Bedarf an sonderpädagogischer Unterstützung. \\\\nDer Förderplan als Lern- und Entwicklungsplan konkretisiert den sonderpädagogi-\\\\nschen Unterstützungsbedarf zum Unterricht und macht die daraus abzuleitenden För-\\\\ndermaßnahmen und die Lernfortschritte für alle Beteiligten nachvollziehbar und trans-\\\\nparent. Hierzu kooperieren die Lehrkräfte mit allen anderen an der Förderung beteilig-\\\\nten Personen. Förderpläne im Kontext sonderpädagogischer Förderung sind als In-\\\\nstrument kontinuierlich weiterzuentwickeln und zu aktualisieren. Unabhängig von der \\\\nförmlichen Feststellung eines sonderpädagogischen Unterstützungsbedarfs ist ein in-\\\\ndividueller Förderplan immer dann zu erstellen, wenn die Bedarfe der Schülerin oder \\\\ndes Schülers dies erfordern. \\\\nSchülerinnen und Schüler erwerben im kompetenzorientierten Unterricht neben fach-\\\\nlichen unter anderem auch bildungssprachliche Kompetenzen. Sprachliches und fach-\\\\nliches Lernen sind im Unterricht untrennbar miteinander verbunden. Bildungssprache \\\\nunterscheidet sich von der Alltagssprache durch ein hohes Maß an konzeptioneller \\\\nSchriftlichkeit. Sie findet Ausdruck im mündlichen und schriftlichen Sprachgebrauch. \\\\nBildungssprachliche Kompetenzen werden durch eigenes sprachliches Handeln er-\\\\nworben und erweitert. Im Unterricht erhalten alle Schülerinnen und Schüler daher Ge-\\\\nlegenheiten, selbst sprachlich aktiv zu werden, längere mündliche Beiträge zu formu-\\\\nlieren und eigene Texte zu verfassen. Aufgabe der Lehrkraft ist es, als sprachliches \\\\nVorbild zu agieren und das Register Bildungssprache explizit im Unterricht zum Thema \\\\nzu machen.  \\\\nNeben vielfältigen individuellen Begabungen treffen Schülerinnen und Schüler unter-\\\\nschiedlicher Herkunft, verschiedener Orientierungen und Überzeugungen sowie mit \\\\nund ohne festgestellten Bedarf an sonderpädagogischer Unterstützung in Schule und \\\\nUnterricht zusammen. Aufgabe der Schule ist es, diese Vielfalt in den Lern- und Bil-\\\\ndungsprozessen zu berücksichtigen und sie durch eine umfassende und differenzierte \\\\nBildungs- und Erziehungsarbeit aller Schülerinnen und Schüler mit dem Ziel zu nutzen, \\\\nihnen bestmögliche Bildung und Chancengerechtigkeit zu ermöglichen. \\\\n  \\\\n3.2 Organisationsformen des Lehrens und Lernens \\\\nKompetenzorientierter Unterricht findet hauptsächlich in einem nach Fächern und \\\\nLernbereichen organisierten Unterricht statt, der zeitgemäßen Ansprüchen an Didaktik \\\\nund Methodik folgt. Lernmotivation stellt im kompetenzorientierten Unterricht eine we-\\\\nsentliche Komponente dar. Sie fördert die Bereitschaft und Fähigkeit der Schülerinnen \\\\nund Schüler zum Lernen.  \\\\n \\\\nGanztägige Bildungsangebote bieten mehr Zeit und Raum für Bildung, Erziehung und \\\\nBetreuung. Der Ganztag trägt maßgeblich zur ganzheitlichen Bildung, zur Persönlich-\\\\nkeitsentwicklung, zum Aufbau von Selbst- und Sozialkompetenzen sowie zur Stärkung \\\\nvon Fähigkeiten und Talenten bei.  \\\\nGanztagsschulen entwickeln sich unter Einbeziehung des schulischen Umfelds und \\\\naußerschulischer Partner, insbesondere der Jugendhilfe, zu einem ganztägigen Lern-\\', metadata={\\'page\\': 13, \\'source\\': \\'user_2e4ace06-270b-429b-9726-f937261ed293_Entwurf_RiLi_VerbBtlg_2023_08_18.pdf\\'}), Document(page_content=\\'ENTWURF RICHTLINIEN 02.08.2023    \\\\n 15 , Erfahrungs- und Lebensraum. Eine kind- und jugendgerechte Ganztagsbildung er-\\\\nmöglicht die Einbindung zusätzlicher Lernangebote und orientiert sich an den Bedürf-\\\\nnissen der Kinder und Jugendlichen. Ganztagsangebote werden mit vielfältigen Part-\\\\nnern umgesetzt. Zentrale Merkmale des Ganztags sind u.a. Konzepte zur Förderung \\\\nbesonderer Interessen und Bedarfe der Schülerinnen und Schüler, zusätzliche Zu-\\\\ngänge zum Lernen, Angebote z.B. aus den Bereichen Sport, Kultur, Berufsorientierung \\\\nund Gesundheit sowie Freiräume für Selbstbildungsprozesse und selbstbestimmte Ak-\\\\ntivitäten.  \\\\nZu den Zielen ganztägiger Bildung trägt ebenso die Organisationsform fakultativer Ar-\\\\nbeitsgemeinschaften bei. Diese sind in Ausrichtung und Zielsetzung nicht gebunden \\\\nan curriculare Vorgaben und konstituieren sich aus den Neigungen, Interessen und \\\\nBedarfen von Schülerinnen und Schülern sowie aus Impulsen der Lehrkräfte und wei-\\\\nteren pädagogischen Personals.  \\\\nGanztagsschulen halten ganzheitliche Angebote vor, auch für Schülerinnen und Schü-\\\\nler mit sonderpädagogischem Unterstützungsbedarf. Ganztägige Bildung nutzt vielfäl-\\\\ntige und alternative Zugänge und Formate, die auch klassen- beziehungsweise jahr-\\\\ngangstufenübergreifend organisiert werden können.  \\\\n \\\\nMit Fokus auf die Gestaltung des Übergangs Schule-Beruf und die Berufliche Orien-\\\\ntierung, stellen Praxisphasen einen verpflichtenden Baustein schulischer Bildung dar, \\\\nder Schülerinnen und Schülern eine adäquate Möglichkeit bietet, um Berufe und Ar-\\\\nbeitswelt kennenzulernen sowie individuelle Interessen und Zukunftsvorstellungen zu \\\\nsondieren. Praxisphasen als Teil schulischer Ausbildung ist schulprogrammatisch ver-\\\\nankert, es wird in der Vor- und Nachbereitung sowie in der Durchführung von Lehrkräf-\\\\nten angemessen begleitet.  \\\\n \\\\n3.3 Leistung erfassen und bewerten  \\\\nDie Grundlagen der Leistungsbewertung sind im Schulgesetz und in den Ausbildungs- \\\\nund Prüfungsordnungen der jeweiligen Schulformen beziehungsweise -stufen veran-\\\\nkert. Weiterhin folgt die Leistungsbewertung den Maßgaben dieser Richtlinie sowie der \\\\nLehr- und Kernlehrpläne und dem erteilten Unterricht. \\\\nKompetenzorientierter Unterricht gliedert sich in Lehr-, Lern- und Überprüfungspha-\\\\nsen. Neben Unterrichtsphasen des Lernens, Übens und Vertiefens stehen Phasen der \\\\nmündlichen, schriftlichen und praktischen Leistungserfassung. Damit ist die Überprü-\\\\nfung des Grades des Kompetenzerwerbs und des Wissensstands gemeint. Hierüber \\\\nlassen sich Rückschlüsse ziehen auf den fachcurricular zu erzielenden Lernerfolg der \\\\nSchülerinnen und Schüler einerseits und über die Lernwirksamkeit des Unterrichts an-\\\\ndererseits. Lehrkräften dienen die Ergebnisse von Leistungsüberprüfungen als Grund-\\\\nlage für weitere Förderangebote und Schullaufbahnberatungen. \\\\nSchule nimmt nicht nur messbares Wissen und Können in den Blick, sondern auch die \\\\nSelbst-, Personal- und Sozialkompetenzen. Durch die Einordnung und Bewertung der\\', metadata={\\'page\\': 14, \\'source\\': \\'user_2e4ace06-270b-429b-9726-f937261ed293_Entwurf_RiLi_VerbBtlg_2023_08_18.pdf\\'})]\\n---------\\n\\nLos geht\\'s!\\n\\nDie Antwort soll die unten in JSON definierte Tabelle genau ein Mal befüllen. Die Anzahl der table_data Objekte soll an den Inhalt angepasst werden:\\n______________________________\\n\\n{\\n    \"learn_goals\": \"xyz\",\\n    \"table_data\": [\\n        {\"title\": \"abc\", \"duration\": \"10min\", \"content\": \"blabla\"},\\n        {...},\\n        {...},\\n        ...,\\n    ]\\n}\\n______________________________\\n\\nAufgabe: Plane eine Unterrichtsstunde im Fach English zum Thema Shakespeare für eine 13. Klasse in Bayern für den Schultyp English.\\nLege bei dieser Aufgabe einen besonderen Fokus auf die folgenden Schlüsselbegriffe:\\n    \\nSchlüsselbegriffe:\\n------------------\\nshakespeare\\npoetry\\nanalysis\\n------------------',\n",
       " 'output': '\\n{\\n    \"learn_goals\": \"Die Schülerinnen und Schüler sollen eine Einführung in das Leben und Werk von William Shakespeare erhalten, seine Bedeutung für die englische Literatur verstehen und Gedichte von Shakespeare analysieren.\",\\n    \"table_data\": [\\n        {\\n            \"title\": \"Einführung in das Leben und Werk von Shakespeare\",\\n            \"duration\": \"15min\",\\n            \"content\": \"Kurze Präsentation über das Leben von Shakespeare und Bedeutung seiner Werke für die englische Literatur.\"\\n        },\\n        {\\n            \"title\": \"Gedichtanalyse\",\\n            \"duration\": \"15min\",\\n            \"content\": \"Gemeinsame Analyse eines Gedichts von Shakespeare, Diskussion über die Themen, Sprache und Stilistik.\"\\n        },\\n        {\\n            \"title\": \"Kreatives Schreiben\",\\n            \"duration\": \"10min\",\\n            \"content\": \"Kurze Schreibaufgabe, in der die Schülerinnen und Schüler selbst ein Gedicht im Stil von Shakespeare verfassen.\"\\n        },\\n        {\\n            \"title\": \"Reflexion und Diskussion\",\\n            \"duration\": \"5min\",\\n            \"content\": \"Reflexion über die Bedeutung von Shakespeare und seine Relevanz für die moderne Literatur, offene Diskussion.\"\\n        }\\n    ]\\n}\\n\\n{\\n    \"learn_goals\": \"Die Schülerinnen und Schüler sollen eine Einführung in das Leben und Werk von William Shakespeare erhalten, seine Bedeutung für die englische Literatur verstehen und Gedichte von Shakespeare analysieren.\",\\n    \"table_data\": [\\n        {\\n            \"title\": \"Einführung in das Leben und Werk von Shakespeare\",\\n            \"duration\": \"15min\",\\n            \"content\": \"Kurze Präsentation über das Leben von Shakespeare und Bedeutung seiner Werke für die englische Literatur.\"\\n        },\\n        {\\n            \"title\": \"Gedichtanalyse\",\\n            \"duration\": \"15min\",\\n            \"content\": \"Gemeinsame Analyse eines Gedichts von Shakespeare, Diskussion über die Themen, Sprache und Stilistik.\"\\n        },\\n        {\\n            \"title\": \"Kreatives Schreiben\",\\n            \"duration\": \"10min\",\\n            \"content\": \"Kurze Schreibaufgabe, in der die Schülerinnen und Schüler selbst ein Gedicht im Stil von Shakespeare verfassen.\"\\n        },\\n        {\\n            \"title\": \"Reflexion und Diskussion\",\\n            \"duration\": \"5min\",\\n            \"content\": \"Reflexion über die Bedeutung von Shakespeare und seine Relevanz für die moderne Literatur, offene Diskussion.\"\\n        }\\n    ]\\n}',\n",
       " 'intermediate_steps': [(AgentActionMessageLog(tool='get_more_context', tool_input={'query': 'shakespeare poetry analysis'}, log=\"\\nInvoking: `get_more_context` with `{'query': 'shakespeare poetry analysis'}`\\n\\n\\n\", message_log=[AIMessageChunk(content='', additional_kwargs={'function_call': {'arguments': '{\"query\":\"shakespeare poetry analysis\"}', 'name': 'get_more_context'}})]),\n",
       "   '')],\n",
       " 'context': [{'page_content': 'ENTWURF RICHTLINIEN 02.08.2023    \\n 14 Neben diesen Maßnahmen zur individuellen Förderung im kompetenzorientierten Un-\\nterricht sind sonderpädagogische Förderpläne ein zentrales Element der Bildungspla-\\nnung für Schülerinnen und Schüler mit Bedarf an sonderpädagogischer Unterstützung. \\nDer Förderplan als Lern- und Entwicklungsplan konkretisiert den sonderpädagogi-\\nschen Unterstützungsbedarf zum Unterricht und macht die daraus abzuleitenden För-\\ndermaßnahmen und die Lernfortschritte für alle Beteiligten nachvollziehbar und trans-\\nparent. Hierzu kooperieren die Lehrkräfte mit allen anderen an der Förderung beteilig-\\nten Personen. Förderpläne im Kontext sonderpädagogischer Förderung sind als In-\\nstrument kontinuierlich weiterzuentwickeln und zu aktualisieren. Unabhängig von der \\nförmlichen Feststellung eines sonderpädagogischen Unterstützungsbedarfs ist ein in-\\ndividueller Förderplan immer dann zu erstellen, wenn die Bedarfe der Schülerin oder \\ndes Schülers dies erfordern. \\nSchülerinnen und Schüler erwerben im kompetenzorientierten Unterricht neben fach-\\nlichen unter anderem auch bildungssprachliche Kompetenzen. Sprachliches und fach-\\nliches Lernen sind im Unterricht untrennbar miteinander verbunden. Bildungssprache \\nunterscheidet sich von der Alltagssprache durch ein hohes Maß an konzeptioneller \\nSchriftlichkeit. Sie findet Ausdruck im mündlichen und schriftlichen Sprachgebrauch. \\nBildungssprachliche Kompetenzen werden durch eigenes sprachliches Handeln er-\\nworben und erweitert. Im Unterricht erhalten alle Schülerinnen und Schüler daher Ge-\\nlegenheiten, selbst sprachlich aktiv zu werden, längere mündliche Beiträge zu formu-\\nlieren und eigene Texte zu verfassen. Aufgabe der Lehrkraft ist es, als sprachliches \\nVorbild zu agieren und das Register Bildungssprache explizit im Unterricht zum Thema \\nzu machen.  \\nNeben vielfältigen individuellen Begabungen treffen Schülerinnen und Schüler unter-\\nschiedlicher Herkunft, verschiedener Orientierungen und Überzeugungen sowie mit \\nund ohne festgestellten Bedarf an sonderpädagogischer Unterstützung in Schule und \\nUnterricht zusammen. Aufgabe der Schule ist es, diese Vielfalt in den Lern- und Bil-\\ndungsprozessen zu berücksichtigen und sie durch eine umfassende und differenzierte \\nBildungs- und Erziehungsarbeit aller Schülerinnen und Schüler mit dem Ziel zu nutzen, \\nihnen bestmögliche Bildung und Chancengerechtigkeit zu ermöglichen. \\n  \\n3.2 Organisationsformen des Lehrens und Lernens \\nKompetenzorientierter Unterricht findet hauptsächlich in einem nach Fächern und \\nLernbereichen organisierten Unterricht statt, der zeitgemäßen Ansprüchen an Didaktik \\nund Methodik folgt. Lernmotivation stellt im kompetenzorientierten Unterricht eine we-\\nsentliche Komponente dar. Sie fördert die Bereitschaft und Fähigkeit der Schülerinnen \\nund Schüler zum Lernen.  \\n \\nGanztägige Bildungsangebote bieten mehr Zeit und Raum für Bildung, Erziehung und \\nBetreuung. Der Ganztag trägt maßgeblich zur ganzheitlichen Bildung, zur Persönlich-\\nkeitsentwicklung, zum Aufbau von Selbst- und Sozialkompetenzen sowie zur Stärkung \\nvon Fähigkeiten und Talenten bei.  \\nGanztagsschulen entwickeln sich unter Einbeziehung des schulischen Umfelds und \\naußerschulischer Partner, insbesondere der Jugendhilfe, zu einem ganztägigen Lern-',\n",
       "   'metadata': {'page': 13,\n",
       "    'source': 'user_2e4ace06-270b-429b-9726-f937261ed293_Entwurf_RiLi_VerbBtlg_2023_08_18.pdf'},\n",
       "   'type': 'Document'},\n",
       "  {'page_content': 'ENTWURF RICHTLINIEN 02.08.2023    \\n 15 , Erfahrungs- und Lebensraum. Eine kind- und jugendgerechte Ganztagsbildung er-\\nmöglicht die Einbindung zusätzlicher Lernangebote und orientiert sich an den Bedürf-\\nnissen der Kinder und Jugendlichen. Ganztagsangebote werden mit vielfältigen Part-\\nnern umgesetzt. Zentrale Merkmale des Ganztags sind u.a. Konzepte zur Förderung \\nbesonderer Interessen und Bedarfe der Schülerinnen und Schüler, zusätzliche Zu-\\ngänge zum Lernen, Angebote z.B. aus den Bereichen Sport, Kultur, Berufsorientierung \\nund Gesundheit sowie Freiräume für Selbstbildungsprozesse und selbstbestimmte Ak-\\ntivitäten.  \\nZu den Zielen ganztägiger Bildung trägt ebenso die Organisationsform fakultativer Ar-\\nbeitsgemeinschaften bei. Diese sind in Ausrichtung und Zielsetzung nicht gebunden \\nan curriculare Vorgaben und konstituieren sich aus den Neigungen, Interessen und \\nBedarfen von Schülerinnen und Schülern sowie aus Impulsen der Lehrkräfte und wei-\\nteren pädagogischen Personals.  \\nGanztagsschulen halten ganzheitliche Angebote vor, auch für Schülerinnen und Schü-\\nler mit sonderpädagogischem Unterstützungsbedarf. Ganztägige Bildung nutzt vielfäl-\\ntige und alternative Zugänge und Formate, die auch klassen- beziehungsweise jahr-\\ngangstufenübergreifend organisiert werden können.  \\n \\nMit Fokus auf die Gestaltung des Übergangs Schule-Beruf und die Berufliche Orien-\\ntierung, stellen Praxisphasen einen verpflichtenden Baustein schulischer Bildung dar, \\nder Schülerinnen und Schülern eine adäquate Möglichkeit bietet, um Berufe und Ar-\\nbeitswelt kennenzulernen sowie individuelle Interessen und Zukunftsvorstellungen zu \\nsondieren. Praxisphasen als Teil schulischer Ausbildung ist schulprogrammatisch ver-\\nankert, es wird in der Vor- und Nachbereitung sowie in der Durchführung von Lehrkräf-\\nten angemessen begleitet.  \\n \\n3.3 Leistung erfassen und bewerten  \\nDie Grundlagen der Leistungsbewertung sind im Schulgesetz und in den Ausbildungs- \\nund Prüfungsordnungen der jeweiligen Schulformen beziehungsweise -stufen veran-\\nkert. Weiterhin folgt die Leistungsbewertung den Maßgaben dieser Richtlinie sowie der \\nLehr- und Kernlehrpläne und dem erteilten Unterricht. \\nKompetenzorientierter Unterricht gliedert sich in Lehr-, Lern- und Überprüfungspha-\\nsen. Neben Unterrichtsphasen des Lernens, Übens und Vertiefens stehen Phasen der \\nmündlichen, schriftlichen und praktischen Leistungserfassung. Damit ist die Überprü-\\nfung des Grades des Kompetenzerwerbs und des Wissensstands gemeint. Hierüber \\nlassen sich Rückschlüsse ziehen auf den fachcurricular zu erzielenden Lernerfolg der \\nSchülerinnen und Schüler einerseits und über die Lernwirksamkeit des Unterrichts an-\\ndererseits. Lehrkräften dienen die Ergebnisse von Leistungsüberprüfungen als Grund-\\nlage für weitere Förderangebote und Schullaufbahnberatungen. \\nSchule nimmt nicht nur messbares Wissen und Können in den Blick, sondern auch die \\nSelbst-, Personal- und Sozialkompetenzen. Durch die Einordnung und Bewertung der',\n",
       "   'metadata': {'page': 14,\n",
       "    'source': 'user_2e4ace06-270b-429b-9726-f937261ed293_Entwurf_RiLi_VerbBtlg_2023_08_18.pdf'},\n",
       "   'type': 'Document'}]}"
      ]
     },
     "execution_count": 29,
     "metadata": {},
     "output_type": "execute_result"
    }
   ],
   "source": [
    "response"
   ]
  },
  {
   "cell_type": "code",
   "execution_count": 30,
   "metadata": {},
   "outputs": [],
   "source": [
    "from langchain.output_parsers.openai_tools import JsonOutputToolsParser\n"
   ]
  },
  {
   "cell_type": "code",
   "execution_count": 31,
   "metadata": {},
   "outputs": [
    {
     "name": "stdout",
     "output_type": "stream",
     "text": [
      "key: <class 'str'>\n",
      "value: <class 'str'>\n",
      "key: <class 'str'>\n",
      "value: <class 'str'>\n",
      "key: <class 'str'>\n",
      "value: <class 'list'>\n",
      "key: <class 'str'>\n",
      "value: <class 'list'>\n"
     ]
    }
   ],
   "source": [
    "for (key, value) in response.items():\n",
    "    print(f\"key: {type(key)}\")\n",
    "    print(f\"value: {type(value)}\")"
   ]
  },
  {
   "cell_type": "code",
   "execution_count": 32,
   "metadata": {},
   "outputs": [
    {
     "name": "stdout",
     "output_type": "stream",
     "text": [
      "<class 'dict'>\n"
     ]
    }
   ],
   "source": [
    "print(type(response))"
   ]
  },
  {
   "cell_type": "code",
   "execution_count": 33,
   "metadata": {},
   "outputs": [
    {
     "ename": "TypeError",
     "evalue": "Object of type AgentActionMessageLog is not JSON serializable",
     "output_type": "error",
     "traceback": [
      "\u001b[0;31m---------------------------------------------------------------------------\u001b[0m",
      "\u001b[0;31mTypeError\u001b[0m                                 Traceback (most recent call last)",
      "Cell \u001b[0;32mIn[33], line 2\u001b[0m\n\u001b[1;32m      1\u001b[0m \u001b[38;5;28;01mimport\u001b[39;00m \u001b[38;5;21;01mjson\u001b[39;00m\n\u001b[0;32m----> 2\u001b[0m output \u001b[38;5;241m=\u001b[39m \u001b[43mjson\u001b[49m\u001b[38;5;241;43m.\u001b[39;49m\u001b[43mdumps\u001b[49m\u001b[43m(\u001b[49m\u001b[43mresponse\u001b[49m\u001b[43m)\u001b[49m\n",
      "File \u001b[0;32m~/.pyenv/versions/3.10.13/lib/python3.10/json/__init__.py:231\u001b[0m, in \u001b[0;36mdumps\u001b[0;34m(obj, skipkeys, ensure_ascii, check_circular, allow_nan, cls, indent, separators, default, sort_keys, **kw)\u001b[0m\n\u001b[1;32m    226\u001b[0m \u001b[38;5;66;03m# cached encoder\u001b[39;00m\n\u001b[1;32m    227\u001b[0m \u001b[38;5;28;01mif\u001b[39;00m (\u001b[38;5;129;01mnot\u001b[39;00m skipkeys \u001b[38;5;129;01mand\u001b[39;00m ensure_ascii \u001b[38;5;129;01mand\u001b[39;00m\n\u001b[1;32m    228\u001b[0m     check_circular \u001b[38;5;129;01mand\u001b[39;00m allow_nan \u001b[38;5;129;01mand\u001b[39;00m\n\u001b[1;32m    229\u001b[0m     \u001b[38;5;28mcls\u001b[39m \u001b[38;5;129;01mis\u001b[39;00m \u001b[38;5;28;01mNone\u001b[39;00m \u001b[38;5;129;01mand\u001b[39;00m indent \u001b[38;5;129;01mis\u001b[39;00m \u001b[38;5;28;01mNone\u001b[39;00m \u001b[38;5;129;01mand\u001b[39;00m separators \u001b[38;5;129;01mis\u001b[39;00m \u001b[38;5;28;01mNone\u001b[39;00m \u001b[38;5;129;01mand\u001b[39;00m\n\u001b[1;32m    230\u001b[0m     default \u001b[38;5;129;01mis\u001b[39;00m \u001b[38;5;28;01mNone\u001b[39;00m \u001b[38;5;129;01mand\u001b[39;00m \u001b[38;5;129;01mnot\u001b[39;00m sort_keys \u001b[38;5;129;01mand\u001b[39;00m \u001b[38;5;129;01mnot\u001b[39;00m kw):\n\u001b[0;32m--> 231\u001b[0m     \u001b[38;5;28;01mreturn\u001b[39;00m \u001b[43m_default_encoder\u001b[49m\u001b[38;5;241;43m.\u001b[39;49m\u001b[43mencode\u001b[49m\u001b[43m(\u001b[49m\u001b[43mobj\u001b[49m\u001b[43m)\u001b[49m\n\u001b[1;32m    232\u001b[0m \u001b[38;5;28;01mif\u001b[39;00m \u001b[38;5;28mcls\u001b[39m \u001b[38;5;129;01mis\u001b[39;00m \u001b[38;5;28;01mNone\u001b[39;00m:\n\u001b[1;32m    233\u001b[0m     \u001b[38;5;28mcls\u001b[39m \u001b[38;5;241m=\u001b[39m JSONEncoder\n",
      "File \u001b[0;32m~/.pyenv/versions/3.10.13/lib/python3.10/json/encoder.py:199\u001b[0m, in \u001b[0;36mJSONEncoder.encode\u001b[0;34m(self, o)\u001b[0m\n\u001b[1;32m    195\u001b[0m         \u001b[38;5;28;01mreturn\u001b[39;00m encode_basestring(o)\n\u001b[1;32m    196\u001b[0m \u001b[38;5;66;03m# This doesn't pass the iterator directly to ''.join() because the\u001b[39;00m\n\u001b[1;32m    197\u001b[0m \u001b[38;5;66;03m# exceptions aren't as detailed.  The list call should be roughly\u001b[39;00m\n\u001b[1;32m    198\u001b[0m \u001b[38;5;66;03m# equivalent to the PySequence_Fast that ''.join() would do.\u001b[39;00m\n\u001b[0;32m--> 199\u001b[0m chunks \u001b[38;5;241m=\u001b[39m \u001b[38;5;28;43mself\u001b[39;49m\u001b[38;5;241;43m.\u001b[39;49m\u001b[43miterencode\u001b[49m\u001b[43m(\u001b[49m\u001b[43mo\u001b[49m\u001b[43m,\u001b[49m\u001b[43m \u001b[49m\u001b[43m_one_shot\u001b[49m\u001b[38;5;241;43m=\u001b[39;49m\u001b[38;5;28;43;01mTrue\u001b[39;49;00m\u001b[43m)\u001b[49m\n\u001b[1;32m    200\u001b[0m \u001b[38;5;28;01mif\u001b[39;00m \u001b[38;5;129;01mnot\u001b[39;00m \u001b[38;5;28misinstance\u001b[39m(chunks, (\u001b[38;5;28mlist\u001b[39m, \u001b[38;5;28mtuple\u001b[39m)):\n\u001b[1;32m    201\u001b[0m     chunks \u001b[38;5;241m=\u001b[39m \u001b[38;5;28mlist\u001b[39m(chunks)\n",
      "File \u001b[0;32m~/.pyenv/versions/3.10.13/lib/python3.10/json/encoder.py:257\u001b[0m, in \u001b[0;36mJSONEncoder.iterencode\u001b[0;34m(self, o, _one_shot)\u001b[0m\n\u001b[1;32m    252\u001b[0m \u001b[38;5;28;01melse\u001b[39;00m:\n\u001b[1;32m    253\u001b[0m     _iterencode \u001b[38;5;241m=\u001b[39m _make_iterencode(\n\u001b[1;32m    254\u001b[0m         markers, \u001b[38;5;28mself\u001b[39m\u001b[38;5;241m.\u001b[39mdefault, _encoder, \u001b[38;5;28mself\u001b[39m\u001b[38;5;241m.\u001b[39mindent, floatstr,\n\u001b[1;32m    255\u001b[0m         \u001b[38;5;28mself\u001b[39m\u001b[38;5;241m.\u001b[39mkey_separator, \u001b[38;5;28mself\u001b[39m\u001b[38;5;241m.\u001b[39mitem_separator, \u001b[38;5;28mself\u001b[39m\u001b[38;5;241m.\u001b[39msort_keys,\n\u001b[1;32m    256\u001b[0m         \u001b[38;5;28mself\u001b[39m\u001b[38;5;241m.\u001b[39mskipkeys, _one_shot)\n\u001b[0;32m--> 257\u001b[0m \u001b[38;5;28;01mreturn\u001b[39;00m \u001b[43m_iterencode\u001b[49m\u001b[43m(\u001b[49m\u001b[43mo\u001b[49m\u001b[43m,\u001b[49m\u001b[43m \u001b[49m\u001b[38;5;241;43m0\u001b[39;49m\u001b[43m)\u001b[49m\n",
      "File \u001b[0;32m~/.pyenv/versions/3.10.13/lib/python3.10/json/encoder.py:179\u001b[0m, in \u001b[0;36mJSONEncoder.default\u001b[0;34m(self, o)\u001b[0m\n\u001b[1;32m    160\u001b[0m \u001b[38;5;28;01mdef\u001b[39;00m \u001b[38;5;21mdefault\u001b[39m(\u001b[38;5;28mself\u001b[39m, o):\n\u001b[1;32m    161\u001b[0m \u001b[38;5;250m    \u001b[39m\u001b[38;5;124;03m\"\"\"Implement this method in a subclass such that it returns\u001b[39;00m\n\u001b[1;32m    162\u001b[0m \u001b[38;5;124;03m    a serializable object for ``o``, or calls the base implementation\u001b[39;00m\n\u001b[1;32m    163\u001b[0m \u001b[38;5;124;03m    (to raise a ``TypeError``).\u001b[39;00m\n\u001b[0;32m   (...)\u001b[0m\n\u001b[1;32m    177\u001b[0m \n\u001b[1;32m    178\u001b[0m \u001b[38;5;124;03m    \"\"\"\u001b[39;00m\n\u001b[0;32m--> 179\u001b[0m     \u001b[38;5;28;01mraise\u001b[39;00m \u001b[38;5;167;01mTypeError\u001b[39;00m(\u001b[38;5;124mf\u001b[39m\u001b[38;5;124m'\u001b[39m\u001b[38;5;124mObject of type \u001b[39m\u001b[38;5;132;01m{\u001b[39;00mo\u001b[38;5;241m.\u001b[39m\u001b[38;5;18m__class__\u001b[39m\u001b[38;5;241m.\u001b[39m\u001b[38;5;18m__name__\u001b[39m\u001b[38;5;132;01m}\u001b[39;00m\u001b[38;5;124m \u001b[39m\u001b[38;5;124m'\u001b[39m\n\u001b[1;32m    180\u001b[0m                     \u001b[38;5;124mf\u001b[39m\u001b[38;5;124m'\u001b[39m\u001b[38;5;124mis not JSON serializable\u001b[39m\u001b[38;5;124m'\u001b[39m)\n",
      "\u001b[0;31mTypeError\u001b[0m: Object of type AgentActionMessageLog is not JSON serializable"
     ]
    }
   ],
   "source": [
    "import json\n",
    "output = json.dumps(response)"
   ]
  },
  {
   "cell_type": "code",
   "execution_count": null,
   "metadata": {},
   "outputs": [
    {
     "data": {
      "text/plain": [
       "'{\"input\": \"Du bist ein Assistent f\\\\u00fcr Lehrende und hilfst ihnen dabei ihren Unterricht vorzubereiten. \\\\nVerwende dazu die Informationen im Kontext, um die Aufgabe am Ende zu l\\\\u00f6sen. Gib den Schl\\\\u00fcsselw\\\\u00f6tern bei der L\\\\u00f6sung der Aufgabe ein besonders hohes Gewicht.\\\\nWenn du keine L\\\\u00f6sung findest, sage einfach, dass du die Aufgabe nicht l\\\\u00f6sen kannst, und versuche keine Antwort zu erfinden. \\\\nDie L\\\\u00f6sung der Aufgabe soll eine inhaltliche und zeitliche Struktur beinhalten.\\\\n\\\\nKontext:\\\\n---------\\\\n[Document(page_content=\\'ENTWURF RICHTLINIEN 02.08.2023    \\\\\\\\n 14 Neben diesen Ma\\\\u00dfnahmen zur individuellen F\\\\u00f6rderung im kompetenzorientierten Un-\\\\\\\\nterricht sind sonderp\\\\u00e4dagogische F\\\\u00f6rderpl\\\\u00e4ne ein zentrales Element der Bildungspla-\\\\\\\\nnung f\\\\u00fcr Sch\\\\u00fclerinnen und Sch\\\\u00fcler mit Bedarf an sonderp\\\\u00e4dagogischer Unterst\\\\u00fctzung. \\\\\\\\nDer F\\\\u00f6rderplan als Lern- und Entwicklungsplan konkretisiert den sonderp\\\\u00e4dagogi-\\\\\\\\nschen Unterst\\\\u00fctzungsbedarf zum Unterricht und macht die daraus abzuleitenden F\\\\u00f6r-\\\\\\\\nderma\\\\u00dfnahmen und die Lernfortschritte f\\\\u00fcr alle Beteiligten nachvollziehbar und trans-\\\\\\\\nparent. Hierzu kooperieren die Lehrkr\\\\u00e4fte mit allen anderen an der F\\\\u00f6rderung beteilig-\\\\\\\\nten Personen. F\\\\u00f6rderpl\\\\u00e4ne im Kontext sonderp\\\\u00e4dagogischer F\\\\u00f6rderung sind als In-\\\\\\\\nstrument kontinuierlich weiterzuentwickeln und zu aktualisieren. Unabh\\\\u00e4ngig von der \\\\\\\\nf\\\\u00f6rmlichen Feststellung eines sonderp\\\\u00e4dagogischen Unterst\\\\u00fctzungsbedarfs ist ein in-\\\\\\\\ndividueller F\\\\u00f6rderplan immer dann zu erstellen, wenn die Bedarfe der Sch\\\\u00fclerin oder \\\\\\\\ndes Sch\\\\u00fclers dies erfordern. \\\\\\\\nSch\\\\u00fclerinnen und Sch\\\\u00fcler erwerben im kompetenzorientierten Unterricht neben fach-\\\\\\\\nlichen unter anderem auch bildungssprachliche Kompetenzen. Sprachliches und fach-\\\\\\\\nliches Lernen sind im Unterricht untrennbar miteinander verbunden. Bildungssprache \\\\\\\\nunterscheidet sich von der Alltagssprache durch ein hohes Ma\\\\u00df an konzeptioneller \\\\\\\\nSchriftlichkeit. Sie findet Ausdruck im m\\\\u00fcndlichen und schriftlichen Sprachgebrauch. \\\\\\\\nBildungssprachliche Kompetenzen werden durch eigenes sprachliches Handeln er-\\\\\\\\nworben und erweitert. Im Unterricht erhalten alle Sch\\\\u00fclerinnen und Sch\\\\u00fcler daher Ge-\\\\\\\\nlegenheiten, selbst sprachlich aktiv zu werden, l\\\\u00e4ngere m\\\\u00fcndliche Beitr\\\\u00e4ge zu formu-\\\\\\\\nlieren und eigene Texte zu verfassen. Aufgabe der Lehrkraft ist es, als sprachliches \\\\\\\\nVorbild zu agieren und das Register Bildungssprache explizit im Unterricht zum Thema \\\\\\\\nzu machen.  \\\\\\\\nNeben vielf\\\\u00e4ltigen individuellen Begabungen treffen Sch\\\\u00fclerinnen und Sch\\\\u00fcler unter-\\\\\\\\nschiedlicher Herkunft, verschiedener Orientierungen und \\\\u00dcberzeugungen sowie mit \\\\\\\\nund ohne festgestellten Bedarf an sonderp\\\\u00e4dagogischer Unterst\\\\u00fctzung in Schule und \\\\\\\\nUnterricht zusammen. Aufgabe der Schule ist es, diese Vielfalt in den Lern- und Bil-\\\\\\\\ndungsprozessen zu ber\\\\u00fccksichtigen und sie durch eine umfassende und differenzierte \\\\\\\\nBildungs- und Erziehungsarbeit aller Sch\\\\u00fclerinnen und Sch\\\\u00fcler mit dem Ziel zu nutzen, \\\\\\\\nihnen bestm\\\\u00f6gliche Bildung und Chancengerechtigkeit zu erm\\\\u00f6glichen. \\\\\\\\n  \\\\\\\\n3.2 Organisationsformen des Lehrens und Lernens \\\\\\\\nKompetenzorientierter Unterricht findet haupts\\\\u00e4chlich in einem nach F\\\\u00e4chern und \\\\\\\\nLernbereichen organisierten Unterricht statt, der zeitgem\\\\u00e4\\\\u00dfen Anspr\\\\u00fcchen an Didaktik \\\\\\\\nund Methodik folgt. Lernmotivation stellt im kompetenzorientierten Unterricht eine we-\\\\\\\\nsentliche Komponente dar. Sie f\\\\u00f6rdert die Bereitschaft und F\\\\u00e4higkeit der Sch\\\\u00fclerinnen \\\\\\\\nund Sch\\\\u00fcler zum Lernen.  \\\\\\\\n \\\\\\\\nGanzt\\\\u00e4gige Bildungsangebote bieten mehr Zeit und Raum f\\\\u00fcr Bildung, Erziehung und \\\\\\\\nBetreuung. Der Ganztag tr\\\\u00e4gt ma\\\\u00dfgeblich zur ganzheitlichen Bildung, zur Pers\\\\u00f6nlich-\\\\\\\\nkeitsentwicklung, zum Aufbau von Selbst- und Sozialkompetenzen sowie zur St\\\\u00e4rkung \\\\\\\\nvon F\\\\u00e4higkeiten und Talenten bei.  \\\\\\\\nGanztagsschulen entwickeln sich unter Einbeziehung des schulischen Umfelds und \\\\\\\\nau\\\\u00dferschulischer Partner, insbesondere der Jugendhilfe, zu einem ganzt\\\\u00e4gigen Lern-\\', metadata={\\'page\\': 13, \\'source\\': \\'user_2e4ace06-270b-429b-9726-f937261ed293_Entwurf_RiLi_VerbBtlg_2023_08_18.pdf\\'}), Document(page_content=\\'ENTWURF RICHTLINIEN 02.08.2023    \\\\\\\\n 15 , Erfahrungs- und Lebensraum. Eine kind- und jugendgerechte Ganztagsbildung er-\\\\\\\\nm\\\\u00f6glicht die Einbindung zus\\\\u00e4tzlicher Lernangebote und orientiert sich an den Bed\\\\u00fcrf-\\\\\\\\nnissen der Kinder und Jugendlichen. Ganztagsangebote werden mit vielf\\\\u00e4ltigen Part-\\\\\\\\nnern umgesetzt. Zentrale Merkmale des Ganztags sind u.a. Konzepte zur F\\\\u00f6rderung \\\\\\\\nbesonderer Interessen und Bedarfe der Sch\\\\u00fclerinnen und Sch\\\\u00fcler, zus\\\\u00e4tzliche Zu-\\\\\\\\ng\\\\u00e4nge zum Lernen, Angebote z.B. aus den Bereichen Sport, Kultur, Berufsorientierung \\\\\\\\nund Gesundheit sowie Freir\\\\u00e4ume f\\\\u00fcr Selbstbildungsprozesse und selbstbestimmte Ak-\\\\\\\\ntivit\\\\u00e4ten.  \\\\\\\\nZu den Zielen ganzt\\\\u00e4giger Bildung tr\\\\u00e4gt ebenso die Organisationsform fakultativer Ar-\\\\\\\\nbeitsgemeinschaften bei. Diese sind in Ausrichtung und Zielsetzung nicht gebunden \\\\\\\\nan curriculare Vorgaben und konstituieren sich aus den Neigungen, Interessen und \\\\\\\\nBedarfen von Sch\\\\u00fclerinnen und Sch\\\\u00fclern sowie aus Impulsen der Lehrkr\\\\u00e4fte und wei-\\\\\\\\nteren p\\\\u00e4dagogischen Personals.  \\\\\\\\nGanztagsschulen halten ganzheitliche Angebote vor, auch f\\\\u00fcr Sch\\\\u00fclerinnen und Sch\\\\u00fc-\\\\\\\\nler mit sonderp\\\\u00e4dagogischem Unterst\\\\u00fctzungsbedarf. Ganzt\\\\u00e4gige Bildung nutzt vielf\\\\u00e4l-\\\\\\\\ntige und alternative Zug\\\\u00e4nge und Formate, die auch klassen- beziehungsweise jahr-\\\\\\\\ngangstufen\\\\u00fcbergreifend organisiert werden k\\\\u00f6nnen.  \\\\\\\\n \\\\\\\\nMit Fokus auf die Gestaltung des \\\\u00dcbergangs Schule-Beruf und die Berufliche Orien-\\\\\\\\ntierung, stellen Praxisphasen einen verpflichtenden Baustein schulischer Bildung dar, \\\\\\\\nder Sch\\\\u00fclerinnen und Sch\\\\u00fclern eine ad\\\\u00e4quate M\\\\u00f6glichkeit bietet, um Berufe und Ar-\\\\\\\\nbeitswelt kennenzulernen sowie individuelle Interessen und Zukunftsvorstellungen zu \\\\\\\\nsondieren. Praxisphasen als Teil schulischer Ausbildung ist schulprogrammatisch ver-\\\\\\\\nankert, es wird in der Vor- und Nachbereitung sowie in der Durchf\\\\u00fchrung von Lehrkr\\\\u00e4f-\\\\\\\\nten angemessen begleitet.  \\\\\\\\n \\\\\\\\n3.3 Leistung erfassen und bewerten  \\\\\\\\nDie Grundlagen der Leistungsbewertung sind im Schulgesetz und in den Ausbildungs- \\\\\\\\nund Pr\\\\u00fcfungsordnungen der jeweiligen Schulformen beziehungsweise -stufen veran-\\\\\\\\nkert. Weiterhin folgt die Leistungsbewertung den Ma\\\\u00dfgaben dieser Richtlinie sowie der \\\\\\\\nLehr- und Kernlehrpl\\\\u00e4ne und dem erteilten Unterricht. \\\\\\\\nKompetenzorientierter Unterricht gliedert sich in Lehr-, Lern- und \\\\u00dcberpr\\\\u00fcfungspha-\\\\\\\\nsen. Neben Unterrichtsphasen des Lernens, \\\\u00dcbens und Vertiefens stehen Phasen der \\\\\\\\nm\\\\u00fcndlichen, schriftlichen und praktischen Leistungserfassung. Damit ist die \\\\u00dcberpr\\\\u00fc-\\\\\\\\nfung des Grades des Kompetenzerwerbs und des Wissensstands gemeint. Hier\\\\u00fcber \\\\\\\\nlassen sich R\\\\u00fcckschl\\\\u00fcsse ziehen auf den fachcurricular zu erzielenden Lernerfolg der \\\\\\\\nSch\\\\u00fclerinnen und Sch\\\\u00fcler einerseits und \\\\u00fcber die Lernwirksamkeit des Unterrichts an-\\\\\\\\ndererseits. Lehrkr\\\\u00e4ften dienen die Ergebnisse von Leistungs\\\\u00fcberpr\\\\u00fcfungen als Grund-\\\\\\\\nlage f\\\\u00fcr weitere F\\\\u00f6rderangebote und Schullaufbahnberatungen. \\\\\\\\nSchule nimmt nicht nur messbares Wissen und K\\\\u00f6nnen in den Blick, sondern auch die \\\\\\\\nSelbst-, Personal- und Sozialkompetenzen. Durch die Einordnung und Bewertung der\\', metadata={\\'page\\': 14, \\'source\\': \\'user_2e4ace06-270b-429b-9726-f937261ed293_Entwurf_RiLi_VerbBtlg_2023_08_18.pdf\\'})]\\\\n---------\\\\n\\\\nLos geht\\'s!\\\\n\\\\nAufgabe: Plane eine Unterrichtsstunde im Fach English zum Thema Shakespeare f\\\\u00fcr eine 13. Klasse in Bayern f\\\\u00fcr den Schultyp English.\\\\nLege bei dieser Aufgabe einen besonderen Fokus auf die folgenden Schl\\\\u00fcsselbegriffe:\\\\n    \\\\nSchl\\\\u00fcsselbegriffe:\\\\n------------------\\\\nshakespeare\\\\npoetry\\\\nanalysis\\\\n------------------\", \"output\": \"Unterrichtsstunde: \\\\\"Die Poesie von Shakespeare: Eine Analyse\\\\\"\\\\n\\\\nInhaltliche Struktur:\\\\n\\\\n1. Einf\\\\u00fchrung (10 Minuten): \\\\n   - Beginne die Unterrichtsstunde mit einer kurzen Einf\\\\u00fchrung in das Leben und die Werke von Shakespeare. \\\\n   - Erkl\\\\u00e4re, warum Shakespeare ein bedeutender Dichter und Dramatiker ist.\\\\n\\\\n2. Hinf\\\\u00fchrung zum Thema (10 Minuten): \\\\n   - Zeige den Sch\\\\u00fclerinnen und Sch\\\\u00fclern ein bekanntes Gedicht von Shakespeare, zum Beispiel ein Sonett. \\\\n   - Diskutiere mit den Sch\\\\u00fclerinnen und Sch\\\\u00fclern \\\\u00fcber die Themen, die in Shakespeares Gedichten h\\\\u00e4ufig auftauchen.\\\\n\\\\n3. Analyse (20 Minuten): \\\\n   - Teile die Klasse in Gruppen auf und verteile verschiedene Gedichte von Shakespeare. \\\\n   - Die Sch\\\\u00fclerinnen und Sch\\\\u00fcler sollen die Gedichte analysieren und die wichtigsten Themen, Stilmittel und die Bedeutung des Gedichts herausarbeiten. \\\\n\\\\n4. Pr\\\\u00e4sentation und Diskussion (15 Minuten): \\\\n   - Jede Gruppe pr\\\\u00e4sentiert ihre Analyse vor der Klasse. \\\\n   - F\\\\u00fchre eine Diskussion \\\\u00fcber die verschiedenen Interpretationen und Analysen der Gedichte.\\\\n\\\\n5. Zusammenfassung und Ausblick (5 Minuten): \\\\n   - Fasse die wichtigsten Punkte der Stunde zusammen. \\\\n   - Gib einen Ausblick auf die n\\\\u00e4chste Stunde, in der die Sch\\\\u00fclerinnen und Sch\\\\u00fcler ihre eigenen Gedichte schreiben sollen, die von Shakespeares Stil inspiriert sind.\\\\n\\\\nZeitliche Struktur:\\\\n\\\\n1. Einf\\\\u00fchrung: 10 Minuten\\\\n2. Hinf\\\\u00fchrung zum Thema: 10 Minuten\\\\n3. Analyse: 20 Minuten\\\\n4. Pr\\\\u00e4sentation und Diskussion: 15 Minuten\\\\n5. Zusammenfassung und Ausblick: 5 Minuten\\\\n\\\\nInsgesamt: 60 Minuten\\\\n\\\\nHinweis: Diese Unterrichtsstunde ist so konzipiert, dass sie die individuellen Bed\\\\u00fcrfnisse und F\\\\u00e4higkeiten der Sch\\\\u00fclerinnen und Sch\\\\u00fcler ber\\\\u00fccksichtigt. Sie f\\\\u00f6rdert die sprachlichen Kompetenzen der Sch\\\\u00fclerinnen und Sch\\\\u00fcler und erm\\\\u00f6glicht es ihnen, selbst sprachlich aktiv zu werden. Dar\\\\u00fcber hinaus f\\\\u00f6rdert sie die Lernmotivation und bietet Raum f\\\\u00fcr Diskussion und kritisches Denken.\", \"intermediate_steps\": [], \"context\": [{\"page_content\": \"ENTWURF RICHTLINIEN 02.08.2023    \\\\n 14 Neben diesen Ma\\\\u00dfnahmen zur individuellen F\\\\u00f6rderung im kompetenzorientierten Un-\\\\nterricht sind sonderp\\\\u00e4dagogische F\\\\u00f6rderpl\\\\u00e4ne ein zentrales Element der Bildungspla-\\\\nnung f\\\\u00fcr Sch\\\\u00fclerinnen und Sch\\\\u00fcler mit Bedarf an sonderp\\\\u00e4dagogischer Unterst\\\\u00fctzung. \\\\nDer F\\\\u00f6rderplan als Lern- und Entwicklungsplan konkretisiert den sonderp\\\\u00e4dagogi-\\\\nschen Unterst\\\\u00fctzungsbedarf zum Unterricht und macht die daraus abzuleitenden F\\\\u00f6r-\\\\nderma\\\\u00dfnahmen und die Lernfortschritte f\\\\u00fcr alle Beteiligten nachvollziehbar und trans-\\\\nparent. Hierzu kooperieren die Lehrkr\\\\u00e4fte mit allen anderen an der F\\\\u00f6rderung beteilig-\\\\nten Personen. F\\\\u00f6rderpl\\\\u00e4ne im Kontext sonderp\\\\u00e4dagogischer F\\\\u00f6rderung sind als In-\\\\nstrument kontinuierlich weiterzuentwickeln und zu aktualisieren. Unabh\\\\u00e4ngig von der \\\\nf\\\\u00f6rmlichen Feststellung eines sonderp\\\\u00e4dagogischen Unterst\\\\u00fctzungsbedarfs ist ein in-\\\\ndividueller F\\\\u00f6rderplan immer dann zu erstellen, wenn die Bedarfe der Sch\\\\u00fclerin oder \\\\ndes Sch\\\\u00fclers dies erfordern. \\\\nSch\\\\u00fclerinnen und Sch\\\\u00fcler erwerben im kompetenzorientierten Unterricht neben fach-\\\\nlichen unter anderem auch bildungssprachliche Kompetenzen. Sprachliches und fach-\\\\nliches Lernen sind im Unterricht untrennbar miteinander verbunden. Bildungssprache \\\\nunterscheidet sich von der Alltagssprache durch ein hohes Ma\\\\u00df an konzeptioneller \\\\nSchriftlichkeit. Sie findet Ausdruck im m\\\\u00fcndlichen und schriftlichen Sprachgebrauch. \\\\nBildungssprachliche Kompetenzen werden durch eigenes sprachliches Handeln er-\\\\nworben und erweitert. Im Unterricht erhalten alle Sch\\\\u00fclerinnen und Sch\\\\u00fcler daher Ge-\\\\nlegenheiten, selbst sprachlich aktiv zu werden, l\\\\u00e4ngere m\\\\u00fcndliche Beitr\\\\u00e4ge zu formu-\\\\nlieren und eigene Texte zu verfassen. Aufgabe der Lehrkraft ist es, als sprachliches \\\\nVorbild zu agieren und das Register Bildungssprache explizit im Unterricht zum Thema \\\\nzu machen.  \\\\nNeben vielf\\\\u00e4ltigen individuellen Begabungen treffen Sch\\\\u00fclerinnen und Sch\\\\u00fcler unter-\\\\nschiedlicher Herkunft, verschiedener Orientierungen und \\\\u00dcberzeugungen sowie mit \\\\nund ohne festgestellten Bedarf an sonderp\\\\u00e4dagogischer Unterst\\\\u00fctzung in Schule und \\\\nUnterricht zusammen. Aufgabe der Schule ist es, diese Vielfalt in den Lern- und Bil-\\\\ndungsprozessen zu ber\\\\u00fccksichtigen und sie durch eine umfassende und differenzierte \\\\nBildungs- und Erziehungsarbeit aller Sch\\\\u00fclerinnen und Sch\\\\u00fcler mit dem Ziel zu nutzen, \\\\nihnen bestm\\\\u00f6gliche Bildung und Chancengerechtigkeit zu erm\\\\u00f6glichen. \\\\n  \\\\n3.2 Organisationsformen des Lehrens und Lernens \\\\nKompetenzorientierter Unterricht findet haupts\\\\u00e4chlich in einem nach F\\\\u00e4chern und \\\\nLernbereichen organisierten Unterricht statt, der zeitgem\\\\u00e4\\\\u00dfen Anspr\\\\u00fcchen an Didaktik \\\\nund Methodik folgt. Lernmotivation stellt im kompetenzorientierten Unterricht eine we-\\\\nsentliche Komponente dar. Sie f\\\\u00f6rdert die Bereitschaft und F\\\\u00e4higkeit der Sch\\\\u00fclerinnen \\\\nund Sch\\\\u00fcler zum Lernen.  \\\\n \\\\nGanzt\\\\u00e4gige Bildungsangebote bieten mehr Zeit und Raum f\\\\u00fcr Bildung, Erziehung und \\\\nBetreuung. Der Ganztag tr\\\\u00e4gt ma\\\\u00dfgeblich zur ganzheitlichen Bildung, zur Pers\\\\u00f6nlich-\\\\nkeitsentwicklung, zum Aufbau von Selbst- und Sozialkompetenzen sowie zur St\\\\u00e4rkung \\\\nvon F\\\\u00e4higkeiten und Talenten bei.  \\\\nGanztagsschulen entwickeln sich unter Einbeziehung des schulischen Umfelds und \\\\nau\\\\u00dferschulischer Partner, insbesondere der Jugendhilfe, zu einem ganzt\\\\u00e4gigen Lern-\", \"metadata\": {\"page\": 13, \"source\": \"user_2e4ace06-270b-429b-9726-f937261ed293_Entwurf_RiLi_VerbBtlg_2023_08_18.pdf\"}, \"type\": \"Document\"}, {\"page_content\": \"ENTWURF RICHTLINIEN 02.08.2023    \\\\n 15 , Erfahrungs- und Lebensraum. Eine kind- und jugendgerechte Ganztagsbildung er-\\\\nm\\\\u00f6glicht die Einbindung zus\\\\u00e4tzlicher Lernangebote und orientiert sich an den Bed\\\\u00fcrf-\\\\nnissen der Kinder und Jugendlichen. Ganztagsangebote werden mit vielf\\\\u00e4ltigen Part-\\\\nnern umgesetzt. Zentrale Merkmale des Ganztags sind u.a. Konzepte zur F\\\\u00f6rderung \\\\nbesonderer Interessen und Bedarfe der Sch\\\\u00fclerinnen und Sch\\\\u00fcler, zus\\\\u00e4tzliche Zu-\\\\ng\\\\u00e4nge zum Lernen, Angebote z.B. aus den Bereichen Sport, Kultur, Berufsorientierung \\\\nund Gesundheit sowie Freir\\\\u00e4ume f\\\\u00fcr Selbstbildungsprozesse und selbstbestimmte Ak-\\\\ntivit\\\\u00e4ten.  \\\\nZu den Zielen ganzt\\\\u00e4giger Bildung tr\\\\u00e4gt ebenso die Organisationsform fakultativer Ar-\\\\nbeitsgemeinschaften bei. Diese sind in Ausrichtung und Zielsetzung nicht gebunden \\\\nan curriculare Vorgaben und konstituieren sich aus den Neigungen, Interessen und \\\\nBedarfen von Sch\\\\u00fclerinnen und Sch\\\\u00fclern sowie aus Impulsen der Lehrkr\\\\u00e4fte und wei-\\\\nteren p\\\\u00e4dagogischen Personals.  \\\\nGanztagsschulen halten ganzheitliche Angebote vor, auch f\\\\u00fcr Sch\\\\u00fclerinnen und Sch\\\\u00fc-\\\\nler mit sonderp\\\\u00e4dagogischem Unterst\\\\u00fctzungsbedarf. Ganzt\\\\u00e4gige Bildung nutzt vielf\\\\u00e4l-\\\\ntige und alternative Zug\\\\u00e4nge und Formate, die auch klassen- beziehungsweise jahr-\\\\ngangstufen\\\\u00fcbergreifend organisiert werden k\\\\u00f6nnen.  \\\\n \\\\nMit Fokus auf die Gestaltung des \\\\u00dcbergangs Schule-Beruf und die Berufliche Orien-\\\\ntierung, stellen Praxisphasen einen verpflichtenden Baustein schulischer Bildung dar, \\\\nder Sch\\\\u00fclerinnen und Sch\\\\u00fclern eine ad\\\\u00e4quate M\\\\u00f6glichkeit bietet, um Berufe und Ar-\\\\nbeitswelt kennenzulernen sowie individuelle Interessen und Zukunftsvorstellungen zu \\\\nsondieren. Praxisphasen als Teil schulischer Ausbildung ist schulprogrammatisch ver-\\\\nankert, es wird in der Vor- und Nachbereitung sowie in der Durchf\\\\u00fchrung von Lehrkr\\\\u00e4f-\\\\nten angemessen begleitet.  \\\\n \\\\n3.3 Leistung erfassen und bewerten  \\\\nDie Grundlagen der Leistungsbewertung sind im Schulgesetz und in den Ausbildungs- \\\\nund Pr\\\\u00fcfungsordnungen der jeweiligen Schulformen beziehungsweise -stufen veran-\\\\nkert. Weiterhin folgt die Leistungsbewertung den Ma\\\\u00dfgaben dieser Richtlinie sowie der \\\\nLehr- und Kernlehrpl\\\\u00e4ne und dem erteilten Unterricht. \\\\nKompetenzorientierter Unterricht gliedert sich in Lehr-, Lern- und \\\\u00dcberpr\\\\u00fcfungspha-\\\\nsen. Neben Unterrichtsphasen des Lernens, \\\\u00dcbens und Vertiefens stehen Phasen der \\\\nm\\\\u00fcndlichen, schriftlichen und praktischen Leistungserfassung. Damit ist die \\\\u00dcberpr\\\\u00fc-\\\\nfung des Grades des Kompetenzerwerbs und des Wissensstands gemeint. Hier\\\\u00fcber \\\\nlassen sich R\\\\u00fcckschl\\\\u00fcsse ziehen auf den fachcurricular zu erzielenden Lernerfolg der \\\\nSch\\\\u00fclerinnen und Sch\\\\u00fcler einerseits und \\\\u00fcber die Lernwirksamkeit des Unterrichts an-\\\\ndererseits. Lehrkr\\\\u00e4ften dienen die Ergebnisse von Leistungs\\\\u00fcberpr\\\\u00fcfungen als Grund-\\\\nlage f\\\\u00fcr weitere F\\\\u00f6rderangebote und Schullaufbahnberatungen. \\\\nSchule nimmt nicht nur messbares Wissen und K\\\\u00f6nnen in den Blick, sondern auch die \\\\nSelbst-, Personal- und Sozialkompetenzen. Durch die Einordnung und Bewertung der\", \"metadata\": {\"page\": 14, \"source\": \"user_2e4ace06-270b-429b-9726-f937261ed293_Entwurf_RiLi_VerbBtlg_2023_08_18.pdf\"}, \"type\": \"Document\"}]}'"
      ]
     },
     "execution_count": 36,
     "metadata": {},
     "output_type": "execute_result"
    }
   ],
   "source": [
    "output"
   ]
  },
  {
   "cell_type": "code",
   "execution_count": null,
   "metadata": {},
   "outputs": [],
   "source": [
    "def download_file_from_bucket(destination: str, full_path: str, path: str):\n",
    "    full_path_list = full_path.split(\"/\")\n",
    "    bucket_name = full_path_list[0]\n",
    "    with open(destination, 'wb+') as f:\n",
    "        storage_file = supabase_client.storage.from_(bucket_name).download(path)\n",
    "        f.write(storage_file)"
   ]
  },
  {
   "cell_type": "code",
   "execution_count": null,
   "metadata": {},
   "outputs": [
    {
     "name": "stderr",
     "output_type": "stream",
     "text": [
      "2024-02-01 18:23:05,084:INFO - HTTP Request: GET https://smxwnqdpxcvclxhbvhsf.supabase.co/storage/v1/object/context_uploads/user_2e4ace06-270b-429b-9726-f937261ed293/RMH-Rechnung_12_23.pdf \"HTTP/1.1 200 OK\"\n"
     ]
    }
   ],
   "source": [
    "download_file_from_bucket(\"RMH-Rechnung_12_23.pdf\", \"context_uploads/user_2e4ace06-270b-429b-9726-f937261ed293/RMH-Rechnung_12_23.pdf\", \"user_2e4ace06-270b-429b-9726-f937261ed293/RMH-Rechnung_12_23.pdf\")"
   ]
  },
  {
   "cell_type": "code",
   "execution_count": null,
   "metadata": {},
   "outputs": [],
   "source": [
    "upload_dict = {\"path\":\"user_2e4ace06-270b-429b-9726-f937261ed293/RMH-Rechnung_12_23.pdf\",\"id\":\"c2f81078-039d-435a-b0c6-84534ac9048f\",\"fullPath\":\"context_uploads/user_2e4ace06-270b-429b-9726-f937261ed293/RMH-Rechnung_12_23.pdf\"}"
   ]
  },
  {
   "cell_type": "code",
   "execution_count": null,
   "metadata": {},
   "outputs": [],
   "source": [
    "full_path = upload_dict['fullPath']"
   ]
  },
  {
   "cell_type": "code",
   "execution_count": null,
   "metadata": {},
   "outputs": [
    {
     "data": {
      "text/plain": [
       "'context_uploads/user_2e4ace06-270b-429b-9726-f937261ed293/RMH-Rechnung_12_23.pdf'"
      ]
     },
     "execution_count": 3,
     "metadata": {},
     "output_type": "execute_result"
    }
   ],
   "source": [
    "full_path"
   ]
  },
  {
   "cell_type": "code",
   "execution_count": null,
   "metadata": {},
   "outputs": [
    {
     "data": {
      "text/plain": [
       "'context_uploads'"
      ]
     },
     "execution_count": 6,
     "metadata": {},
     "output_type": "execute_result"
    }
   ],
   "source": [
    "full_path.split(\"/\")"
   ]
  },
  {
   "cell_type": "code",
   "execution_count": null,
   "metadata": {},
   "outputs": [
    {
     "name": "stderr",
     "output_type": "stream",
     "text": [
      "2024-02-02 18:49:17,954:INFO - HTTP Request: GET https://smxwnqdpxcvclxhbvhsf.supabase.co/storage/v1/object/context_uploads/user_2e4ace06-270b-429b-9726-f937261ed293/RMH-Rechnung_12_23.pdf \"HTTP/1.1 200 OK\"\n"
     ]
    },
    {
     "name": "stdout",
     "output_type": "stream",
     "text": [
      "user_2e4ace06-270b-429b-9726-f937261ed293_RMH-Rechnung_12_23.pdf\n",
      "('application/pdf', None)\n",
      "user_2e4ace06-270b-429b-9726-f937261ed293_RMH-Rechnung_12_23.pdf\n"
     ]
    },
    {
     "ename": "TypeError",
     "evalue": "PyPDFLoader.__init__() got an unexpected keyword argument 'autodetect_encoding'",
     "output_type": "error",
     "traceback": [
      "\u001b[0;31m---------------------------------------------------------------------------\u001b[0m",
      "\u001b[0;31mTypeError\u001b[0m                                 Traceback (most recent call last)",
      "Cell \u001b[0;32mIn[28], line 19\u001b[0m\n\u001b[1;32m     17\u001b[0m \u001b[38;5;28;01melif\u001b[39;00m mimetypes\u001b[38;5;241m.\u001b[39mguess_type(file_path)[\u001b[38;5;241m0\u001b[39m] \u001b[38;5;241m==\u001b[39m \u001b[38;5;124m'\u001b[39m\u001b[38;5;124mapplication/pdf\u001b[39m\u001b[38;5;124m'\u001b[39m:\n\u001b[1;32m     18\u001b[0m     \u001b[38;5;28mprint\u001b[39m(file_path)\n\u001b[0;32m---> 19\u001b[0m     \u001b[43mupload_pdf\u001b[49m\u001b[43m(\u001b[49m\u001b[43mfile_path\u001b[49m\u001b[43m)\u001b[49m\n\u001b[1;32m     20\u001b[0m vector_store_ids \u001b[38;5;241m=\u001b[39m get_uploaded_ids(file_path, interface_config\u001b[38;5;241m.\u001b[39mupload_table_name)\n",
      "File \u001b[0;32m~/unterricht.python-backend/api/files_service.py:35\u001b[0m, in \u001b[0;36mupload_pdf\u001b[0;34m(path)\u001b[0m\n\u001b[1;32m     34\u001b[0m \u001b[38;5;28;01mdef\u001b[39;00m \u001b[38;5;21mupload_pdf\u001b[39m(path):\n\u001b[0;32m---> 35\u001b[0m     loader \u001b[38;5;241m=\u001b[39m \u001b[43mPyPDFLoader\u001b[49m\u001b[43m(\u001b[49m\u001b[43mpath\u001b[49m\u001b[43m,\u001b[49m\u001b[43m \u001b[49m\u001b[43mautodetect_encoding\u001b[49m\u001b[38;5;241;43m=\u001b[39;49m\u001b[38;5;28;43;01mTrue\u001b[39;49;00m\u001b[43m)\u001b[49m\n\u001b[1;32m     36\u001b[0m     output \u001b[38;5;241m=\u001b[39m loader\u001b[38;5;241m.\u001b[39mload_and_split(\n\u001b[1;32m     37\u001b[0m         CharacterTextSplitter(separator\u001b[38;5;241m=\u001b[39m\u001b[38;5;124m'\u001b[39m\u001b[38;5;124m. \u001b[39m\u001b[38;5;124m'\u001b[39m))\n\u001b[1;32m     38\u001b[0m     supa \u001b[38;5;241m=\u001b[39m SupabaseVectorStore\u001b[38;5;241m.\u001b[39mfrom_documents(\n\u001b[1;32m     39\u001b[0m         output, OpenAIEmbeddings(),\n\u001b[1;32m     40\u001b[0m         client\u001b[38;5;241m=\u001b[39msupabase_client,\n\u001b[1;32m     41\u001b[0m         table_name\u001b[38;5;241m=\u001b[39minterface_config\u001b[38;5;241m.\u001b[39mupload_table_name,\n\u001b[1;32m     42\u001b[0m     )\n",
      "\u001b[0;31mTypeError\u001b[0m: PyPDFLoader.__init__() got an unexpected keyword argument 'autodetect_encoding'"
     ]
    }
   ],
   "source": [
    "import os\n",
    "import tempfile\n",
    "import mimetypes\n",
    "from flask import Flask, request, jsonify\n",
    "from werkzeug.utils import secure_filename\n",
    "\n",
    "from api.files_service import allowed_file, download_file_from_bucket, upload_text, upload_pdf, get_uploaded_ids\n",
    "from api.ai_service import getanswer\n",
    "\n",
    "\n",
    "file_path = secure_filename(\"user_2e4ace06-270b-429b-9726-f937261ed293/RMH-Rechnung_12_23.pdf\")  \n",
    "print(file_path)  \n",
    "download_file_from_bucket(file_path, \"context_uploads/user_2e4ace06-270b-429b-9726-f937261ed293/RMH-Rechnung_12_23.pdf\", \"user_2e4ace06-270b-429b-9726-f937261ed293/RMH-Rechnung_12_23.pdf\")\n",
    "print(mimetypes.guess_type(file_path))\n",
    "if mimetypes.guess_type(file_path)[0] == 'text/plain':\n",
    "    upload_text(file_path)\n",
    "elif mimetypes.guess_type(file_path)[0] == 'application/pdf':\n",
    "    print(file_path)\n",
    "    upload_pdf(file_path)\n",
    "vector_store_ids = get_uploaded_ids(file_path, interface_config.upload_table_name)\n"
   ]
  },
  {
   "cell_type": "code",
   "execution_count": null,
   "metadata": {},
   "outputs": [],
   "source": [
    "{\n",
    "  \"id\": \"chatcmpl-123\",\n",
    "  \"object\": \"chat.completion\",\n",
    "  \"created\": 1677652288,\n",
    "  \"model\": \"gpt-3.5-turbo-0613\",\n",
    "  \"system_fingerprint\": \"fp_44709d6fcb\",\n",
    "  \"choices\": [{\n",
    "    \"index\": 0,\n",
    "    \"message\": {\n",
    "      \"role\": \"assistant\",\n",
    "      \"content\": \"\\n\\nHello there, how may I assist you today?\",\n",
    "    },\n",
    "    \"logprobs\": null,\n",
    "    \"finish_reason\": \"stop\"\n",
    "  }],\n",
    "  \"usage\": {\n",
    "    \"prompt_tokens\": 9,\n",
    "    \"completion_tokens\": 12,\n",
    "    \"total_tokens\": 21\n",
    "  }\n",
    "}\n"
   ]
  }
 ],
 "metadata": {
  "kernelspec": {
   "display_name": "unterricht-python-backend-9Hag_kgR-py3.10",
   "language": "python",
   "name": "python3"
  },
  "language_info": {
   "codemirror_mode": {
    "name": "ipython",
    "version": 3
   },
   "file_extension": ".py",
   "mimetype": "text/x-python",
   "name": "python",
   "nbconvert_exporter": "python",
   "pygments_lexer": "ipython3",
   "version": "3.10.13"
  }
 },
 "nbformat": 4,
 "nbformat_minor": 2
}
