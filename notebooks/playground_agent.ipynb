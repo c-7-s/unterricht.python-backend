{
 "cells": [
  {
   "cell_type": "code",
   "execution_count": 1,
   "metadata": {},
   "outputs": [],
   "source": [
    "from langchain import hub\n",
    "from langchain_openai import OpenAIEmbeddings\n",
    "from langchain.vectorstores.supabase import SupabaseVectorStore\n",
    "from langchain.agents import AgentExecutor, create_openai_functions_agent\n",
    "from langchain.chains.question_answering import load_qa_chain\n",
    "from langchain_openai import OpenAI\n",
    "from langchain.tools.retriever import create_retriever_tool\n",
    "from langchain_community.tools.tavily_search import TavilySearchResults\n",
    "from langchain_openai import ChatOpenAI\n",
    "from typing import Dict, Any, Tuple, List\n",
    "from langchain.utilities.tavily_search import TavilySearchAPIWrapper\n",
    "from langchain.tools.tavily_search import TavilySearchResults"
   ]
  },
  {
   "cell_type": "code",
   "execution_count": 2,
   "metadata": {},
   "outputs": [],
   "source": [
    "from utils.utils import initialize_environment_variables, initialize_subabase_client, initialize_openai_client\n",
    "from utils.utils import initialize_tavily_client\n",
    "\n",
    "initialize_environment_variables(\"../.env\")\n",
    "\n",
    "# Initialize Supabase Client\n",
    "supabase_client = initialize_subabase_client()\n",
    "\n",
    "# Initialize OpenAI Client\n",
    "openai_client = initialize_openai_client()\n",
    "\n",
    "# Initialize Tavily Client\n",
    "tavily_client = initialize_tavily_client()"
   ]
  },
  {
   "cell_type": "code",
   "execution_count": 3,
   "metadata": {},
   "outputs": [],
   "source": [
    "input_dict = {\n",
    "\"school_type\": \"Gymnasium\",\n",
    "\"subject\": \"English\",\n",
    "\"topic\": \"Shakespeare\",\n",
    "\"grade\": \"13.\",\n",
    "\"state\": \"Bayern\",\n",
    "\"keywords\": [\"shakespeare\", \"poetry\", \"analysis\"], \n",
    "\"context\": [\"Pedagogy.pdf\"]\n",
    "}"
   ]
  },
  {
   "cell_type": "code",
   "execution_count": 4,
   "metadata": {},
   "outputs": [],
   "source": [
    "def unpack_prompt_input(input: Dict[str, Any]) -> Tuple[str, str, str, str, List[str], List[str]]:\n",
    "    school_type = str(input.get(\"subject\"))\n",
    "    subject = str(input.get(\"subject\"))\n",
    "    topic = str(input.get(\"topic\"))\n",
    "    grade = str(input.get(\"grade\"))\n",
    "    state = str(input.get(\"state\"))\n",
    "    keywords = [str(i) for i in input.get(\"keywords\")]\n",
    "    context = [str(i) for i in input.get(\"context\")]\n",
    "    return school_type, subject, topic, grade, state, keywords, context"
   ]
  },
  {
   "cell_type": "code",
   "execution_count": 5,
   "metadata": {},
   "outputs": [],
   "source": [
    "school_type, subject, topic, grade, state, keywords, context = unpack_prompt_input(input_dict)"
   ]
  },
  {
   "cell_type": "code",
   "execution_count": 6,
   "metadata": {},
   "outputs": [],
   "source": [
    "task = f\"Plane eine Unterrichtsstunde im Fach {subject} zum Thema {topic} für eine {grade} Klasse in {state} für den Schultyp {school_type}.\""
   ]
  },
  {
   "cell_type": "code",
   "execution_count": 11,
   "metadata": {},
   "outputs": [],
   "source": [
    "filter_dict = {\"source\": [str(\"docs/\" + i) for i in context]}"
   ]
  },
  {
   "cell_type": "code",
   "execution_count": 21,
   "metadata": {},
   "outputs": [],
   "source": [
    "filter_dict = {'source':'docs/Pedagogy.pdf', \"source\":'docs/LIS_PDF_29-01-2024.pdf'}"
   ]
  },
  {
   "cell_type": "code",
   "execution_count": 22,
   "metadata": {},
   "outputs": [
    {
     "name": "stderr",
     "output_type": "stream",
     "text": [
      "2024-01-29 20:47:50,066:INFO - HTTP Request: POST https://api.openai.com/v1/embeddings \"HTTP/1.1 200 OK\"\n",
      "2024-01-29 20:47:50,212:INFO - HTTP Request: POST https://smxwnqdpxcvclxhbvhsf.supabase.co/rest/v1/rpc/match_documents?limit=2 \"HTTP/1.1 200 OK\"\n"
     ]
    }
   ],
   "source": [
    "embeddings = OpenAIEmbeddings()\n",
    "vector_store = SupabaseVectorStore(\n",
    "    client=supabase_client,\n",
    "    embedding=embeddings,\n",
    "    table_name=\"documents_new\",\n",
    ")\n",
    "relevant_chunks = vector_store.similarity_search(task,k=2,filter=filter_dict)"
   ]
  },
  {
   "cell_type": "code",
   "execution_count": 23,
   "metadata": {},
   "outputs": [
    {
     "data": {
      "text/plain": [
       "[Document(page_content='Lehrplanauszüge\\n29.01.2024 1Fachlehrpläne\\nGymnasium: Englisch 12/13 (grundlegendes  \\nAnforderungsniveau)\\ngültig ab Schuljahr 2024/25\\nE12/13 1: Kommunikative Kompetenzen\\nE12/13 1.1: Kommunikative Fertigkeiten\\nE12/13 : Hör- und Hörsehverstehen\\nKompetenzerwartungen und Inhalte\\nDie Schülerinnen und Schüler ...\\n•entnehmen einem authentischen Hör- bzw. Hörsehtext die  \\nHauptaussagen oder Einzelinformationen entsprechend der Hör-  \\nbzw. Hörseh-Absicht, auch wenn Hintergrundgeräusche oder die Art  \\nder Wiedergabe das Verstehen beeinﬂussen.\\n•kombinieren textinterne Informationen und breites textexternes  \\nWissen und erfassen ggf. die Wirkungsabsicht des Textes.\\n•wenden in Abhängigkeit von der jeweiligen Hör-/Hörseh-Absicht  \\nRezeptionsstrategien an, auch unter Berücksichtigung spezifischer  \\naudiovisueller Gestaltungsmittel.\\n•setzen angemessene Strategien zur Lösung von  \\nVerständnisproblemen auch bei unbekanntem, nicht immer  \\nerschließbarem Sprachmaterial und größeren Abweichungen von der  \\nStandardsprache ein.\\n•erfassen Stimmungen und Einstellungen der Sprechenden.\\n•beziehen gehörte und gesehene Informationen aufeinander und  \\nverstehen diese in ihrem kulturellen Zusammenhang.', metadata={'page': 0, 'source': 'docs/LIS_PDF_29-01-2024.pdf'}),\n",
       " Document(page_content='Lehrplanauszüge\\n29.01.2024 1Fachlehrpläne\\nGymnasium: Englisch 12/13 (grundlegendes  \\nAnforderungsniveau)\\ngültig ab Schuljahr 2024/25\\nE12/13 1: Kommunikative Kompetenzen\\nE12/13 1.1: Kommunikative Fertigkeiten\\nE12/13 : Hör- und Hörsehverstehen\\nKompetenzerwartungen und Inhalte\\nDie Schülerinnen und Schüler ...\\n•entnehmen einem authentischen Hör- bzw. Hörsehtext die  \\nHauptaussagen oder Einzelinformationen entsprechend der Hör-  \\nbzw. Hörseh-Absicht, auch wenn Hintergrundgeräusche oder die Art  \\nder Wiedergabe das Verstehen beeinﬂussen.\\n•kombinieren textinterne Informationen und breites textexternes  \\nWissen und erfassen ggf. die Wirkungsabsicht des Textes.\\n•wenden in Abhängigkeit von der jeweiligen Hör-/Hörseh-Absicht  \\nRezeptionsstrategien an, auch unter Berücksichtigung spezifischer  \\naudiovisueller Gestaltungsmittel.\\n•setzen angemessene Strategien zur Lösung von  \\nVerständnisproblemen auch bei unbekanntem, nicht immer  \\nerschließbarem Sprachmaterial und größeren Abweichungen von der  \\nStandardsprache ein.\\n•erfassen Stimmungen und Einstellungen der Sprechenden.\\n•beziehen gehörte und gesehene Informationen aufeinander und  \\nverstehen diese in ihrem kulturellen Zusammenhang.', metadata={'page': 0, 'source': 'docs/LIS_PDF_29-01-2024.pdf'})]"
      ]
     },
     "execution_count": 23,
     "metadata": {},
     "output_type": "execute_result"
    }
   ],
   "source": [
    "relevant_chunks"
   ]
  },
  {
   "cell_type": "code",
   "execution_count": 9,
   "metadata": {},
   "outputs": [],
   "source": [
    "prompt_template = f\"\"\"Du bist ein Assistent für Lehrende und hilfst ihnen dabei ihren Unterricht vorzubereiten. \n",
    "Verwende dazu die Informationen im Kontext, um die Aufgabe am Ende zu lösen. Gib den Schlüsselwötern bei der Lösung der Aufgabe ein besonders hohes Gewicht.\n",
    "Wenn du keine Lösung findest, sage einfach, dass du die Aufgabe nicht lösen kannst, und versuche keine Antwort zu erfinden. \n",
    "Die Lösung der Aufgabe soll eine Struktur der angefragten Unterrichtsstunde enthalten inklusive einer zeitlichen Struktur.\n",
    "\n",
    "Schlüsselwörter:\n",
    "---------\n",
    "{keywords}\n",
    "---------\n",
    "\n",
    "Kontext:\n",
    "---------\n",
    "{context}\n",
    "---------\n",
    "\n",
    "Los geht's!\n",
    "\n",
    "Aufgabe: {task}\"\"\""
   ]
  },
  {
   "cell_type": "code",
   "execution_count": 10,
   "metadata": {},
   "outputs": [
    {
     "data": {
      "text/plain": [
       "\"Du bist ein Assistent für Lehrende und hilfst ihnen dabei ihren Unterricht vorzubereiten. \\nVerwende dazu die Informationen im Kontext, um die Aufgabe am Ende zu lösen. Gib den Schlüsselwötern bei der Lösung der Aufgabe ein besonders hohes Gewicht.\\nWenn du keine Lösung findest, sage einfach, dass du die Aufgabe nicht lösen kannst, und versuche keine Antwort zu erfinden. \\nDie Lösung der Aufgabe soll eine Struktur der angefragten Unterrichtsstunde enthalten inklusive einer zeitlichen Struktur.\\n\\nSchlüsselwörter:\\n---------\\n['shakespeare', 'poetry', 'analysis']\\n---------\\n\\nKontext:\\n---------\\n['pdfId#1', 'pdfId#2']\\n---------\\n\\nLos geht's!\\n\\nAufgabe: Plane eine Unterrichtsstunde im Fach English zum Thema Shakespeare für eine 13. Klasse in Bayern .\""
      ]
     },
     "execution_count": 10,
     "metadata": {},
     "output_type": "execute_result"
    }
   ],
   "source": [
    "prompt_template"
   ]
  },
  {
   "cell_type": "code",
   "execution_count": 8,
   "metadata": {},
   "outputs": [],
   "source": [
    "prompt = hub.pull(\"hwchase17/openai-functions-agent\")"
   ]
  },
  {
   "cell_type": "code",
   "execution_count": 9,
   "metadata": {},
   "outputs": [],
   "source": [
    "search = TavilySearchAPIWrapper()\n",
    "tavily_tool = TavilySearchResults(api_wrapper=search)"
   ]
  },
  {
   "cell_type": "code",
   "execution_count": 10,
   "metadata": {},
   "outputs": [],
   "source": [
    "embeddings = OpenAIEmbeddings()\n",
    "vector_store = SupabaseVectorStore(\n",
    "        client=supabase_client,\n",
    "        embedding=embeddings,\n",
    "        table_name=\"documents_new\",\n",
    "        query_name=\"match_documents_mmr\",\n",
    "    )\n",
    "retriever = vector_store.as_retriever(search_type=\"mmr\", search_kwargs={\"k\": 3, 'lambda_mult': 0.25})\n",
    "retriever_tool = tool = create_retriever_tool(\n",
    "    retriever,\n",
    "    \"search_context\",\n",
    "    \"Search relevant context information.\",\n",
    ")"
   ]
  },
  {
   "cell_type": "code",
   "execution_count": 1,
   "metadata": {},
   "outputs": [
    {
     "ename": "NameError",
     "evalue": "name 'retriever_tool' is not defined",
     "output_type": "error",
     "traceback": [
      "\u001b[0;31m---------------------------------------------------------------------------\u001b[0m",
      "\u001b[0;31mNameError\u001b[0m                                 Traceback (most recent call last)",
      "Cell \u001b[0;32mIn[1], line 1\u001b[0m\n\u001b[0;32m----> 1\u001b[0m tools \u001b[38;5;241m=\u001b[39m [\u001b[43mretriever_tool\u001b[49m, tavily_tool]\n",
      "\u001b[0;31mNameError\u001b[0m: name 'retriever_tool' is not defined"
     ]
    }
   ],
   "source": [
    "tools = [retriever_tool, tavily_tool]"
   ]
  },
  {
   "cell_type": "code",
   "execution_count": 2,
   "metadata": {},
   "outputs": [
    {
     "ename": "NameError",
     "evalue": "name 'ChatOpenAI' is not defined",
     "output_type": "error",
     "traceback": [
      "\u001b[0;31m---------------------------------------------------------------------------\u001b[0m",
      "\u001b[0;31mNameError\u001b[0m                                 Traceback (most recent call last)",
      "Cell \u001b[0;32mIn[2], line 1\u001b[0m\n\u001b[0;32m----> 1\u001b[0m llm \u001b[38;5;241m=\u001b[39m \u001b[43mChatOpenAI\u001b[49m(model_name\u001b[38;5;241m=\u001b[39m\u001b[38;5;124m\"\u001b[39m\u001b[38;5;124mgpt-4\u001b[39m\u001b[38;5;124m\"\u001b[39m, temperature\u001b[38;5;241m=\u001b[39m\u001b[38;5;241m0.5\u001b[39m)\n\u001b[1;32m      2\u001b[0m agent \u001b[38;5;241m=\u001b[39m create_openai_functions_agent(llm, tools, prompt)\n",
      "\u001b[0;31mNameError\u001b[0m: name 'ChatOpenAI' is not defined"
     ]
    }
   ],
   "source": [
    "llm = ChatOpenAI(model_name=\"gpt-4\", temperature=0.5)\n",
    "agent = create_openai_functions_agent(llm, tools, prompt)"
   ]
  },
  {
   "cell_type": "code",
   "execution_count": 13,
   "metadata": {},
   "outputs": [],
   "source": [
    "agent_executor = AgentExecutor(agent=agent, tools=tools, verbose=True)"
   ]
  },
  {
   "cell_type": "code",
   "execution_count": 14,
   "metadata": {},
   "outputs": [
    {
     "name": "stdout",
     "output_type": "stream",
     "text": [
      "\n",
      "\n",
      "\u001b[1m> Entering new AgentExecutor chain...\u001b[0m\n"
     ]
    },
    {
     "name": "stderr",
     "output_type": "stream",
     "text": [
      "2024-01-29 12:10:07,709:INFO - HTTP Request: POST https://api.openai.com/v1/chat/completions \"HTTP/1.1 200 OK\"\n"
     ]
    },
    {
     "name": "stdout",
     "output_type": "stream",
     "text": [
      "\u001b[32;1m\u001b[1;3mHier ist ein Vorschlag für die Struktur einer Unterrichtsstunde zum Thema Integrale:\n",
      "\n",
      "1. **Einführung (10 Minuten):** Beginnen Sie mit einem kurzen Rückblick auf die vorherigen Lektionen, die sich mit der Differentialrechnung beschäftigt haben. Erklären Sie dann, dass der heutige Unterricht sich auf das Thema Integrale konzentriert, welches das Gegenstück zur Differentialrechnung ist.\n",
      "\n",
      "2. **Theoretischer Teil (20 Minuten):** Führen Sie die Schüler in das Konzept der Integralrechnung ein. Erklären Sie, was ein Integral ist, und zeigen Sie, wie es graphisch dargestellt wird. Stellen Sie die Formel für das unbestimmte Integral vor und gehen Sie durch einige einfache Beispiele, um zu zeigen, wie es berechnet wird.\n",
      "\n",
      "3. **Praktischer Teil (20 Minuten):** Lassen Sie die Schüler einige Übungsaufgaben zur Berechnung von Integralen machen. Beginnen Sie mit einfachen Beispielen und steigern Sie dann allmählich den Schwierigkeitsgrad. Gehen Sie im Klassenzimmer herum und helfen Sie den Schülern bei Bedarf.\n",
      "\n",
      "4. **Diskussion und Anwendung (15 Minuten):** Diskutieren Sie einige praktische Anwendungen der Integralrechnung, z.B. in der Physik und Ingenieurwissenschaften. Lassen Sie die Schüler Beispiele für die Anwendung von Integralen in realen Situationen finden.\n",
      "\n",
      "5. **Zusammenfassung und Ausblick (5 Minuten):** Fassen Sie die wichtigsten Punkte der Lektion zusammen und geben Sie einen Ausblick auf das nächste Thema. Stellen Sie sicher, dass die Schüler die Möglichkeit haben, Fragen zu stellen und Unklarheiten zu klären.\n",
      "\n",
      "Bitte beachten Sie, dass die genaue Zeitaufteilung je nach dem Tempo der Klasse und den spezifischen Anforderungen des Lehrplans variieren kann. Es ist auch wichtig, dass Sie das Niveau und die Vorkenntnisse Ihrer Schüler berücksichtigen, wenn Sie den Unterricht planen.\u001b[0m\n",
      "\n",
      "\u001b[1m> Finished chain.\u001b[0m\n"
     ]
    },
    {
     "data": {
      "text/plain": [
       "{'input': \"Du bist ein Assistent für Lehrerende und hilfst ihnen dabei ihren Unterricht vorzubereiten. Verwende relevante Kontextinformationen, um die Aufgabe am Ende zu lösen. Wenn du keine Lösung findest, sage einfach, dass du die Aufgabe nicht lösen kannst, und versuche keine Antwort zu erfinden. Die Lösung der Aufgabe soll eine Struktur der angefragten Unterrichtsstunde enthalten zusammen mit groben Zeitvorschlägen.\\n\\nLos geht's!\\n\\nAufgabe: Plane eine Unterrichtsstunde im Fach Mathematik zum Thema Integrale für eine 13. Klasse in Bayern.\",\n",
       " 'output': 'Hier ist ein Vorschlag für die Struktur einer Unterrichtsstunde zum Thema Integrale:\\n\\n1. **Einführung (10 Minuten):** Beginnen Sie mit einem kurzen Rückblick auf die vorherigen Lektionen, die sich mit der Differentialrechnung beschäftigt haben. Erklären Sie dann, dass der heutige Unterricht sich auf das Thema Integrale konzentriert, welches das Gegenstück zur Differentialrechnung ist.\\n\\n2. **Theoretischer Teil (20 Minuten):** Führen Sie die Schüler in das Konzept der Integralrechnung ein. Erklären Sie, was ein Integral ist, und zeigen Sie, wie es graphisch dargestellt wird. Stellen Sie die Formel für das unbestimmte Integral vor und gehen Sie durch einige einfache Beispiele, um zu zeigen, wie es berechnet wird.\\n\\n3. **Praktischer Teil (20 Minuten):** Lassen Sie die Schüler einige Übungsaufgaben zur Berechnung von Integralen machen. Beginnen Sie mit einfachen Beispielen und steigern Sie dann allmählich den Schwierigkeitsgrad. Gehen Sie im Klassenzimmer herum und helfen Sie den Schülern bei Bedarf.\\n\\n4. **Diskussion und Anwendung (15 Minuten):** Diskutieren Sie einige praktische Anwendungen der Integralrechnung, z.B. in der Physik und Ingenieurwissenschaften. Lassen Sie die Schüler Beispiele für die Anwendung von Integralen in realen Situationen finden.\\n\\n5. **Zusammenfassung und Ausblick (5 Minuten):** Fassen Sie die wichtigsten Punkte der Lektion zusammen und geben Sie einen Ausblick auf das nächste Thema. Stellen Sie sicher, dass die Schüler die Möglichkeit haben, Fragen zu stellen und Unklarheiten zu klären.\\n\\nBitte beachten Sie, dass die genaue Zeitaufteilung je nach dem Tempo der Klasse und den spezifischen Anforderungen des Lehrplans variieren kann. Es ist auch wichtig, dass Sie das Niveau und die Vorkenntnisse Ihrer Schüler berücksichtigen, wenn Sie den Unterricht planen.'}"
      ]
     },
     "execution_count": 14,
     "metadata": {},
     "output_type": "execute_result"
    }
   ],
   "source": [
    "agent_executor.invoke({\"input\": prompt_template})"
   ]
  },
  {
   "cell_type": "code",
   "execution_count": null,
   "metadata": {},
   "outputs": [],
   "source": []
  },
  {
   "cell_type": "code",
   "execution_count": null,
   "metadata": {},
   "outputs": [],
   "source": []
  },
  {
   "cell_type": "code",
   "execution_count": 6,
   "metadata": {},
   "outputs": [],
   "source": [
    "embeddings = OpenAIEmbeddings()"
   ]
  },
  {
   "cell_type": "code",
   "execution_count": 32,
   "metadata": {},
   "outputs": [],
   "source": [
    "vector_store = SupabaseVectorStore(\n",
    "        client=supabase_client,\n",
    "        embedding=embeddings,\n",
    "        table_name=\"documents_new\",\n",
    "        query_name=\"match_documents_mmr\",\n",
    "    )"
   ]
  },
  {
   "cell_type": "code",
   "execution_count": 64,
   "metadata": {},
   "outputs": [],
   "source": [
    "retriever = vector_store.as_retriever(search_type=\"mmr\", search_kwargs={\"k\": 3, 'lambda_mult': 0.25})"
   ]
  },
  {
   "cell_type": "code",
   "execution_count": 65,
   "metadata": {},
   "outputs": [
    {
     "name": "stderr",
     "output_type": "stream",
     "text": [
      "2024-01-28 22:24:14,841:INFO - HTTP Request: POST https://api.openai.com/v1/embeddings \"HTTP/1.1 200 OK\"\n",
      "2024-01-28 22:24:15,070:INFO - HTTP Request: POST https://smxwnqdpxcvclxhbvhsf.supabase.co/rest/v1/rpc/match_documents_mmr?limit=20 \"HTTP/1.1 200 OK\"\n"
     ]
    }
   ],
   "source": [
    "mmr_docs = retriever.get_relevant_documents(query)"
   ]
  },
  {
   "cell_type": "code",
   "execution_count": 66,
   "metadata": {},
   "outputs": [
    {
     "data": {
      "text/plain": [
       "[Document(page_content='11. Chazan, Barry (2022). \"What is \"Education\"?\" (https://link.springer.com/chapter/10.1007/978-\\n3-030-83925-3_3). Principles and Pedagogies in Jewish Education. Springer International\\nPublishing. pp. 13–21. doi:10.1007/978-3-030-83925-3_3 (https://doi.org/10.1007%2F978-3-\\n030-83925-3_3). ISBN 978-3-030-83925-3. S2CID 239896844 (https://api.semanticscholar.o\\nrg/CorpusID:239896844). Archived (https://web.archive.org/web/20220512120351/https://lin\\nk.springer.com/chapter/10.1007/978-3-030-83925-3_3) from the original on 12 May 2022.\\nRetrieved 13 May 2022.\\n12. Marshall, James D. (2006). \"The Meaning of the Concept of Education: Searching for the\\nLost Arc\" (https://www.jstor.org/stable/42589880). Journal of Thought. 41 (3): 33–37.\\nISSN 0022-5231 (https://www.worldcat.org/issn/0022-5231). JSTOR 42589880 (https://www.\\njstor.org/stable/42589880). Archived (https://web.archive.org/web/20220512120351/https://w\\nww.jstor.org/stable/42589880) from the original on 12 May 2022. Retrieved 13 May 2022.\\n13. Anderson, Philip M. (2005). \"3. The Meaning of Pedagogy\". In Kincheloe, Joe L. (ed.).\\nClassroom Teaching: An Introduction (https://books.google.com/books?id=kzWq-oGRlNcC).\\nPeter Lang. ISBN 978-0-8204-7858-6.\\n14. \"pedagogy\" (https://www.etymonline.com/word/pedagogy#etymonline_v_30327) Archived (h\\nttps://web.archive.org/web/20190501163744/https://www.etymonline.com/word/pedagogy#et\\nymonline_v_30327) 1 May 2019 at the Wayback Machine. Online Etymology Dictionary.\\n15. \"Pedagogy definition and meaning | Collins English Dictionary\" (https://www.collinsdictionar\\ny.com/dictionary/english/pedagogy). Collinsdictionary.com. Retrieved 16 April 2021.\\n16. \"pedagogy noun – definition in British English Dictionary & Thesaurus – Cambridge\\nDictionary Online\" (http://dictionary.cambridge.org/dictionary/british/pedagogy?q=pedagogy).\\nDictionary.cambridge.org. 10 October 2012. Retrieved 29 October 2012.\\n17. \"pedagogue\" (http://www.etymonline.com/index.php?term=pedagogue) Archived (https://we\\nb.archive.org/web/20170428083130/http://www.etymonline.com/index.php?term=pedagogu\\ne) 28 April 2017 at the Wayback Machine. Online Etymology Dictionary.\\n18. Crappell, Courtney (2019). Teaching Piano Pedagogy: A Guidebook for Training Effective\\nTeachers. New York: Oxford University Press. p. 160. ISBN 978-0-19-067052-8.\\n19. Coussée, Filip; Verschelden, Griet; Williamson, Howard (2009). The History of Youth Work in\\nEurope: Relevance for Youth Policy Today. Strasbourg Cedex: Council of Europe. p. 96.\\nISBN 978-92-871-7244-0.\\n20. Chesters, Sarah Davey (2012). The Socratic Classroom. Cham, Switzerland: Springer\\nScience & Business Media. p. 35. ISBN 978-94-6091-855-1.\\n21. Compayré, Gabriel (1892). The History of Pedagogy (https://books.google.com/books?id=cdr\\nkAAAAMAAJ&q=The+History+of+Pedagogy+compayre). D.C. Heath & Company.\\n22. Barnard, Henry; Pestalozzi, Johann (1859). Pestalozzi and Pestalozzianism: Life,\\nEducational Principles, and Methods of Johann Heinrich Pestalozzi. FC Brownell..\\n23. \"Herbartianism | education\" (https://www.britannica.com/topic/Herbartianism). Encyclopædia\\nBritannica. Retrieved 2 November 2015.\\n24. \"Johann Friedrich Herbart | biography – German educator\" (https://www.britannica.com/biogr\\naphy/Johann-Friedrich-Herbart). Encyclopædia Britannica. Retrieved 2 November 2015.\\n25. Kenklies, Karsten (12 February 2012). \"Educational Theory as Topological Rhetoric: The\\nConcepts of Pedagogy of Johann Friedrich Herbart and Friedrich Schleiermacher\". Studies\\nin Philosophy and Education. 31 (3): 265–273. doi:10.1007/s11217-012-9287-6 (https://doi.o\\nrg/10.1007%2Fs11217-012-9287-6). ISSN 0039-3746 (https://www.worldcat.org/issn/0039-3\\n746). S2CID 144605837 (https://api.semanticscholar.org/CorpusID:144605837).\\n26. \"The New Observer\" (https://web.archive.org/web/20120916224840/http://www.justinwyllie.n\\net/essays/pedagogy_oppressed.pdf) (PDF). Justinwyllie.net', metadata={'page': 10, 'source': 'docs/Pedagogy.pdf'}),\n",
       " Document(page_content='Socrates (470 – 399 BCE) employed the Socratic method while engaging with a student or peer. This style\\ndoes not impart know ledge, but rather tries to strengthen the logic of the student by revealing the\\nconclusions of the statement of the student as erroneous or suppor ted. The instructor in this learning\\nenvironment recognizes the learners\\' need to think for themselves to facilitate their ability to think about\\nproblems and issues.[20] It was first described by P lato in the Socratic Dialogue s.\\nPlato (428/427 or 424/423 – 348/347 BCE) describes a system of education in The Republic (375 BCE) in\\nwhich individual and family rights are sacrificed to the State. He describes three castes: one to learn a trade;\\none to learn literary and aesthetic ideas; and one to be trained in literary, aesthetic, scientific, and\\nphilosophical ideas.[21] Plato saw education as a fulfillment of the soul, and by fulfilling the soul the body\\nsubsequently benefited. Plato viewed phys ical education for all as a necessity to a stable society.[21]\\nAristotle (384–322 BCE) composed a treatise, On Education, which was subsequently lost. However, he\\nrenounc ed Plato\\'s view in subsequent works, advoc ating for a common education mandated to all citizens\\nby the State. A small minority of people residing within Greek city-states at this time were considered\\ncitizens, and thus Aristotle still limited education to a minority within Greece. Aristotle advoc ates physical\\neducation should precede intellectual studies.[21]\\nMarcus Fabius Quintilianus (35 – 100 CE) published his pedagogy in Institutio Oratoria (95 CE). He\\ndescribes education as a gradual affair, and places certain responsibilities on the teacher. He advoc ates for\\nrhetorical, grammatical, scientific, and phi losophical education.[21]\\nQuintus Septimius Florens Tertullianus (155 – 240 CE) was a Christian scholar who rejected all pagan\\neducation, insisting this was \"a road to the false and arrogant wisdom of ancient philosophe rs\".[21]\\nSaint Jerome (347 – 30 September 420 CE), or Saint Hieronym us, was a Christian scholar who detailed his\\npedagogy of girls in numerous letters throughout  his life. He did not believe the body in need of training,\\nand thus advoc ated for fasting and mortification to subdue  the body .[21] He only recommends the Bible as\\nreading material, with limited expos ure, and cautions against musical instruments. He advoc ates against\\nletting girls interact with society, and of having \"affections for one of her companions than for others.\"[21]\\nHe does recommend teaching the alphabet by ivory blocks instead of memorization so \"She will thus learn\\nby playing.\"[21] He is an advoc ate of positive reinforcement, stating \"Do not chide her for the difficulty she\\nmay have in learning. O n the contrary, encourage her by c ommendation...\"[21]Plato\\nAristotle\\nQuintilian\\nTertullian\\nJerome\\nJean Gerson', metadata={'page': 2, 'source': 'docs/Pedagogy.pdf'}),\n",
       " Document(page_content='Woman teaching geometry (detail of a XIV-\\ncentury illuminated manuscript, at the\\nbeginning of Euclid\\'s Elementa, in the\\ntranslation attributed to Adelard of Bath)Pedagogy\\nPedagogy  (/ ˈp ɛd ə ɡ ɒd ʒi, - ɡo ʊd ʒi, - ɡ ɒ ɡi/), from Ancient\\nGreek παιδαγωγία (paidagōgía), most commonly unde rstood\\nas the approach to teaching, is the theory and practice of\\nlearning, and how this process influences, and is influenced\\nby, the social, political and psychological development of\\nlearners. Pedagogy , taken as an academic discipline, is the\\nstudy of how know ledge and skills are imparted in an\\neducational context, and it considers the interactions that take\\nplace during learning. Both the theory and practice of\\npedagogy vary greatly as they reflect different social,\\npolitical, and cultural contexts.[1]\\nPedagogy is often described as the act of teaching.[2] The\\npedagogy adopted by teachers shapes their actions,\\njudgm ents, and teaching strategies by taking into\\nconsideration theories of learning, understandings of students\\nand their needs, and the backgrounds  and interests of\\nindividual students.[3][4] Its aims may range from furthering\\nliberal education (the general development of human\\npotential) to the narrower specifics of vocational education\\n(the imparting and acquisition of specific skills).\\nConve ntional western pedagogies view the teacher as\\nknow ledge holder and student as the recipient of know ledge (described by Paulo Freire as \"banking\\nmethods\"[5]), but theories of pedagogy increasingly identify the student as an agent and the teacher as a\\nfacilitator.\\nInstructive strategies are gove rned by the pupil\\'s background know ledge and experience, situation and\\nenvironment, as well as learning goals set by the student and teacher. One example would be the Socratic\\nmethod.[6]\\nThe meaning of the term \"pedagogy\"  is often contested and a great variety of definitions has been\\nsugge sted.[7] The most common approach is to define it as the study or science of teaching methods .[7][8] In\\nthis sense, it is the methodol ogy of education. As a methodol ogy, it investigates the ways and practices that\\ncan be used to realize the aims of education.[9][8][10] The main aim is often identified with the transmission\\nof know ledge. Other aims include fostering skills and character traits. They include helping the student\\ndevelop their intellectual and social abilities as well as psychomotor and affective learning, which are about\\ndeveloping pr actical skills and adequate emotional dispositions, respectively.[9][11][12]\\nHowever, not everyone  agrees with this characterization of pedagogy and some see it less as a science and\\nmore as an art or a craft.[7][13] This characterization puts more emphasis on the practical aspect of\\npedagogy , which may involve various forms of \"tacit know ledge that is hard to put into words\". ThisDefinition and etymology', metadata={'page': 0, 'source': 'docs/Pedagogy.pdf'})]"
      ]
     },
     "execution_count": 66,
     "metadata": {},
     "output_type": "execute_result"
    }
   ],
   "source": [
    "mmr_docs"
   ]
  },
  {
   "cell_type": "code",
   "execution_count": 44,
   "metadata": {},
   "outputs": [
    {
     "name": "stderr",
     "output_type": "stream",
     "text": [
      "2024-01-28 22:02:48,795:INFO - HTTP Request: POST https://api.openai.com/v1/embeddings \"HTTP/1.1 200 OK\"\n",
      "2024-01-28 22:02:48,978:INFO - HTTP Request: POST https://smxwnqdpxcvclxhbvhsf.supabase.co/rest/v1/rpc/match_documents_mmr?limit=4 \"HTTP/1.1 200 OK\"\n"
     ]
    }
   ],
   "source": [
    "matched_docs = vector_store.similarity_search_with_relevance_scores(query)"
   ]
  },
  {
   "cell_type": "code",
   "execution_count": 45,
   "metadata": {},
   "outputs": [
    {
     "data": {
      "text/plain": [
       "[(Document(page_content='41. UNESCO (2019). Empowering students for just societies: a handbook for secondary school\\nteachers (https://unesdoc.unesco.org/ark:/48223/pf0000370901?posInSet=2&queryId=a055\\n95b4-f5b2-48ce-b649-f8177b6036fe). UNESCO. ISBN 978-92-3-100340-0.\\n42. Kincheloe, Joe (2008). Critical Pedagogy Primer. New York: Peter Lang.\\nISBN 9781433101823.\\n43. Kincheloe, Joe L.; Horn, Raymond A., eds. (2007). The Praeger Handbook of Education and\\nPsychology (https://books.google.com/books?isbn=0313331235). Praeger. p. 552.\\nISBN 978-0313331237.\\n44. Jones, Leo. (2007). The Student-Centered Classroom. Cambridge University Press.\\n45. Rogers, C. R. (1983). Freedom to Learn for the \\'80s. New York: Charles E. Merrill Publishing\\nCompany, A Bell & Howell Company.\\n46. Pedersen, S., & Liu, M. (2003). Teachers\\' beliefs about issues in the implementation of a\\nstudent-centered learning environment. Educational Technology Research and\\nDevelopment, 51(2), 57–76.\\n47. Hannafin, M. J., & Hannafin, K. M. (2010). Cognition and student-centered, web-based\\nlearning: Issues and implications for research and theory (https://www.springer.com/cda/cont\\nent/document/cda_downloaddocument/9781441915504-c1.pdf?SGWID=0-0-45-855998-p17\\n3924330) Archived (https://web.archive.org/web/20201028090731/https://www.springer.com/\\ncda/content/document/cda_downloaddocument/9781441915504-c1.pdf?SGWID=0-0-45-85\\n5998-p173924330) 28 October 2020 at the Wayback Machine. Learning and instruction in\\nthe digital age (pp. 11–23). Springer US.\\n48. Young, Lynne E.; Paterson, Barbara L. (2007). Teaching Nursing: Developing a Student-\\ncentered Learning Environment (https://books.google.com/books?isbn=078175772X).\\nLippincott Williams & Wilkins. p. 5. ISBN 978-0781757720.\\n49. \"The Schools Aren\\'t Broken, They\\'re Outdated\" (https://www.tc.columbia.edu/articles/2000/se\\nptember/the-schools-arent-broken-theyre-outdated/). Teachers College – Columbia\\nUniversity. Retrieved 5 January 2023.\\n50. Bentley, Tom (July 2000). \"Learning Beyond the Classroom\" (https://doi.org/10.1177%2F026\\n3211x000283008). Educational Management & Administration. 28 (3): 353–364.\\ndoi:10.1177/0263211x000283008 (https://doi.org/10.1177%2F0263211x000283008).\\nISSN 0263-211X (https://www.worldcat.org/issn/0263-211X). S2CID 145205546 (https://api.s\\nemanticscholar.org/CorpusID:145205546).\\n51. Griffith, M. (2010). The Unschooling Handbook: How to Use the Whole World As Your\\nChild\\'s Classroom (2nd ed.). New York: Prima Publishing (Random House). ISBN 978-\\n0761512769.\\n52. Masschelein, Jan; Simons, Maarten (2 January 2015). \"Education in times of fast learning:\\nthe future of the school\" (https://doi.org/10.1080/17449642.2014.998027). Ethics and\\nEducation. 10 (1): 84–95. doi:10.1080/17449642.2014.998027 (https://doi.org/10.1080%2F1\\n7449642.2014.998027). ISSN 1744-9642 (https://www.worldcat.org/issn/1744-9642).\\nS2CID 144421815 (https://api.semanticscholar.org/CorpusID:144421815).\\n53. Macchelein, J.; Simons, M. (2021). Looking after school:a critical analysis of personalisation\\nin education (1st ed.). Leuven: E-ducation, Culture & Society Publishers. ISBN 978-9-\\n090106-59-5.\\n54. \"Learning from Denmark\" (https://www.taipeitimes.com/News/editorials/archives/2006/03/22/\\n2003298639). Taipeitimes.com. 22 March 2006. Retrieved 16 April 2021.\\n55. \"Pædagog\" (https://www.via.dk/uddannelser/paedagogik-og-laering/paedagog)\\n[Pedagogue]. UddannelsesGuiden (in Danish). Ministry of Children and Education.\\nRetrieved 1 September 2019.', metadata={'page': 12, 'source': 'docs/Pedagogy.pdf'}),\n",
       "  0.72364138928447),\n",
       " (Document(page_content='41. UNESCO (2019). Empowering students for just societies: a handbook for secondary school\\nteachers (https://unesdoc.unesco.org/ark:/48223/pf0000370901?posInSet=2&queryId=a055\\n95b4-f5b2-48ce-b649-f8177b6036fe). UNESCO. ISBN 978-92-3-100340-0.\\n42. Kincheloe, Joe (2008). Critical Pedagogy Primer. New York: Peter Lang.\\nISBN 9781433101823.\\n43. Kincheloe, Joe L.; Horn, Raymond A., eds. (2007). The Praeger Handbook of Education and\\nPsychology (https://books.google.com/books?isbn=0313331235). Praeger. p. 552.\\nISBN 978-0313331237.\\n44. Jones, Leo. (2007). The Student-Centered Classroom. Cambridge University Press.\\n45. Rogers, C. R. (1983). Freedom to Learn for the \\'80s. New York: Charles E. Merrill Publishing\\nCompany, A Bell & Howell Company.\\n46. Pedersen, S., & Liu, M. (2003). Teachers\\' beliefs about issues in the implementation of a\\nstudent-centered learning environment. Educational Technology Research and\\nDevelopment, 51(2), 57–76.\\n47. Hannafin, M. J., & Hannafin, K. M. (2010). Cognition and student-centered, web-based\\nlearning: Issues and implications for research and theory (https://www.springer.com/cda/cont\\nent/document/cda_downloaddocument/9781441915504-c1.pdf?SGWID=0-0-45-855998-p17\\n3924330) Archived (https://web.archive.org/web/20201028090731/https://www.springer.com/\\ncda/content/document/cda_downloaddocument/9781441915504-c1.pdf?SGWID=0-0-45-85\\n5998-p173924330) 28 October 2020 at the Wayback Machine. Learning and instruction in\\nthe digital age (pp. 11–23). Springer US.\\n48. Young, Lynne E.; Paterson, Barbara L. (2007). Teaching Nursing: Developing a Student-\\ncentered Learning Environment (https://books.google.com/books?isbn=078175772X).\\nLippincott Williams & Wilkins. p. 5. ISBN 978-0781757720.\\n49. \"The Schools Aren\\'t Broken, They\\'re Outdated\" (https://www.tc.columbia.edu/articles/2000/se\\nptember/the-schools-arent-broken-theyre-outdated/). Teachers College – Columbia\\nUniversity. Retrieved 5 January 2023.\\n50. Bentley, Tom (July 2000). \"Learning Beyond the Classroom\" (https://doi.org/10.1177%2F026\\n3211x000283008). Educational Management & Administration. 28 (3): 353–364.\\ndoi:10.1177/0263211x000283008 (https://doi.org/10.1177%2F0263211x000283008).\\nISSN 0263-211X (https://www.worldcat.org/issn/0263-211X). S2CID 145205546 (https://api.s\\nemanticscholar.org/CorpusID:145205546).\\n51. Griffith, M. (2010). The Unschooling Handbook: How to Use the Whole World As Your\\nChild\\'s Classroom (2nd ed.). New York: Prima Publishing (Random House). ISBN 978-\\n0761512769.\\n52. Masschelein, Jan; Simons, Maarten (2 January 2015). \"Education in times of fast learning:\\nthe future of the school\" (https://doi.org/10.1080/17449642.2014.998027). Ethics and\\nEducation. 10 (1): 84–95. doi:10.1080/17449642.2014.998027 (https://doi.org/10.1080%2F1\\n7449642.2014.998027). ISSN 1744-9642 (https://www.worldcat.org/issn/1744-9642).\\nS2CID 144421815 (https://api.semanticscholar.org/CorpusID:144421815).\\n53. Macchelein, J.; Simons, M. (2021). Looking after school:a critical analysis of personalisation\\nin education (1st ed.). Leuven: E-ducation, Culture & Society Publishers. ISBN 978-9-\\n090106-59-5.\\n54. \"Learning from Denmark\" (https://www.taipeitimes.com/News/editorials/archives/2006/03/22/\\n2003298639). Taipeitimes.com. 22 March 2006. Retrieved 16 April 2021.\\n55. \"Pædagog\" (https://www.via.dk/uddannelser/paedagogik-og-laering/paedagog)\\n[Pedagogue]. UddannelsesGuiden (in Danish). Ministry of Children and Education.\\nRetrieved 1 September 2019.', metadata={'page': 12, 'source': 'docs/Pedagogy.pdf'}),\n",
       "  0.723558588240095),\n",
       " (Document(page_content='41. UNESCO (2019). Empowering students for just societies: a handbook for secondary school\\nteachers (https://unesdoc.unesco.org/ark:/48223/pf0000370901?posInSet=2&queryId=a055\\n95b4-f5b2-48ce-b649-f8177b6036fe). UNESCO. ISBN 978-92-3-100340-0.\\n42. Kincheloe, Joe (2008). Critical Pedagogy Primer. New York: Peter Lang.\\nISBN 9781433101823.\\n43. Kincheloe, Joe L.; Horn, Raymond A., eds. (2007). The Praeger Handbook of Education and\\nPsychology (https://books.google.com/books?isbn=0313331235). Praeger. p. 552.\\nISBN 978-0313331237.\\n44. Jones, Leo. (2007). The Student-Centered Classroom. Cambridge University Press.\\n45. Rogers, C. R. (1983). Freedom to Learn for the \\'80s. New York: Charles E. Merrill Publishing\\nCompany, A Bell & Howell Company.\\n46. Pedersen, S., & Liu, M. (2003). Teachers\\' beliefs about issues in the implementation of a\\nstudent-centered learning environment. Educational Technology Research and\\nDevelopment, 51(2), 57–76.\\n47. Hannafin, M. J., & Hannafin, K. M. (2010). Cognition and student-centered, web-based\\nlearning: Issues and implications for research and theory (https://www.springer.com/cda/cont\\nent/document/cda_downloaddocument/9781441915504-c1.pdf?SGWID=0-0-45-855998-p17\\n3924330) Archived (https://web.archive.org/web/20201028090731/https://www.springer.com/\\ncda/content/document/cda_downloaddocument/9781441915504-c1.pdf?SGWID=0-0-45-85\\n5998-p173924330) 28 October 2020 at the Wayback Machine. Learning and instruction in\\nthe digital age (pp. 11–23). Springer US.\\n48. Young, Lynne E.; Paterson, Barbara L. (2007). Teaching Nursing: Developing a Student-\\ncentered Learning Environment (https://books.google.com/books?isbn=078175772X).\\nLippincott Williams & Wilkins. p. 5. ISBN 978-0781757720.\\n49. \"The Schools Aren\\'t Broken, They\\'re Outdated\" (https://www.tc.columbia.edu/articles/2000/se\\nptember/the-schools-arent-broken-theyre-outdated/). Teachers College – Columbia\\nUniversity. Retrieved 5 January 2023.\\n50. Bentley, Tom (July 2000). \"Learning Beyond the Classroom\" (https://doi.org/10.1177%2F026\\n3211x000283008). Educational Management & Administration. 28 (3): 353–364.\\ndoi:10.1177/0263211x000283008 (https://doi.org/10.1177%2F0263211x000283008).\\nISSN 0263-211X (https://www.worldcat.org/issn/0263-211X). S2CID 145205546 (https://api.s\\nemanticscholar.org/CorpusID:145205546).\\n51. Griffith, M. (2010). The Unschooling Handbook: How to Use the Whole World As Your\\nChild\\'s Classroom (2nd ed.). New York: Prima Publishing (Random House). ISBN 978-\\n0761512769.\\n52. Masschelein, Jan; Simons, Maarten (2 January 2015). \"Education in times of fast learning:\\nthe future of the school\" (https://doi.org/10.1080/17449642.2014.998027). Ethics and\\nEducation. 10 (1): 84–95. doi:10.1080/17449642.2014.998027 (https://doi.org/10.1080%2F1\\n7449642.2014.998027). ISSN 1744-9642 (https://www.worldcat.org/issn/1744-9642).\\nS2CID 144421815 (https://api.semanticscholar.org/CorpusID:144421815).\\n53. Macchelein, J.; Simons, M. (2021). Looking after school:a critical analysis of personalisation\\nin education (1st ed.). Leuven: E-ducation, Culture & Society Publishers. ISBN 978-9-\\n090106-59-5.\\n54. \"Learning from Denmark\" (https://www.taipeitimes.com/News/editorials/archives/2006/03/22/\\n2003298639). Taipeitimes.com. 22 March 2006. Retrieved 16 April 2021.\\n55. \"Pædagog\" (https://www.via.dk/uddannelser/paedagogik-og-laering/paedagog)\\n[Pedagogue]. UddannelsesGuiden (in Danish). Ministry of Children and Education.\\nRetrieved 1 September 2019.', metadata={'page': 12, 'source': 'docs/Pedagogy.pdf'}),\n",
       "  0.723505707518465),\n",
       " (Document(page_content='56. Educational Guide – Denmark Pædagog – UddannelsesGuiden.dk (http://www.ug.dk/job/pa\\nedagogiskkirkeligtogsocialtarbejde/paedagogiskarb/paedagog.aspx) Archived (https://web.a\\nrchive.org/web/20140227113755/http://www.ug.dk/job/paedagogiskkirkeligtogsocialtarbejde/\\npaedagogiskarb/paedagog.aspx) 27 February 2014 at the Wayback Machine.\\n57. \"Front Page\" (http://www.pedagogusok.hu/). The Official Site of The Labor Union of\\nPedagogues. Labor Union of Pedagogues. Retrieved 27 May 2013.\\n58. \"Ezekre a tanári szakokra jelentkeztek a legtöbben [English: These Teaching Areas Proved\\nThe Most Popular]\" (http://eduline.hu/erettsegi_felveteli/2013/4/19/legnepszerubb_tanari_sz\\nakok_2013_7NXQ9F). Eduline. 19 April 2013. Retrieved 27 May 2013.\\n59. \"A new pedagogy\" (https://kathmandupost.ekantipur.com/news/2018-06-03/a-new-pedagogy.\\nhtml). Kathmandupost.ekantipur.com. Retrieved 8 June 2018.\\n60. \"What Is Differentiated Instruction? | Scholastic\" (https://www.scholastic.com/teachers/article\\ns/teaching-content/what-differentiated-instruction/). Scholastic.com. Retrieved 8 June 2018.\\n61. \"Understanding Differentiated Instruction: Building a Foundation for Leadership\" (http://www.\\nascd.org/publications/books/100216/chapters/Understanding-Differentiated-Instruction@-Bui\\nlding-a-Foundation-for-Leadership.aspx). Ascd.org. Retrieved 8 June 2018.\\n62. \"Howard Gardner\" (https://www.gse.harvard.edu/faculty/howard-gardner). Harvard Graduate\\nSchool of Education. Retrieved 8 June 2018.\\n63. \"Multiple Intelligences Theory (Gardner) – Learning Theories\" (https://www.learning-theories.\\ncom/gardners-multiple-intelligences-theory.html). Learning Theories. 17 July 2014.\\nRetrieved 8 June 2018.\\n64. \"Gardner\\'s Multiple Intelligences\" (http://www.tecweb.org/styles/gardner.html). Tecweb.org.\\nRetrieved 8 June 2018.\\n This article incorporates text from a free content work. Licensed under CC BY-SA 3.0 IGO.\\nText taken from Empowering students for just societies: a handbook for secondary school\\nteachers  (https://unesdoc.unesco.org/ark:/48223/pf0000370901?posInSet=2&queryId=a055\\n95b4-f5b2-48ce-b649-f8177b6036fe), UNESCO, UNESCO. UNESCO.\\nBruner, J. S. (1960). The Process of Education, Cambridge, Massachusetts: Harvard\\nUniversity Press.\\nBruner, J. S. (1966). Toward a Theory of Instruction. Cambridge, Massachusetts: Belkapp\\nPress.\\nBruner, J. S. (1971). The Relevance of Education. New York, NY: Norton\\nFreire, P. (1970). Pedagogy of the Oppressed. New York: Continuum\\nMontessori, M. (1910). Antropologia Pedagogica.\\nMontessori, M. (1921). Manuale di Pedagogia Scientifica.\\nMontessori, M. (1934). Psico Geométria.\\nMontessori, M. (1934). Psico Aritmética.\\nPiaget, J. (1926). The Language and Thought of the Child. London: Routledge & Kegan.\\nKarl Rosenkranz (1848). Pedagogics as a System (https://archive.org/stream/pedagogicsasa\\nsy00bracgoog#page/n4/mode/2up). Translated 1872 by Anna C. Brackett, R.P. Studley\\nCompany\\nKarl Rosenkranz (1899). The philosophy of education (https://archive.org/details/philosophy\\neduca01rosegoog). D. Appleton and Co.Sources\\nFurther reading', metadata={'page': 13, 'source': 'docs/Pedagogy.pdf'}),\n",
       "  0.722234037188793)]"
      ]
     },
     "execution_count": 45,
     "metadata": {},
     "output_type": "execute_result"
    }
   ],
   "source": [
    "matched_docs"
   ]
  },
  {
   "cell_type": "code",
   "execution_count": 53,
   "metadata": {},
   "outputs": [],
   "source": [
    "from langchain import hub\n",
    "\n",
    "prompt = hub.pull(\"rlm/rag-prompt\")"
   ]
  },
  {
   "cell_type": "code",
   "execution_count": 54,
   "metadata": {},
   "outputs": [
    {
     "data": {
      "text/plain": [
       "ChatPromptTemplate(input_variables=['context', 'question'], messages=[HumanMessagePromptTemplate(prompt=PromptTemplate(input_variables=['context', 'question'], template=\"You are an assistant for question-answering tasks. Use the following pieces of retrieved context to answer the question. If you don't know the answer, just say that you don't know. Use three sentences maximum and keep the answer concise.\\nQuestion: {question} \\nContext: {context} \\nAnswer:\"))])"
      ]
     },
     "execution_count": 54,
     "metadata": {},
     "output_type": "execute_result"
    }
   ],
   "source": [
    "prompt"
   ]
  },
  {
   "cell_type": "code",
   "execution_count": 55,
   "metadata": {},
   "outputs": [],
   "source": [
    "from langchain_openai import ChatOpenAI"
   ]
  },
  {
   "cell_type": "code",
   "execution_count": 56,
   "metadata": {},
   "outputs": [],
   "source": []
  },
  {
   "cell_type": "code",
   "execution_count": 67,
   "metadata": {},
   "outputs": [],
   "source": [
    "from langchain_core.output_parsers import StrOutputParser\n",
    "from langchain_core.runnables import RunnablePassthrough\n",
    "\n",
    "def format_docs(docs):\n",
    "    return \"\\n\\n\".join(doc.page_content for doc in docs)\n",
    "\n",
    "\n",
    "rag_chain = (\n",
    "    {\"context\": retriever | format_docs, \"question\": RunnablePassthrough()}\n",
    "    | prompt\n",
    "    | llm\n",
    "    | StrOutputParser()\n",
    ")"
   ]
  },
  {
   "cell_type": "code",
   "execution_count": 68,
   "metadata": {},
   "outputs": [
    {
     "name": "stderr",
     "output_type": "stream",
     "text": [
      "2024-01-28 22:24:51,115:INFO - HTTP Request: POST https://api.openai.com/v1/embeddings \"HTTP/1.1 200 OK\"\n",
      "2024-01-28 22:24:51,314:INFO - HTTP Request: POST https://smxwnqdpxcvclxhbvhsf.supabase.co/rest/v1/rpc/match_documents_mmr?limit=20 \"HTTP/1.1 200 OK\"\n",
      "2024-01-28 22:24:52,331:INFO - HTTP Request: POST https://api.openai.com/v1/chat/completions \"HTTP/1.1 200 OK\"\n"
     ]
    },
    {
     "name": "stdout",
     "output_type": "stream",
     "text": [
      "Education is the theory and practice of learning, encompassing the imparting of knowledge and skills in an educational context. It involves the interactions between teachers and students and is influenced by social, political, and psychological factors. Pedagogy can be seen as both a science and an art, with various approaches and methods used to achieve educational goals."
     ]
    }
   ],
   "source": [
    "for chunk in rag_chain.stream(query):\n",
    "    print(chunk, end=\"\", flush=True)"
   ]
  },
  {
   "cell_type": "code",
   "execution_count": 11,
   "metadata": {},
   "outputs": [],
   "source": [
    "chain = load_qa_chain(OpenAI(temperature=0), chain_type=\"map_rerank\", return_intermediate_steps=True, prompt=PROMPT)"
   ]
  },
  {
   "cell_type": "code",
   "execution_count": 12,
   "metadata": {},
   "outputs": [
    {
     "name": "stderr",
     "output_type": "stream",
     "text": [
      "2024-01-28 21:03:41,017:INFO - HTTP Request: POST https://api.openai.com/v1/embeddings \"HTTP/1.1 200 OK\"\n"
     ]
    }
   ],
   "source": [
    "query_embeddings = embeddings.embed_query(query)"
   ]
  },
  {
   "cell_type": "code",
   "execution_count": 13,
   "metadata": {},
   "outputs": [
    {
     "name": "stderr",
     "output_type": "stream",
     "text": [
      "2024-01-28 21:03:50,734:INFO - HTTP Request: POST https://smxwnqdpxcvclxhbvhsf.supabase.co/rest/v1/rpc/match_documents?limit=2 \"HTTP/1.1 200 OK\"\n"
     ]
    }
   ],
   "source": [
    "relevant_chunks = vector_store.similarity_search_by_vector_with_relevance_scores(query_embeddings,k=2)"
   ]
  },
  {
   "cell_type": "code",
   "execution_count": 11,
   "metadata": {},
   "outputs": [],
   "source": [
    "chunk_docs=[]\n",
    "for chunk in relevant_chunks:\n",
    "        chunk_docs.append(chunk[0])"
   ]
  },
  {
   "cell_type": "code",
   "execution_count": 12,
   "metadata": {},
   "outputs": [
    {
     "name": "stderr",
     "output_type": "stream",
     "text": [
      "/home/cts/.cache/pypoetry/virtualenvs/unterricht-python-backend-9Hag_kgR-py3.10/lib/python3.10/site-packages/langchain_core/_api/deprecation.py:117: LangChainDeprecationWarning: The function `__call__` was deprecated in LangChain 0.1.0 and will be removed in 0.2.0. Use invoke instead.\n",
      "  warn_deprecated(\n",
      "/home/cts/.cache/pypoetry/virtualenvs/unterricht-python-backend-9Hag_kgR-py3.10/lib/python3.10/site-packages/langchain/chains/llm.py:344: UserWarning: The apply_and_parse method is deprecated, instead pass an output parser directly to LLMChain.\n",
      "  warnings.warn(\n",
      "2024-01-27 18:04:01,009:INFO - HTTP Request: POST https://api.openai.com/v1/completions \"HTTP/1.1 200 OK\"\n"
     ]
    }
   ],
   "source": [
    "results = chain({\"input_documents\": chunk_docs, \"question\": query})"
   ]
  },
  {
   "cell_type": "code",
   "execution_count": 13,
   "metadata": {},
   "outputs": [],
   "source": [
    "text_reference=\"\"\n",
    "for i in range(len(results[\"input_documents\"])):\n",
    "    text_reference+=results[\"input_documents\"][i].page_content\n",
    "output={\"Answer\":results[\"output_text\"],\"Reference\":text_reference}"
   ]
  },
  {
   "cell_type": "code",
   "execution_count": 14,
   "metadata": {},
   "outputs": [
    {
     "data": {
      "text/plain": [
       "{'Answer': ' Unterricht is a German word that translates to \"instruction\" or \"teaching.\" It refers to the process of imparting knowledge or skills to students in a formal setting, such as a classroom or online course. ',\n",
       " 'Reference': 'Paulo Reglus Neves Freire (September 19, 1921 – May 2, 1997) was a Brazilian educator and\\nphilosophe r who was a leading advoc ate of critical pedagogy . He is best know n for his influential work\\nPedagogy  of the Oppressed, which is generally considered one of the founda tional texts of the critical\\npedagogy m ovement.[26][27][28]\\nConfucius (551–479 BCE) stated that authority has the respons ibility to provide oral and written instruction\\nto the people unde r the rule, and \"should do them good in every possible way.\"[21] One of the deepest\\nteachings of Confucius may have been the superiority of personal exemplification over explicit rules of\\nbehavior. His moral teachings emphasized self-cultivation, emulation of moral exemplars, and the\\nattainment of skilled judge ment rather than know ledge of rules. Other relevant practices in the Confucian\\nteaching tradition include the Rite and its notion of body- know ledge as well as Confucian unde rstanding of\\nthe self, one  that has a broader conceptualization than the Western individual self.[29]\\nA hidden curriculum refers to extra educational activities or side effect of an education, \"[lessons] which are\\nlearned but not openly intended\"[30] such as the transmission of norms, values, and beliefs conve yed in the\\nclassroom and the social environment.[31]\\nLearning space or learning setting refers to a physical setting for a learning environment, a place in which\\nteaching and learning occur.[32] The term is commonly used as a more definitive alternative to\\n\"classroom\",[33] but it may also refer to an indoor  or outdoor location, either actual or virtual. Learning\\nspaces are highly diverse in use, learning styles, configuration, location, and educational institution. They\\nsuppor t a variety of pedagogies, including quiet study, passive or active learning, kinesthetic or phys ical\\nlearning, voc ational learning, e xperiential learning, a nd ot hers.\\nLearning theories are conceptual frameworks describing how know ledge is absorbed, processed, and\\nretained during learning. Cognitive, emotional, and environmental influences, as well as prior experience,\\nall play a part in how unde rstanding, or a world view, is acquired or changed and know ledge and skills\\nretained.[34][35]\\nDistance education or long-distance learning is the education of students who may not always be phys ically\\npresent at a school.[36][37] Traditionally, this usually involved corresponde nce courses wherein the student\\ncorresponde d with the school via post. Today it involves online education. Courses that are conduc ted (51Eastern\\nConfucius\\nPedagogi cal considerations\\nHidden curriculum\\nLearning space\\nLearning theories\\nDistance learningWoman teaching geometry (detail of a XIV-\\ncentury illuminated manuscript, at the\\nbeginning of Euclid\\'s Elementa, in the\\ntranslation attributed to Adelard of Bath)Pedagogy\\nPedagogy  (/ ˈp ɛd ə ɡ ɒd ʒi, - ɡo ʊd ʒi, - ɡ ɒ ɡi/), from Ancient\\nGreek παιδαγωγία (paidagōgía), most commonly unde rstood\\nas the approach to teaching, is the theory and practice of\\nlearning, and how this process influences, and is influenced\\nby, the social, political and psychological development of\\nlearners. Pedagogy , taken as an academic discipline, is the\\nstudy of how know ledge and skills are imparted in an\\neducational context, and it considers the interactions that take\\nplace during learning. Both the theory and practice of\\npedagogy vary greatly as they reflect different social,\\npolitical, and cultural contexts.[1]\\nPedagogy is often described as the act of teaching.[2] The\\npedagogy adopted by teachers shapes their actions,\\njudgm ents, and teaching strategies by taking into\\nconsideration theories of learning, understandings of students\\nand their needs, and the backgrounds  and interests of\\nindividual students.[3][4] Its aims may range from furthering\\nliberal education (the general development of human\\npotential) to the narrower specifics of vocational education\\n(the imparting and acquisition of specific skills).\\nConve ntional western pedagogies view the teacher as\\nknow ledge holder and student as the recipient of know ledge (described by Paulo Freire as \"banking\\nmethods\"[5]), but theories of pedagogy increasingly identify the student as an agent and the teacher as a\\nfacilitator.\\nInstructive strategies are gove rned by the pupil\\'s background know ledge and experience, situation and\\nenvironment, as well as learning goals set by the student and teacher. One example would be the Socratic\\nmethod.[6]\\nThe meaning of the term \"pedagogy\"  is often contested and a great variety of definitions has been\\nsugge sted.[7] The most common approach is to define it as the study or science of teaching methods .[7][8] In\\nthis sense, it is the methodol ogy of education. As a methodol ogy, it investigates the ways and practices that\\ncan be used to realize the aims of education.[9][8][10] The main aim is often identified with the transmission\\nof know ledge. Other aims include fostering skills and character traits. They include helping the student\\ndevelop their intellectual and social abilities as well as psychomotor and affective learning, which are about\\ndeveloping pr actical skills and adequate emotional dispositions, respectively.[9][11][12]\\nHowever, not everyone  agrees with this characterization of pedagogy and some see it less as a science and\\nmore as an art or a craft.[7][13] This characterization puts more emphasis on the practical aspect of\\npedagogy , which may involve various forms of \"tacit know ledge that is hard to put into words\". ThisDefinition and etymology'}"
      ]
     },
     "execution_count": 14,
     "metadata": {},
     "output_type": "execute_result"
    }
   ],
   "source": [
    "output"
   ]
  },
  {
   "cell_type": "code",
   "execution_count": 15,
   "metadata": {},
   "outputs": [],
   "source": [
    "def getanswer(query):\n",
    "    embeddings = OpenAIEmbeddings()\n",
    "    vector_store = SupabaseVectorStore(\n",
    "        client=supabase_client,\n",
    "        embedding=embeddings,\n",
    "        table_name=\"documents_new\",\n",
    "    )\n",
    "    query_embeddings = embeddings.embed_query(query)\n",
    "    relevant_chunks = vector_store.similarity_search_by_vector_with_relevance_scores(query_embeddings,k=2)\n",
    "    chunk_docs=[]\n",
    "    for chunk in relevant_chunks:\n",
    "        chunk_docs.append(chunk[0])\n",
    "    results = chain({\"input_documents\": chunk_docs, \"question\": query})\n",
    "    text_reference=\"\"\n",
    "    for i in range(len(results[\"input_documents\"])):\n",
    "        text_reference+=results[\"input_documents\"][i].page_content\n",
    "    output={\"Answer\":results[\"output_text\"],\"Reference\":text_reference}\n",
    "    return output"
   ]
  },
  {
   "cell_type": "code",
   "execution_count": 16,
   "metadata": {},
   "outputs": [
    {
     "name": "stderr",
     "output_type": "stream",
     "text": [
      "2024-01-27 18:04:10,677:INFO - HTTP Request: POST https://api.openai.com/v1/embeddings \"HTTP/1.1 200 OK\"\n",
      "2024-01-27 18:04:10,856:INFO - HTTP Request: POST https://smxwnqdpxcvclxhbvhsf.supabase.co/rest/v1/rpc/match_documents?limit=2 \"HTTP/1.1 200 OK\"\n",
      "/home/cts/.cache/pypoetry/virtualenvs/unterricht-python-backend-9Hag_kgR-py3.10/lib/python3.10/site-packages/langchain/chains/llm.py:344: UserWarning: The apply_and_parse method is deprecated, instead pass an output parser directly to LLMChain.\n",
      "  warnings.warn(\n",
      "2024-01-27 18:04:12,146:INFO - HTTP Request: POST https://api.openai.com/v1/completions \"HTTP/1.1 200 OK\"\n"
     ]
    },
    {
     "data": {
      "text/plain": [
       "{'Answer': ' Unterricht ist ein Prozess, bei dem Wissen und Fähigkeiten vermittelt werden, um das Verständnis und die Fähigkeiten der Lernenden zu fördern. Es kann in verschiedenen Formen stattfinden, wie z.B. im Klassenzimmer, online oder durch Fernunterricht.',\n",
       " 'Reference': 'Paulo Reglus Neves Freire (September 19, 1921 – May 2, 1997) was a Brazilian educator and\\nphilosophe r who was a leading advoc ate of critical pedagogy . He is best know n for his influential work\\nPedagogy  of the Oppressed, which is generally considered one of the founda tional texts of the critical\\npedagogy m ovement.[26][27][28]\\nConfucius (551–479 BCE) stated that authority has the respons ibility to provide oral and written instruction\\nto the people unde r the rule, and \"should do them good in every possible way.\"[21] One of the deepest\\nteachings of Confucius may have been the superiority of personal exemplification over explicit rules of\\nbehavior. His moral teachings emphasized self-cultivation, emulation of moral exemplars, and the\\nattainment of skilled judge ment rather than know ledge of rules. Other relevant practices in the Confucian\\nteaching tradition include the Rite and its notion of body- know ledge as well as Confucian unde rstanding of\\nthe self, one  that has a broader conceptualization than the Western individual self.[29]\\nA hidden curriculum refers to extra educational activities or side effect of an education, \"[lessons] which are\\nlearned but not openly intended\"[30] such as the transmission of norms, values, and beliefs conve yed in the\\nclassroom and the social environment.[31]\\nLearning space or learning setting refers to a physical setting for a learning environment, a place in which\\nteaching and learning occur.[32] The term is commonly used as a more definitive alternative to\\n\"classroom\",[33] but it may also refer to an indoor  or outdoor location, either actual or virtual. Learning\\nspaces are highly diverse in use, learning styles, configuration, location, and educational institution. They\\nsuppor t a variety of pedagogies, including quiet study, passive or active learning, kinesthetic or phys ical\\nlearning, voc ational learning, e xperiential learning, a nd ot hers.\\nLearning theories are conceptual frameworks describing how know ledge is absorbed, processed, and\\nretained during learning. Cognitive, emotional, and environmental influences, as well as prior experience,\\nall play a part in how unde rstanding, or a world view, is acquired or changed and know ledge and skills\\nretained.[34][35]\\nDistance education or long-distance learning is the education of students who may not always be phys ically\\npresent at a school.[36][37] Traditionally, this usually involved corresponde nce courses wherein the student\\ncorresponde d with the school via post. Today it involves online education. Courses that are conduc ted (51Eastern\\nConfucius\\nPedagogi cal considerations\\nHidden curriculum\\nLearning space\\nLearning theories\\nDistance learningWoman teaching geometry (detail of a XIV-\\ncentury illuminated manuscript, at the\\nbeginning of Euclid\\'s Elementa, in the\\ntranslation attributed to Adelard of Bath)Pedagogy\\nPedagogy  (/ ˈp ɛd ə ɡ ɒd ʒi, - ɡo ʊd ʒi, - ɡ ɒ ɡi/), from Ancient\\nGreek παιδαγωγία (paidagōgía), most commonly unde rstood\\nas the approach to teaching, is the theory and practice of\\nlearning, and how this process influences, and is influenced\\nby, the social, political and psychological development of\\nlearners. Pedagogy , taken as an academic discipline, is the\\nstudy of how know ledge and skills are imparted in an\\neducational context, and it considers the interactions that take\\nplace during learning. Both the theory and practice of\\npedagogy vary greatly as they reflect different social,\\npolitical, and cultural contexts.[1]\\nPedagogy is often described as the act of teaching.[2] The\\npedagogy adopted by teachers shapes their actions,\\njudgm ents, and teaching strategies by taking into\\nconsideration theories of learning, understandings of students\\nand their needs, and the backgrounds  and interests of\\nindividual students.[3][4] Its aims may range from furthering\\nliberal education (the general development of human\\npotential) to the narrower specifics of vocational education\\n(the imparting and acquisition of specific skills).\\nConve ntional western pedagogies view the teacher as\\nknow ledge holder and student as the recipient of know ledge (described by Paulo Freire as \"banking\\nmethods\"[5]), but theories of pedagogy increasingly identify the student as an agent and the teacher as a\\nfacilitator.\\nInstructive strategies are gove rned by the pupil\\'s background know ledge and experience, situation and\\nenvironment, as well as learning goals set by the student and teacher. One example would be the Socratic\\nmethod.[6]\\nThe meaning of the term \"pedagogy\"  is often contested and a great variety of definitions has been\\nsugge sted.[7] The most common approach is to define it as the study or science of teaching methods .[7][8] In\\nthis sense, it is the methodol ogy of education. As a methodol ogy, it investigates the ways and practices that\\ncan be used to realize the aims of education.[9][8][10] The main aim is often identified with the transmission\\nof know ledge. Other aims include fostering skills and character traits. They include helping the student\\ndevelop their intellectual and social abilities as well as psychomotor and affective learning, which are about\\ndeveloping pr actical skills and adequate emotional dispositions, respectively.[9][11][12]\\nHowever, not everyone  agrees with this characterization of pedagogy and some see it less as a science and\\nmore as an art or a craft.[7][13] This characterization puts more emphasis on the practical aspect of\\npedagogy , which may involve various forms of \"tacit know ledge that is hard to put into words\". ThisDefinition and etymology'}"
      ]
     },
     "execution_count": 16,
     "metadata": {},
     "output_type": "execute_result"
    }
   ],
   "source": [
    "getanswer(\"Was ist Unterricht?\")"
   ]
  }
 ],
 "metadata": {
  "kernelspec": {
   "display_name": "unterricht-python-backend-9Hag_kgR-py3.10",
   "language": "python",
   "name": "python3"
  },
  "language_info": {
   "codemirror_mode": {
    "name": "ipython",
    "version": 3
   },
   "file_extension": ".py",
   "mimetype": "text/x-python",
   "name": "python",
   "nbconvert_exporter": "python",
   "pygments_lexer": "ipython3",
   "version": "3.10.13"
  }
 },
 "nbformat": 4,
 "nbformat_minor": 2
}
