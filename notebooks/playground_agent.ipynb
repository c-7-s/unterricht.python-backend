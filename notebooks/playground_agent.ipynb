{
 "cells": [
  {
   "cell_type": "code",
   "execution_count": 1,
   "metadata": {},
   "outputs": [],
   "source": [
    "from supabase.client import Client\n",
    "from typing import Dict, Any, Tuple, List\n",
    "from langchain import hub\n",
    "from langchain_openai import OpenAIEmbeddings\n",
    "from langchain.vectorstores.supabase import SupabaseVectorStore\n",
    "from langchain.agents import AgentExecutor, create_openai_functions_agent\n",
    "from langchain.tools.retriever import create_retriever_tool\n",
    "from langchain_community.tools.tavily_search import TavilySearchResults\n",
    "from langchain_openai import ChatOpenAI\n",
    "from langchain.utilities.tavily_search import TavilySearchAPIWrapper\n",
    "from langchain.tools.tavily_search import TavilySearchResults"
   ]
  },
  {
   "cell_type": "code",
   "execution_count": 2,
   "metadata": {},
   "outputs": [],
   "source": [
    "from utils.utils import initialize_environment_variables, initialize_subabase_client, initialize_openai_client\n",
    "from utils.utils import initialize_tavily_client\n",
    "from api.config import interface_config\n",
    "\n",
    "initialize_environment_variables(\"../.env\")\n",
    "\n",
    "# Initialize Supabase Client\n",
    "supabase_client = initialize_subabase_client()\n",
    "\n",
    "# Initialize OpenAI Client\n",
    "openai_client = initialize_openai_client()\n",
    "\n",
    "# Initialize Tavily Client\n",
    "tavily_client = initialize_tavily_client()"
   ]
  },
  {
   "cell_type": "code",
   "execution_count": 3,
   "metadata": {},
   "outputs": [],
   "source": [
    "input_dict = {\n",
    "\"school_type\": \"Gymnasium\",\n",
    "\"subject\": \"English\",\n",
    "\"topic\": \"Shakespeare\",\n",
    "\"grade\": \"13.\",\n",
    "\"state\": \"Bayern\",\n",
    "\"keywords\": [\"shakespeare\", \"poetry\", \"analysis\"], \n",
    "\"context\": ['docs/Pedagogy.pdf']\n",
    "}"
   ]
  },
  {
   "cell_type": "code",
   "execution_count": 4,
   "metadata": {},
   "outputs": [
    {
     "data": {
      "text/plain": [
       "{'school_type': 'Gymnasium',\n",
       " 'subject': 'English',\n",
       " 'topic': 'Shakespeare',\n",
       " 'grade': '13.',\n",
       " 'state': 'Bayern',\n",
       " 'keywords': ['shakespeare', 'poetry', 'analysis'],\n",
       " 'context': ['uuid1', 'uuid2']}"
      ]
     },
     "execution_count": 4,
     "metadata": {},
     "output_type": "execute_result"
    }
   ],
   "source": [
    "input_dict"
   ]
  },
  {
   "cell_type": "code",
   "execution_count": 5,
   "metadata": {},
   "outputs": [],
   "source": [
    "def unpack_prompt_input(input: Dict[str, Any]) -> Tuple[str, str, str, str, List[str], List[str]]:\n",
    "    school_type = str(input.get(\"subject\"))\n",
    "    subject = str(input.get(\"subject\"))\n",
    "    topic = str(input.get(\"topic\"))\n",
    "    grade = str(input.get(\"grade\"))\n",
    "    state = str(input.get(\"state\"))\n",
    "    keywords = [str(i) for i in input.get(\"keywords\")]\n",
    "    context = [str(i) for i in input.get(\"context\")]\n",
    "    return school_type, subject, topic, grade, state, keywords, context"
   ]
  },
  {
   "cell_type": "code",
   "execution_count": 6,
   "metadata": {},
   "outputs": [],
   "source": [
    "school_type, subject, topic, grade, state, keywords, context = unpack_prompt_input(input_dict)"
   ]
  },
  {
   "cell_type": "code",
   "execution_count": 7,
   "metadata": {},
   "outputs": [],
   "source": [
    "def create_task_string(school_type, subject, topic, grade, state, keywords, context) -> str:\n",
    "    keywords = '\\n'.join(keywords)\n",
    "    return f\"\"\"Plane eine Unterrichtsstunde im Fach {subject} zum Thema {topic} für eine {grade} Klasse in {state} für den Schultyp {school_type}.\n",
    "Lege bei dieser Aufgabe einen besonderen Fokus auf die folgenden Schlüsselbegriffe:\n",
    "    \n",
    "Schlüsselbegriffe:\n",
    "------------------\n",
    "{keywords}\n",
    "------------------\"\"\""
   ]
  },
  {
   "cell_type": "code",
   "execution_count": 8,
   "metadata": {},
   "outputs": [
    {
     "name": "stdout",
     "output_type": "stream",
     "text": [
      "Plane eine Unterrichtsstunde im Fach English zum Thema Shakespeare für eine 13. Klasse in Bayern für den Schultyp English.\n",
      "Lege bei dieser Aufgabe einen besonderen Fokus auf die folgenden Schlüsselbegriffe:\n",
      "    \n",
      "Schlüsselbegriffe:\n",
      "------------------\n",
      "shakespeare\n",
      "poetry\n",
      "analysis\n",
      "------------------\n"
     ]
    }
   ],
   "source": [
    "task = create_task_string(school_type, subject, topic, grade, state, keywords, context)\n",
    "print(task)"
   ]
  },
  {
   "cell_type": "code",
   "execution_count": 9,
   "metadata": {},
   "outputs": [],
   "source": [
    "def get_uploaded_ids(filepath, upload_table_name):\n",
    "    data, _cnt = supabase_client.table(upload_table_name).select('id').contains('metadata', {'source':filepath}).execute()\n",
    "    return [data[1][i].get(\"id\") for i in range(len(data[1]))]"
   ]
  },
  {
   "cell_type": "code",
   "execution_count": 10,
   "metadata": {},
   "outputs": [],
   "source": [
    "def create_filter_list(context):\n",
    "    uploaded_ids = []\n",
    "    for doc in context:\n",
    "        if len(doc) > 0:\n",
    "            doc_uploaded_ids = get_uploaded_ids(doc, interface_config.upload_table_name)\n",
    "            if len(doc_uploaded_ids) > 0:\n",
    "                uploaded_ids += doc_uploaded_ids\n",
    "    return uploaded_ids"
   ]
  },
  {
   "cell_type": "code",
   "execution_count": 11,
   "metadata": {},
   "outputs": [
    {
     "name": "stderr",
     "output_type": "stream",
     "text": [
      "2024-02-02 12:59:24,184:INFO - HTTP Request: GET https://smxwnqdpxcvclxhbvhsf.supabase.co/rest/v1/vector_store?select=id&metadata=cs.%7B%22source%22%3A%20%22uuid1%22%7D \"HTTP/1.1 200 OK\"\n",
      "2024-02-02 12:59:24,278:INFO - HTTP Request: GET https://smxwnqdpxcvclxhbvhsf.supabase.co/rest/v1/vector_store?select=id&metadata=cs.%7B%22source%22%3A%20%22uuid2%22%7D \"HTTP/1.1 200 OK\"\n"
     ]
    }
   ],
   "source": [
    "filter_list = create_filter_list(context)"
   ]
  },
  {
   "cell_type": "code",
   "execution_count": 12,
   "metadata": {},
   "outputs": [],
   "source": [
    "def initialize_vector_store(client: Client, embedding: OpenAIEmbeddings, table_name: str, query_name: str):\n",
    "    vector_store = SupabaseVectorStore(\n",
    "        client=client,\n",
    "        embedding=embedding,\n",
    "        table_name=table_name,\n",
    "        query_name=query_name,\n",
    "    )\n",
    "    return vector_store"
   ]
  },
  {
   "cell_type": "code",
   "execution_count": 13,
   "metadata": {},
   "outputs": [],
   "source": [
    "embedding = OpenAIEmbeddings()"
   ]
  },
  {
   "cell_type": "code",
   "execution_count": 14,
   "metadata": {},
   "outputs": [],
   "source": [
    "vector_store = initialize_vector_store(supabase_client, embedding, interface_config.upload_table_name, interface_config.supabase_match_function) "
   ]
  },
  {
   "cell_type": "code",
   "execution_count": 15,
   "metadata": {},
   "outputs": [
    {
     "name": "stderr",
     "output_type": "stream",
     "text": [
      "2024-02-02 12:59:29,067:INFO - HTTP Request: POST https://api.openai.com/v1/embeddings \"HTTP/1.1 200 OK\"\n",
      "2024-02-02 12:59:29,169:INFO - HTTP Request: POST https://smxwnqdpxcvclxhbvhsf.supabase.co/rest/v1/rpc/match_documents_with_uuid_filter?limit=2 \"HTTP/1.1 200 OK\"\n"
     ]
    }
   ],
   "source": [
    "retrieved_context = vector_store.similarity_search(task,k=2,filter=filter_list)"
   ]
  },
  {
   "cell_type": "code",
   "execution_count": 16,
   "metadata": {},
   "outputs": [
    {
     "ename": "IndexError",
     "evalue": "list index out of range",
     "output_type": "error",
     "traceback": [
      "\u001b[0;31m---------------------------------------------------------------------------\u001b[0m",
      "\u001b[0;31mIndexError\u001b[0m                                Traceback (most recent call last)",
      "Cell \u001b[0;32mIn[16], line 1\u001b[0m\n\u001b[0;32m----> 1\u001b[0m \u001b[38;5;28mprint\u001b[39m(\u001b[38;5;28mtype\u001b[39m(\u001b[43mretrieved_context\u001b[49m\u001b[43m[\u001b[49m\u001b[38;5;241;43m0\u001b[39;49m\u001b[43m]\u001b[49m))\n",
      "\u001b[0;31mIndexError\u001b[0m: list index out of range"
     ]
    }
   ],
   "source": [
    "print(type(retrieved_context[0]))"
   ]
  },
  {
   "cell_type": "code",
   "execution_count": 17,
   "metadata": {},
   "outputs": [],
   "source": [
    "def create_prompt_template(retrieved_context, task) -> str:\n",
    "    return f\"\"\"Du bist ein Assistent für Lehrende und hilfst ihnen dabei ihren Unterricht vorzubereiten. \n",
    "Verwende dazu die Informationen im Kontext, um die Aufgabe am Ende zu lösen. Gib den Schlüsselwötern bei der Lösung der Aufgabe ein besonders hohes Gewicht.\n",
    "Wenn du keine Lösung findest, sage einfach, dass du die Aufgabe nicht lösen kannst, und versuche keine Antwort zu erfinden. \n",
    "Die Lösung der Aufgabe soll eine inhaltliche und zeitliche Struktur beinhalten.\n",
    "\n",
    "Kontext:\n",
    "---------\n",
    "{retrieved_context}\n",
    "---------\n",
    "\n",
    "Los geht's!\n",
    "\n",
    "Aufgabe: {task}\"\"\"\n",
    "prompt_template = create_prompt_template(retrieved_context, task)"
   ]
  },
  {
   "cell_type": "code",
   "execution_count": 18,
   "metadata": {},
   "outputs": [
    {
     "name": "stdout",
     "output_type": "stream",
     "text": [
      "Du bist ein Assistent für Lehrende und hilfst ihnen dabei ihren Unterricht vorzubereiten. \n",
      "Verwende dazu die Informationen im Kontext, um die Aufgabe am Ende zu lösen. Gib den Schlüsselwötern bei der Lösung der Aufgabe ein besonders hohes Gewicht.\n",
      "Wenn du keine Lösung findest, sage einfach, dass du die Aufgabe nicht lösen kannst, und versuche keine Antwort zu erfinden. \n",
      "Die Lösung der Aufgabe soll eine inhaltliche und zeitliche Struktur beinhalten.\n",
      "\n",
      "Kontext:\n",
      "---------\n",
      "[]\n",
      "---------\n",
      "\n",
      "Los geht's!\n",
      "\n",
      "Aufgabe: Plane eine Unterrichtsstunde im Fach English zum Thema Shakespeare für eine 13. Klasse in Bayern für den Schultyp English.\n",
      "Lege bei dieser Aufgabe einen besonderen Fokus auf die folgenden Schlüsselbegriffe:\n",
      "    \n",
      "Schlüsselbegriffe:\n",
      "------------------\n",
      "shakespeare\n",
      "poetry\n",
      "analysis\n",
      "------------------\n"
     ]
    }
   ],
   "source": [
    "print(prompt_template)"
   ]
  },
  {
   "cell_type": "code",
   "execution_count": 20,
   "metadata": {},
   "outputs": [],
   "source": [
    "prompt = hub.pull(\"hwchase17/openai-functions-agent\")"
   ]
  },
  {
   "cell_type": "code",
   "execution_count": 21,
   "metadata": {},
   "outputs": [],
   "source": [
    "search = TavilySearchAPIWrapper()\n",
    "tavily_tool = TavilySearchResults(api_wrapper=search, max_results=5)"
   ]
  },
  {
   "cell_type": "code",
   "execution_count": 22,
   "metadata": {},
   "outputs": [],
   "source": [
    "embeddings = OpenAIEmbeddings()\n",
    "vector_store = SupabaseVectorStore(\n",
    "        client=supabase_client,\n",
    "        embedding=embeddings,\n",
    "        table_name=\"vector_store\",\n",
    "        query_name=\"match_documents_with_uuid_filter\",\n",
    "    )\n",
    "retriever = vector_store.as_retriever(search_type=\"mmr\", search_kwargs={\"k\": 4, 'lambda_mult': 0.25, 'filter': filter_list})\n",
    "retriever_tool = tool = create_retriever_tool(\n",
    "    retriever,\n",
    "    \"get_more_context\",\n",
    "    \"Retrieve more relevant context information.\",\n",
    ")"
   ]
  },
  {
   "cell_type": "code",
   "execution_count": 23,
   "metadata": {},
   "outputs": [],
   "source": [
    "tools = [retriever_tool, tavily_tool]"
   ]
  },
  {
   "cell_type": "code",
   "execution_count": 24,
   "metadata": {},
   "outputs": [],
   "source": [
    "llm = ChatOpenAI(model_name=\"gpt-4\", temperature=0.5)\n",
    "agent = create_openai_functions_agent(llm, tools, prompt)"
   ]
  },
  {
   "cell_type": "code",
   "execution_count": 30,
   "metadata": {},
   "outputs": [],
   "source": [
    "agent_executor = AgentExecutor(agent=agent, tools=tools, verbose=True, return_intermediate_steps=True)"
   ]
  },
  {
   "cell_type": "code",
   "execution_count": 31,
   "metadata": {},
   "outputs": [
    {
     "name": "stdout",
     "output_type": "stream",
     "text": [
      "\n",
      "\n",
      "\u001b[1m> Entering new AgentExecutor chain...\u001b[0m\n"
     ]
    },
    {
     "name": "stderr",
     "output_type": "stream",
     "text": [
      "2024-01-30 21:15:50,077:INFO - HTTP Request: POST https://api.openai.com/v1/chat/completions \"HTTP/1.1 200 OK\"\n"
     ]
    },
    {
     "name": "stdout",
     "output_type": "stream",
     "text": [
      "\u001b[32;1m\u001b[1;3m\n",
      "Invoking: `tavily_search_results_json` with `{'query': 'Unterrichtsstunde zum Thema Shakespeare für eine 13. Klasse in Bayern'}`\n",
      "\n",
      "\n",
      "\u001b[0m\u001b[33;1m\u001b[1;3m[{'url': 'https://schulportal.de/?cmd=suche&s=Klausur+Shakespeare&smd[f][3]=3&smd[ks][1100]=1100&smd[ks][12]=12&smd[ks][11]=11&ls=80', 'content': 'Shakespeare, Hamlet (ehem LK) Schulaufgabe Englisch 12 Bayern  Unterrichtsmaterial ´Klausur Shakespeare´, Englisch, Klasse 13 LK+13 GK+12+11  Lehrprobe LK12 Shakespeare- a literary ´giant´ in the 21st century (ehem LK) William Shakespeare Lehrplan Englisch  Sachtext zur Autorenschaft Shakespeare´s Klassenarbeit Englisch 12 Nordrh.-Westf.106 Dokumente Suche ´Klausur Shakespeare´, Englisch, Klasse 13 LK+13 GK+12+11. die größte Plattform für kostenloses Unterrichtsmaterial. ... Englisch Kl. 12, Gymnasium/FOS, Bayern 39 KB. Shakespeare, Hamlet (ehem LK) ... Eine Unterrichtsstunde mit dem Ziel, neue Einsichten in die Charaktere Juliets und Capulets (Akt3/Szene5) durch die ...'}, {'url': 'https://schulportal.de/?cmd=suche&s=Shakespeare&smd[f][]=3&smd[ks][]=15', 'content': \"Unterrichtsmaterial ´Shakespeare´, Englisch, Klasse 13 LK  Shakespeare Klausur zum Thema Macbeth mit Sprachmittlung Vorabiturklausur Shakespeare Englisch LK Macbeth  Szenenanalyse von Romeo and Juliet (Todesszene) inklusive Mediation Grundschullehrkräfte (m/w/d) in Berlin-Kaulsdorf  1. Klausur Q2 Shakespeare: Midsummer Night's Dream Akt 2 mit MediationA Midsummer Night's Dream - Filmanalyse. Englisch Kl. 13 LK, Gymnasium/FOS, Nordrhein-Westfalen 169 KB. Methode: Viewing, Filmanalyse, Shakespeare - Arbeitszeit: 225 min. , Shakespeare, A Midsummer Night's Dream - Filmanalyse Hoffman 1998. Shakespeare, A Midsummer Night's Dream - Filmanalyse Hoffman 1998. Anzeige lehrer.biz.\"}, {'url': 'https://www.unterrichtsmaterial-aktuell.de/englisch/englisch-shakespeare-im-unterricht/', 'content': \"Englisch Sekundarstufe II Shakespeare and His Time  Das gesamte Unterrichtsmaterial“Shakespeare and His Time” Englisch Sekundarstufe I Shakespeare  ✔ Shakespeare for kids (5.+ 6. Klasse)✔ William Shakespeare and his stories✔ Interviews, Web Quest und Video Analyse:  den Einstieg in die Welt von William Shakespeare zu wagen.Shakespeare Shakespeare for kids (5.+ 6. Klasse) William Shakespeare and his stories Interviews, Web Quest und Video Analyse: Shakespeare in der heutigen Zeit Eine Tour durch das Globe Theatre: Publikum, Frauen in plays, Stratford-upon-Avon, Sprache und 'insults' und vieles mehr Shakespeare Quiz Drama Techniques in the classroom\"}, {'url': 'https://schulportal.de/?cmd=suche&s=Shakespeare&smd[f][3]=3&smd[ks][1100]=1100&smd[ks][12]=12&smd[ks][11]=11&ls=320', 'content': \"Klausur Shakespeare Romeo+Juliet Auszug aus einem Drehbuch (mit Mediation)  Unterrichtsmaterial ´Shakespeare´, Englisch, Klasse 13 LK+13 GK+12+11 Rhetorical devices - sharpen your skills  Vorabitur-Klausur-Englisch-LK-Q2-Dystopia and Utopia Englisch-LK-Q2-Shakespeare-Teaching Shakespeare at school  Shakespeare's Romeo and Juliet - Film analyis Macbeth: The weird sisters Grundschullehrkraft und Schulleitung im Team874 Dokumente Suche ´Shakespeare´, Englisch, Klasse 13 LK+13 GK+12+11. die größte Plattform für kostenloses Unterrichtsmaterial. Toggle navigation. Einloggen Neu anmelden Filter einblenden. Unterrichtsmaterial filtern. Materialart 10. Arbeitsblätter ...\"}, {'url': 'https://www.bildungsserver.de/elixier/elixier2_list.php?feldinhalt1=Shakespeare&bool1=and&von=11', 'content': 'und Weise mit dem Thema Shakespeare in der Schule auseinanderzusetzen, sich fortzubilden und den aktuellen Stellenwert  Details\\xa0\\xa0{ \"HE\": [] } Forum Shakespeare und Schule  acht anspruchsvolle Unterrichtseinheiten zu Shakespeares Othello Details\\xa0\\xa0{ \"HE\": [] } Othello Curriculum Guide  Shakespeare - kostenloses Unterrichtsmaterial, Arbeitsblätter und Übungen (2) Ergebnis der Suche nach:William Shakespeare ging gern mal einen trinken. James Shapiro ist Professor an der New Yorker Columbia University und einer der bekanntesten Shakespeare-Forscher der Gegenwart. Seine Methode ist eine Art untheoretischer New Historicism, ein Eintauchen in die Zeit, so wie man sich als Reisender eine unbekannte Stadt erschließt. Details'}]\u001b[0m"
     ]
    },
    {
     "name": "stderr",
     "output_type": "stream",
     "text": [
      "2024-01-30 21:15:58,434:INFO - HTTP Request: POST https://api.openai.com/v1/chat/completions \"HTTP/1.1 200 OK\"\n"
     ]
    },
    {
     "name": "stdout",
     "output_type": "stream",
     "text": [
      "\u001b[32;1m\u001b[1;3mHier ist ein Vorschlag für eine Unterrichtsstunde zum Thema Shakespeare für eine 13. Klasse im Gymnasium. Die Schlüsselbegriffe sind Shakespeare, Poesie und Analyse.\n",
      "\n",
      "**Thema:** Einführung in Shakespeares Poesie und Analyse seiner Werke\n",
      "\n",
      "**Dauer:** 60 Minuten\n",
      "\n",
      "**Materialien:** Kopien von Shakespeares Gedichten, Whiteboard, Marker, Laptop und Beamer für Präsentationen\n",
      "\n",
      "**Unterrichtsablauf:**\n",
      "\n",
      "1. **Einführung (10 Minuten):** Beginnen Sie mit einer kurzen Einführung in das Leben und Werk von William Shakespeare. Erklären Sie den Schülern, warum seine Werke auch heute noch relevant sind. \n",
      "\n",
      "2. **Einführung in Shakespeares Poesie (15 Minuten):** Präsentieren Sie einige von Shakespeares bekanntesten Gedichten und Sonetten. Diskutieren Sie die Themen, die in seiner Poesie häufig auftauchen, wie Liebe, Tod, Zeit und Schönheit.\n",
      "\n",
      "3. **Analyse von Shakespeares Poesie (20 Minuten):** Teilen Sie die Klasse in Gruppen auf und geben Sie jeder Gruppe ein Gedicht oder Sonett von Shakespeare zur Analyse. Die Schüler sollten auf Aspekte wie Struktur, Sprache, Metaphern, Themen und die Bedeutung des Gedichts achten.\n",
      "\n",
      "4. **Gruppenpräsentationen (10 Minuten):** Jede Gruppe präsentiert ihre Analyse des zugewiesenen Gedichts. Sie diskutieren die verschiedenen Interpretationen und Erkenntnisse der Schüler.\n",
      "\n",
      "5. **Abschluss und Vorschau (5 Minuten):** Fassen Sie die wichtigsten Punkte der Stunde zusammen und geben Sie einen Ausblick auf die nächste Stunde, in der Sie tiefer in Shakespeares Werke eintauchen werden.\n",
      "\n",
      "**Hausaufgabe:** Die Schüler sollten ein kurzes Essay schreiben, in dem sie ihre Gedanken und Interpretationen zu dem von ihnen analysierten Gedicht darlegen. Sie sollten auch erklären, warum sie glauben, dass Shakespeares Poesie auch heute noch relevant ist.\n",
      "\n",
      "Diese Unterrichtsstunde berücksichtigt die im Kontext erwähnten Aspekte wie die Entwicklung von Abstraktionsfähigkeiten, analytischem und vernetztem Denken sowie eigenständiger Problemlösung. Es fördert auch die Zusammenarbeit in der Gruppe und die Nutzung digitaler Medien.\u001b[0m\n",
      "\n",
      "\u001b[1m> Finished chain.\u001b[0m\n"
     ]
    }
   ],
   "source": [
    "response = agent_executor.invoke({\"input\": prompt_template})"
   ]
  },
  {
   "cell_type": "code",
   "execution_count": 34,
   "metadata": {},
   "outputs": [],
   "source": [
    "response[\"context\"] = retrieved_context"
   ]
  },
  {
   "cell_type": "code",
   "execution_count": 35,
   "metadata": {},
   "outputs": [
    {
     "data": {
      "text/plain": [
       "{'input': \"Du bist ein Assistent für Lehrende und hilfst ihnen dabei ihren Unterricht vorzubereiten. \\nVerwende dazu die Informationen im Kontext, um die Aufgabe am Ende zu lösen. Gib den Schlüsselwötern bei der Lösung der Aufgabe ein besonders hohes Gewicht.\\nWenn du keine Lösung findest, sage einfach, dass du die Aufgabe nicht lösen kannst, und versuche keine Antwort zu erfinden. \\nDie Lösung der Aufgabe soll eine Struktur der angefragten Unterrichtsstunde enthalten inklusive einer zeitlichen Struktur.\\n\\nKontext:\\n---------\\n[Document(page_content='Lehrplanauszüge\\\\n4 30.01.2024(3) Beim Kompetenzerwerb zeigen sich Schülerinnen und Schüler des  \\\\nGymnasiums geistig besonders beweglich und fantasievoll, sie lernen  \\\\nschnell, gern und zielstrebig und verfügen über ein gutes Gedächtnis. Sie  \\\\nsind bereit, sich ausdauernd und unter verschiedenen Blickwinkeln mit  \\\\nDenk- und Gestaltungsaufgaben auseinanderzusetzen, und entwickeln dabei  \\\\nzunehmend die Fähigkeit zur Abstraktion, zu analytischem und vernetztem  \\\\nDenken, zu eigenständiger Problemlösung und zur zielgerichteten  \\\\nZusammenarbeit in der Gruppe.\\\\n(4) Schülerinnen und Schüler, die den gesamten gymnasialen Bildungsweg  \\\\ndurchlaufen, treten als Kinder in das Gymnasium ein und verlassen es als  \\\\njunge Erwachsene. In diesem Zeitraum haben sie die Möglichkeit zu einer  \\\\nkontinuierlichen Kompetenzentwicklung, gerade in einer Lebensphase, die  \\\\nnicht nur von Unsicherheit und Veränderung, sondern auch von  \\\\nkonstruktiver Neuorientierung gekennzeichnet ist. In dieser Zeit am  \\\\nGymnasium entwickeln sich die Schülerinnen und Schüler zu  \\\\nPersönlichkeiten, die auf der Grundlage eines breiten Fachwissens neue  \\\\nAufgaben- und Problemstellungen lösen wollen und können. Mit der am  \\\\nGymnasium erworbenen Sach-, Methoden-, Selbst- und Sozialkompetenz  \\\\nsind sie den Anforderungen eines Studiums ebenso gewachsen wie den sich  \\\\nständig wandelnden Herausforderungen in Arbeitswelt und Gesellschaft.  \\\\nNicht zuletzt haben sie ein breites kulturelles, gesellschaftliches, ethisch-\\\\nreligiöses und ästhetisches Wissens- und Wertefundament ausgebildet, das  \\\\nsie befähigt, Gegebenes kritisch zu reflektieren, und das wesentlich zu  \\\\neinem erfüllten, aktiv und vielfältig gestalteten Leben beitragen kann.\\\\n3 Unterricht am Gymnasium\\\\n3.1 Fächerkanon und Inhalte\\\\n(1) Der Unterricht am Gymnasium bietet den Schülerinnen und Schülern die  \\\\nMöglichkeit, sich die Welt aus der Perspektive einer Vielzahl  \\\\nunterschiedlicher Fächer zu erschließen. Sie setzen sich mit Inhalten  \\\\nauseinander, die gekennzeichnet sind durch eine ausgewogene Mischung  \\\\naus Komplexität, Abstraktion, Wissenschaftlichkeit sowie Lebens- und  \\\\nAnwendungsbezug. Hierbei spielen auch die neuen digitalen und  \\\\ninteraktiven Medien eine bedeutsame Rolle: Als Bestandteil schulischen  \\\\nLernens sind sie ein zeitgemäßes Mittel für eine ebenso attraktive wie', metadata={'page': 3, 'source': '/tmp/tmpnzmfpqs6/LIS_PDF_30-01-2024.pdf'}), Document(page_content='Lehrplanauszüge\\\\n30.01.2024 7den eigenen Lernzuwachs zu hinterfragen. Ihre Bearbeitung erfordert  \\\\nMotivation, Ausdauer und Leistungsbereitschaft. Durch die Übertragung  \\\\nder im Unterricht erworbenen Kompetenzen auf neue Zusammenhänge  \\\\nermöglichen die Aufgaben die Vernetzung von Wissenselementen, auch  \\\\naus verschiedenen Fachdisziplinen.\\\\n(3) Kompetenzorientierte Unterrichtsgestaltung ist geprägt von  \\\\nangemessener Methodenvielfalt. Der auf die Lernsituation abgestimmte,  \\\\nflexible Einsatz verschiedener Unterrichtsmethoden ermöglicht es nicht  \\\\nnur, den Unterrichtsgegenständen gerecht zu werden, sondern auch die  \\\\nSchülerinnen und Schüler in die Gestaltung des Unterrichts  \\\\neinzubeziehen, die Lernwege auf unterschiedliche Lernvoraussetzungen  \\\\nabzustimmen und durch Abwechslungsreichtum Lernmotivation,  \\\\nInteresse und Konzentration zu fördern. Durch soziale Lernformen (z.\\\\xa0B.  \\\\nGruppen- oder Projektarbeit) lernen die Schülerinnen und Schüler die  \\\\nBedingungen und Vorzüge kooperativen Arbeitens kennen; die  \\\\nBereitschaft und Fähigkeit zur Zusammenarbeit sind in Studium und  \\\\nBeruf unerlässlich. Die Einbeziehung digitaler Medien in die Gestaltung  \\\\nvon Lernprozessen bietet zusätzliche Möglichkeiten der Differenzierung  \\\\nund der individuellen Förderung.\\\\n(4) Die Schülerschaft des Gymnasiums ist im Hinblick auf Herkunft und  \\\\nBegabung heterogen. Schülerinnen und Schüler erleben, dass sie als  \\\\neigenständige Persönlichkeiten mit individuellem Hintergrund,  \\\\ndifferenzierten und für die gemeinsame Arbeit wertvollen Begabungs-  \\\\nund Leistungspotenzialen ernst genommen werden. Die Lehrkräfte  \\\\nberücksichtigen die Unterschiedlichkeit ihrer Schülerinnen und Schüler,  \\\\nfördern gezielt deren Potenziale und führen die Lernenden zu einer  \\\\nrealistischen Einschätzung ihrer Stärken und Schwächen.  \\\\nIntensivierungsstunden eignen sich in besonderem Maße dazu, den  \\\\nindividuellen Lernbedürfnissen der Schülerinnen und Schüler gerecht zu  \\\\nwerden und damit sowohl schwächere als auch besonders begabte  \\\\nSchülerinnen und Schüler zu fördern.\\\\n(5) In einigen Fachlehrplänen sind den einzelnen Lernbereichen  \\\\nStundenrichtwerte (z.\\\\xa0B. ca. 10\\\\xa0Stunden) beigegeben. Sie dienen der  \\\\nOrientierung und Hilfestellung bei der Unterrichtsplanung.\\\\n4 Entwicklungsperspektiven des gymnasialen Unterrichts', metadata={'page': 6, 'source': '/tmp/tmpnzmfpqs6/LIS_PDF_30-01-2024.pdf'})]\\n---------\\n\\nLos geht's!\\n\\nAufgabe: Plane eine Unterrichtsstunde im Fach English zum Thema Shakespeare für eine 13. Klasse in Bayern für den Schultyp English. Berücksichtige dabei die folgenden Schlüsselbegriffe shakespeare, poetry, analysis.\",\n",
       " 'output': 'Hier ist ein Vorschlag für eine Unterrichtsstunde zum Thema Shakespeare für eine 13. Klasse im Gymnasium. Die Schlüsselbegriffe sind Shakespeare, Poesie und Analyse.\\n\\n**Thema:** Einführung in Shakespeares Poesie und Analyse seiner Werke\\n\\n**Dauer:** 60 Minuten\\n\\n**Materialien:** Kopien von Shakespeares Gedichten, Whiteboard, Marker, Laptop und Beamer für Präsentationen\\n\\n**Unterrichtsablauf:**\\n\\n1. **Einführung (10 Minuten):** Beginnen Sie mit einer kurzen Einführung in das Leben und Werk von William Shakespeare. Erklären Sie den Schülern, warum seine Werke auch heute noch relevant sind. \\n\\n2. **Einführung in Shakespeares Poesie (15 Minuten):** Präsentieren Sie einige von Shakespeares bekanntesten Gedichten und Sonetten. Diskutieren Sie die Themen, die in seiner Poesie häufig auftauchen, wie Liebe, Tod, Zeit und Schönheit.\\n\\n3. **Analyse von Shakespeares Poesie (20 Minuten):** Teilen Sie die Klasse in Gruppen auf und geben Sie jeder Gruppe ein Gedicht oder Sonett von Shakespeare zur Analyse. Die Schüler sollten auf Aspekte wie Struktur, Sprache, Metaphern, Themen und die Bedeutung des Gedichts achten.\\n\\n4. **Gruppenpräsentationen (10 Minuten):** Jede Gruppe präsentiert ihre Analyse des zugewiesenen Gedichts. Sie diskutieren die verschiedenen Interpretationen und Erkenntnisse der Schüler.\\n\\n5. **Abschluss und Vorschau (5 Minuten):** Fassen Sie die wichtigsten Punkte der Stunde zusammen und geben Sie einen Ausblick auf die nächste Stunde, in der Sie tiefer in Shakespeares Werke eintauchen werden.\\n\\n**Hausaufgabe:** Die Schüler sollten ein kurzes Essay schreiben, in dem sie ihre Gedanken und Interpretationen zu dem von ihnen analysierten Gedicht darlegen. Sie sollten auch erklären, warum sie glauben, dass Shakespeares Poesie auch heute noch relevant ist.\\n\\nDiese Unterrichtsstunde berücksichtigt die im Kontext erwähnten Aspekte wie die Entwicklung von Abstraktionsfähigkeiten, analytischem und vernetztem Denken sowie eigenständiger Problemlösung. Es fördert auch die Zusammenarbeit in der Gruppe und die Nutzung digitaler Medien.',\n",
       " 'intermediate_steps': [(AgentActionMessageLog(tool='tavily_search_results_json', tool_input={'query': 'Unterrichtsstunde zum Thema Shakespeare für eine 13. Klasse in Bayern'}, log=\"\\nInvoking: `tavily_search_results_json` with `{'query': 'Unterrichtsstunde zum Thema Shakespeare für eine 13. Klasse in Bayern'}`\\n\\n\\n\", message_log=[AIMessageChunk(content='', additional_kwargs={'function_call': {'arguments': '{\\n  \"query\": \"Unterrichtsstunde zum Thema Shakespeare für eine 13. Klasse in Bayern\"\\n}', 'name': 'tavily_search_results_json'}})]),\n",
       "   [{'url': 'https://schulportal.de/?cmd=suche&s=Klausur+Shakespeare&smd[f][3]=3&smd[ks][1100]=1100&smd[ks][12]=12&smd[ks][11]=11&ls=80',\n",
       "     'content': 'Shakespeare, Hamlet (ehem LK) Schulaufgabe Englisch 12 Bayern  Unterrichtsmaterial ´Klausur Shakespeare´, Englisch, Klasse 13 LK+13 GK+12+11  Lehrprobe LK12 Shakespeare- a literary ´giant´ in the 21st century (ehem LK) William Shakespeare Lehrplan Englisch  Sachtext zur Autorenschaft Shakespeare´s Klassenarbeit Englisch 12 Nordrh.-Westf.106 Dokumente Suche ´Klausur Shakespeare´, Englisch, Klasse 13 LK+13 GK+12+11. die größte Plattform für kostenloses Unterrichtsmaterial. ... Englisch Kl. 12, Gymnasium/FOS, Bayern 39 KB. Shakespeare, Hamlet (ehem LK) ... Eine Unterrichtsstunde mit dem Ziel, neue Einsichten in die Charaktere Juliets und Capulets (Akt3/Szene5) durch die ...'},\n",
       "    {'url': 'https://schulportal.de/?cmd=suche&s=Shakespeare&smd[f][]=3&smd[ks][]=15',\n",
       "     'content': \"Unterrichtsmaterial ´Shakespeare´, Englisch, Klasse 13 LK  Shakespeare Klausur zum Thema Macbeth mit Sprachmittlung Vorabiturklausur Shakespeare Englisch LK Macbeth  Szenenanalyse von Romeo and Juliet (Todesszene) inklusive Mediation Grundschullehrkräfte (m/w/d) in Berlin-Kaulsdorf  1. Klausur Q2 Shakespeare: Midsummer Night's Dream Akt 2 mit MediationA Midsummer Night's Dream - Filmanalyse. Englisch Kl. 13 LK, Gymnasium/FOS, Nordrhein-Westfalen 169 KB. Methode: Viewing, Filmanalyse, Shakespeare - Arbeitszeit: 225 min. , Shakespeare, A Midsummer Night's Dream - Filmanalyse Hoffman 1998. Shakespeare, A Midsummer Night's Dream - Filmanalyse Hoffman 1998. Anzeige lehrer.biz.\"},\n",
       "    {'url': 'https://www.unterrichtsmaterial-aktuell.de/englisch/englisch-shakespeare-im-unterricht/',\n",
       "     'content': \"Englisch Sekundarstufe II Shakespeare and His Time  Das gesamte Unterrichtsmaterial“Shakespeare and His Time” Englisch Sekundarstufe I Shakespeare  ✔ Shakespeare for kids (5.+ 6. Klasse)✔ William Shakespeare and his stories✔ Interviews, Web Quest und Video Analyse:  den Einstieg in die Welt von William Shakespeare zu wagen.Shakespeare Shakespeare for kids (5.+ 6. Klasse) William Shakespeare and his stories Interviews, Web Quest und Video Analyse: Shakespeare in der heutigen Zeit Eine Tour durch das Globe Theatre: Publikum, Frauen in plays, Stratford-upon-Avon, Sprache und 'insults' und vieles mehr Shakespeare Quiz Drama Techniques in the classroom\"},\n",
       "    {'url': 'https://schulportal.de/?cmd=suche&s=Shakespeare&smd[f][3]=3&smd[ks][1100]=1100&smd[ks][12]=12&smd[ks][11]=11&ls=320',\n",
       "     'content': \"Klausur Shakespeare Romeo+Juliet Auszug aus einem Drehbuch (mit Mediation)  Unterrichtsmaterial ´Shakespeare´, Englisch, Klasse 13 LK+13 GK+12+11 Rhetorical devices - sharpen your skills  Vorabitur-Klausur-Englisch-LK-Q2-Dystopia and Utopia Englisch-LK-Q2-Shakespeare-Teaching Shakespeare at school  Shakespeare's Romeo and Juliet - Film analyis Macbeth: The weird sisters Grundschullehrkraft und Schulleitung im Team874 Dokumente Suche ´Shakespeare´, Englisch, Klasse 13 LK+13 GK+12+11. die größte Plattform für kostenloses Unterrichtsmaterial. Toggle navigation. Einloggen Neu anmelden Filter einblenden. Unterrichtsmaterial filtern. Materialart 10. Arbeitsblätter ...\"},\n",
       "    {'url': 'https://www.bildungsserver.de/elixier/elixier2_list.php?feldinhalt1=Shakespeare&bool1=and&von=11',\n",
       "     'content': 'und Weise mit dem Thema Shakespeare in der Schule auseinanderzusetzen, sich fortzubilden und den aktuellen Stellenwert  Details\\xa0\\xa0{ \"HE\": [] } Forum Shakespeare und Schule  acht anspruchsvolle Unterrichtseinheiten zu Shakespeares Othello Details\\xa0\\xa0{ \"HE\": [] } Othello Curriculum Guide  Shakespeare - kostenloses Unterrichtsmaterial, Arbeitsblätter und Übungen (2) Ergebnis der Suche nach:William Shakespeare ging gern mal einen trinken. James Shapiro ist Professor an der New Yorker Columbia University und einer der bekanntesten Shakespeare-Forscher der Gegenwart. Seine Methode ist eine Art untheoretischer New Historicism, ein Eintauchen in die Zeit, so wie man sich als Reisender eine unbekannte Stadt erschließt. Details'}])],\n",
       " 'context': [Document(page_content='Lehrplanauszüge\\n4 30.01.2024(3) Beim Kompetenzerwerb zeigen sich Schülerinnen und Schüler des  \\nGymnasiums geistig besonders beweglich und fantasievoll, sie lernen  \\nschnell, gern und zielstrebig und verfügen über ein gutes Gedächtnis. Sie  \\nsind bereit, sich ausdauernd und unter verschiedenen Blickwinkeln mit  \\nDenk- und Gestaltungsaufgaben auseinanderzusetzen, und entwickeln dabei  \\nzunehmend die Fähigkeit zur Abstraktion, zu analytischem und vernetztem  \\nDenken, zu eigenständiger Problemlösung und zur zielgerichteten  \\nZusammenarbeit in der Gruppe.\\n(4) Schülerinnen und Schüler, die den gesamten gymnasialen Bildungsweg  \\ndurchlaufen, treten als Kinder in das Gymnasium ein und verlassen es als  \\njunge Erwachsene. In diesem Zeitraum haben sie die Möglichkeit zu einer  \\nkontinuierlichen Kompetenzentwicklung, gerade in einer Lebensphase, die  \\nnicht nur von Unsicherheit und Veränderung, sondern auch von  \\nkonstruktiver Neuorientierung gekennzeichnet ist. In dieser Zeit am  \\nGymnasium entwickeln sich die Schülerinnen und Schüler zu  \\nPersönlichkeiten, die auf der Grundlage eines breiten Fachwissens neue  \\nAufgaben- und Problemstellungen lösen wollen und können. Mit der am  \\nGymnasium erworbenen Sach-, Methoden-, Selbst- und Sozialkompetenz  \\nsind sie den Anforderungen eines Studiums ebenso gewachsen wie den sich  \\nständig wandelnden Herausforderungen in Arbeitswelt und Gesellschaft.  \\nNicht zuletzt haben sie ein breites kulturelles, gesellschaftliches, ethisch-\\nreligiöses und ästhetisches Wissens- und Wertefundament ausgebildet, das  \\nsie befähigt, Gegebenes kritisch zu reflektieren, und das wesentlich zu  \\neinem erfüllten, aktiv und vielfältig gestalteten Leben beitragen kann.\\n3 Unterricht am Gymnasium\\n3.1 Fächerkanon und Inhalte\\n(1) Der Unterricht am Gymnasium bietet den Schülerinnen und Schülern die  \\nMöglichkeit, sich die Welt aus der Perspektive einer Vielzahl  \\nunterschiedlicher Fächer zu erschließen. Sie setzen sich mit Inhalten  \\nauseinander, die gekennzeichnet sind durch eine ausgewogene Mischung  \\naus Komplexität, Abstraktion, Wissenschaftlichkeit sowie Lebens- und  \\nAnwendungsbezug. Hierbei spielen auch die neuen digitalen und  \\ninteraktiven Medien eine bedeutsame Rolle: Als Bestandteil schulischen  \\nLernens sind sie ein zeitgemäßes Mittel für eine ebenso attraktive wie', metadata={'page': 3, 'source': '/tmp/tmpnzmfpqs6/LIS_PDF_30-01-2024.pdf'}),\n",
       "  Document(page_content='Lehrplanauszüge\\n30.01.2024 7den eigenen Lernzuwachs zu hinterfragen. Ihre Bearbeitung erfordert  \\nMotivation, Ausdauer und Leistungsbereitschaft. Durch die Übertragung  \\nder im Unterricht erworbenen Kompetenzen auf neue Zusammenhänge  \\nermöglichen die Aufgaben die Vernetzung von Wissenselementen, auch  \\naus verschiedenen Fachdisziplinen.\\n(3) Kompetenzorientierte Unterrichtsgestaltung ist geprägt von  \\nangemessener Methodenvielfalt. Der auf die Lernsituation abgestimmte,  \\nflexible Einsatz verschiedener Unterrichtsmethoden ermöglicht es nicht  \\nnur, den Unterrichtsgegenständen gerecht zu werden, sondern auch die  \\nSchülerinnen und Schüler in die Gestaltung des Unterrichts  \\neinzubeziehen, die Lernwege auf unterschiedliche Lernvoraussetzungen  \\nabzustimmen und durch Abwechslungsreichtum Lernmotivation,  \\nInteresse und Konzentration zu fördern. Durch soziale Lernformen (z.\\xa0B.  \\nGruppen- oder Projektarbeit) lernen die Schülerinnen und Schüler die  \\nBedingungen und Vorzüge kooperativen Arbeitens kennen; die  \\nBereitschaft und Fähigkeit zur Zusammenarbeit sind in Studium und  \\nBeruf unerlässlich. Die Einbeziehung digitaler Medien in die Gestaltung  \\nvon Lernprozessen bietet zusätzliche Möglichkeiten der Differenzierung  \\nund der individuellen Förderung.\\n(4) Die Schülerschaft des Gymnasiums ist im Hinblick auf Herkunft und  \\nBegabung heterogen. Schülerinnen und Schüler erleben, dass sie als  \\neigenständige Persönlichkeiten mit individuellem Hintergrund,  \\ndifferenzierten und für die gemeinsame Arbeit wertvollen Begabungs-  \\nund Leistungspotenzialen ernst genommen werden. Die Lehrkräfte  \\nberücksichtigen die Unterschiedlichkeit ihrer Schülerinnen und Schüler,  \\nfördern gezielt deren Potenziale und führen die Lernenden zu einer  \\nrealistischen Einschätzung ihrer Stärken und Schwächen.  \\nIntensivierungsstunden eignen sich in besonderem Maße dazu, den  \\nindividuellen Lernbedürfnissen der Schülerinnen und Schüler gerecht zu  \\nwerden und damit sowohl schwächere als auch besonders begabte  \\nSchülerinnen und Schüler zu fördern.\\n(5) In einigen Fachlehrplänen sind den einzelnen Lernbereichen  \\nStundenrichtwerte (z.\\xa0B. ca. 10\\xa0Stunden) beigegeben. Sie dienen der  \\nOrientierung und Hilfestellung bei der Unterrichtsplanung.\\n4 Entwicklungsperspektiven des gymnasialen Unterrichts', metadata={'page': 6, 'source': '/tmp/tmpnzmfpqs6/LIS_PDF_30-01-2024.pdf'})]}"
      ]
     },
     "execution_count": 35,
     "metadata": {},
     "output_type": "execute_result"
    }
   ],
   "source": [
    "response"
   ]
  },
  {
   "cell_type": "code",
   "execution_count": 14,
   "metadata": {},
   "outputs": [],
   "source": [
    "def download_file_from_bucket(destination: str, full_path: str, path: str):\n",
    "    full_path_list = full_path.split(\"/\")\n",
    "    bucket_name = full_path_list[0]\n",
    "    with open(destination, 'wb+') as f:\n",
    "        storage_file = supabase_client.storage.from_(bucket_name).download(path)\n",
    "        f.write(storage_file)"
   ]
  },
  {
   "cell_type": "code",
   "execution_count": 15,
   "metadata": {},
   "outputs": [
    {
     "name": "stderr",
     "output_type": "stream",
     "text": [
      "2024-02-01 18:23:05,084:INFO - HTTP Request: GET https://smxwnqdpxcvclxhbvhsf.supabase.co/storage/v1/object/context_uploads/user_2e4ace06-270b-429b-9726-f937261ed293/RMH-Rechnung_12_23.pdf \"HTTP/1.1 200 OK\"\n"
     ]
    }
   ],
   "source": [
    "download_file_from_bucket(\"RMH-Rechnung_12_23.pdf\", \"context_uploads/user_2e4ace06-270b-429b-9726-f937261ed293/RMH-Rechnung_12_23.pdf\", \"user_2e4ace06-270b-429b-9726-f937261ed293/RMH-Rechnung_12_23.pdf\")"
   ]
  },
  {
   "cell_type": "code",
   "execution_count": 1,
   "metadata": {},
   "outputs": [],
   "source": [
    "upload_dict = {\"path\":\"user_2e4ace06-270b-429b-9726-f937261ed293/RMH-Rechnung_12_23.pdf\",\"id\":\"c2f81078-039d-435a-b0c6-84534ac9048f\",\"fullPath\":\"context_uploads/user_2e4ace06-270b-429b-9726-f937261ed293/RMH-Rechnung_12_23.pdf\"}"
   ]
  },
  {
   "cell_type": "code",
   "execution_count": 2,
   "metadata": {},
   "outputs": [],
   "source": [
    "full_path = upload_dict['fullPath']"
   ]
  },
  {
   "cell_type": "code",
   "execution_count": 3,
   "metadata": {},
   "outputs": [
    {
     "data": {
      "text/plain": [
       "'context_uploads/user_2e4ace06-270b-429b-9726-f937261ed293/RMH-Rechnung_12_23.pdf'"
      ]
     },
     "execution_count": 3,
     "metadata": {},
     "output_type": "execute_result"
    }
   ],
   "source": [
    "full_path"
   ]
  },
  {
   "cell_type": "code",
   "execution_count": 6,
   "metadata": {},
   "outputs": [
    {
     "data": {
      "text/plain": [
       "'context_uploads'"
      ]
     },
     "execution_count": 6,
     "metadata": {},
     "output_type": "execute_result"
    }
   ],
   "source": [
    "full_path.split(\"/\")"
   ]
  },
  {
   "cell_type": "code",
   "execution_count": null,
   "metadata": {},
   "outputs": [],
   "source": []
  }
 ],
 "metadata": {
  "kernelspec": {
   "display_name": "unterricht-python-backend-9Hag_kgR-py3.10",
   "language": "python",
   "name": "python3"
  },
  "language_info": {
   "codemirror_mode": {
    "name": "ipython",
    "version": 3
   },
   "file_extension": ".py",
   "mimetype": "text/x-python",
   "name": "python",
   "nbconvert_exporter": "python",
   "pygments_lexer": "ipython3",
   "version": "3.10.13"
  }
 },
 "nbformat": 4,
 "nbformat_minor": 2
}
