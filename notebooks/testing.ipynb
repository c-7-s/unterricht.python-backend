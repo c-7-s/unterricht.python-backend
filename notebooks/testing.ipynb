{
 "cells": [
  {
   "cell_type": "code",
   "execution_count": 1,
   "metadata": {},
   "outputs": [],
   "source": [
    "from langchain_openai import OpenAIEmbeddings\n",
    "from langchain.vectorstores.supabase import SupabaseVectorStore\n",
    "from langchain.prompts import PromptTemplate\n",
    "from langchain.chains.question_answering import load_qa_chain\n",
    "from langchain_openai import OpenAI\n",
    "from langchain.output_parsers import RegexParser"
   ]
  },
  {
   "cell_type": "code",
   "execution_count": 3,
   "metadata": {},
   "outputs": [],
   "source": [
    "from utils.utils import initialize_environment_variables, initialize_subabase_client, initialize_openai_client\n",
    "\n",
    "initialize_environment_variables(\"../.env\")\n",
    "\n",
    "# Initialize Supabase Client\n",
    "supabase_client = initialize_subabase_client()\n",
    "\n",
    "# Initialize OpenAI Client\n",
    "openai_client = initialize_openai_client()"
   ]
  },
  {
   "cell_type": "code",
   "execution_count": 4,
   "metadata": {},
   "outputs": [],
   "source": [
    "embeddings = OpenAIEmbeddings()"
   ]
  },
  {
   "cell_type": "code",
   "execution_count": 5,
   "metadata": {},
   "outputs": [],
   "source": [
    "vector_store = SupabaseVectorStore(\n",
    "        client=supabase_client,\n",
    "        embedding=embeddings,\n",
    "        table_name=\"vector_store\"\n",
    "    )"
   ]
  },
  {
   "cell_type": "code",
   "execution_count": 6,
   "metadata": {},
   "outputs": [],
   "source": [
    "query = \"Was ist Unterricht?\""
   ]
  },
  {
   "cell_type": "code",
   "execution_count": 7,
   "metadata": {},
   "outputs": [],
   "source": [
    "prompt_template = \"\"\"Use the following pieces of context to answer the question at the end. If you don't know the answer, just say that you don't know, don't try to make up an answer.\n",
    "\n",
    "This should be in the following format:\n",
    "\n",
    "Question: [question here]\n",
    "Helpful Answer: [answer here]\n",
    "Score: [score between 0 and 100]\n",
    "\n",
    "Begin!\n",
    "\n",
    "Context:\n",
    "---------\n",
    "{context}\n",
    "---------\n",
    "Question: {question}\n",
    "Helpful Answer:\"\"\"\n",
    "output_parser = RegexParser(\n",
    "    regex=r\"(.*?)\\nScore: (.*)\",\n",
    "    output_keys=[\"answer\", \"score\"],\n",
    ")\n",
    "PROMPT = PromptTemplate(\n",
    "    template=prompt_template,\n",
    "    input_variables=[\"context\", \"question\"],\n",
    "    output_parser=output_parser\n",
    ")"
   ]
  },
  {
   "cell_type": "code",
   "execution_count": 8,
   "metadata": {},
   "outputs": [],
   "source": [
    "chain = load_qa_chain(OpenAI(temperature=0), chain_type=\"map_rerank\", return_intermediate_steps=True, prompt=PROMPT)"
   ]
  },
  {
   "cell_type": "code",
   "execution_count": 9,
   "metadata": {},
   "outputs": [
    {
     "name": "stderr",
     "output_type": "stream",
     "text": [
      "2024-01-29 22:40:48,277:INFO - HTTP Request: POST https://api.openai.com/v1/embeddings \"HTTP/1.1 200 OK\"\n"
     ]
    }
   ],
   "source": [
    "query_embeddings = embeddings.embed_query(query)"
   ]
  },
  {
   "cell_type": "code",
   "execution_count": 10,
   "metadata": {},
   "outputs": [
    {
     "name": "stderr",
     "output_type": "stream",
     "text": [
      "2024-01-29 22:40:52,060:INFO - HTTP Request: POST https://smxwnqdpxcvclxhbvhsf.supabase.co/rest/v1/rpc/match_documents?limit=2 \"HTTP/1.1 200 OK\"\n"
     ]
    }
   ],
   "source": [
    "relevant_chunks = vector_store.similarity_search_by_vector_with_relevance_scores(query_embeddings,k=2)"
   ]
  },
  {
   "cell_type": "code",
   "execution_count": 11,
   "metadata": {},
   "outputs": [],
   "source": [
    "chunk_docs=[]\n",
    "for chunk in relevant_chunks:\n",
    "        chunk_docs.append(chunk[0])"
   ]
  },
  {
   "cell_type": "code",
   "execution_count": 12,
   "metadata": {},
   "outputs": [
    {
     "name": "stderr",
     "output_type": "stream",
     "text": [
      "/home/cts/.cache/pypoetry/virtualenvs/unterricht-python-backend-9Hag_kgR-py3.10/lib/python3.10/site-packages/langchain_core/_api/deprecation.py:117: LangChainDeprecationWarning: The function `__call__` was deprecated in LangChain 0.1.0 and will be removed in 0.2.0. Use invoke instead.\n",
      "  warn_deprecated(\n",
      "/home/cts/.cache/pypoetry/virtualenvs/unterricht-python-backend-9Hag_kgR-py3.10/lib/python3.10/site-packages/langchain/chains/llm.py:344: UserWarning: The apply_and_parse method is deprecated, instead pass an output parser directly to LLMChain.\n",
      "  warnings.warn(\n",
      "2024-01-29 22:40:58,919:INFO - HTTP Request: POST https://api.openai.com/v1/completions \"HTTP/1.1 200 OK\"\n"
     ]
    }
   ],
   "source": [
    "results = chain({\"input_documents\": chunk_docs, \"question\": query})"
   ]
  },
  {
   "cell_type": "code",
   "execution_count": 13,
   "metadata": {},
   "outputs": [],
   "source": [
    "text_reference=\"\"\n",
    "for i in range(len(results[\"input_documents\"])):\n",
    "    text_reference+=results[\"input_documents\"][i].page_content\n",
    "output={\"Answer\":results[\"output_text\"],\"Reference\":text_reference}"
   ]
  },
  {
   "cell_type": "code",
   "execution_count": 14,
   "metadata": {},
   "outputs": [
    {
     "data": {
      "text/plain": [
       "{'Answer': ' Unterricht ist eine pädagogische Maßnahme, bei der Lehrkräfte den Schülerinnen und Schülern Wissen und Fähigkeiten vermitteln und sie beim Lernen unterstützen. Der Unterricht in der Grundschule ist geprägt vom Klassleiterprinzip, fächerverbindendem Unterricht und einer rhythmisierten Struktur, die den Bedürfnissen der Kinder angepasst ist. Regelmäßige Rückmeldungen und Gespräche über Gelerntes und Geleistetes sind Teil des Unterrichts und dienen der individuellen Förderung der Schülerinnen und Schüler. ',\n",
       " 'Reference': '26Bildungs- und Erziehungsauftrag der Grundschule\\nDie Schülerinnen und Schüler zeigen so persönliche Stärken, die für ihre Persönlichkeitsentwicklung \\nund ihr Lernen bedeutsam sind. Die Lehrkräfte der Grundschule nehmen diese bewusst wahr, \\nbeachten neben Ergebnissen auch die Leistungen, die in den Lern- und Arbeitsprozessen erbracht \\nwerden, und unterstützen die Kinder beim Aufbau und der Erweiterung ihrer Kompetenzen. Sie \\nermöglichen ihnen Erfolgserlebnisse und ermutigen sie, weitere Leistungen im fachlichen, sozialen \\nund methodischen Bereich zu erbringen.\\n3.10 Individuelle Rückmeldungen\\nGrundlage für eine stärkenorientierte und prozessbegleitende Rückmeldung an die Lernenden sind \\nregelmäßige Lernbeobachtungen, die Dokumentation der Lern- und Entwicklungsprozesse sowie \\ngezielte Erhebungen des Lernstandes, die sich an den Kompetenzerwartungen der Fachlehrpläne \\norientieren. Zur Beobachtung und Dokumentation des Lernens werden Unterlagen und Schülerarbei-\\nten herangezogen, die aus der Auseinandersetzung mit einer Aufgabenstellung im Unterricht entste-\\nhen und z. B. in Portfolios oder Lerntagebüchern gesammelt werden. Anhand der Schülerarbeiten \\nmacht sich die Lehrkraft ein Bild von den Stärken und dem Lernbedarf im jeweiligen Bereich, führt \\nentsprechende Lerngespräche und geht darauf in der weiteren Planung von Lernangeboten ein.\\nGespräche über Gelerntes und Geleistetes als dialogische Formen der Rückmeldung ermöglichen \\neine persönliche Würdigung und sind Teil der Lernkultur in der Grundschule. Eine regelmäßige Über-\\nprüfung, Berichtigung und individuelle Kommentierung schriftlicher Arbeitsergebnisse gehört zu den unterstützenden Aufgaben der Lehrkraft.\\nRückmeldungen dieser Art zeigen, dass die Anstrengungen der Kinder wahrgenommen werden. Sie \\nunterstützen eine positive Einstellung zum Lernen, stärken das Selbstvertrauen in die eigene \\n Leistungsfähigkeit und die Verantwortung der Kinder für ihre eigenen Lernfortschritte.\\n3. 11  Fächerverbindender Klassleiterunterricht und Rhythmisierung \\ndes Unterrichts\\nEin zentrales Merkmal des Grundschulunterrichts ist das Klassleiterprinzip. Die Klassenleiterinnen \\nund Klassenleiter realisieren Unterricht häuﬁ  g fächerverbindend, was auch durch die Ausweisung \\nvon Grundlegendem Unterricht in der Stundentafel für die Jahrgangsstufen 1 und 2 unterstützt wird. Kompetenzen, die sich aus den \\nschulart- und fächerübergreifenden Bildungs- und Erziehungszielen \\nableiten und in einzelnen Fachlehrplänen verortet sind, werden auf diese Weise vernetzt erworben.\\nDie zeitliche Strukturierung des Unterrichtsvormittags orientiert sich an kindgerechten Phasen für \\nkonzentriertes Lernen und berücksichtigt das Bedürfnis nach Bewegung und Pausen. Regelmäßig \\nwiederkehrende Zeiträume im Unterrichtsvormittag – bei Ganztagsschulen auch am Nachmittag – \\nsowie im gesamten Schulleben können in besonderer Weise pädagogisch gestaltet werden. Rituale \\nstrukturieren den schulischen Alltag und schaffen eine Atmosphäre der Sicherheit und des Ver-\\ntrauens, insbesondere, wenn sie gemeinsam mit den Schülerinnen und Schülern geplant und gestal-\\ntet werden. Möglichkeiten hierfür bieten z. B. Morgenkreis, Gebet, Schulfrühstück, Klassenrat, \\nWochenabschluss, Bewegungspausen, Feste und Feiern.118Fachproﬁ  le der Grundschule\\nSPORT\\nSPORT\\n1  Selbstverständnis des Faches Sport und sein Beitrag \\nzur Bildung\\nFür Kinder sind Spielen und Bewegung elementare Grundbedürfnisse und Ausdruck unmittelbar \\nempfundener Lebensfreude. Der Sportunterricht greift diese Freude auf und fördert sie durch viel-\\nfältige, altersgemäße Spiel- und Bewegungsmöglichkeiten. Dabei ermöglicht er den Schülerinnen \\nund Schülern, den eigenen Körper unter verschiedenen Sinnrichtungen zu erfahren und dessen \\nLeistungsfähigkeit zu erleben und zu entwickeln.\\nDie Schülerinnen und Schüler der Grundschule beﬁ  nden sich in einem idealen Lernalter für eine \\nbreite Ausbildung koordinativer Fähigkeiten und elementarer sportmotorischer Fertigkeiten. Diese \\nstehen daher zusammen mit der spielerischen und altersgemäßen Entwicklung der Grundeigen-\\nschaften Kraft, Ausdauer, Schnelligkeit und Beweglichkeit im Sportunterricht der Grundschule im \\nVordergrund. Kinder mit sonderpädagogischem Förderbedarf erfahren hierbei beispielsweise durch \\nmethodische Differenzierung in Kleingruppen oder individuelle Aufgabenstellungen eine besondere \\nBerücksichtigung.\\nDer Sportunterricht ist das einzige Bewegungsfach im schulischen Fächerkanon und daher von \\nwesentlicher Bedeutung für die Gesundheitserziehung. Er leistet einen wertvollen Beitrag zur Hin-\\nführung an eine gesunde Lebensführung mit regelmäßiger sportlicher Betätigung, ist förderlich für \\ndie kognitive Entwicklung und regt zu einer sinnvollen Freizeitgestaltung an.\\nNeben der Hinführung der Schülerinnen und Schüler zur sportlichen Handlungsfähigkeit zielt der \\nSportunterricht auch auf die Erziehung durch Sport ab. Bewegung, Spiel und Sport in einer (Klas-\\nsen-)Gemeinschaft unterstützen durch vielfältige interaktive Handlungsanlässe, individuelle Aus-\\ndrucksmöglichkeiten und gemeinsam erlebte Emotionen den Erwerb grundlegender personaler und \\nsozialer Kompetenzen. Dazu gehören unter anderem Kooperationsfähigkeit, Fairness, Teamgeist, \\nRücksichtnahme, das Gewinnen- und das Verlieren-Können, Durchhaltevermögen sowie Anstren-\\ngungs- und Leistungsbereitschaft. Der Sportunterricht trägt damit wesentlich zu einer ganzheitlichen \\nPersönlichkeits- und Werteerziehung bei.\\nSport und Bewegungserziehung spielen in der Grundschule über den Sportunterricht hinaus eine \\nwesentliche Rolle. Der außerunterrichtliche Schulsport bereichert mit vielfältigen Möglichkeiten und \\nAngeboten („Voll in Form“, „Bewegte Grundschule“, Bundesjugendspiele, schulsportliche Wett-\\nbewerbe, Sport- und Schulfeste, Schülerfahrten mit sportlichen Elementen, Projekttage u. a.) die \\nschulische Sport- und Gesundheitserziehung und leistet einen wesentlichen Beitrag zur Gestaltung des Schullebens sowie zur Stärkung des Schulproﬁ  ls. Darüber hinaus ergeben sich Brücken zum \\naußerschulischen Sport und zur Zusammenarbeit mit den Vereinen, um dadurch die frühe Einbin-\\ndung in ein sportorientiertes Umfeld zu fördern, z. B. durch das Kooperationsmodell „Sport nach 1 in \\nSchule und Verein“.'}"
      ]
     },
     "execution_count": 14,
     "metadata": {},
     "output_type": "execute_result"
    }
   ],
   "source": [
    "output"
   ]
  },
  {
   "cell_type": "code",
   "execution_count": 17,
   "metadata": {},
   "outputs": [],
   "source": [
    "def getanswer(query):\n",
    "    embeddings = OpenAIEmbeddings()\n",
    "    vector_store = SupabaseVectorStore(\n",
    "        client=supabase_client,\n",
    "        embedding=embeddings,\n",
    "        table_name=\"vector_store\"\n",
    "    )\n",
    "    query_embeddings = embeddings.embed_query(query)\n",
    "    relevant_chunks = vector_store.similarity_search_by_vector_with_relevance_scores(query_embeddings,k=2)\n",
    "    chunk_docs=[]\n",
    "    for chunk in relevant_chunks:\n",
    "        chunk_docs.append(chunk[0])\n",
    "    results = chain({\"input_documents\": chunk_docs, \"question\": query})\n",
    "    text_reference=\"\"\n",
    "    for i in range(len(results[\"input_documents\"])):\n",
    "        text_reference+=results[\"input_documents\"][i].page_content\n",
    "    output={\"Answer\":results[\"output_text\"],\"Reference\":text_reference}\n",
    "    return output"
   ]
  },
  {
   "cell_type": "code",
   "execution_count": 18,
   "metadata": {},
   "outputs": [
    {
     "name": "stderr",
     "output_type": "stream",
     "text": [
      "2024-01-29 22:42:29,329:INFO - HTTP Request: POST https://api.openai.com/v1/embeddings \"HTTP/1.1 200 OK\"\n",
      "2024-01-29 22:42:29,485:INFO - HTTP Request: POST https://smxwnqdpxcvclxhbvhsf.supabase.co/rest/v1/rpc/match_documents?limit=2 \"HTTP/1.1 200 OK\"\n",
      "/home/cts/.cache/pypoetry/virtualenvs/unterricht-python-backend-9Hag_kgR-py3.10/lib/python3.10/site-packages/langchain/chains/llm.py:344: UserWarning: The apply_and_parse method is deprecated, instead pass an output parser directly to LLMChain.\n",
      "  warnings.warn(\n",
      "2024-01-29 22:42:31,665:INFO - HTTP Request: POST https://api.openai.com/v1/completions \"HTTP/1.1 200 OK\"\n"
     ]
    },
    {
     "data": {
      "text/plain": [
       "{'Answer': ' Unterricht ist eine pädagogische Maßnahme, bei der Lehrkräfte den Schülerinnen und Schülern Wissen und Fähigkeiten vermitteln und sie beim Lernen unterstützen. Der Unterricht in der Grundschule ist geprägt vom Klassleiterprinzip, fächerverbindendem Unterricht und einer rhythmisierten Struktur, die den Bedürfnissen der Kinder angepasst ist. Regelmäßige Rückmeldungen und Gespräche über Gelerntes und Geleistetes sind Teil des Unterrichts und dienen der individuellen Förderung der Schülerinnen und Schüler. ',\n",
       " 'Reference': '26Bildungs- und Erziehungsauftrag der Grundschule\\nDie Schülerinnen und Schüler zeigen so persönliche Stärken, die für ihre Persönlichkeitsentwicklung \\nund ihr Lernen bedeutsam sind. Die Lehrkräfte der Grundschule nehmen diese bewusst wahr, \\nbeachten neben Ergebnissen auch die Leistungen, die in den Lern- und Arbeitsprozessen erbracht \\nwerden, und unterstützen die Kinder beim Aufbau und der Erweiterung ihrer Kompetenzen. Sie \\nermöglichen ihnen Erfolgserlebnisse und ermutigen sie, weitere Leistungen im fachlichen, sozialen \\nund methodischen Bereich zu erbringen.\\n3.10 Individuelle Rückmeldungen\\nGrundlage für eine stärkenorientierte und prozessbegleitende Rückmeldung an die Lernenden sind \\nregelmäßige Lernbeobachtungen, die Dokumentation der Lern- und Entwicklungsprozesse sowie \\ngezielte Erhebungen des Lernstandes, die sich an den Kompetenzerwartungen der Fachlehrpläne \\norientieren. Zur Beobachtung und Dokumentation des Lernens werden Unterlagen und Schülerarbei-\\nten herangezogen, die aus der Auseinandersetzung mit einer Aufgabenstellung im Unterricht entste-\\nhen und z. B. in Portfolios oder Lerntagebüchern gesammelt werden. Anhand der Schülerarbeiten \\nmacht sich die Lehrkraft ein Bild von den Stärken und dem Lernbedarf im jeweiligen Bereich, führt \\nentsprechende Lerngespräche und geht darauf in der weiteren Planung von Lernangeboten ein.\\nGespräche über Gelerntes und Geleistetes als dialogische Formen der Rückmeldung ermöglichen \\neine persönliche Würdigung und sind Teil der Lernkultur in der Grundschule. Eine regelmäßige Über-\\nprüfung, Berichtigung und individuelle Kommentierung schriftlicher Arbeitsergebnisse gehört zu den unterstützenden Aufgaben der Lehrkraft.\\nRückmeldungen dieser Art zeigen, dass die Anstrengungen der Kinder wahrgenommen werden. Sie \\nunterstützen eine positive Einstellung zum Lernen, stärken das Selbstvertrauen in die eigene \\n Leistungsfähigkeit und die Verantwortung der Kinder für ihre eigenen Lernfortschritte.\\n3. 11  Fächerverbindender Klassleiterunterricht und Rhythmisierung \\ndes Unterrichts\\nEin zentrales Merkmal des Grundschulunterrichts ist das Klassleiterprinzip. Die Klassenleiterinnen \\nund Klassenleiter realisieren Unterricht häuﬁ  g fächerverbindend, was auch durch die Ausweisung \\nvon Grundlegendem Unterricht in der Stundentafel für die Jahrgangsstufen 1 und 2 unterstützt wird. Kompetenzen, die sich aus den \\nschulart- und fächerübergreifenden Bildungs- und Erziehungszielen \\nableiten und in einzelnen Fachlehrplänen verortet sind, werden auf diese Weise vernetzt erworben.\\nDie zeitliche Strukturierung des Unterrichtsvormittags orientiert sich an kindgerechten Phasen für \\nkonzentriertes Lernen und berücksichtigt das Bedürfnis nach Bewegung und Pausen. Regelmäßig \\nwiederkehrende Zeiträume im Unterrichtsvormittag – bei Ganztagsschulen auch am Nachmittag – \\nsowie im gesamten Schulleben können in besonderer Weise pädagogisch gestaltet werden. Rituale \\nstrukturieren den schulischen Alltag und schaffen eine Atmosphäre der Sicherheit und des Ver-\\ntrauens, insbesondere, wenn sie gemeinsam mit den Schülerinnen und Schülern geplant und gestal-\\ntet werden. Möglichkeiten hierfür bieten z. B. Morgenkreis, Gebet, Schulfrühstück, Klassenrat, \\nWochenabschluss, Bewegungspausen, Feste und Feiern.118Fachproﬁ  le der Grundschule\\nSPORT\\nSPORT\\n1  Selbstverständnis des Faches Sport und sein Beitrag \\nzur Bildung\\nFür Kinder sind Spielen und Bewegung elementare Grundbedürfnisse und Ausdruck unmittelbar \\nempfundener Lebensfreude. Der Sportunterricht greift diese Freude auf und fördert sie durch viel-\\nfältige, altersgemäße Spiel- und Bewegungsmöglichkeiten. Dabei ermöglicht er den Schülerinnen \\nund Schülern, den eigenen Körper unter verschiedenen Sinnrichtungen zu erfahren und dessen \\nLeistungsfähigkeit zu erleben und zu entwickeln.\\nDie Schülerinnen und Schüler der Grundschule beﬁ  nden sich in einem idealen Lernalter für eine \\nbreite Ausbildung koordinativer Fähigkeiten und elementarer sportmotorischer Fertigkeiten. Diese \\nstehen daher zusammen mit der spielerischen und altersgemäßen Entwicklung der Grundeigen-\\nschaften Kraft, Ausdauer, Schnelligkeit und Beweglichkeit im Sportunterricht der Grundschule im \\nVordergrund. Kinder mit sonderpädagogischem Förderbedarf erfahren hierbei beispielsweise durch \\nmethodische Differenzierung in Kleingruppen oder individuelle Aufgabenstellungen eine besondere \\nBerücksichtigung.\\nDer Sportunterricht ist das einzige Bewegungsfach im schulischen Fächerkanon und daher von \\nwesentlicher Bedeutung für die Gesundheitserziehung. Er leistet einen wertvollen Beitrag zur Hin-\\nführung an eine gesunde Lebensführung mit regelmäßiger sportlicher Betätigung, ist förderlich für \\ndie kognitive Entwicklung und regt zu einer sinnvollen Freizeitgestaltung an.\\nNeben der Hinführung der Schülerinnen und Schüler zur sportlichen Handlungsfähigkeit zielt der \\nSportunterricht auch auf die Erziehung durch Sport ab. Bewegung, Spiel und Sport in einer (Klas-\\nsen-)Gemeinschaft unterstützen durch vielfältige interaktive Handlungsanlässe, individuelle Aus-\\ndrucksmöglichkeiten und gemeinsam erlebte Emotionen den Erwerb grundlegender personaler und \\nsozialer Kompetenzen. Dazu gehören unter anderem Kooperationsfähigkeit, Fairness, Teamgeist, \\nRücksichtnahme, das Gewinnen- und das Verlieren-Können, Durchhaltevermögen sowie Anstren-\\ngungs- und Leistungsbereitschaft. Der Sportunterricht trägt damit wesentlich zu einer ganzheitlichen \\nPersönlichkeits- und Werteerziehung bei.\\nSport und Bewegungserziehung spielen in der Grundschule über den Sportunterricht hinaus eine \\nwesentliche Rolle. Der außerunterrichtliche Schulsport bereichert mit vielfältigen Möglichkeiten und \\nAngeboten („Voll in Form“, „Bewegte Grundschule“, Bundesjugendspiele, schulsportliche Wett-\\nbewerbe, Sport- und Schulfeste, Schülerfahrten mit sportlichen Elementen, Projekttage u. a.) die \\nschulische Sport- und Gesundheitserziehung und leistet einen wesentlichen Beitrag zur Gestaltung des Schullebens sowie zur Stärkung des Schulproﬁ  ls. Darüber hinaus ergeben sich Brücken zum \\naußerschulischen Sport und zur Zusammenarbeit mit den Vereinen, um dadurch die frühe Einbin-\\ndung in ein sportorientiertes Umfeld zu fördern, z. B. durch das Kooperationsmodell „Sport nach 1 in \\nSchule und Verein“.'}"
      ]
     },
     "execution_count": 18,
     "metadata": {},
     "output_type": "execute_result"
    }
   ],
   "source": [
    "getanswer(\"Was ist Unterricht?\")"
   ]
  }
 ],
 "metadata": {
  "kernelspec": {
   "display_name": "unterricht-python-backend-9Hag_kgR-py3.10",
   "language": "python",
   "name": "python3"
  },
  "language_info": {
   "codemirror_mode": {
    "name": "ipython",
    "version": 3
   },
   "file_extension": ".py",
   "mimetype": "text/x-python",
   "name": "python",
   "nbconvert_exporter": "python",
   "pygments_lexer": "ipython3",
   "version": "3.10.13"
  }
 },
 "nbformat": 4,
 "nbformat_minor": 2
}
