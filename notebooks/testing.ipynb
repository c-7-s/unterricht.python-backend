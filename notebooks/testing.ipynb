{
 "cells": [
  {
   "cell_type": "code",
   "execution_count": 1,
   "metadata": {},
   "outputs": [],
   "source": [
    "import os\n",
    "from langchain_openai import OpenAIEmbeddings\n",
    "from langchain.vectorstores.supabase import SupabaseVectorStore\n",
    "from langchain.prompts import PromptTemplate\n",
    "from langchain.chains.question_answering import load_qa_chain\n",
    "from langchain_openai import OpenAI\n",
    "from langchain.embeddings.openai import OpenAIEmbeddings\n",
    "from langchain.output_parsers import RegexParser\n",
    "from supabase.client import create_client, Client\n",
    "from dotenv import load_dotenv"
   ]
  },
  {
   "cell_type": "code",
   "execution_count": 2,
   "metadata": {},
   "outputs": [
    {
     "data": {
      "text/plain": [
       "True"
      ]
     },
     "execution_count": 2,
     "metadata": {},
     "output_type": "execute_result"
    }
   ],
   "source": [
    "load_dotenv(\"../.env\")"
   ]
  },
  {
   "cell_type": "code",
   "execution_count": 3,
   "metadata": {},
   "outputs": [],
   "source": [
    "# Initialize Supabase Client\n",
    "url: str = os.environ.get(\"SUPABASE_URL\")\n",
    "key: str = os.environ.get(\"SUPABASE_API_KEY\")\n",
    "supabase_client: Client = create_client(url, key)\n",
    "\n",
    "# Initialize OpenAI Client\n",
    "opeani_key = url = os.environ.get('OPENAI_KEY')\n",
    "client = OpenAI(api_key=opeani_key)"
   ]
  },
  {
   "cell_type": "code",
   "execution_count": 4,
   "metadata": {},
   "outputs": [
    {
     "name": "stderr",
     "output_type": "stream",
     "text": [
      "/home/cts/.cache/pypoetry/virtualenvs/unterricht-python-backend-9Hag_kgR-py3.10/lib/python3.10/site-packages/langchain_core/_api/deprecation.py:117: LangChainDeprecationWarning: The class `langchain_community.embeddings.openai.OpenAIEmbeddings` was deprecated in langchain-community 0.1.0 and will be removed in 0.2.0. An updated version of the class exists in the langchain-openai package and should be used instead. To use it run `pip install -U langchain-openai` and import as `from langchain_openai import OpenAIEmbeddings`.\n",
      "  warn_deprecated(\n"
     ]
    }
   ],
   "source": [
    "embeddings = OpenAIEmbeddings()"
   ]
  },
  {
   "cell_type": "code",
   "execution_count": 5,
   "metadata": {},
   "outputs": [],
   "source": [
    "vector_store = SupabaseVectorStore(\n",
    "        client=supabase_client,\n",
    "        embedding=embeddings,\n",
    "        table_name=\"documents_new\"\n",
    "    )"
   ]
  },
  {
   "cell_type": "code",
   "execution_count": 6,
   "metadata": {},
   "outputs": [],
   "source": [
    "query = \"Was ist Unterricht?\""
   ]
  },
  {
   "cell_type": "code",
   "execution_count": 7,
   "metadata": {},
   "outputs": [],
   "source": [
    "prompt_template = \"\"\"Use the following pieces of context to answer the question at the end. If you don't know the answer, just say that you don't know, don't try to make up an answer.\n",
    "\n",
    "This should be in the following format:\n",
    "\n",
    "Question: [question here]\n",
    "Helpful Answer: [answer here]\n",
    "Score: [score between 0 and 100]\n",
    "\n",
    "Begin!\n",
    "\n",
    "Context:\n",
    "---------\n",
    "{context}\n",
    "---------\n",
    "Question: {question}\n",
    "Helpful Answer:\"\"\"\n",
    "output_parser = RegexParser(\n",
    "    regex=r\"(.*?)\\nScore: (.*)\",\n",
    "    output_keys=[\"answer\", \"score\"],\n",
    ")\n",
    "PROMPT = PromptTemplate(\n",
    "    template=prompt_template,\n",
    "    input_variables=[\"context\", \"question\"],\n",
    "    output_parser=output_parser\n",
    ")"
   ]
  },
  {
   "cell_type": "code",
   "execution_count": 8,
   "metadata": {},
   "outputs": [],
   "source": [
    "chain = load_qa_chain(OpenAI(temperature=0), chain_type=\"map_rerank\", return_intermediate_steps=True, prompt=PROMPT)"
   ]
  },
  {
   "cell_type": "code",
   "execution_count": 9,
   "metadata": {},
   "outputs": [
    {
     "name": "stderr",
     "output_type": "stream",
     "text": [
      "2024-01-27 18:03:59,874:INFO - HTTP Request: POST https://api.openai.com/v1/embeddings \"HTTP/1.1 200 OK\"\n"
     ]
    }
   ],
   "source": [
    "query_embeddings = embeddings.embed_query(query)"
   ]
  },
  {
   "cell_type": "code",
   "execution_count": 10,
   "metadata": {},
   "outputs": [
    {
     "name": "stderr",
     "output_type": "stream",
     "text": [
      "2024-01-27 18:04:00,092:INFO - HTTP Request: POST https://smxwnqdpxcvclxhbvhsf.supabase.co/rest/v1/rpc/match_documents?limit=2 \"HTTP/1.1 200 OK\"\n"
     ]
    }
   ],
   "source": [
    "relevant_chunks = vector_store.similarity_search_by_vector_with_relevance_scores(query_embeddings,k=2)"
   ]
  },
  {
   "cell_type": "code",
   "execution_count": 11,
   "metadata": {},
   "outputs": [],
   "source": [
    "chunk_docs=[]\n",
    "for chunk in relevant_chunks:\n",
    "        chunk_docs.append(chunk[0])"
   ]
  },
  {
   "cell_type": "code",
   "execution_count": 12,
   "metadata": {},
   "outputs": [
    {
     "name": "stderr",
     "output_type": "stream",
     "text": [
      "/home/cts/.cache/pypoetry/virtualenvs/unterricht-python-backend-9Hag_kgR-py3.10/lib/python3.10/site-packages/langchain_core/_api/deprecation.py:117: LangChainDeprecationWarning: The function `__call__` was deprecated in LangChain 0.1.0 and will be removed in 0.2.0. Use invoke instead.\n",
      "  warn_deprecated(\n",
      "/home/cts/.cache/pypoetry/virtualenvs/unterricht-python-backend-9Hag_kgR-py3.10/lib/python3.10/site-packages/langchain/chains/llm.py:344: UserWarning: The apply_and_parse method is deprecated, instead pass an output parser directly to LLMChain.\n",
      "  warnings.warn(\n",
      "2024-01-27 18:04:01,009:INFO - HTTP Request: POST https://api.openai.com/v1/completions \"HTTP/1.1 200 OK\"\n"
     ]
    }
   ],
   "source": [
    "results = chain({\"input_documents\": chunk_docs, \"question\": query})"
   ]
  },
  {
   "cell_type": "code",
   "execution_count": 13,
   "metadata": {},
   "outputs": [],
   "source": [
    "text_reference=\"\"\n",
    "for i in range(len(results[\"input_documents\"])):\n",
    "    text_reference+=results[\"input_documents\"][i].page_content\n",
    "output={\"Answer\":results[\"output_text\"],\"Reference\":text_reference}"
   ]
  },
  {
   "cell_type": "code",
   "execution_count": 14,
   "metadata": {},
   "outputs": [
    {
     "data": {
      "text/plain": [
       "{'Answer': ' Unterricht is a German word that translates to \"instruction\" or \"teaching.\" It refers to the process of imparting knowledge or skills to students in a formal setting, such as a classroom or online course. ',\n",
       " 'Reference': 'Paulo Reglus Neves Freire (September 19, 1921 – May 2, 1997) was a Brazilian educator and\\nphilosophe r who was a leading advoc ate of critical pedagogy . He is best know n for his influential work\\nPedagogy  of the Oppressed, which is generally considered one of the founda tional texts of the critical\\npedagogy m ovement.[26][27][28]\\nConfucius (551–479 BCE) stated that authority has the respons ibility to provide oral and written instruction\\nto the people unde r the rule, and \"should do them good in every possible way.\"[21] One of the deepest\\nteachings of Confucius may have been the superiority of personal exemplification over explicit rules of\\nbehavior. His moral teachings emphasized self-cultivation, emulation of moral exemplars, and the\\nattainment of skilled judge ment rather than know ledge of rules. Other relevant practices in the Confucian\\nteaching tradition include the Rite and its notion of body- know ledge as well as Confucian unde rstanding of\\nthe self, one  that has a broader conceptualization than the Western individual self.[29]\\nA hidden curriculum refers to extra educational activities or side effect of an education, \"[lessons] which are\\nlearned but not openly intended\"[30] such as the transmission of norms, values, and beliefs conve yed in the\\nclassroom and the social environment.[31]\\nLearning space or learning setting refers to a physical setting for a learning environment, a place in which\\nteaching and learning occur.[32] The term is commonly used as a more definitive alternative to\\n\"classroom\",[33] but it may also refer to an indoor  or outdoor location, either actual or virtual. Learning\\nspaces are highly diverse in use, learning styles, configuration, location, and educational institution. They\\nsuppor t a variety of pedagogies, including quiet study, passive or active learning, kinesthetic or phys ical\\nlearning, voc ational learning, e xperiential learning, a nd ot hers.\\nLearning theories are conceptual frameworks describing how know ledge is absorbed, processed, and\\nretained during learning. Cognitive, emotional, and environmental influences, as well as prior experience,\\nall play a part in how unde rstanding, or a world view, is acquired or changed and know ledge and skills\\nretained.[34][35]\\nDistance education or long-distance learning is the education of students who may not always be phys ically\\npresent at a school.[36][37] Traditionally, this usually involved corresponde nce courses wherein the student\\ncorresponde d with the school via post. Today it involves online education. Courses that are conduc ted (51Eastern\\nConfucius\\nPedagogi cal considerations\\nHidden curriculum\\nLearning space\\nLearning theories\\nDistance learningWoman teaching geometry (detail of a XIV-\\ncentury illuminated manuscript, at the\\nbeginning of Euclid\\'s Elementa, in the\\ntranslation attributed to Adelard of Bath)Pedagogy\\nPedagogy  (/ ˈp ɛd ə ɡ ɒd ʒi, - ɡo ʊd ʒi, - ɡ ɒ ɡi/), from Ancient\\nGreek παιδαγωγία (paidagōgía), most commonly unde rstood\\nas the approach to teaching, is the theory and practice of\\nlearning, and how this process influences, and is influenced\\nby, the social, political and psychological development of\\nlearners. Pedagogy , taken as an academic discipline, is the\\nstudy of how know ledge and skills are imparted in an\\neducational context, and it considers the interactions that take\\nplace during learning. Both the theory and practice of\\npedagogy vary greatly as they reflect different social,\\npolitical, and cultural contexts.[1]\\nPedagogy is often described as the act of teaching.[2] The\\npedagogy adopted by teachers shapes their actions,\\njudgm ents, and teaching strategies by taking into\\nconsideration theories of learning, understandings of students\\nand their needs, and the backgrounds  and interests of\\nindividual students.[3][4] Its aims may range from furthering\\nliberal education (the general development of human\\npotential) to the narrower specifics of vocational education\\n(the imparting and acquisition of specific skills).\\nConve ntional western pedagogies view the teacher as\\nknow ledge holder and student as the recipient of know ledge (described by Paulo Freire as \"banking\\nmethods\"[5]), but theories of pedagogy increasingly identify the student as an agent and the teacher as a\\nfacilitator.\\nInstructive strategies are gove rned by the pupil\\'s background know ledge and experience, situation and\\nenvironment, as well as learning goals set by the student and teacher. One example would be the Socratic\\nmethod.[6]\\nThe meaning of the term \"pedagogy\"  is often contested and a great variety of definitions has been\\nsugge sted.[7] The most common approach is to define it as the study or science of teaching methods .[7][8] In\\nthis sense, it is the methodol ogy of education. As a methodol ogy, it investigates the ways and practices that\\ncan be used to realize the aims of education.[9][8][10] The main aim is often identified with the transmission\\nof know ledge. Other aims include fostering skills and character traits. They include helping the student\\ndevelop their intellectual and social abilities as well as psychomotor and affective learning, which are about\\ndeveloping pr actical skills and adequate emotional dispositions, respectively.[9][11][12]\\nHowever, not everyone  agrees with this characterization of pedagogy and some see it less as a science and\\nmore as an art or a craft.[7][13] This characterization puts more emphasis on the practical aspect of\\npedagogy , which may involve various forms of \"tacit know ledge that is hard to put into words\". ThisDefinition and etymology'}"
      ]
     },
     "execution_count": 14,
     "metadata": {},
     "output_type": "execute_result"
    }
   ],
   "source": [
    "output"
   ]
  },
  {
   "cell_type": "code",
   "execution_count": 15,
   "metadata": {},
   "outputs": [],
   "source": [
    "def getanswer(query):\n",
    "    embeddings = OpenAIEmbeddings()\n",
    "    vector_store = SupabaseVectorStore(\n",
    "        client=supabase_client,\n",
    "        embedding=embeddings,\n",
    "        table_name=\"documents_new\",\n",
    "    )\n",
    "    query_embeddings = embeddings.embed_query(query)\n",
    "    relevant_chunks = vector_store.similarity_search_by_vector_with_relevance_scores(query_embeddings,k=2)\n",
    "    chunk_docs=[]\n",
    "    for chunk in relevant_chunks:\n",
    "        chunk_docs.append(chunk[0])\n",
    "    results = chain({\"input_documents\": chunk_docs, \"question\": query})\n",
    "    text_reference=\"\"\n",
    "    for i in range(len(results[\"input_documents\"])):\n",
    "        text_reference+=results[\"input_documents\"][i].page_content\n",
    "    output={\"Answer\":results[\"output_text\"],\"Reference\":text_reference}\n",
    "    return output"
   ]
  },
  {
   "cell_type": "code",
   "execution_count": 16,
   "metadata": {},
   "outputs": [
    {
     "name": "stderr",
     "output_type": "stream",
     "text": [
      "2024-01-27 18:04:10,677:INFO - HTTP Request: POST https://api.openai.com/v1/embeddings \"HTTP/1.1 200 OK\"\n",
      "2024-01-27 18:04:10,856:INFO - HTTP Request: POST https://smxwnqdpxcvclxhbvhsf.supabase.co/rest/v1/rpc/match_documents?limit=2 \"HTTP/1.1 200 OK\"\n",
      "/home/cts/.cache/pypoetry/virtualenvs/unterricht-python-backend-9Hag_kgR-py3.10/lib/python3.10/site-packages/langchain/chains/llm.py:344: UserWarning: The apply_and_parse method is deprecated, instead pass an output parser directly to LLMChain.\n",
      "  warnings.warn(\n",
      "2024-01-27 18:04:12,146:INFO - HTTP Request: POST https://api.openai.com/v1/completions \"HTTP/1.1 200 OK\"\n"
     ]
    },
    {
     "data": {
      "text/plain": [
       "{'Answer': ' Unterricht ist ein Prozess, bei dem Wissen und Fähigkeiten vermittelt werden, um das Verständnis und die Fähigkeiten der Lernenden zu fördern. Es kann in verschiedenen Formen stattfinden, wie z.B. im Klassenzimmer, online oder durch Fernunterricht.',\n",
       " 'Reference': 'Paulo Reglus Neves Freire (September 19, 1921 – May 2, 1997) was a Brazilian educator and\\nphilosophe r who was a leading advoc ate of critical pedagogy . He is best know n for his influential work\\nPedagogy  of the Oppressed, which is generally considered one of the founda tional texts of the critical\\npedagogy m ovement.[26][27][28]\\nConfucius (551–479 BCE) stated that authority has the respons ibility to provide oral and written instruction\\nto the people unde r the rule, and \"should do them good in every possible way.\"[21] One of the deepest\\nteachings of Confucius may have been the superiority of personal exemplification over explicit rules of\\nbehavior. His moral teachings emphasized self-cultivation, emulation of moral exemplars, and the\\nattainment of skilled judge ment rather than know ledge of rules. Other relevant practices in the Confucian\\nteaching tradition include the Rite and its notion of body- know ledge as well as Confucian unde rstanding of\\nthe self, one  that has a broader conceptualization than the Western individual self.[29]\\nA hidden curriculum refers to extra educational activities or side effect of an education, \"[lessons] which are\\nlearned but not openly intended\"[30] such as the transmission of norms, values, and beliefs conve yed in the\\nclassroom and the social environment.[31]\\nLearning space or learning setting refers to a physical setting for a learning environment, a place in which\\nteaching and learning occur.[32] The term is commonly used as a more definitive alternative to\\n\"classroom\",[33] but it may also refer to an indoor  or outdoor location, either actual or virtual. Learning\\nspaces are highly diverse in use, learning styles, configuration, location, and educational institution. They\\nsuppor t a variety of pedagogies, including quiet study, passive or active learning, kinesthetic or phys ical\\nlearning, voc ational learning, e xperiential learning, a nd ot hers.\\nLearning theories are conceptual frameworks describing how know ledge is absorbed, processed, and\\nretained during learning. Cognitive, emotional, and environmental influences, as well as prior experience,\\nall play a part in how unde rstanding, or a world view, is acquired or changed and know ledge and skills\\nretained.[34][35]\\nDistance education or long-distance learning is the education of students who may not always be phys ically\\npresent at a school.[36][37] Traditionally, this usually involved corresponde nce courses wherein the student\\ncorresponde d with the school via post. Today it involves online education. Courses that are conduc ted (51Eastern\\nConfucius\\nPedagogi cal considerations\\nHidden curriculum\\nLearning space\\nLearning theories\\nDistance learningWoman teaching geometry (detail of a XIV-\\ncentury illuminated manuscript, at the\\nbeginning of Euclid\\'s Elementa, in the\\ntranslation attributed to Adelard of Bath)Pedagogy\\nPedagogy  (/ ˈp ɛd ə ɡ ɒd ʒi, - ɡo ʊd ʒi, - ɡ ɒ ɡi/), from Ancient\\nGreek παιδαγωγία (paidagōgía), most commonly unde rstood\\nas the approach to teaching, is the theory and practice of\\nlearning, and how this process influences, and is influenced\\nby, the social, political and psychological development of\\nlearners. Pedagogy , taken as an academic discipline, is the\\nstudy of how know ledge and skills are imparted in an\\neducational context, and it considers the interactions that take\\nplace during learning. Both the theory and practice of\\npedagogy vary greatly as they reflect different social,\\npolitical, and cultural contexts.[1]\\nPedagogy is often described as the act of teaching.[2] The\\npedagogy adopted by teachers shapes their actions,\\njudgm ents, and teaching strategies by taking into\\nconsideration theories of learning, understandings of students\\nand their needs, and the backgrounds  and interests of\\nindividual students.[3][4] Its aims may range from furthering\\nliberal education (the general development of human\\npotential) to the narrower specifics of vocational education\\n(the imparting and acquisition of specific skills).\\nConve ntional western pedagogies view the teacher as\\nknow ledge holder and student as the recipient of know ledge (described by Paulo Freire as \"banking\\nmethods\"[5]), but theories of pedagogy increasingly identify the student as an agent and the teacher as a\\nfacilitator.\\nInstructive strategies are gove rned by the pupil\\'s background know ledge and experience, situation and\\nenvironment, as well as learning goals set by the student and teacher. One example would be the Socratic\\nmethod.[6]\\nThe meaning of the term \"pedagogy\"  is often contested and a great variety of definitions has been\\nsugge sted.[7] The most common approach is to define it as the study or science of teaching methods .[7][8] In\\nthis sense, it is the methodol ogy of education. As a methodol ogy, it investigates the ways and practices that\\ncan be used to realize the aims of education.[9][8][10] The main aim is often identified with the transmission\\nof know ledge. Other aims include fostering skills and character traits. They include helping the student\\ndevelop their intellectual and social abilities as well as psychomotor and affective learning, which are about\\ndeveloping pr actical skills and adequate emotional dispositions, respectively.[9][11][12]\\nHowever, not everyone  agrees with this characterization of pedagogy and some see it less as a science and\\nmore as an art or a craft.[7][13] This characterization puts more emphasis on the practical aspect of\\npedagogy , which may involve various forms of \"tacit know ledge that is hard to put into words\". ThisDefinition and etymology'}"
      ]
     },
     "execution_count": 16,
     "metadata": {},
     "output_type": "execute_result"
    }
   ],
   "source": [
    "getanswer(\"Was ist Unterricht?\")"
   ]
  }
 ],
 "metadata": {
  "kernelspec": {
   "display_name": "unterricht-python-backend-9Hag_kgR-py3.10",
   "language": "python",
   "name": "python3"
  },
  "language_info": {
   "codemirror_mode": {
    "name": "ipython",
    "version": 3
   },
   "file_extension": ".py",
   "mimetype": "text/x-python",
   "name": "python",
   "nbconvert_exporter": "python",
   "pygments_lexer": "ipython3",
   "version": "3.10.13"
  }
 },
 "nbformat": 4,
 "nbformat_minor": 2
}
